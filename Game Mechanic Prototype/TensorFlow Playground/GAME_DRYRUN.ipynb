{
 "cells": [
  {
   "cell_type": "code",
   "execution_count": 1,
   "metadata": {},
   "outputs": [
    {
     "name": "stderr",
     "output_type": "stream",
     "text": [
      "D:\\z_outsourced_programs\\Anaconda3\\lib\\site-packages\\h5py\\__init__.py:36: FutureWarning: Conversion of the second argument of issubdtype from `float` to `np.floating` is deprecated. In future, it will be treated as `np.float64 == np.dtype(float).type`.\n",
      "  from ._conv import register_converters as _register_converters\n"
     ]
    }
   ],
   "source": [
    "from __future__ import absolute_import\n",
    "from __future__ import division\n",
    "from __future__ import print_function\n",
    "\n",
    "import numpy as np\n",
    "import tensorflow as tf\n",
    "import variational_autoencoder as vae\n",
    "import weapon_data as weapons\n",
    "\n",
    "from tensorflow.python.framework import random_seed\n",
    "\n",
    "import matplotlib.pyplot as plt\n",
    "%matplotlib inline\n",
    "\n",
    "class tfPlugin:\n",
    "    def __init__(self):\n",
    "        self._sess = None\n",
    "        self._vae = None\n",
    "        self.trained_model_save_folder = \"trained_vae/\"\n",
    "        self.training_data_source = \"training_data.csv\"\n",
    "        self.test_data_source = \"test_data.csv\"\n",
    "        \n",
    "    def onSetup(self):\n",
    "        self._random_seed = 19071991\n",
    "        seed, _ = random_seed.get_seed(self._random_seed)\n",
    "        np.random.seed(seed)\n",
    "        \n",
    "        self.shouldStop = False\n",
    "        \n",
    "        self._train_data, self._test_data = weapons.get_data(self.training_data_source, self.test_data_source, seed=self._random_seed)\n",
    "\n",
    "        #set training parameter\n",
    "        self._network_architecture = \\\n",
    "            dict(n_input=self._train_data.num_features,\n",
    "                 n_hidden_1=26,\n",
    "                 n_hidden_2=12,\n",
    "                 n_z=2)  \n",
    "        self._batch_size = 4\n",
    "        self._learning_rate = 0.01\n",
    "        self._optimizer = tf.train.RMSPropOptimizer(self._learning_rate)\n",
    "        self._transfer_fct = tf.nn.elu\n",
    "        self._num_training_epochs = 100\n",
    "        \n",
    "        #keep track of the received and dismantled weapons \n",
    "        self._dismantled_weapons = []\n",
    "        \n",
    "        #amount of dismantles models needed to retrain the model\n",
    "        self._dismantled_weapons_needed_to_retrain = 20\n",
    "        \n",
    "        #start session is realized in on begin training and will be swaped with the tmp afterwards\n",
    "        self._sess = None\n",
    "        self._vae = None\n",
    "        \n",
    "        self._trained_model_available = False\n",
    "        self._trained_model_path = \"\"\n",
    "        \n",
    "    def onJsonInput(self, jsonInput):\n",
    "        if self._trained_model_available:\n",
    "            self.__load_trained_model()\n",
    "            \n",
    "        if self._vae == None:\n",
    "            print(\"ERROR: there is no trained model?!\")\n",
    "            return {}\n",
    "        \n",
    "        if not bool(jsonInput):\n",
    "            print(\"ERROR: empty input!\")\n",
    "            return {}\n",
    "        \n",
    "        generated_weapon = []\n",
    "        \n",
    "        #encode the json input to a standardized weapon data\n",
    "        encoded_json_input = self.__encode_json_input_to_a_standardized_train_data_format(jsonInput)\n",
    "        #check if the encoded data should be used to generate a new one \n",
    "        #calculate loss requires a batch which has the size of the trained model batch_size\n",
    "        batch = [encoded_json_input[0] for _ in range(self._batch_size)]\n",
    "        generation_cost = self._vae.calculate_loss(batch)\n",
    "        generation_cost /= self._batch_size\n",
    "\n",
    "        #if the cost is too high, then just generate a random one\n",
    "        #a too high value means that the VAE don't know which weapon that should be!\n",
    "        if generation_cost >= 50 or np.isnan(generation_cost) or np.isinf(generation_cost):\n",
    "            generated_weapon = self.__generate_random_weapons(1)\n",
    "            print(\"Generated a random weapon!\")\n",
    "        else:\n",
    "            generated_weapon = self._vae.encode_and_decode(encoded_json_input, False)\n",
    "            print(\"Generated a new weapon based on a dismantled one!\")\n",
    "\n",
    "        if len(generated_weapon) <= 0:\n",
    "            print(\"ERROR: no generated weapon?!\")\n",
    "            return {}\n",
    "        \n",
    "        #do it afterwards so that crazy weapons don't destroy the model\n",
    "        self.__add_received_dismantled_weapon(encoded_json_input[0])\n",
    "        \n",
    "        result, _ = self._train_data.decode_processed_tensor(generated_weapon[0])\n",
    "        return result\n",
    "        \n",
    "    def onBeginTraining(self):\n",
    "        with tf.Session() as sess:\n",
    "\n",
    "            #add the dismantled weapons so that the model emerges in a direction\n",
    "            if len(self._dismantled_weapons) > 0:\n",
    "                self._train_data.add_new_weapons_and_restandardize_data(self._dismantled_weapons)\n",
    "                self._dismantled_weapons = []\n",
    "                self._num_training_epochs += 10\n",
    "\n",
    "            network = vae.get_untrained(sess, self._network_architecture, self._optimizer, \n",
    "                                      self._transfer_fct, self._batch_size)\n",
    "\n",
    "            num_samples = self._train_data.num_examples\n",
    "            print(\"Num of training samples = %i\" %num_samples)\n",
    "            \n",
    "            #is basically the same code from the VAE file\n",
    "            #training cycle\n",
    "            for epoch in range(self._num_training_epochs):\n",
    "                avg_cost = 0.\n",
    "                total_batch = int(num_samples / self._batch_size)\n",
    "\n",
    "                # Loop over all batches\n",
    "                for _ in range(total_batch):\n",
    "                    batch = self._train_data.next_batch(self._batch_size)\n",
    "\n",
    "                    # Fit training using batch data\n",
    "                    cost = network.train_with_mini_batch(batch)\n",
    "\n",
    "                    #compute average loss/cost\n",
    "                    avg_cost += cost / num_samples * self._batch_size\n",
    "\n",
    "                # Display logs per epoch step\n",
    "                if (epoch+1) % 10 == 0:\n",
    "                    print(\"Epoch:\"+ '%04d' % (epoch+1) + \" - Cost:\" + \"{:.2f}\".format(avg_cost))\n",
    "\n",
    "                if self.shouldStop:\n",
    "                    break;\n",
    "\n",
    "            self._trained_model_path = network.save_trained_model(self.trained_model_save_folder)\n",
    "            self._trained_model_available = True\n",
    "        \n",
    "        \n",
    "    def onStopTraining(self):\n",
    "        if self._sess:\n",
    "            self._sess.close()\n",
    "        \n",
    "    def __load_trained_model(self):\n",
    "        if self._sess:\n",
    "            self._sess.close()\n",
    "        tf.reset_default_graph()\n",
    "    \n",
    "        self._sess = tf.Session(graph=tf.get_default_graph())\n",
    "        self._vae = vae.get_untrained(self._sess, self._network_architecture, self._optimizer, \n",
    "                                  self._transfer_fct, self._batch_size)\n",
    "        self._vae = vae.restore(self._vae, self._trained_model_path)\n",
    "        self._trained_model_available = False\n",
    "        \n",
    "    def __encode_json_input_to_a_standardized_train_data_format(self, json_input):\n",
    "        prepared_for_encoding = self._train_data.prepare_decoded_tensor_dict_for_encoding(json_input)\n",
    "        encoded, _ = self._train_data.encode_features_dict(prepared_for_encoding)\n",
    "        encoded_standardized = self._train_data.standardize_encoded_data(encoded[0])\n",
    "        return [encoded_standardized]\n",
    "    \n",
    "    def __add_received_dismantled_weapon(self, weapon):\n",
    "        self._dismantled_weapons.append(weapon)\n",
    "        \n",
    "        if len(self._dismantled_weapons) >= self._dismantled_weapons_needed_to_retrain:\n",
    "            self.shouldRetrain = True\n",
    "            print(\"Should retrain!\")\n",
    "    \n",
    "    def __generate_random_weapons(self, num):\n",
    "        generated_weapons = []\n",
    "        \n",
    "        for _ in range(num):\n",
    "            random_val = np.random.normal(size=(1, self._network_architecture[\"n_z\"]))\n",
    "            weapons = self._vae.decode_from_latent_space(random_val, False)\n",
    "            [generated_weapons.append(weapon) for weapon in weapons]\n",
    "            \n",
    "        return generated_weapons\n",
    "    \n",
    "    def __print_decoded_tensors_as_dict(self, array_of_tensors):\n",
    "        genDict = {}\n",
    "\n",
    "        for tensor in array_of_tensors:\n",
    "            decoded, _ = weapon_data.decode_processed_tensor(tensor)\n",
    "\n",
    "            for key, value in decoded.items():\n",
    "                if key not in genDict:\n",
    "                    genDict[key] = []\n",
    "                genDict[key].append(value)\n",
    "\n",
    "        for key, value in genDict.items():\n",
    "                print(key, \"=\", value)\n",
    "                \n",
    "    def show_z_distribution(self, title, z_mean=True):\n",
    "        all_z = np.zeros((self._batch_size,self._network_architecture['n_z']))\n",
    "\n",
    "        total_batch = int(self._train_data.num_examples / self._batch_size) \n",
    "\n",
    "        # Loop over all batches\n",
    "        for i in range(total_batch):\n",
    "            batch = self._train_data.next_batch(self._batch_size)\n",
    "            z_dist = self._vae.calculate_z(batch)\n",
    "            if z_mean:\n",
    "                z_dist = self._vae.calculate_z_mean(batch)\n",
    "            all_z = np.vstack((all_z, z_dist))\n",
    "\n",
    "        plt.figure(figsize=(15,5))\n",
    "        plt.subplot(1,2,1)\n",
    "        plt.scatter(all_z[:,0], all_z[:,1])\n",
    "        plt.xlim(-3,3)\n",
    "        plt.ylim(-3,3)\n",
    "        plt.title(title)\n",
    "        plt.subplot(1,2,2)\n",
    "        plt.hist2d(all_z[:,0], all_z[:,1], (50, 50), cmap=plt.cm.jet)\n",
    "        plt.colorbar()\n",
    "        plt.title(title)\n"
   ]
  },
  {
   "cell_type": "code",
   "execution_count": 2,
   "metadata": {},
   "outputs": [
    {
     "name": "stdout",
     "output_type": "stream",
     "text": [
      "Num of training samples = 127\n",
      "Epoch:0010 - Cost:12.00\n",
      "Epoch:0020 - Cost:11.29\n",
      "Epoch:0030 - Cost:9.96\n",
      "Epoch:0040 - Cost:9.76\n",
      "Epoch:0050 - Cost:9.60\n",
      "Epoch:0060 - Cost:9.64\n",
      "Epoch:0070 - Cost:8.98\n",
      "Epoch:0080 - Cost:9.39\n",
      "Epoch:0090 - Cost:8.34\n",
      "Epoch:0100 - Cost:8.88\n",
      "INFO:tensorflow:Restoring parameters from trained_vae/model.ckpt\n",
      "ERROR: empty input!\n"
     ]
    },
    {
     "data": {
      "image/png": "[encoded data removed]",
      "text/plain": [
       "<matplotlib.figure.Figure at 0x1bc3cd9a208>"
      ]
     },
     "metadata": {},
     "output_type": "display_data"
    }
   ],
   "source": [
    "pluginTest = tfPlugin()\n",
    "pluginTest.onSetup()\n",
    "pluginTest.onBeginTraining()\n",
    "pluginTest.onJsonInput({})\n",
    "pluginTest.show_z_distribution(\"Trained Latent Space - Z Mean\", z_mean=True)"
   ]
  },
  {
   "cell_type": "code",
   "execution_count": 3,
   "metadata": {},
   "outputs": [],
   "source": [
    "json_test = {'damages_first': '26.5',\n",
    " 'damages_last': '6.25',\n",
    " 'distances_first': '14.0',\n",
    " 'distances_last': '21.0',\n",
    " 'firemode_Automatic': '0.0',\n",
    " 'firemode_Semi-Automatic': '0.0',\n",
    " 'firemode_Single-Action': '1.0',\n",
    " 'hiprecoildec': '6.0',\n",
    " 'hiprecoilright': '1.2000000476837158',\n",
    " 'hiprecoilup': '11.0',\n",
    " 'hipstandbasespreaddec': '4.5',\n",
    " 'hipstandbasespreadinc': '0.30000001192092896',\n",
    " 'hordispersion': '2.700000047683716',\n",
    " 'initialspeed': '333.0',\n",
    " 'magsize': '2.0',\n",
    " 'reloadempty': '5.333333492279053',\n",
    " 'rof': '299.0',\n",
    " 'shotspershell': '12.0',\n",
    " 'type_Pistol': '0.0',\n",
    " 'type_Rifle': '-2.7755575615628914e-17',\n",
    " 'type_Shotgun': '1.0',\n",
    " 'type_Sniper Rifle': '0.0',\n",
    " 'type_Submachine Gun': '0.0',\n",
    " 'type_Light Machine Gun' : '0.0'}\n",
    "\n",
    "def input_and_train():\n",
    "    global pluginTest, json_test\n",
    "    for _ in range(pluginTest._dismantled_weapons_needed_to_retrain):\n",
    "        for key, value in json_test.items():\n",
    "            if \"type\" not in key or \"firemode\" not in key:\n",
    "                new_value = float(value) * np.random.uniform(low=0.8, high=5.2)\n",
    "                json_test[key] = str(new_value)\n",
    "        print(pluginTest.onJsonInput(json_test))\n",
    "    pluginTest.onBeginTraining()\n",
    "    pluginTest.show_z_distribution(\"Trained Latent Space - Z Mean\", z_mean=True)"
   ]
  },
  {
   "cell_type": "code",
   "execution_count": 4,
   "metadata": {},
   "outputs": [
    {
     "name": "stdout",
     "output_type": "stream",
     "text": [
      "Generated a random weapon!\n",
      "{'damages_first': '55.863542216232545', 'damages_last': '43.000452886384075', 'distances_first': '21.464647524506294', 'distances_last': '81.96909341364375', 'firemode_Automatic': '0.5488721677975144', 'firemode_Semi': '0.5842115582335115', 'firemode_Single': '0.46565735128019614', 'hiprecoildec': '6.649562803129771', 'hiprecoilright': '0.7597350199009365', 'hiprecoilup': '3.8771670156812146', 'hipstandbasespreaddec': '9.156408745558332', 'hipstandbasespreadinc': '0.5266789538031101', 'initialspeed': '666.863442948676', 'magsize': '38.773934892121986', 'reloadempty': '4.345553903482978', 'rof': '414.31630290180124', 'shotspershell': '2.9877617232745513', 'type_Shotgun': '0.21891611734096894', 'type_Pistol': '0.3763672480337807', 'type_Rifle': '0.40690900042432554', 'type_SMG': '0.2553983594597427', 'type_Sniper': '0.40690900042432554', 'type_MG': '0.26714040308742415'}\n",
      "Generated a random weapon!\n",
      "{'damages_first': '32.17719782558311', 'damages_last': '20.020694727425457', 'distances_first': '7.943922656844546', 'distances_last': '42.240594475417986', 'firemode_Automatic': '0.10337299651099094', 'firemode_Semi': '0.13025355151354365', 'firemode_Single': '0.04733655845692497', 'hiprecoildec': '3.9984056112646966', 'hiprecoilright': '0.389299479128999', 'hiprecoilup': '1.2720170155171557', 'hipstandbasespreaddec': '4.372211239044658', 'hipstandbasespreadinc': '0.1592609299093115', 'initialspeed': '472.946278588149', 'magsize': '5.28728405958822', 'reloadempty': '3.1821136128714094', 'rof': '203.99603035632705', 'shotspershell': '0.3458715629718505', 'type_Shotgun': '-0.05493912521425662', 'type_Pistol': '-0.0014039791445756011', 'type_Rifle': '0.013908093252108122', 'type_SMG': '-0.04676107358552552', 'type_Sniper': '0.01390809325210804', 'type_MG': '-0.04353222894069678'}\n",
      "Generated a random weapon!\n",
      "{'damages_first': '27.579898788881138', 'damages_last': '15.560537503268495', 'distances_first': '5.319675774993417', 'distances_last': '34.52966251875767', 'firemode_Automatic': '0.01690575288619678', 'firemode_Semi': '0.04214452664347024', 'firemode_Single': '-0.03385561481224453', 'hiprecoildec': '3.4838406702466864', 'hiprecoilright': '0.31740138769437093', 'hiprecoilup': '0.7663816422956826', 'hipstandbasespreaddec': '3.443643021621883', 'hipstandbasespreadinc': '0.08794851042170526', 'initialspeed': '435.30876145120493', 'magsize': '-1.2121632622854008', 'reloadempty': '2.956300678672905', 'rof': '163.17482255720773', 'shotspershell': '-0.1668947334527966', 'type_Shotgun': '-0.10809187947767648', 'type_Pistol': '-0.0747258590496225', 'type_Rifle': '-0.062369725822374183', 'type_SMG': '-0.10540740784290471', 'type_Sniper': '-0.062369725822374295', 'type_MG': '-0.10383089590242403'}\n",
      "Generated a random weapon!\n",
      "{'damages_first': '33.888476164183736', 'damages_last': '21.680924001944952', 'distances_first': '8.920760754214367', 'distances_last': '45.11087781407207', 'firemode_Automatic': '0.135559182319727', 'firemode_Semi': '0.16305086673964794', 'firemode_Single': '0.07755917531743559', 'hiprecoildec': '4.189944997834409', 'hiprecoilright': '0.416062507915369', 'hiprecoilup': '1.4602324991122555', 'hipstandbasespreaddec': '4.717857381203933', 'hipstandbasespreadinc': '0.18580595075048084', 'initialspeed': '486.95630214349467', 'magsize': '7.706609695359166', 'reloadempty': '3.2661692246088103', 'rof': '219.19113689702786', 'shotspershell': '0.5367414300026143', 'type_Shotgun': '-0.03515377814812254', 'type_Pistol': '0.025889034389083104', 'type_Rifle': '0.042301412558894164', 'type_SMG': '-0.024930820506104054', 'type_Sniper': '0.04230141255889408', 'type_MG': '-0.021086918815271027'}\n",
      "Generated a random weapon!\n",
      "{'damages_first': '77.3368732372581', 'damages_last': '63.83321397404391', 'distances_first': '33.722132087726905', 'distances_last': '117.98576169301575', 'firemode_Automatic': '0.952748385117252', 'firemode_Semi': '0.9957563026302444', 'firemode_Single': '0.8448944639862848', 'hiprecoildec': '9.053022578550625', 'hiprecoilright': '1.095560796042593', 'hiprecoilup': '6.238918047851097', 'hipstandbasespreaddec': '13.493619039937425', 'hipstandbasespreadinc': '0.859769139440924', 'initialspeed': '842.6629412712639', 'magsize': '69.13193046345899', 'reloadempty': '5.400294055507569', 'rof': '604.9863682489956', 'shotspershell': '5.382820285192839', 'type_Shotgun': '0.46718508524270463', 'type_Pistol': '0.7188433379542766', 'type_Rifle': '0.7631918624857167', 'type_SMG': '0.5293270594691811', 'type_Sniper': '0.7631918624857169', 'type_MG': '0.5487869145409459'}\n",
      "Generated a random weapon!\n",
      "{'damages_first': '46.09355379037995', 'damages_last': '33.521912528314', 'distances_first': '15.887707356468367', 'distances_last': '65.58214199550132', 'firemode_Automatic': '0.36511558318437815', 'firemode_Semi': '0.39696592850146833', 'firemode_Single': '0.29311112646931964', 'hiprecoildec': '5.55603082316486', 'hiprecoilright': '0.6069401906872316', 'hiprecoilup': '2.8026117812626676', 'hipstandbasespreaddec': '7.1830542466647245', 'hipstandbasespreadinc': '0.3751287702167765', 'initialspeed': '586.8777592091279', 'magsize': '24.96158015900515', 'reloadempty': '3.8656656612967826', 'rof': '327.564772374253', 'shotspershell': '1.8980521478822145', 'type_Shotgun': '0.10595809790172485', 'type_Pistol': '0.22054664286645553', 'type_Rifle': '0.24480655645505334', 'type_SMG': '0.1307656126362253', 'type_Sniper': '0.24480655645505334', 'type_MG': '0.1389961876236768'}\n",
      "Generated a random weapon!\n",
      "{'damages_first': '26.44345285356597', 'damages_last': '14.457992833497354', 'distances_first': '4.670965591397726', 'distances_last': '32.623530851080695', 'firemode_Automatic': '-0.004468829617750525', 'firemode_Semi': '0.02036409809644868', 'firemode_Single': '-0.053926207252397385', 'hiprecoildec': '3.356640931659501', 'hiprecoilright': '0.299628279372399', 'hiprecoilup': '0.641389280462866', 'hipstandbasespreaddec': '3.2141022482398673', 'hipstandbasespreadinc': '0.07032017939142288', 'initialspeed': '426.0048195009071', 'magsize': '-2.818817611234852', 'reloadempty': '2.9004800350378592', 'rof': '153.08387669799617', 'shotspershell': '-0.29364984959517537', 'type_Shotgun': '-0.12123116649190632', 'type_Pistol': '-0.09285092590355823', 'type_Rifle': '-0.08122549673261023', 'type_SMG': '-0.11990470019997225', 'type_Sniper': '-0.08122549673261034', 'type_MG': '-0.11873664260858949'}\n",
      "Generated a random weapon!\n",
      "{'damages_first': '35.07289366376851', 'damages_last': '22.830009198495635', 'distances_first': '9.59685423982', 'distances_last': '47.09747095814733', 'firemode_Automatic': '0.15783602697839771', 'firemode_Semi': '0.18575068898186822', 'firemode_Single': '0.09847698598878821', 'hiprecoildec': '4.322514081539644', 'hiprecoilright': '0.43458585325402904', 'hiprecoilup': '1.5905010284533927', 'hipstandbasespreaddec': '4.9570875112201795', 'hipstandbasespreadinc': '0.2041784074700777', 'initialspeed': '496.65298134187424', 'magsize': '9.381084008254634', 'reloadempty': '3.324346164756076', 'rof': '229.70804094992334', 'shotspershell': '0.6688471228962214', 'type_Shotgun': '-0.02145985660894706', 'type_Pistol': '0.04477919510490447', 'type_Rifle': '0.061953121751774975', 'type_SMG': '-0.009821569611959721', 'type_Sniper': '0.06195312175177492', 'type_MG': '-0.0055519719299496895'}\n",
      "Generated a random weapon!\n",
      "{'damages_first': '57.88298643346413', 'damages_last': '44.95965515762222', 'distances_first': '22.617393984511224', 'distances_last': '85.35625548968632', 'firemode_Automatic': '0.5868544207952031', 'firemode_Semi': '0.6229149924324381', 'firemode_Single': '0.5013224371238426', 'hiprecoildec': '6.875594476560872', 'hiprecoilright': '0.7913175173235552', 'hiprecoilup': '4.099276219874371', 'hipstandbasespreaddec': '9.564298617852717', 'hipstandbasespreadinc': '0.5580041845530226', 'initialspeed': '683.3963823390366', 'magsize': '41.62893109849773', 'reloadempty': '4.444746194544036', 'rof': '432.2477342427302', 'shotspershell': '3.21300331052811', 'type_Shotgun': '0.2422643967046272', 'type_Pistol': '0.4085751695086949', 'type_Rifle': '0.4404153700129145', 'type_SMG': '0.28115979016773013', 'type_Sniper': '0.44041537001291453', 'type_MG': '0.2936276499100692'}\n"
     ]
    },
    {
     "name": "stdout",
     "output_type": "stream",
     "text": [
      "Generated a random weapon!\n",
      "{'damages_first': '73.50988183121304', 'damages_last': '60.12038536964154', 'distances_first': '31.53759499670715', 'distances_last': '111.56684700089967', 'firemode_Automatic': '0.8807692957400506', 'firemode_Semi': '0.9224105232322005', 'firemode_Single': '0.7773065723006178', 'hiprecoildec': '8.624676371047727', 'hiprecoilright': '1.0357097017729555', 'hiprecoilup': '5.8180052004459935', 'hipstandbasespreaddec': '12.720638522543702', 'hipstandbasespreadinc': '0.8004055839391847', 'initialspeed': '811.3318371864424', 'magsize': '63.721508203284074', 'reloadempty': '5.2123175606891134', 'rof': '571.0050217704596', 'shotspershell': '4.9559713475752325', 'type_Shotgun': '0.4229384238552696', 'type_Pistol': '0.657807020318306', 'type_Rifle': '0.6996948926911829', 'type_SMG': '0.4805073034760957', 'type_Sniper': '0.699694892691183', 'type_MG': '0.4985916850341767'}\n",
      "Generated a random weapon!\n",
      "{'damages_first': '81.24268928832709', 'damages_last': '67.62251580917118', 'distances_first': '35.95166414802441', 'distances_last': '124.53688694386096', 'firemode_Automatic': '1.0262100297362395', 'firemode_Semi': '1.070612787021229', 'firemode_Single': '0.9138744652966617', 'hiprecoildec': '9.490191444421772', 'hiprecoilright': '1.156644644912266', 'hiprecoilup': '6.668500448506388', 'hipstandbasespreaddec': '14.282520657858763', 'hipstandbasespreadinc': '0.9203554076935703', 'initialspeed': '874.6393729504439', 'magsize': '74.65379133659083', 'reloadempty': '5.592142307250667', 'rof': '639.6676294358256', 'shotspershell': '5.818461041870556', 'type_Shotgun': '0.5123430963059838', 'type_Pistol': '0.7811368222678684', 'type_Rifle': '0.8279966810766295', 'type_SMG': '0.5791523572908243', 'type_Sniper': '0.8279966810766297', 'type_MG': '0.6000160165412658'}\n",
      "Generated a random weapon!\n",
      "{'damages_first': '47.38494258530875', 'damages_last': '34.77477796450042', 'distances_first': '16.624862584199768', 'distances_last': '67.74815535416965', 'firemode_Automatic': '0.38940437289633545', 'firemode_Semi': '0.4217158972420143', 'firemode_Single': '0.3159181403178122', 'hiprecoildec': '5.700572954052774', 'hiprecoilright': '0.6271364817951629', 'hiprecoilup': '2.944645581997606', 'hipstandbasespreaddec': '7.4438905728931415', 'hipstandbasespreadinc': '0.3951605451198993', 'initialspeed': '597.450199137782', 'magsize': '26.78728550853552', 'reloadempty': '3.9290968826826207', 'rof': '339.0315162006586', 'shotspershell': '2.0420890365713107', 'type_Shotgun': '0.12088879323552815', 'type_Pistol': '0.24114287847709787', 'type_Rifle': '0.26623312019780654', 'type_SMG': '0.1472394635471636', 'type_Sniper': '0.2662331201978066', 'type_MG': '0.1559341814852595'}\n",
      "Generated a random weapon!\n",
      "{'damages_first': '87.04411801775267', 'damages_last': '73.25088238950607', 'distances_first': '39.26325670094182', 'distances_last': '134.26747480140148', 'firemode_Automatic': '1.1353248702794347', 'firemode_Semi': '1.1817994259851397', 'firemode_Single': '1.016332583171493', 'hiprecoildec': '10.139531808871634', 'hiprecoilright': '1.2473743646694013', 'hiprecoilup': '7.306572402800068', 'hipstandbasespreaddec': '15.45430049875694', 'hipstandbasespreadinc': '1.010346055653908', 'initialspeed': '922.1349505666342', 'magsize': '82.85558115219426', 'reloadempty': '5.877100417105293', 'rof': '691.1807735243498', 'shotspershell': '6.465531658728484', 'type_Shotgun': '0.5794176792665728', 'type_Pistol': '0.8736632507600609', 'type_Rifle': '0.9242532716233441', 'type_SMG': '0.6531594048463673', 'type_Sniper': '0.9242532716233445', 'type_MG': '0.676108177626524'}\n",
      "Generated a random weapon!\n",
      "{'damages_first': '45.44680060897984', 'damages_last': '32.894452610819144', 'distances_first': '15.518525363722881', 'distances_last': '64.4973594449828', 'firemode_Automatic': '0.3529512744337879', 'firemode_Semi': '0.38457065212508945', 'firemode_Single': '0.28168892052896055', 'hiprecoildec': '5.483641250508499', 'hiprecoilright': '0.5968254865966967', 'hiprecoilup': '2.7314784302126953', 'hipstandbasespreaddec': '7.052422229045083', 'hipstandbasespreadinc': '0.36509645911220334', 'initialspeed': '581.5828711120112', 'magsize': '24.047230624810016', 'reloadempty': '3.8338980446096276', 'rof': '321.82199910631795', 'shotspershell': '1.8259156105632717', 'type_Shotgun': '0.09848050885528631', 'type_Pistol': '0.21023163861803817', 'type_Rifle': '0.23407570737109334', 'type_SMG': '0.1225151805987165', 'type_Sniper': '0.23407570737109334', 'type_MG': '0.13051330356929092'}\n",
      "Generated a random weapon!\n",
      "{'damages_first': '39.46112575608492', 'damages_last': '27.087336144506793', 'distances_first': '12.10176077149553', 'distances_last': '54.45774028231976', 'firemode_Automatic': '0.2403710829708976', 'firemode_Semi': '0.2698528645138154', 'firemode_Single': '0.17597686092411127', 'hiprecoildec': '4.813678647892503', 'hiprecoilright': '0.5032143043708555', 'hiprecoilup': '2.0731421083716173', 'hipstandbasespreaddec': '5.843428125365401', 'hipstandbasespreadinc': '0.27224782067943437', 'initialspeed': '532.5788933299558', 'magsize': '15.58496221858448', 'reloadempty': '3.5398900214421705', 'rof': '268.67286196355036', 'shotspershell': '1.1582948398850812', 'type_Shotgun': '0.0292757209968713', 'type_Pistol': '0.11476668643396908', 'type_Rifle': '0.13476212784911906', 'type_SMG': '0.04615776173681589', 'type_Sniper': '0.134762127849119', 'type_MG': '0.052004550578791386'}\n",
      "Generated a random weapon!\n",
      "{'damages_first': '82.93972635152969', 'damages_last': '69.26892863911296', 'distances_first': '36.92037298900728', 'distances_last': '127.38328375594942', 'firemode_Automatic': '1.0581283617857271', 'firemode_Semi': '1.1031371626629798', 'firemode_Single': '0.9438455692382912', 'hiprecoildec': '9.680136838306495', 'hiprecoilright': '1.1831849515062054', 'hiprecoilup': '6.855149600970199', 'hipstandbasespreaddec': '14.625290329376341', 'hipstandbasespreadinc': '0.9466795206066028', 'initialspeed': '888.5328049500595', 'magsize': '77.05298332029632', 'reloadempty': '5.67549840734902', 'rof': '654.736282148375', 'shotspershell': '6.007742487964611', 'type_Shotgun': '0.5319637895165419', 'type_Pistol': '0.8082027030707447', 'type_Rifle': '0.8561537108970174', 'type_SMG': '0.600800938786436', 'type_Sniper': '0.8561537108970176', 'type_MG': '0.6222745365720119'}\n",
      "Generated a random weapon!\n",
      "{'damages_first': '47.511184615365856', 'damages_last': '34.89725407446332', 'distances_first': '16.696924516889176', 'distances_last': '67.95989787865406', 'firemode_Automatic': '0.39177876713988824', 'firemode_Semi': '0.42413537486945385', 'firemode_Single': '0.3181476809016244', 'hiprecoildec': '5.714702929551807', 'hiprecoilright': '0.6291108064904845', 'hiprecoilup': '2.9585303511793715', 'hipstandbasespreaddec': '7.469389096238721', 'hipstandbasespreadinc': '0.39711878723826655', 'initialspeed': '598.4837269835332', 'magsize': '26.965760612637325', 'reloadempty': '3.9352977156062106', 'rof': '340.15246832946343', 'shotspershell': '2.056169621212145', 'type_Shotgun': '0.12234837016271322', 'type_Pistol': '0.24315630046529563', 'type_Rifle': '0.2683277124032331', 'type_SMG': '0.14884989441819307', 'type_Sniper': '0.2683277124032331', 'type_MG': '0.15758998548369735'}\n",
      "Generated a random weapon!\n",
      "{'damages_first': '33.07639020496876', 'damages_last': '20.8930633409975', 'distances_first': '8.457202906606131', 'distances_last': '43.74878682880562', 'firemode_Automatic': '0.12028524996963788', 'firemode_Semi': '0.1474869233446497', 'firemode_Single': '0.06321705326192914', 'hiprecoildec': '4.099050113605869', 'hiprecoilright': '0.40336213100225393', 'hiprecoilup': '1.3709149707553983', 'hipstandbasespreaddec': '4.553831242046522', 'hipstandbasespreadinc': '0.17320902935789761', 'initialspeed': '480.3078550960839', 'magsize': '6.558520377998299', 'reloadempty': '3.226280691840384', 'rof': '211.98030953356727', 'shotspershell': '0.4461642658110405', 'type_Shotgun': '-0.04454290099750166', 'type_Pistol': '0.012937153578464616', 'type_Rifle': '0.028827382400010926', 'type_SMG': '-0.03529035209837823', 'type_Sniper': '0.028827382400010843', 'type_MG': '-0.03173832530592366'}\n",
      "Generated a random weapon!\n",
      "{'damages_first': '43.017296932151076', 'damages_last': '30.537423344544298', 'distances_first': '14.131707278263402', 'distances_last': '60.42241513726557', 'firemode_Automatic': '0.3072565122191488', 'firemode_Semi': '0.33800826882682905', 'firemode_Single': '0.2387818392378827', 'hiprecoildec': '5.211712579741138', 'hiprecoilright': '0.5588299861728848', 'hiprecoilup': '2.464268708032535', 'hipstandbasespreaddec': '6.5617080335131455', 'hipstandbasespreadinc': '0.32741046479999', 'initialspeed': '561.6928257743232', 'magsize': '20.612511447356937', 'reloadempty': '3.7145642032538726', 'rof': '300.2494901942812', 'shotspershell': '1.5549374573972246', 'type_Shotgun': '0.07039123058871664', 'type_Pistol': '0.17148371828499404', 'type_Rifle': '0.19376568176203976', 'type_SMG': '0.09152274709083545', 'type_Sniper': '0.19376568176203973', 'type_MG': '0.09864767291923791'}\n"
     ]
    },
    {
     "name": "stdout",
     "output_type": "stream",
     "text": [
      "Generated a random weapon!\n",
      "Should retrain!\n",
      "{'damages_first': '34.25683420172912', 'damages_last': '22.038293568100677', 'distances_first': '9.131028222942426', 'distances_last': '45.728715318338274', 'firemode_Automatic': '0.14248735991255054', 'firemode_Semi': '0.17011059185913047', 'firemode_Single': '0.08406468852654184', 'hiprecoildec': '4.231174452422821', 'hiprecoilright': '0.42182333392487686', 'hiprecoilup': '1.5007464731449314', 'hipstandbasespreaddec': '4.792258798985589', 'hipstandbasespreadinc': '0.1915198498650167', 'initialspeed': '489.97200371956427', 'magsize': '8.227377137612057', 'reloadempty': '3.284262459055747', 'rof': '222.46193130806603', 'shotspershell': '0.5778267684072917', 'type_Shotgun': '-0.03089492004594191', 'type_Pistol': '0.03176394128013821', 'type_Rifle': '0.04841316372369872', 'type_SMG': '-0.020231789961470084', 'type_Sniper': '0.04841316372369864', 'type_MG': '-0.0162554953095774'}\n",
      "Num of training samples = 147\n",
      "Epoch:0010 - Cost:11.90\n",
      "Epoch:0020 - Cost:12.63\n",
      "Epoch:0030 - Cost:8.16\n",
      "Epoch:0040 - Cost:10.78\n",
      "Epoch:0050 - Cost:9.63\n",
      "Epoch:0060 - Cost:9.52\n",
      "Epoch:0070 - Cost:7.41\n",
      "Epoch:0080 - Cost:8.89\n",
      "Epoch:0090 - Cost:5.78\n",
      "Epoch:0100 - Cost:7.04\n",
      "Epoch:0110 - Cost:7.81\n"
     ]
    },
    {
     "data": {
      "image/png": "[encoded data removed]",
      "text/plain": [
       "<matplotlib.figure.Figure at 0x1bc3fc88a90>"
      ]
     },
     "metadata": {},
     "output_type": "display_data"
    }
   ],
   "source": [
    "input_and_train()"
   ]
  },
  {
   "cell_type": "code",
   "execution_count": 5,
   "metadata": {},
   "outputs": [
    {
     "name": "stdout",
     "output_type": "stream",
     "text": [
      "INFO:tensorflow:Restoring parameters from trained_vae/model.ckpt\n",
      "Generated a random weapon!\n",
      "{'damages_first': '36206512.63499995', 'damages_last': '133768345.09826192', 'distances_first': '1798974865.587079', 'distances_last': '24950522.48968268', 'firemode_Automatic': '0.4422830750458693', 'firemode_Semi': '0.472922824224248', 'firemode_Single': '0.3710557842978644', 'hiprecoildec': '650095978.57587', 'hiprecoilright': '60726383.08611872', 'hiprecoilup': '288272400.4961808', 'hipstandbasespreaddec': '10436387.36585838', 'hipstandbasespreadinc': '84879.097610143', 'initialspeed': '30596413307.46126', 'magsize': '246259754.4483463', 'reloadempty': '13719746.104418367', 'rof': '67753246.82268366', 'shotspershell': '426681873.6494102', 'type_Shotgun': '0.16710728990576995', 'type_Pistol': '0.2959837354541713', 'type_Rifle': '0.32150698772008734', 'type_SMG': '0.19653658282827888', 'type_Sniper': '0.32150698772008734', 'type_MG': '0.20606796528712018'}\n",
      "Generated a random weapon!\n",
      "{'damages_first': '11110239.162605314', 'damages_last': '33495109.311680693', 'distances_first': '505409364.98384917', 'distances_last': '6896030.011558248', 'firemode_Automatic': '0.2967055034195057', 'firemode_Semi': '0.323853687630078', 'firemode_Single': '0.2356639246112945', 'hiprecoildec': '180102342.44710338', 'hiprecoilright': '15763939.53805645', 'hiprecoilup': '73473848.61931902', 'hipstandbasespreaddec': '2646091.9854370337', 'hipstandbasespreadinc': '25345.086522926722', 'initialspeed': '8454333367.374526', 'magsize': '61779113.03916765', 'reloadempty': '4186734.270282353', 'rof': '19933747.548512716', 'shotspershell': '111193157.1551115', 'type_Shotgun': '0.08006966582154648', 'type_Pistol': '0.17469265096102324', 'type_Rifle': '0.19500727982673535', 'type_SMG': '0.1003128689178222', 'type_Sniper': '0.19500727982673535', 'type_MG': '0.10706569376731709'}\n",
      "Generated a random weapon!\n",
      "{'damages_first': '32485914.15037793', 'damages_last': '118902534.46203032', 'distances_first': '1607199865.741077', 'distances_last': '22273889.34617558', 'firemode_Automatic': '0.4207007595286356', 'firemode_Semi': '0.4508228736349201', 'firemode_Single': '0.3509835313980818', 'hiprecoildec': '580417999.8000104', 'hiprecoilright': '54060564.77194406', 'hiprecoilup': '256427865.19132218', 'hipstandbasespreaddec': '9281452.501961712', 'hipstandbasespreadinc': '76053.00031413547', 'initialspeed': '27313782953.513107', 'magsize': '218909941.1135462', 'reloadempty': '12306448.25272796', 'rof': '60663861.35154709', 'shotspershell': '379909716.74750215', 'type_Shotgun': '0.15420369875590972', 'type_Pistol': '0.2780019651463301', 'type_Rifle': '0.30275302323166065', 'type_SMG': '0.18227112606419987', 'type_Sniper': '0.30275302323166065', 'type_MG': '0.19139057894942776'}\n",
      "Generated a random weapon!\n",
      "{'damages_first': '30821015.960824907', 'damages_last': '112250362.42121568', 'distances_first': '1521384142.4468782', 'distances_last': '21076146.10859124', 'firemode_Automatic': '0.41104307725533473', 'firemode_Semi': '0.44093355935458023', 'firemode_Single': '0.3420015738847348', 'hiprecoildec': '549238408.3458071', 'hiprecoilright': '51077735.82949606', 'hiprecoilup': '242178031.62412867', 'hipstandbasespreaddec': '8764640.765382037', 'hipstandbasespreadinc': '72103.48695770175', 'initialspeed': '25844867305.70832', 'magsize': '206671411.5076439', 'reloadempty': '11674023.914465196', 'rof': '57491494.03356765', 'shotspershell': '358980051.8913419', 'type_Shotgun': '0.1484295832116152', 'type_Pistol': '0.26995545946875643', 'type_Rifle': '0.29436097511016196', 'type_SMG': '0.17588760114533866', 'type_Sniper': '0.2943609751101619', 'type_MG': '0.18482272325578206'}\n",
      "Generated a random weapon!\n",
      "{'damages_first': '28552995.336782873', 'damages_last': '103188388.8555564', 'distances_first': '1404480999.9486687', 'distances_last': '19444510.983876813', 'firemode_Automatic': '0.3978868237896665', 'firemode_Semi': '0.4274617633695863', 'firemode_Single': '0.329765831776078', 'hiprecoildec': '506763765.2048213', 'hiprecoilright': '47014353.69483364', 'hiprecoilup': '222766084.02135172', 'hipstandbasespreaddec': '8060609.921535437', 'hipstandbasespreadinc': '66723.23139401109', 'initialspeed': '23843825437.139923', 'magsize': '189999378.509886', 'reloadempty': '10812498.896703497', 'rof': '53169911.75943115', 'shotspershell': '330468451.69505405', 'type_Shotgun': '0.14056374899890725', 'type_Pistol': '0.25899404396435977', 'type_Rifle': '0.2829288416998768', 'type_SMG': '0.16719159422977437', 'type_Sniper': '0.28292884169987675', 'type_MG': '0.175875610295728'}\n",
      "Generated a random weapon!\n",
      "{'damages_first': '19711147.69734486', 'damages_last': '67860407.82627586', 'distances_first': '948735684.5914649', 'distances_last': '13083603.581646316', 'firemode_Automatic': '0.346597348104938', 'firemode_Semi': '0.3749421494532792', 'firemode_Single': '0.28206495713085944', 'hiprecoildec': '341176945.04496336', 'hiprecoilright': '31173313.5584924', 'hiprecoilup': '147088869.59522462', 'hipstandbasespreaddec': '5315955.226260837', 'hipstandbasespreadinc': '45748.37805665014', 'initialspeed': '16042790854.620964', 'magsize': '125003684.00727442', 'reloadempty': '7453855.300668939', 'rof': '36322281.88157216', 'shotspershell': '219316365.0606445', 'type_Shotgun': '0.10989890101269534', 'type_Pistol': '0.21626111430090694', 'type_Rifle': '0.23836082466512665', 'type_SMG': '0.13329032922192424', 'type_Sniper': '0.23836082466512662', 'type_MG': '0.14099541177943226'}\n",
      "Generated a random weapon!\n",
      "{'damages_first': '29540150.754597545', 'damages_last': '107132610.61730176', 'distances_first': '1455363063.9181757', 'distances_last': '20154679.76990312', 'firemode_Automatic': '0.4036130798691336', 'firemode_Semi': '0.4333253592528459', 'firemode_Single': '0.33509143551420334', 'hiprecoildec': '525250843.16694474', 'hiprecoilright': '48782939.76780094', 'hiprecoilup': '231215129.43270448', 'hipstandbasespreaddec': '8367039.17285909', 'hipstandbasespreadinc': '69064.98630250893', 'initialspeed': '24714778417.413475', 'magsize': '197255876.76447007', 'reloadempty': '11187477.448419955', 'rof': '55050879.37948866', 'shotspershell': '342878118.6557412', 'type_Shotgun': '0.14398735140198785', 'type_Pistol': '0.26376499736195214', 'type_Rifle': '0.2879046749500307', 'type_SMG': '0.17097652909723351', 'type_Sniper': '0.28790467495003064', 'type_MG': '0.1797698390071833'}\n",
      "Generated a random weapon!\n",
      "{'damages_first': '35091882.67038309', 'damages_last': '129314793.32374221', 'distances_first': '1741522237.4208705', 'distances_last': '24148647.329444118', 'firemode_Automatic': '0.4358173691437802', 'firemode_Semi': '0.46630204338879067', 'firemode_Single': '0.3650424682596146', 'hiprecoildec': '629221604.9129993', 'hiprecoilright': '58729413.818303265', 'hiprecoilup': '278732302.73857474', 'hipstandbasespreaddec': '10090387.922005273', 'hipstandbasespreadinc': '82234.94437581373', 'initialspeed': '29612991374.029175', 'magsize': '238066201.2886473', 'reloadempty': '13296345.369043719', 'rof': '65629383.81797918', 'shotspershell': '412669706.57249856', 'type_Shotgun': '0.16324158673832367', 'type_Pistol': '0.2905966935347544', 'type_Rifle': '0.3158886091553053', 'type_SMG': '0.19226288717584297', 'type_Sniper': '0.31588860915530526', 'type_MG': '0.20167086232589804'}\n",
      "Generated a random weapon!\n",
      "{'damages_first': '30510090.43829103', 'damages_last': '111008046.17584163', 'distances_first': '1505357757.9061904', 'distances_last': '20852463.39673286', 'firemode_Automatic': '0.40923947152969065', 'firemode_Semi': '0.43908669554668467', 'firemode_Single': '0.3403241621062018', 'hiprecoildec': '543415511.2905262', 'hiprecoilright': '50520682.158959724', 'hiprecoilup': '239516825.68631095', 'hipstandbasespreaddec': '8668124.377619721', 'hipstandbasespreadinc': '71365.90161355927', 'initialspeed': '25570542203.898636', 'magsize': '204385823.57401592', 'reloadempty': '11555916.47157688', 'rof': '56899043.412742026', 'shotspershell': '355071364.24744004', 'type_Shotgun': '0.14735124706827257', 'type_Pistol': '0.2684527465713131', 'type_Rifle': '0.292793730960532', 'type_SMG': '0.17469545568355652', 'type_Sniper': '0.29279373096053196', 'type_MG': '0.18359615338124688'}\n"
     ]
    },
    {
     "name": "stdout",
     "output_type": "stream",
     "text": [
      "Generated a random weapon!\n",
      "{'damages_first': '36715926.13706058', 'damages_last': '135803728.56908602', 'distances_first': '1825232139.7011797', 'distances_last': '25316999.299529582', 'firemode_Automatic': '0.445238062791968', 'firemode_Semi': '0.47594868505594157', 'firemode_Single': '0.3738040186709598', 'hiprecoildec': '659636084.3764353', 'hiprecoilright': '61639047.50437254', 'hiprecoilup': '292632461.4697554', 'hipstandbasespreaddec': '10594517.681747407', 'hipstandbasespreadinc': '86087.54113117071', 'initialspeed': '31045861489.383293', 'magsize': '250004411.1881612', 'reloadempty': '13913250.727682628', 'rof': '68723904.8217223', 'shotspershell': '433085781.0704365', 'type_Shotgun': '0.1688740120027598', 'type_Pistol': '0.2984457470427982', 'type_Rifle': '0.3240747258856155', 'type_SMG': '0.19848976759646064', 'type_Sniper': '0.3240747258856155', 'type_MG': '0.20807755025208857'}\n",
      "Generated a random weapon!\n",
      "{'damages_first': '37242341.264754616', 'damages_last': '137907042.76348028', 'distances_first': '1852365747.7617426', 'distances_last': '25695707.2369362', 'firemode_Automatic': '0.4482916729640669', 'firemode_Semi': '0.4790755336959111', 'firemode_Single': '0.3766439750965238', 'hiprecoildec': '669494590.2717531', 'hiprecoilright': '62582172.00800948', 'hiprecoilup': '297138039.05039227', 'hipstandbasespreaddec': '10757925.58140907', 'hipstandbasespreadinc': '87336.31633610654', 'initialspeed': '31510309960.264584', 'magsize': '253874045.47913724', 'reloadempty': '14113213.548756264', 'rof': '69726958.43621081', 'shotspershell': '439703418.2731095', 'type_Shotgun': '0.1706996982763367', 'type_Pistol': '0.3009899280265543', 'type_Rifle': '0.3267281620604', 'type_SMG': '0.20050813971457954', 'type_Sniper': '0.3267281620604', 'type_MG': '0.21015420491802628'}\n",
      "Generated a random weapon!\n",
      "{'damages_first': '29780015.787596367', 'damages_last': '108091001.63249785', 'distances_first': '1467726697.5799475', 'distances_last': '20327240.904878236', 'firemode_Automatic': '0.4050044804314703', 'firemode_Semi': '0.43475013147680164', 'firemode_Single': '0.3363854831315603', 'hiprecoildec': '529742945.91531765', 'hiprecoilright': '49212681.57856128', 'hiprecoilup': '233268129.92262647', 'hipstandbasespreaddec': '8441497.217817469', 'hipstandbasespreadinc': '69634.00016624831', 'initialspeed': '24926407874.72448', 'magsize': '199019104.88628387', 'reloadempty': '11278592.019700367', 'rof': '55507928.34271434', 'shotspershell': '345893495.0810858', 'type_Shotgun': '0.14481923915600303', 'type_Pistol': '0.26492427266298096', 'type_Rifle': '0.28911373320489697', 'type_SMG': '0.17189621561315346', 'type_Sniper': '0.2891137332048969', 'type_MG': '0.18071608240667353'}\n",
      "Generated a random weapon!\n",
      "{'damages_first': '38163083.053071044', 'damages_last': '141585906.02339685', 'distances_first': '1899824579.1950216', 'distances_last': '26358097.44039566', 'firemode_Automatic': '0.4536326792208508', 'firemode_Semi': '0.4845446398387605', 'firemode_Single': '0.3816112840138586', 'hiprecoildec': '686737898.5861349', 'hiprecoilright': '64231771.52823534', 'hiprecoilup': '305018651.4050682', 'hipstandbasespreaddec': '11043738.951588206', 'hipstandbasespreadinc': '89520.52316244629', 'initialspeed': '32322667153.594746', 'magsize': '260642342.60770056', 'reloadempty': '14462964.374266636', 'rof': '71481378.72201648', 'shotspershell': '451278190.3339153', 'type_Shotgun': '0.17389296829462336', 'type_Pistol': '0.30543990224945644', 'type_Rifle': '0.3313692322732884', 'type_SMG': '0.20403843254956228', 'type_Sniper': '0.3313692322732883', 'type_MG': '0.21378643854931823'}\n",
      "Generated a random weapon!\n",
      "{'damages_first': '17687606.026571102', 'damages_last': '59775260.39191024', 'distances_first': '844433996.246172', 'distances_last': '11627848.889048519', 'firemode_Automatic': '0.33485925946639844', 'firemode_Semi': '0.36292253187713297', 'firemode_Single': '0.2711481542732284', 'hiprecoildec': '303280812.4278569', 'hiprecoilright': '27547939.526790187', 'hiprecoilup': '129769412.94271415', 'hipstandbasespreaddec': '4687814.663987362', 'hipstandbasespreadinc': '40948.08161439935', 'initialspeed': '14257449238.637455', 'magsize': '110128795.67960417', 'reloadempty': '6685197.487166364', 'rof': '32466540.129185714', 'shotspershell': '193878143.518017', 'type_Shotgun': '0.10288095631850397', 'type_Pistol': '0.20648127332032465', 'type_Rifle': '0.22816100633176034', 'type_SMG': '0.12553169943855816', 'type_Sniper': '0.2281610063317603', 'type_MG': '0.13301274366968505'}\n",
      "Generated a random weapon!\n",
      "{'damages_first': '23805836.061234027', 'damages_last': '84220910.60117853', 'distances_first': '1159792820.5871665', 'distances_last': '16029360.46254018', 'firemode_Automatic': '0.3703496709044725', 'firemode_Semi': '0.3992641532638677', 'firemode_Single': '0.3041553871317011', 'hiprecoildec': '417860739.35710716', 'hiprecoilright': '38509350.70403866', 'hiprecoilup': '182135233.42760387', 'hipstandbasespreaddec': '6587013.731443245', 'hipstandbasespreadinc': '55461.90077238794', 'initialspeed': '19655475310.84935', 'magsize': '155103401.26497355', 'reloadempty': '9009254.06028924', 'rof': '44124474.00624503', 'shotspershell': '270791257.45008695', 'type_Shotgun': '0.1240998917275221', 'type_Pistol': '0.23605087284270376', 'type_Rifle': '0.25900041812971214', 'type_SMG': '0.1489901151727247', 'type_Sniper': '0.25900041812971214', 'type_MG': '0.15714854501798445'}\n",
      "Generated a random weapon!\n",
      "{'damages_first': '30633831.027180098', 'damages_last': '111502456.99981087', 'distances_first': '1511735858.5029702', 'distances_last': '20941483.526904527', 'firemode_Automatic': '0.4099572615418971', 'firemode_Semi': '0.43982170119473984', 'firemode_Single': '0.34099173008065947', 'hiprecoildec': '545732878.8221104', 'hiprecoilright': '50742375.600762896', 'hiprecoilup': '240575919.15415186', 'hipstandbasespreaddec': '8706535.488299299', 'hipstandbasespreadinc': '71659.4421505224', 'initialspeed': '25679716739.872234', 'magsize': '205295430.46173632', 'reloadempty': '11602920.282702066', 'rof': '57134823.95629863', 'shotspershell': '356626924.2635437', 'type_Shotgun': '0.14778039790899536', 'type_Pistol': '0.2690507887562887', 'type_Rifle': '0.2934174549714389', 'type_SMG': '0.1751698997892709', 'type_Sniper': '0.2934174549714389', 'type_MG': '0.18408429754307598'}\n",
      "Generated a random weapon!\n",
      "{'damages_first': '45507667.68467889', 'damages_last': '170931508.56194946', 'distances_first': '2278394780.3111024', 'distances_last': '31641859.91342467', 'firemode_Automatic': '0.4962368848392621', 'firemode_Semi': '0.528170674233106', 'firemode_Single': '0.42123457601346975', 'hiprecoildec': '824284536.3633274', 'hiprecoilright': '77390317.64648195', 'hiprecoilup': '367880818.7599846', 'hipstandbasespreaddec': '13323618.62335163', 'hipstandbasespreadinc': '106943.53153737925', 'initialspeed': '38802688190.13138', 'magsize': '314631779.9324655', 'reloadempty': '17252861.140690833', 'rof': '85476060.43627924', 'shotspershell': '543607977.1111636', 'type_Shotgun': '0.19936508458008764', 'type_Pistol': '0.34093651237762235', 'type_Rifle': '0.3683901792883252', 'type_SMG': '0.23219891666129108', 'type_Sniper': '0.36839017928832507', 'type_MG': '0.24276008528210674'}\n",
      "Generated a random weapon!\n",
      "{'damages_first': '35557740.38864552', 'damages_last': '131176147.79446515', 'distances_first': '1765534466.694547', 'distances_last': '24483789.703450248', 'firemode_Automatic': '0.4385197000465194', 'firemode_Semi': '0.46906918759900573', 'firemode_Single': '0.36755572357994226', 'hiprecoildec': '637946014.2626843', 'hiprecoilright': '59564043.76373497', 'hiprecoilup': '282719570.5444305', 'hipstandbasespreaddec': '10234997.807393458', 'hipstandbasespreadinc': '83340.06377111394', 'initialspeed': '30024010916.425365', 'magsize': '241490683.04547086', 'reloadempty': '13473304.993989807', 'rof': '66517048.78723534', 'shotspershell': '418526068.2257633', 'type_Shotgun': '0.16485725087282', 'type_Pistol': '0.2928481986408694', 'type_Rifle': '0.3182368010231093', 'type_SMG': '0.19404907108296254', 'type_Sniper': '0.31823680102310925', 'type_MG': '0.20350862411008266'}\n",
      "Generated a random weapon!\n",
      "{'damages_first': '6318624.141757477', 'damages_last': '14350006.222470783', 'distances_first': '258429753.05226308', 'distances_last': '3448897.613709435', 'firemode_Automatic': '0.268910473226249', 'firemode_Semi': '0.2953920152293872', 'firemode_Single': '0.20981364571278407', 'hiprecoildec': '90366766.00565784', 'hiprecoilright': '7179289.704849126', 'hiprecoilup': '32462502.103603564', 'hipstandbasespreaddec': '1158696.002016287', 'hipstandbasespreadinc': '13978.296864270369', 'initialspeed': '4226760578.5125933', 'magsize': '26556345.268319093', 'reloadempty': '2366602.5782759003', 'rof': '10803601.94089569', 'shotspershell': '50957103.602183655', 'type_Shotgun': '0.06345162938678976', 'type_Pistol': '0.15153462381442007', 'type_Rifle': '0.17085477363328047', 'type_SMG': '0.08194093838230773', 'type_Sniper': '0.17085477363328047', 'type_MG': '0.08816325505130002'}\n"
     ]
    },
    {
     "ename": "KeyboardInterrupt",
     "evalue": "",
     "output_type": "error",
     "traceback": [
      "\u001b[1;31m---------------------------------------------------------------------------\u001b[0m",
      "\u001b[1;31mKeyboardInterrupt\u001b[0m                         Traceback (most recent call last)",
      "\u001b[1;32m<ipython-input-5-2a37f45b02bb>\u001b[0m in \u001b[0;36m<module>\u001b[1;34m()\u001b[0m\n\u001b[1;32m----> 1\u001b[1;33m \u001b[0minput_and_train\u001b[0m\u001b[1;33m(\u001b[0m\u001b[1;33m)\u001b[0m\u001b[1;33m\u001b[0m\u001b[0m\n\u001b[0m",
      "\u001b[1;32m<ipython-input-3-a15fc9188614>\u001b[0m in \u001b[0;36minput_and_train\u001b[1;34m()\u001b[0m\n\u001b[0;32m     31\u001b[0m                 \u001b[0mnew_value\u001b[0m \u001b[1;33m=\u001b[0m \u001b[0mfloat\u001b[0m\u001b[1;33m(\u001b[0m\u001b[0mvalue\u001b[0m\u001b[1;33m)\u001b[0m \u001b[1;33m*\u001b[0m \u001b[0mnp\u001b[0m\u001b[1;33m.\u001b[0m\u001b[0mrandom\u001b[0m\u001b[1;33m.\u001b[0m\u001b[0muniform\u001b[0m\u001b[1;33m(\u001b[0m\u001b[0mlow\u001b[0m\u001b[1;33m=\u001b[0m\u001b[1;36m0.8\u001b[0m\u001b[1;33m,\u001b[0m \u001b[0mhigh\u001b[0m\u001b[1;33m=\u001b[0m\u001b[1;36m5.2\u001b[0m\u001b[1;33m)\u001b[0m\u001b[1;33m\u001b[0m\u001b[0m\n\u001b[0;32m     32\u001b[0m                 \u001b[0mjson_test\u001b[0m\u001b[1;33m[\u001b[0m\u001b[0mkey\u001b[0m\u001b[1;33m]\u001b[0m \u001b[1;33m=\u001b[0m \u001b[0mstr\u001b[0m\u001b[1;33m(\u001b[0m\u001b[0mnew_value\u001b[0m\u001b[1;33m)\u001b[0m\u001b[1;33m\u001b[0m\u001b[0m\n\u001b[1;32m---> 33\u001b[1;33m         \u001b[0mprint\u001b[0m\u001b[1;33m(\u001b[0m\u001b[0mpluginTest\u001b[0m\u001b[1;33m.\u001b[0m\u001b[0monJsonInput\u001b[0m\u001b[1;33m(\u001b[0m\u001b[0mjson_test\u001b[0m\u001b[1;33m)\u001b[0m\u001b[1;33m)\u001b[0m\u001b[1;33m\u001b[0m\u001b[0m\n\u001b[0m\u001b[0;32m     34\u001b[0m     \u001b[0mpluginTest\u001b[0m\u001b[1;33m.\u001b[0m\u001b[0monBeginTraining\u001b[0m\u001b[1;33m(\u001b[0m\u001b[1;33m)\u001b[0m\u001b[1;33m\u001b[0m\u001b[0m\n\u001b[0;32m     35\u001b[0m     \u001b[0mpluginTest\u001b[0m\u001b[1;33m.\u001b[0m\u001b[0mshow_z_distribution\u001b[0m\u001b[1;33m(\u001b[0m\u001b[1;34m\"Trained Latent Space - Z Mean\"\u001b[0m\u001b[1;33m,\u001b[0m \u001b[0mz_mean\u001b[0m\u001b[1;33m=\u001b[0m\u001b[1;32mTrue\u001b[0m\u001b[1;33m)\u001b[0m\u001b[1;33m\u001b[0m\u001b[0m\n",
      "\u001b[1;32m<ipython-input-1-f5346c373754>\u001b[0m in \u001b[0;36monJsonInput\u001b[1;34m(self, jsonInput)\u001b[0m\n\u001b[0;32m     69\u001b[0m \u001b[1;33m\u001b[0m\u001b[0m\n\u001b[0;32m     70\u001b[0m         \u001b[1;31m#encode the json input to a standardized weapon data\u001b[0m\u001b[1;33m\u001b[0m\u001b[1;33m\u001b[0m\u001b[0m\n\u001b[1;32m---> 71\u001b[1;33m         \u001b[0mencoded_json_input\u001b[0m \u001b[1;33m=\u001b[0m \u001b[0mself\u001b[0m\u001b[1;33m.\u001b[0m\u001b[0m__encode_json_input_to_a_standardized_train_data_format\u001b[0m\u001b[1;33m(\u001b[0m\u001b[0mjsonInput\u001b[0m\u001b[1;33m)\u001b[0m\u001b[1;33m\u001b[0m\u001b[0m\n\u001b[0m\u001b[0;32m     72\u001b[0m         \u001b[1;31m#check if the encoded data should be used to generate a new one\u001b[0m\u001b[1;33m\u001b[0m\u001b[1;33m\u001b[0m\u001b[0m\n\u001b[0;32m     73\u001b[0m         \u001b[1;31m#calculate loss requires a batch which has the size of the trained model batch_size\u001b[0m\u001b[1;33m\u001b[0m\u001b[1;33m\u001b[0m\u001b[0m\n",
      "\u001b[1;32m<ipython-input-1-f5346c373754>\u001b[0m in \u001b[0;36m__encode_json_input_to_a_standardized_train_data_format\u001b[1;34m(self, json_input)\u001b[0m\n\u001b[0;32m    154\u001b[0m     \u001b[1;32mdef\u001b[0m \u001b[0m__encode_json_input_to_a_standardized_train_data_format\u001b[0m\u001b[1;33m(\u001b[0m\u001b[0mself\u001b[0m\u001b[1;33m,\u001b[0m \u001b[0mjson_input\u001b[0m\u001b[1;33m)\u001b[0m\u001b[1;33m:\u001b[0m\u001b[1;33m\u001b[0m\u001b[0m\n\u001b[0;32m    155\u001b[0m         \u001b[0mprepared_for_encoding\u001b[0m \u001b[1;33m=\u001b[0m \u001b[0mself\u001b[0m\u001b[1;33m.\u001b[0m\u001b[0m_train_data\u001b[0m\u001b[1;33m.\u001b[0m\u001b[0mprepare_decoded_tensor_dict_for_encoding\u001b[0m\u001b[1;33m(\u001b[0m\u001b[0mjson_input\u001b[0m\u001b[1;33m)\u001b[0m\u001b[1;33m\u001b[0m\u001b[0m\n\u001b[1;32m--> 156\u001b[1;33m         \u001b[0mencoded\u001b[0m\u001b[1;33m,\u001b[0m \u001b[0m_\u001b[0m \u001b[1;33m=\u001b[0m \u001b[0mself\u001b[0m\u001b[1;33m.\u001b[0m\u001b[0m_train_data\u001b[0m\u001b[1;33m.\u001b[0m\u001b[0mencode_features_dict\u001b[0m\u001b[1;33m(\u001b[0m\u001b[0mprepared_for_encoding\u001b[0m\u001b[1;33m)\u001b[0m\u001b[1;33m\u001b[0m\u001b[0m\n\u001b[0m\u001b[0;32m    157\u001b[0m         \u001b[0mencoded_standardized\u001b[0m \u001b[1;33m=\u001b[0m \u001b[0mself\u001b[0m\u001b[1;33m.\u001b[0m\u001b[0m_train_data\u001b[0m\u001b[1;33m.\u001b[0m\u001b[0mstandardize_encoded_data\u001b[0m\u001b[1;33m(\u001b[0m\u001b[0mencoded\u001b[0m\u001b[1;33m[\u001b[0m\u001b[1;36m0\u001b[0m\u001b[1;33m]\u001b[0m\u001b[1;33m)\u001b[0m\u001b[1;33m\u001b[0m\u001b[0m\n\u001b[0;32m    158\u001b[0m         \u001b[1;32mreturn\u001b[0m \u001b[1;33m[\u001b[0m\u001b[0mencoded_standardized\u001b[0m\u001b[1;33m]\u001b[0m\u001b[1;33m\u001b[0m\u001b[0m\n",
      "\u001b[1;32mD:\\_MT\\Game Mechanic Prototype\\TensorFlow Playground\\weapon_data.py\u001b[0m in \u001b[0;36mencode_features_dict\u001b[1;34m(self, features)\u001b[0m\n\u001b[0;32m    264\u001b[0m \u001b[1;33m\u001b[0m\u001b[0m\n\u001b[0;32m    265\u001b[0m         \u001b[1;32mwith\u001b[0m \u001b[0mtf\u001b[0m\u001b[1;33m.\u001b[0m\u001b[0mSession\u001b[0m\u001b[1;33m(\u001b[0m\u001b[1;33m)\u001b[0m \u001b[1;32mas\u001b[0m \u001b[0msess\u001b[0m\u001b[1;33m:\u001b[0m\u001b[1;33m\u001b[0m\u001b[0m\n\u001b[1;32m--> 266\u001b[1;33m             \u001b[0msess\u001b[0m\u001b[1;33m.\u001b[0m\u001b[0mrun\u001b[0m\u001b[1;33m(\u001b[0m\u001b[1;33m(\u001b[0m\u001b[0mvar_init\u001b[0m\u001b[1;33m,\u001b[0m \u001b[0mtable_init\u001b[0m\u001b[1;33m)\u001b[0m\u001b[1;33m)\u001b[0m\u001b[1;33m\u001b[0m\u001b[0m\n\u001b[0m\u001b[0;32m    267\u001b[0m             \u001b[0mweapon_data\u001b[0m \u001b[1;33m=\u001b[0m \u001b[0msess\u001b[0m\u001b[1;33m.\u001b[0m\u001b[0mrun\u001b[0m\u001b[1;33m(\u001b[0m\u001b[0minputs\u001b[0m\u001b[1;33m)\u001b[0m\u001b[1;33m\u001b[0m\u001b[0m\n\u001b[0;32m    268\u001b[0m \u001b[1;33m\u001b[0m\u001b[0m\n",
      "\u001b[1;32mD:\\z_outsourced_programs\\Anaconda3\\lib\\site-packages\\tensorflow\\python\\client\\session.py\u001b[0m in \u001b[0;36mrun\u001b[1;34m(self, fetches, feed_dict, options, run_metadata)\u001b[0m\n\u001b[0;32m    898\u001b[0m     \u001b[1;32mtry\u001b[0m\u001b[1;33m:\u001b[0m\u001b[1;33m\u001b[0m\u001b[0m\n\u001b[0;32m    899\u001b[0m       result = self._run(None, fetches, feed_dict, options_ptr,\n\u001b[1;32m--> 900\u001b[1;33m                          run_metadata_ptr)\n\u001b[0m\u001b[0;32m    901\u001b[0m       \u001b[1;32mif\u001b[0m \u001b[0mrun_metadata\u001b[0m\u001b[1;33m:\u001b[0m\u001b[1;33m\u001b[0m\u001b[0m\n\u001b[0;32m    902\u001b[0m         \u001b[0mproto_data\u001b[0m \u001b[1;33m=\u001b[0m \u001b[0mtf_session\u001b[0m\u001b[1;33m.\u001b[0m\u001b[0mTF_GetBuffer\u001b[0m\u001b[1;33m(\u001b[0m\u001b[0mrun_metadata_ptr\u001b[0m\u001b[1;33m)\u001b[0m\u001b[1;33m\u001b[0m\u001b[0m\n",
      "\u001b[1;32mD:\\z_outsourced_programs\\Anaconda3\\lib\\site-packages\\tensorflow\\python\\client\\session.py\u001b[0m in \u001b[0;36m_run\u001b[1;34m(self, handle, fetches, feed_dict, options, run_metadata)\u001b[0m\n\u001b[0;32m   1133\u001b[0m     \u001b[1;32mif\u001b[0m \u001b[0mfinal_fetches\u001b[0m \u001b[1;32mor\u001b[0m \u001b[0mfinal_targets\u001b[0m \u001b[1;32mor\u001b[0m \u001b[1;33m(\u001b[0m\u001b[0mhandle\u001b[0m \u001b[1;32mand\u001b[0m \u001b[0mfeed_dict_tensor\u001b[0m\u001b[1;33m)\u001b[0m\u001b[1;33m:\u001b[0m\u001b[1;33m\u001b[0m\u001b[0m\n\u001b[0;32m   1134\u001b[0m       results = self._do_run(handle, final_targets, final_fetches,\n\u001b[1;32m-> 1135\u001b[1;33m                              feed_dict_tensor, options, run_metadata)\n\u001b[0m\u001b[0;32m   1136\u001b[0m     \u001b[1;32melse\u001b[0m\u001b[1;33m:\u001b[0m\u001b[1;33m\u001b[0m\u001b[0m\n\u001b[0;32m   1137\u001b[0m       \u001b[0mresults\u001b[0m \u001b[1;33m=\u001b[0m \u001b[1;33m[\u001b[0m\u001b[1;33m]\u001b[0m\u001b[1;33m\u001b[0m\u001b[0m\n",
      "\u001b[1;32mD:\\z_outsourced_programs\\Anaconda3\\lib\\site-packages\\tensorflow\\python\\client\\session.py\u001b[0m in \u001b[0;36m_do_run\u001b[1;34m(self, handle, target_list, fetch_list, feed_dict, options, run_metadata)\u001b[0m\n\u001b[0;32m   1314\u001b[0m     \u001b[1;32mif\u001b[0m \u001b[0mhandle\u001b[0m \u001b[1;32mis\u001b[0m \u001b[1;32mNone\u001b[0m\u001b[1;33m:\u001b[0m\u001b[1;33m\u001b[0m\u001b[0m\n\u001b[0;32m   1315\u001b[0m       return self._do_call(_run_fn, feeds, fetches, targets, options,\n\u001b[1;32m-> 1316\u001b[1;33m                            run_metadata)\n\u001b[0m\u001b[0;32m   1317\u001b[0m     \u001b[1;32melse\u001b[0m\u001b[1;33m:\u001b[0m\u001b[1;33m\u001b[0m\u001b[0m\n\u001b[0;32m   1318\u001b[0m       \u001b[1;32mreturn\u001b[0m \u001b[0mself\u001b[0m\u001b[1;33m.\u001b[0m\u001b[0m_do_call\u001b[0m\u001b[1;33m(\u001b[0m\u001b[0m_prun_fn\u001b[0m\u001b[1;33m,\u001b[0m \u001b[0mhandle\u001b[0m\u001b[1;33m,\u001b[0m \u001b[0mfeeds\u001b[0m\u001b[1;33m,\u001b[0m \u001b[0mfetches\u001b[0m\u001b[1;33m)\u001b[0m\u001b[1;33m\u001b[0m\u001b[0m\n",
      "\u001b[1;32mD:\\z_outsourced_programs\\Anaconda3\\lib\\site-packages\\tensorflow\\python\\client\\session.py\u001b[0m in \u001b[0;36m_do_call\u001b[1;34m(self, fn, *args)\u001b[0m\n\u001b[0;32m   1320\u001b[0m   \u001b[1;32mdef\u001b[0m \u001b[0m_do_call\u001b[0m\u001b[1;33m(\u001b[0m\u001b[0mself\u001b[0m\u001b[1;33m,\u001b[0m \u001b[0mfn\u001b[0m\u001b[1;33m,\u001b[0m \u001b[1;33m*\u001b[0m\u001b[0margs\u001b[0m\u001b[1;33m)\u001b[0m\u001b[1;33m:\u001b[0m\u001b[1;33m\u001b[0m\u001b[0m\n\u001b[0;32m   1321\u001b[0m     \u001b[1;32mtry\u001b[0m\u001b[1;33m:\u001b[0m\u001b[1;33m\u001b[0m\u001b[0m\n\u001b[1;32m-> 1322\u001b[1;33m       \u001b[1;32mreturn\u001b[0m \u001b[0mfn\u001b[0m\u001b[1;33m(\u001b[0m\u001b[1;33m*\u001b[0m\u001b[0margs\u001b[0m\u001b[1;33m)\u001b[0m\u001b[1;33m\u001b[0m\u001b[0m\n\u001b[0m\u001b[0;32m   1323\u001b[0m     \u001b[1;32mexcept\u001b[0m \u001b[0merrors\u001b[0m\u001b[1;33m.\u001b[0m\u001b[0mOpError\u001b[0m \u001b[1;32mas\u001b[0m \u001b[0me\u001b[0m\u001b[1;33m:\u001b[0m\u001b[1;33m\u001b[0m\u001b[0m\n\u001b[0;32m   1324\u001b[0m       \u001b[0mmessage\u001b[0m \u001b[1;33m=\u001b[0m \u001b[0mcompat\u001b[0m\u001b[1;33m.\u001b[0m\u001b[0mas_text\u001b[0m\u001b[1;33m(\u001b[0m\u001b[0me\u001b[0m\u001b[1;33m.\u001b[0m\u001b[0mmessage\u001b[0m\u001b[1;33m)\u001b[0m\u001b[1;33m\u001b[0m\u001b[0m\n",
      "\u001b[1;32mD:\\z_outsourced_programs\\Anaconda3\\lib\\site-packages\\tensorflow\\python\\client\\session.py\u001b[0m in \u001b[0;36m_run_fn\u001b[1;34m(feed_dict, fetch_list, target_list, options, run_metadata)\u001b[0m\n\u001b[0;32m   1305\u001b[0m       \u001b[0mself\u001b[0m\u001b[1;33m.\u001b[0m\u001b[0m_extend_graph\u001b[0m\u001b[1;33m(\u001b[0m\u001b[1;33m)\u001b[0m\u001b[1;33m\u001b[0m\u001b[0m\n\u001b[0;32m   1306\u001b[0m       return self._call_tf_sessionrun(\n\u001b[1;32m-> 1307\u001b[1;33m           options, feed_dict, fetch_list, target_list, run_metadata)\n\u001b[0m\u001b[0;32m   1308\u001b[0m \u001b[1;33m\u001b[0m\u001b[0m\n\u001b[0;32m   1309\u001b[0m     \u001b[1;32mdef\u001b[0m \u001b[0m_prun_fn\u001b[0m\u001b[1;33m(\u001b[0m\u001b[0mhandle\u001b[0m\u001b[1;33m,\u001b[0m \u001b[0mfeed_dict\u001b[0m\u001b[1;33m,\u001b[0m \u001b[0mfetch_list\u001b[0m\u001b[1;33m)\u001b[0m\u001b[1;33m:\u001b[0m\u001b[1;33m\u001b[0m\u001b[0m\n",
      "\u001b[1;32mD:\\z_outsourced_programs\\Anaconda3\\lib\\site-packages\\tensorflow\\python\\client\\session.py\u001b[0m in \u001b[0;36m_call_tf_sessionrun\u001b[1;34m(self, options, feed_dict, fetch_list, target_list, run_metadata)\u001b[0m\n\u001b[0;32m   1407\u001b[0m       return tf_session.TF_SessionRun_wrapper(\n\u001b[0;32m   1408\u001b[0m           \u001b[0mself\u001b[0m\u001b[1;33m.\u001b[0m\u001b[0m_session\u001b[0m\u001b[1;33m,\u001b[0m \u001b[0moptions\u001b[0m\u001b[1;33m,\u001b[0m \u001b[0mfeed_dict\u001b[0m\u001b[1;33m,\u001b[0m \u001b[0mfetch_list\u001b[0m\u001b[1;33m,\u001b[0m \u001b[0mtarget_list\u001b[0m\u001b[1;33m,\u001b[0m\u001b[1;33m\u001b[0m\u001b[0m\n\u001b[1;32m-> 1409\u001b[1;33m           run_metadata)\n\u001b[0m\u001b[0;32m   1410\u001b[0m     \u001b[1;32melse\u001b[0m\u001b[1;33m:\u001b[0m\u001b[1;33m\u001b[0m\u001b[0m\n\u001b[0;32m   1411\u001b[0m       \u001b[1;32mwith\u001b[0m \u001b[0merrors\u001b[0m\u001b[1;33m.\u001b[0m\u001b[0mraise_exception_on_not_ok_status\u001b[0m\u001b[1;33m(\u001b[0m\u001b[1;33m)\u001b[0m \u001b[1;32mas\u001b[0m \u001b[0mstatus\u001b[0m\u001b[1;33m:\u001b[0m\u001b[1;33m\u001b[0m\u001b[0m\n",
      "\u001b[1;31mKeyboardInterrupt\u001b[0m: "
     ]
    }
   ],
   "source": [
    "input_and_train()"
   ]
  },
  {
   "cell_type": "code",
   "execution_count": null,
   "metadata": {},
   "outputs": [],
   "source": [
    "input_and_train()"
   ]
  },
  {
   "cell_type": "code",
   "execution_count": null,
   "metadata": {},
   "outputs": [],
   "source": [
    "input_and_train()"
   ]
  },
  {
   "cell_type": "code",
   "execution_count": null,
   "metadata": {},
   "outputs": [],
   "source": [
    "input_and_train()"
   ]
  },
  {
   "cell_type": "code",
   "execution_count": null,
   "metadata": {},
   "outputs": [],
   "source": [
    "input_and_train()"
   ]
  },
  {
   "cell_type": "code",
   "execution_count": null,
   "metadata": {},
   "outputs": [],
   "source": [
    "input_and_train()"
   ]
  },
  {
   "cell_type": "code",
   "execution_count": null,
   "metadata": {},
   "outputs": [],
   "source": [
    "input_and_train()"
   ]
  },
  {
   "cell_type": "code",
   "execution_count": null,
   "metadata": {},
   "outputs": [],
   "source": [
    "input_and_train()"
   ]
  },
  {
   "cell_type": "code",
   "execution_count": null,
   "metadata": {},
   "outputs": [],
   "source": [
    "input_and_train()"
   ]
  },
  {
   "cell_type": "code",
   "execution_count": null,
   "metadata": {},
   "outputs": [],
   "source": [
    "pluginTest.onJsonInput(json_test)"
   ]
  },
  {
   "cell_type": "code",
   "execution_count": null,
   "metadata": {},
   "outputs": [],
   "source": []
  }
 ],
 "metadata": {
  "kernelspec": {
   "display_name": "Python 3",
   "language": "python",
   "name": "python3"
  },
  "language_info": {
   "codemirror_mode": {
    "name": "ipython",
    "version": 3
   },
   "file_extension": ".py",
   "mimetype": "text/x-python",
   "name": "python",
   "nbconvert_exporter": "python",
   "pygments_lexer": "ipython3",
   "version": "3.6.4"
  }
 },
 "nbformat": 4,
 "nbformat_minor": 2
}
