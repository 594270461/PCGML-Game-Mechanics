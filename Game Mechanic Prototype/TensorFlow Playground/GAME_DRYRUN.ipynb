{
 "cells": [
  {
   "cell_type": "code",
   "execution_count": 1,
   "metadata": {},
   "outputs": [
    {
     "name": "stderr",
     "output_type": "stream",
     "text": [
      "D:\\z_outsourced_programs\\Anaconda3\\lib\\site-packages\\h5py\\__init__.py:36: FutureWarning: Conversion of the second argument of issubdtype from `float` to `np.floating` is deprecated. In future, it will be treated as `np.float64 == np.dtype(float).type`.\n",
      "  from ._conv import register_converters as _register_converters\n"
     ]
    }
   ],
   "source": [
    "from __future__ import absolute_import\n",
    "from __future__ import division\n",
    "from __future__ import print_function\n",
    "\n",
    "import numpy as np\n",
    "import tensorflow as tf\n",
    "import variational_autoencoder as vae\n",
    "import weapon_data as weapons\n",
    "\n",
    "from tensorflow.python.framework import random_seed\n",
    "\n",
    "import matplotlib.pyplot as plt\n",
    "%matplotlib inline\n",
    "\n",
    "class tfPlugin:\n",
    "    def __init__(self):\n",
    "        self._sess = None\n",
    "        self._vae = None\n",
    "        self.trained_model_save_folder = \"trained_vae/\"\n",
    "        self.training_data_source = \"training_data.csv\"\n",
    "        self.test_data_source = \"test_data.csv\"\n",
    "        \n",
    "    def onSetup(self):\n",
    "        self._random_seed = 19071991\n",
    "        seed, _ = random_seed.get_seed(self._random_seed)\n",
    "        np.random.seed(seed)\n",
    "        \n",
    "        self.shouldStop = False\n",
    "        \n",
    "        self._train_data, self._test_data = weapons.get_data(self.training_data_source, self.test_data_source, seed=self._random_seed)\n",
    "\n",
    "        #set training parameter\n",
    "        self._network_architecture = \\\n",
    "            dict(n_input=self._train_data.num_features,\n",
    "                 n_hidden_1=26,\n",
    "                 n_hidden_2=12,\n",
    "                 n_z=2)  \n",
    "        self._batch_size = 4\n",
    "        self._learning_rate = 0.01\n",
    "        self._optimizer = tf.train.RMSPropOptimizer(self._learning_rate)\n",
    "        self._transfer_fct = tf.nn.elu\n",
    "        self._num_training_epochs = 100\n",
    "        \n",
    "        #keep track of the received and dismantled weapons \n",
    "        self._dismantled_weapons = []\n",
    "        \n",
    "        #amount of dismantles models needed to retrain the model\n",
    "        self._dismantled_weapons_needed_to_retrain = 20\n",
    "        \n",
    "        #start session is realized in on begin training and will be swaped with the tmp afterwards\n",
    "        self._sess = None\n",
    "        self._vae = None\n",
    "        \n",
    "        self._trained_model_available = False\n",
    "        self._trained_model_path = \"\"\n",
    "        \n",
    "    def onJsonInput(self, jsonInput):\n",
    "        if self._trained_model_available:\n",
    "            self.__load_trained_model()\n",
    "            \n",
    "        if self._vae == None:\n",
    "            print(\"ERROR: there is no trained model?!\")\n",
    "            return {}\n",
    "        \n",
    "        if not bool(jsonInput):\n",
    "            print(\"ERROR: empty input!\")\n",
    "            return {}\n",
    "        \n",
    "        generated_weapon = []\n",
    "        \n",
    "        #encode the json input to a standardized weapon data\n",
    "        encoded_json_input = self.__encode_json_input_to_a_standardized_train_data_format(jsonInput)\n",
    "        #check if the encoded data should be used to generate a new one \n",
    "        #calculate loss requires a batch which has the size of the trained model batch_size\n",
    "        batch = [encoded_json_input[0] for _ in range(self._batch_size)]\n",
    "        generation_cost = self._vae.calculate_loss(batch)\n",
    "        generation_cost /= self._batch_size\n",
    "\n",
    "        #if the cost is too high, then just generate a random one\n",
    "        #a too high value means that the VAE don't know which weapon that should be!\n",
    "        if generation_cost >= 50 or np.isnan(generation_cost) or np.isinf(generation_cost):\n",
    "            generated_weapon = self.__generate_random_weapons(1)\n",
    "            print(\"Generated a random weapon!\")\n",
    "        else:\n",
    "            generated_weapon = self._vae.encode_and_decode(encoded_json_input, False)\n",
    "            print(\"Generated a new weapon based on a dismantled one!\")\n",
    "\n",
    "        if len(generated_weapon) <= 0:\n",
    "            print(\"ERROR: no generated weapon?!\")\n",
    "            return {}\n",
    "        \n",
    "        #do it afterwards so that crazy weapons don't destroy the model\n",
    "        self.__add_received_dismantled_weapon(encoded_json_input[0])\n",
    "        \n",
    "        result, _ = self._train_data.decode_processed_tensor(generated_weapon[0])\n",
    "        return result\n",
    "        \n",
    "    def onBeginTraining(self):\n",
    "        with tf.Session() as sess:\n",
    "\n",
    "            #add the dismantled weapons so that the model emerges in a direction\n",
    "            if len(self._dismantled_weapons) > 0:\n",
    "                self._train_data.add_new_weapons_and_restandardize_data(self._dismantled_weapons)\n",
    "                self._dismantled_weapons = []\n",
    "                self._num_training_epochs += 10\n",
    "\n",
    "            network = vae.get_untrained(sess, self._network_architecture, self._optimizer, \n",
    "                                      self._transfer_fct, self._batch_size)\n",
    "\n",
    "            num_samples = self._train_data.num_examples\n",
    "            print(\"Num of training samples = %i\" %num_samples)\n",
    "            \n",
    "            #is basically the same code from the VAE file\n",
    "            #training cycle\n",
    "            for epoch in range(self._num_training_epochs):\n",
    "                avg_cost = 0.\n",
    "                total_batch = int(num_samples / self._batch_size)\n",
    "\n",
    "                # Loop over all batches\n",
    "                for _ in range(total_batch):\n",
    "                    batch = self._train_data.next_batch(self._batch_size)\n",
    "\n",
    "                    # Fit training using batch data\n",
    "                    cost = network.train_with_mini_batch(batch)\n",
    "\n",
    "                    #compute average loss/cost\n",
    "                    avg_cost += cost / num_samples * self._batch_size\n",
    "\n",
    "                # Display logs per epoch step\n",
    "                if epoch % 10 == 0:\n",
    "                    print(\"Epoch:\"+ '%04d' % (epoch) + \" - Cost:\" + \"{:.2f}\".format(avg_cost))\n",
    "\n",
    "                if self.shouldStop:\n",
    "                    break;\n",
    "\n",
    "            self._trained_model_path = network.save_trained_model(self.trained_model_save_folder)\n",
    "            self._trained_model_available = True\n",
    "        \n",
    "        \n",
    "    def onStopTraining(self):\n",
    "        if self._sess:\n",
    "            self._sess.close()\n",
    "        \n",
    "    def __load_trained_model(self):\n",
    "        if self._sess:\n",
    "            self._sess.close()\n",
    "        tf.reset_default_graph()\n",
    "    \n",
    "        self._sess = tf.Session(graph=tf.get_default_graph())\n",
    "        self._vae = vae.get_untrained(self._sess, self._network_architecture, self._optimizer, \n",
    "                                  self._transfer_fct, self._batch_size)\n",
    "        self._vae = vae.restore(self._vae, self._trained_model_path)\n",
    "        self._trained_model_available = False\n",
    "        \n",
    "    def __encode_json_input_to_a_standardized_train_data_format(self, json_input):\n",
    "        prepared_for_encoding = self._train_data.prepare_decoded_tensor_dict_for_encoding(json_input)\n",
    "        encoded, _ = self._train_data.encode_features_dict(prepared_for_encoding)\n",
    "        encoded_standardized = self._train_data.standardize_encoded_data(encoded[0])\n",
    "        return [encoded_standardized]\n",
    "    \n",
    "    def __add_received_dismantled_weapon(self, weapon):\n",
    "        self._dismantled_weapons.append(weapon)\n",
    "        \n",
    "        if len(self._dismantled_weapons) >= self._dismantled_weapons_needed_to_retrain:\n",
    "            self.shouldRetrain = True\n",
    "            print(\"Should retrain!\")\n",
    "    \n",
    "    def __generate_random_weapons(self, num):\n",
    "        generated_weapons = []\n",
    "        \n",
    "        for _ in range(num):\n",
    "            random_val = np.random.normal(size=(1, self._network_architecture[\"n_z\"]))\n",
    "            weapons = self._vae.decode_from_latent_space(random_val, False)\n",
    "            [generated_weapons.append(weapon) for weapon in weapons]\n",
    "            \n",
    "        return generated_weapons\n",
    "    \n",
    "    def __print_decoded_tensors_as_dict(self, array_of_tensors):\n",
    "        genDict = {}\n",
    "\n",
    "        for tensor in array_of_tensors:\n",
    "            decoded, _ = weapon_data.decode_processed_tensor(tensor)\n",
    "\n",
    "            for key, value in decoded.items():\n",
    "                if key not in genDict:\n",
    "                    genDict[key] = []\n",
    "                genDict[key].append(value)\n",
    "\n",
    "        for key, value in genDict.items():\n",
    "                print(key, \"=\", value)\n",
    "                \n",
    "    def show_z_distribution(self, title, z_mean=True):\n",
    "        all_z = np.zeros((self._batch_size,self._network_architecture['n_z']))\n",
    "\n",
    "        total_batch = int(self._train_data.num_examples / self._batch_size) \n",
    "\n",
    "        # Loop over all batches\n",
    "        for i in range(total_batch):\n",
    "            batch = self._train_data.next_batch(self._batch_size)\n",
    "            z_dist = self._vae.calculate_z(batch)\n",
    "            if z_mean:\n",
    "                z_dist = self._vae.calculate_z_mean(batch)\n",
    "            all_z = np.vstack((all_z, z_dist))\n",
    "\n",
    "        plt.figure(figsize=(15,5))\n",
    "        plt.subplot(1,2,1)\n",
    "        plt.scatter(all_z[:,0], all_z[:,1])\n",
    "        plt.xlim(-3,3)\n",
    "        plt.ylim(-3,3)\n",
    "        plt.title(title)\n",
    "        plt.subplot(1,2,2)\n",
    "        plt.hist2d(all_z[:,0], all_z[:,1], (50, 50), cmap=plt.cm.jet)\n",
    "        plt.colorbar()\n",
    "        plt.title(title)\n"
   ]
  },
  {
   "cell_type": "code",
   "execution_count": 2,
   "metadata": {},
   "outputs": [
    {
     "name": "stdout",
     "output_type": "stream",
     "text": [
      "Num of training samples = 127\n",
      "Epoch:0000 - Cost:23.75\n",
      "Epoch:0010 - Cost:11.71\n",
      "Epoch:0020 - Cost:11.94\n",
      "Epoch:0030 - Cost:10.40\n",
      "Epoch:0040 - Cost:9.81\n",
      "Epoch:0050 - Cost:9.30\n",
      "Epoch:0060 - Cost:10.11\n",
      "Epoch:0070 - Cost:9.21\n",
      "Epoch:0080 - Cost:9.13\n",
      "Epoch:0090 - Cost:9.26\n",
      "INFO:tensorflow:Restoring parameters from trained_vae/model.ckpt\n",
      "ERROR: empty input!\n"
     ]
    },
    {
     "data": {
      "image/png": "[encoded data removed]",
      "text/plain": [
       "<matplotlib.figure.Figure at 0x1d453a45630>"
      ]
     },
     "metadata": {},
     "output_type": "display_data"
    }
   ],
   "source": [
    "pluginTest = tfPlugin()\n",
    "pluginTest.onSetup()\n",
    "pluginTest.onBeginTraining()\n",
    "pluginTest.onJsonInput({})\n",
    "pluginTest.show_z_distribution(\"Trained Latent Space - Z Mean\", z_mean=True)"
   ]
  },
  {
   "cell_type": "code",
   "execution_count": 3,
   "metadata": {},
   "outputs": [],
   "source": [
    "json_test = {'damages_first': '26.5',\n",
    " 'damages_last': '6.25',\n",
    " 'distances_first': '14.0',\n",
    " 'distances_last': '21.0',\n",
    " 'firemode_Automatic': '0.0',\n",
    " 'firemode_Semi-Automatic': '0.0',\n",
    " 'firemode_Single-Action': '1.0',\n",
    " 'hiprecoildec': '6.0',\n",
    " 'hiprecoilright': '1.2000000476837158',\n",
    " 'hiprecoilup': '11.0',\n",
    " 'hipstandbasespreaddec': '4.5',\n",
    " 'hipstandbasespreadinc': '0.30000001192092896',\n",
    " 'hordispersion': '2.700000047683716',\n",
    " 'initialspeed': '333.0',\n",
    " 'magsize': '2.0',\n",
    " 'reloadempty': '5.333333492279053',\n",
    " 'rof': '299.0',\n",
    " 'shotspershell': '12.0',\n",
    " 'type_Pistol': '0.0',\n",
    " 'type_Rifle': '-2.7755575615628914e-17',\n",
    " 'type_Shotgun': '1.0',\n",
    " 'type_Sniper Rifle': '0.0',\n",
    " 'type_Submachine Gun': '0.0',\n",
    " 'type_Light Machine Gun' : '0.0'}\n",
    "\n",
    "def input_and_train():\n",
    "    global pluginTest, json_test\n",
    "    for _ in range(pluginTest._dismantled_weapons_needed_to_retrain):\n",
    "        for key, value in json_test.items():\n",
    "            if \"type\" not in key or \"firemode\" not in key:\n",
    "                new_value = float(value) * np.random.uniform(low=0.8, high=5.2)\n",
    "                json_test[key] = str(new_value)\n",
    "        print(pluginTest.onJsonInput(json_test))\n",
    "    pluginTest.onBeginTraining()\n",
    "    pluginTest.show_z_distribution(\"Trained Latent Space - Z Mean\", z_mean=True)"
   ]
  },
  {
   "cell_type": "code",
   "execution_count": 4,
   "metadata": {},
   "outputs": [
    {
     "name": "stdout",
     "output_type": "stream",
     "text": [
      "Generated a random weapon!\n",
      "{'damages_first': '29.55777428548353', 'damages_last': '17.47941108843834', 'distances_first': '6.44869382737839', 'distances_last': '37.847102444089955', 'firemode_Automatic': '0.054106170144004206', 'firemode_Semi': '0.08005128013694457', 'firemode_Single': '0.0010753324119737173', 'hiprecoildec': '3.705219653890154', 'hiprecoilright': '0.34833378346974886', 'hiprecoilup': '0.9839188977420021', 'hipstandbasespreaddec': '3.8431367916599113', 'hipstandbasespreadinc': '0.11862893516282716', 'initialspeed': '451.50138288039915', 'magsize': '1.5840650223584234', 'reloadempty': '3.053451171995505', 'rof': '180.73714904565682', 'shotspershell': '0.05371042733514053', 'type_Shotgun': '-0.08522420665603542', 'type_Pistol': '-0.04318091309956493', 'type_Rifle': '-0.02955305932379479', 'type_SMG': '-0.08017625655881584', 'type_Sniper': '-0.0295530593237949', 'type_MG': '-0.07788886887540994'}\n",
      "Generated a random weapon!\n",
      "{'damages_first': '79.13160267502508', 'damages_last': '65.57440492189359', 'distances_first': '34.74660604367935', 'distances_last': '120.99601542346794', 'firemode_Automatic': '0.9865041417685128', 'firemode_Semi': '1.030152990643105', 'firemode_Single': '0.8765908975484991', 'hiprecoildec': '9.253902451692477', 'hiprecoilright': '1.1236289334830407', 'hiprecoilup': '6.436311926703033', 'hipstandbasespreaddec': '13.85612073962651', 'hipstandbasespreadinc': '0.887608637700887', 'initialspeed': '857.3561686273403', 'magsize': '71.66923537763972', 'reloadempty': '5.488448669162052', 'rof': '620.9224695853229', 'shotspershell': '5.582997989436384', 'type_Shotgun': '0.48793527182255964', 'type_Pistol': '0.7474673050374371', 'type_Rifle': '0.7929697921458776', 'type_SMG': '0.5522218726341624', 'type_Sniper': '0.7929697921458778', 'type_MG': '0.5723267782283761'}\n",
      "Generated a random weapon!\n",
      "{'damages_first': '42.76700960837064', 'damages_last': '30.294602330213444', 'distances_first': '13.98883736187248', 'distances_last': '60.002614617900164', 'firemode_Automatic': '0.3025490405431175', 'firemode_Semi': '0.33321141487854755', 'firemode_Single': '0.23436155428421215', 'hiprecoildec': '5.18369850430892', 'hiprecoilright': '0.5549156919870092', 'hiprecoilup': '2.436740778402116', 'hipstandbasespreaddec': '6.511154686378032', 'hipstandbasespreadinc': '0.32352805591525813', 'initialspeed': '559.6437544907845', 'magsize': '20.258666882699107', 'reloadempty': '3.7022704380399185', 'rof': '298.027091613732', 'shotspershell': '1.5270213042315608', 'type_Shotgun': '0.06749747481822098', 'type_Pistol': '0.16749190984497797', 'type_Rifle': '0.18961294532972442', 'type_SMG': '0.08832990844065654', 'type_Sniper': '0.1896129453297244', 'type_MG': '0.09536487755158977'}\n",
      "Generated a random weapon!\n",
      "{'damages_first': '77.41022696454124', 'damages_last': '63.904379489719254', 'distances_first': '33.764004127930974', 'distances_last': '118.10879602150558', 'firemode_Automatic': '0.954128041858556', 'firemode_Semi': '0.9971621553559218', 'firemode_Single': '0.846189952595567', 'hiprecoildec': '9.061232889877246', 'hiprecoilright': '1.0967079898512118', 'hiprecoilup': '6.246985880501505', 'hipstandbasespreaddec': '13.508435117647583', 'hipstandbasespreadinc': '0.860906988366833', 'initialspeed': '843.263479140486', 'magsize': '69.23563454764702', 'reloadempty': '5.403897088562403', 'rof': '605.6377045489315', 'shotspershell': '5.3910018976499865', 'type_Shotgun': '0.4680331816161315', 'type_Pistol': '0.7200132494913558', 'type_Rifle': '0.7644089384891422', 'type_SMG': '0.530262810477529', 'type_Sniper': '0.7644089384891424', 'type_MG': '0.5497490298909666'}\n",
      "Generated a random weapon!\n",
      "{'damages_first': '36.634288761484775', 'damages_last': '24.344826392079447', 'distances_first': '10.488135442936823', 'distances_last': '49.716358974748985', 'firemode_Automatic': '0.18720316825656114', 'firemode_Semi': '0.2156754335761171', 'firemode_Single': '0.1260525385694086', 'hiprecoildec': '4.49727738711277', 'hiprecoilright': '0.4590048276572513', 'hiprecoilup': '1.7622315568956566', 'hipstandbasespreaddec': '5.272460048661024', 'hipstandbasespreadinc': '0.22839846827215085', 'initialspeed': '509.4359293899949', 'magsize': '11.588511696821685', 'reloadempty': '3.401039720177132', 'rof': '243.5722758477529', 'shotspershell': '0.842999549162129', 'type_Shotgun': '-0.00340741989024311', 'type_Pistol': '0.06968173525404606', 'type_Rifle': '0.08785959679648406', 'type_SMG': '0.010096668918417054', 'type_Sniper': '0.087859596796484', 'type_MG': '0.014927453541665553'}\n",
      "Generated a random weapon!\n",
      "{'damages_first': '54.62506472063107', 'damages_last': '41.798920355029445', 'distances_first': '20.75769531623608', 'distances_last': '79.89182682250006', 'firemode_Automatic': '0.5255785481132006', 'firemode_Semi': '0.5604756551326207', 'firemode_Single': '0.4437847955447357', 'hiprecoildec': '6.510942910364762', 'hiprecoilright': '0.7403662193274669', 'hiprecoilup': '3.740952680760751', 'hipstandbasespreaddec': '8.906259509837986', 'hipstandbasespreadinc': '0.5074679288105634', 'initialspeed': '656.7241812664819', 'magsize': '37.02303307396175', 'reloadempty': '4.284721611524609', 'rof': '403.3193790996139', 'shotspershell': '2.8496263717224766', 'type_Shotgun': '0.20459716844098497', 'type_Pistol': '0.3566148896440731', 'type_Rifle': '0.38636033443955253', 'type_SMG': '0.23959948177146617', 'type_Sniper': '0.38636033443955264', 'type_MG': '0.2508963994995173'}\n",
      "Generated a random weapon!\n",
      "{'damages_first': '29.498339127866206', 'damages_last': '17.421748938228077', 'distances_first': '6.4147668355067715', 'distances_last': '37.74741337610421', 'firemode_Automatic': '0.05298829762526075', 'firemode_Semi': '0.07891218221469626', 'firemode_Single': '2.5657466528383743e-05', 'hiprecoildec': '3.698567215549817', 'hiprecoilright': '0.3474042649932072', 'hiprecoilup': '0.9773819033319384', 'hipstandbasespreaddec': '3.831132004083476', 'hipstandbasespreadinc': '0.1177069884157304', 'initialspeed': '451.01479461509376', 'magsize': '1.500038363897204', 'reloadempty': '3.0505317997230095', 'rof': '180.2094011440518', 'shotspershell': '0.047081242371198595', 'type_Shotgun': '-0.08591138021212139', 'type_Pistol': '-0.04412883870852882', 'type_Rifle': '-0.030539200134563044', 'type_SMG': '-0.08093445264143699', 'type_Sniper': '-0.030539200134563155', 'type_MG': '-0.07866842677372662'}\n",
      "Generated a random weapon!\n",
      "{'damages_first': '24.985673439368288', 'damages_last': '13.043700368823256', 'distances_first': '3.838830667914605', 'distances_last': '30.178434767280486', 'firemode_Automatic': '-0.03188713909736768', 'firemode_Semi': '-0.007574811605794152', 'firemode_Single': '-0.07967181958712949', 'hiprecoildec': '3.1934750874767777', 'hiprecoilright': '0.2768297716449805', 'hiprecoilup': '0.4810549553976835', 'hipstandbasespreaddec': '2.91965813633188', 'hipstandbasespreadinc': '0.047707385166873284', 'initialspeed': '414.07016020515016', 'magsize': '-4.879758270924167', 'reloadempty': '2.828875937869904', 'rof': '140.13968578999464', 'shotspershell': '-0.4562453530102588', 'type_Shotgun': '-0.13808562611146327', 'type_Pistol': '-0.11610090948794802', 'type_Rifle': '-0.10541279312532995', 'type_SMG': '-0.1385011452247656', 'type_Sniper': '-0.10541279312533006', 'type_MG': '-0.13785703366834257'}\n",
      "Generated a random weapon!\n",
      "{'damages_first': '30.604372309874783', 'damages_last': '18.494788096114085', 'distances_first': '7.046116701142681', 'distances_last': '39.60253451140344', 'firemode_Automatic': '0.0737908688398688', 'firemode_Semi': '0.10010973851084493', 'firemode_Single': '0.019559135066783195', 'hiprecoildec': '3.822362925709338', 'hiprecoilright': '0.3647017421020342', 'hiprecoilup': '1.0990293089750214', 'hipstandbasespreaddec': '4.054529971461495', 'hipstandbasespreadinc': '0.13486356265919974', 'initialspeed': '460.0697511253277', 'magsize': '3.063696578279096', 'reloadempty': '3.104858611217403', 'rof': '190.03030032747384', 'shotspershell': '0.17044422875377663', 'type_Shotgun': '-0.07312371739942253', 'type_Pistol': '-0.026488821930240908', 'type_Rifle': '-0.01218803387931186', 'type_SMG': '-0.06682512645360637', 'type_Sniper': '-0.012188033879311944', 'type_MG': '-0.06416157699995195'}\n"
     ]
    },
    {
     "name": "stdout",
     "output_type": "stream",
     "text": [
      "Generated a random weapon!\n",
      "{'damages_first': '62.9032953822324', 'damages_last': '49.830203504943086', 'distances_first': '25.483104915985813', 'distances_last': '93.77669114034083', 'firemode_Automatic': '0.6812777492494448', 'firemode_Semi': '0.7191311668625006', 'firemode_Single': '0.5899853217391465', 'hiprecoildec': '7.437505928805304', 'hiprecoilright': '0.8698311465103923', 'hiprecoilup': '4.651436470650353', 'hipstandbasespreaddec': '10.57830690712284', 'hipstandbasespreadinc': '0.6358782525337683', 'initialspeed': '724.4970291717843', 'magsize': '48.72641013815962', 'reloadempty': '4.691336787249451', 'rof': '476.82501172182685', 'shotspershell': '3.772950620027937', 'type_Shotgun': '0.30030787957359373', 'type_Pistol': '0.48864359379198596', 'type_Rifle': '0.5237117174192959', 'type_SMG': '0.3452023321764809', 'type_Sniper': '0.523711717419296', 'type_MG': '0.35947456022198165'}\n",
      "Generated a random weapon!\n",
      "{'damages_first': '42.95274522991013', 'damages_last': '30.47479728111377', 'distances_first': '14.09485964186394', 'distances_last': '60.31414421999593', 'firemode_Automatic': '0.30604240634535135', 'firemode_Semi': '0.33677111033599627', 'firemode_Single': '0.23764180180474528', 'hiprecoildec': '5.204487458514294', 'hiprecoilright': '0.5578204490179318', 'hiprecoilup': '2.45716896886088', 'hipstandbasespreaddec': '6.5486697998453', 'hipstandbasespreadinc': '0.32640915119561154', 'initialspeed': '561.1643489926485', 'magsize': '20.521251256339802', 'reloadempty': '3.711393513426179', 'rof': '299.6763105011771', 'shotspershell': '1.5477375913407099', 'type_Shotgun': '0.06964490089836874', 'type_Pistol': '0.17045418939823', 'type_Rifle': '0.19269464787340734', 'type_SMG': '0.0906992808172077', 'type_Sniper': '0.19269464787340734', 'type_MG': '0.09780100587318215'}\n",
      "Generated a random weapon!\n",
      "{'damages_first': '64.8966305945676', 'damages_last': '51.76407562778877', 'distances_first': '26.62094773928132', 'distances_last': '97.12006125101308', 'firemode_Automatic': '0.7187689370218451', 'firemode_Semi': '0.7573342118234456', 'firemode_Single': '0.6251893005648441', 'hiprecoildec': '7.660615282313925', 'hiprecoilright': '0.9010053199135548', 'hiprecoilup': '4.870674067769478', 'hipstandbasespreaddec': '10.980923249907447', 'hipstandbasespreadinc': '0.66679848541543', 'initialspeed': '740.8162173766398', 'magsize': '51.54449464908204', 'reloadempty': '4.7892466403055876', 'rof': '494.5246110444783', 'shotspershell': '3.9952801022308617', 'type_Shotgun': '0.3233542935353625', 'type_Pistol': '0.5204351052604659', 'type_Rifle': '0.5567848896161549', 'type_SMG': '0.3706306983141506', 'type_Sniper': '0.556784889616155', 'type_MG': '0.385619358537714'}\n",
      "Generated a random weapon!\n",
      "{'damages_first': '17.918987916463653', 'damages_last': '6.187820811238634', 'distances_first': '-0.19500034904893226', 'distances_last': '18.325664087972022', 'firemode_Automatic': '-0.16479927160183688', 'firemode_Semi': '-0.14301058933437616', 'firemode_Single': '-0.20447543815400232', 'hiprecoildec': '2.402517486011972', 'hiprecoilright': '0.16631244444712895', 'hiprecoilup': '-0.296176663273787', 'hipstandbasespreaddec': '1.4923201435877127', 'hipstandbasespreadinc': '-0.06190968311021883', 'initialspeed': '356.2160821157417', 'magsize': '-14.870309229148269', 'reloadempty': '2.481770174193075', 'rof': '77.39183408869167', 'shotspershell': '-1.2444381885533136', 'type_Shotgun': '-0.21978877312390477', 'type_Pistol': '-0.2288067968145324', 'type_Rifle': '-0.22266236846708878', 'type_SMG': '-0.228648685760949', 'type_Sniper': '-0.22266236846708895', 'type_MG': '-0.2305444384830121'}\n",
      "Generated a random weapon!\n",
      "{'damages_first': '26.142145225730246', 'damages_last': '14.165673499415231', 'distances_first': '4.498972080313642', 'distances_last': '32.11815528213995', 'firemode_Automatic': '-0.010135904970927978', 'firemode_Semi': '0.014589420168696243', 'firemode_Single': '-0.059247553749820436', 'hiprecoildec': '3.3229162727874537', 'hiprecoilright': '0.2949160683103958', 'hiprecoilup': '0.6082498667247318', 'hipstandbasespreaddec': '3.15324375619015', 'hipstandbasespreadinc': '0.06564635335150293', 'initialspeed': '423.5380513147126', 'magsize': '-3.244792306194409', 'reloadempty': '2.885680223453972', 'rof': '150.40844897638218', 'shotspershell': '-0.32725662504667064', 'type_Shotgun': '-0.12471480550955338', 'type_Pistol': '-0.09765645226289946', 'type_Rifle': '-0.08622475576238667', 'type_SMG': '-0.12374838922591573', 'type_Sniper': '-0.08622475576238678', 'type_MG': '-0.12268862575322478'}\n",
      "Generated a random weapon!\n",
      "{'damages_first': '89.43999696365965', 'damages_last': '75.57528998263462', 'distances_first': '40.630880995749415', 'distances_last': '138.28602120893234', 'firemode_Automatic': '1.1803872094610668', 'firemode_Semi': '1.2277173782317359', 'firemode_Single': '1.0586458233925566', 'hiprecoildec': '10.407696942060651', 'hiprecoilright': '1.2848440011111273', 'hiprecoilup': '7.570083898427338', 'hipstandbasespreaddec': '15.938223129023253', 'hipstandbasespreadinc': '1.0475104695995825', 'initialspeed': '941.7497144018159', 'magsize': '86.24276325068129', 'reloadempty': '5.994782658447548', 'rof': '712.4547153609822', 'shotspershell': '6.732759429636298', 'type_Shotgun': '0.6071181972968405', 'type_Pistol': '0.9118748934955845', 'type_Rifle': '0.9640053998406458', 'type_SMG': '0.6837228979713822', 'type_Sniper': '0.9640053998406461', 'type_MG': '0.7075327827014852'}\n",
      "Generated a random weapon!\n",
      "{'damages_first': '24.419409325664752', 'damages_last': '12.494328453411047', 'distances_first': '3.5155937362233516', 'distances_last': '29.228654469021073', 'firemode_Automatic': '-0.0425375876944003', 'firemode_Semi': '-0.01842748368107583', 'firemode_Single': '-0.08967252079644494', 'hiprecoildec': '3.1300944681300082', 'hiprecoilright': '0.2679738523980106', 'hiprecoilup': '0.41877421964641126', 'hipstandbasespreaddec': '2.805283401415922', 'hipstandbasespreadinc': '0.03892360501795927', 'initialspeed': '409.4342261244203', 'magsize': '-5.680316108885442', 'reloadempty': '2.801061832233991', 'rof': '135.1116062871962', 'shotspershell': '-0.5194044275155032', 'type_Shotgun': '-0.14463262186779535', 'type_Pistol': '-0.12513220134171746', 'type_Rifle': '-0.11480817751703934', 'type_SMG': '-0.14572480290400153', 'type_Sniper': '-0.1148081775170395', 'type_MG': '-0.1452842144829894'}\n",
      "Generated a random weapon!\n",
      "{'damages_first': '89.07863289427353', 'damages_last': '75.2247057479011', 'distances_first': '40.42460584924951', 'distances_last': '137.6799145083734', 'firemode_Automatic': '1.1735905763129058', 'firemode_Semi': '1.2207916952334128', 'firemode_Single': '1.0522638295521258', 'hiprecoildec': '10.367250305989074', 'hiprecoilright': '1.2791925551872287', 'hiprecoilup': '7.530339158171337', 'hipstandbasespreaddec': '15.865234361690156', 'hipstandbasespreadinc': '1.0419050595755484', 'initialspeed': '938.7912715757966', 'magsize': '85.7318835549637', 'reloadempty': '5.977032957988529', 'rof': '709.2460231158659', 'shotspershell': '6.692454173432431', 'type_Shotgun': '0.6029402016027667', 'type_Pistol': '0.9061115327296213', 'type_Rifle': '0.9580096917336467', 'type_SMG': '0.6791130873341719', 'type_Sniper': '0.958009691733647', 'type_MG': '0.70279309283187'}\n",
      "Generated a random weapon!\n",
      "{'damages_first': '78.6935070239624', 'damages_last': '65.14937808170772', 'distances_first': '34.49653069790011', 'distances_last': '120.26120880573777', 'firemode_Automatic': '0.9782643202800732', 'firemode_Semi': '1.021756717025315', 'firemode_Single': '0.8688537593450489', 'hiprecoildec': '9.20486742894333', 'hiprecoilright': '1.116777466801027', 'hiprecoilup': '6.388127839424104', 'hipstandbasespreaddec': '13.767633631322202', 'hipstandbasespreadinc': '0.8808129821224999', 'initialspeed': '853.7695338570423', 'magsize': '71.04987614446996', 'reloadempty': '5.466930020138726', 'rof': '617.0324477561687', 'shotspershell': '5.534134366974203', 'type_Shotgun': '0.48287012589689615', 'type_Pistol': '0.7404801596597491', 'type_Rifle': '0.7857009630916229', 'type_SMG': '0.5466332207357735', 'type_Sniper': '0.7857009630916231', 'type_MG': '0.5665806687084349'}\n",
      "Generated a random weapon!\n",
      "{'damages_first': '93.4189586420536', 'damages_last': '79.43555544129916', 'distances_first': '42.902166307879384', 'distances_last': '144.95983174753613', 'firemode_Automatic': '1.2552245968210642', 'firemode_Semi': '1.3039757270317267', 'firemode_Single': '1.128917638091673', 'hiprecoildec': '10.85305282711626', 'hiprecoilright': '1.3470717892719946', 'hiprecoilup': '8.007711243794015', 'hipstandbasespreaddec': '16.74189879236456', 'hipstandbasespreadinc': '1.1092313587715639', 'initialspeed': '974.3249802616652', 'magsize': '91.86803400596972', 'reloadempty': '6.190223721664987', 'rof': '747.7854650472095', 'shotspershell': '7.176558588045911', 'type_Shotgun': '0.6531218987369276', 'type_Pistol': '0.9753349703800496', 'type_Rifle': '1.030023841666123', 'type_SMG': '0.7344812921340113', 'type_Sniper': '1.0300238416661234', 'type_MG': '0.7597212705904678'}\n"
     ]
    },
    {
     "name": "stdout",
     "output_type": "stream",
     "text": [
      "Generated a random weapon!\n",
      "Should retrain!\n",
      "{'damages_first': '35.27530857235361', 'damages_last': '23.02638587740982', 'distances_first': '9.712397450834548', 'distances_last': '47.43697630131793', 'firemode_Automatic': '0.1616431013223095', 'firemode_Semi': '0.18963004946553877', 'firemode_Single': '0.1020518037674234', 'hiprecoildec': '4.345169909378066', 'hiprecoilright': '0.4377514610356851', 'hiprecoilup': '1.6127636955174522', 'hipstandbasespreaddec': '4.997971527975265', 'hipstandbasespreadinc': '0.20731822864688795', 'initialspeed': '498.31012709850745', 'magsize': '9.667248781311143', 'reloadempty': '3.33428850352243', 'rof': '231.50536172001617', 'shotspershell': '0.6914237580438829', 'type_Shotgun': '-0.0191195890280514', 'type_Pistol': '0.048007491002078656', 'type_Rifle': '0.06531156497066737', 'type_SMG': '-0.0072394246845167015', 'type_Sniper': '0.06531156497066729', 'type_MG': '-0.002897076291571238'}\n",
      "Num of training samples = 147\n",
      "Epoch:0000 - Cost:25.95\n",
      "Epoch:0010 - Cost:19.31\n",
      "Epoch:0020 - Cost:11.01\n",
      "Epoch:0030 - Cost:6.48\n",
      "Epoch:0040 - Cost:10.69\n",
      "Epoch:0050 - Cost:7.66\n",
      "Epoch:0060 - Cost:7.05\n",
      "Epoch:0070 - Cost:13.34\n",
      "Epoch:0080 - Cost:7.23\n",
      "Epoch:0090 - Cost:14.72\n",
      "Epoch:0100 - Cost:6.43\n"
     ]
    },
    {
     "data": {
      "image/png": "[encoded data removed]",
      "text/plain": [
       "<matplotlib.figure.Figure at 0x1d464e4ceb8>"
      ]
     },
     "metadata": {},
     "output_type": "display_data"
    }
   ],
   "source": [
    "input_and_train()"
   ]
  },
  {
   "cell_type": "code",
   "execution_count": null,
   "metadata": {},
   "outputs": [],
   "source": [
    "input_and_train()"
   ]
  },
  {
   "cell_type": "code",
   "execution_count": null,
   "metadata": {},
   "outputs": [],
   "source": [
    "input_and_train()"
   ]
  },
  {
   "cell_type": "code",
   "execution_count": null,
   "metadata": {},
   "outputs": [],
   "source": [
    "input_and_train()"
   ]
  },
  {
   "cell_type": "code",
   "execution_count": null,
   "metadata": {},
   "outputs": [],
   "source": [
    "input_and_train()"
   ]
  },
  {
   "cell_type": "code",
   "execution_count": null,
   "metadata": {},
   "outputs": [],
   "source": [
    "input_and_train()"
   ]
  },
  {
   "cell_type": "code",
   "execution_count": null,
   "metadata": {},
   "outputs": [],
   "source": [
    "input_and_train()"
   ]
  },
  {
   "cell_type": "code",
   "execution_count": null,
   "metadata": {},
   "outputs": [],
   "source": [
    "input_and_train()"
   ]
  },
  {
   "cell_type": "code",
   "execution_count": null,
   "metadata": {},
   "outputs": [],
   "source": [
    "input_and_train()"
   ]
  },
  {
   "cell_type": "code",
   "execution_count": null,
   "metadata": {},
   "outputs": [],
   "source": [
    "input_and_train()"
   ]
  },
  {
   "cell_type": "code",
   "execution_count": null,
   "metadata": {},
   "outputs": [],
   "source": [
    "pluginTest.onJsonInput(json_test)"
   ]
  },
  {
   "cell_type": "code",
   "execution_count": null,
   "metadata": {},
   "outputs": [],
   "source": []
  }
 ],
 "metadata": {
  "kernelspec": {
   "display_name": "Python 3",
   "language": "python",
   "name": "python3"
  },
  "language_info": {
   "codemirror_mode": {
    "name": "ipython",
    "version": 3
   },
   "file_extension": ".py",
   "mimetype": "text/x-python",
   "name": "python",
   "nbconvert_exporter": "python",
   "pygments_lexer": "ipython3",
   "version": "3.6.4"
  }
 },
 "nbformat": 4,
 "nbformat_minor": 2
}
