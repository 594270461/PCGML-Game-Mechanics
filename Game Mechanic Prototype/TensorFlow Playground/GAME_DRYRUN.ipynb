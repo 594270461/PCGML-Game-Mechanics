{
 "cells": [
  {
   "cell_type": "code",
   "execution_count": 1,
   "metadata": {},
   "outputs": [
    {
     "name": "stderr",
     "output_type": "stream",
     "text": [
      "D:\\z_outsourced_programs\\Anaconda3\\lib\\site-packages\\h5py\\__init__.py:36: FutureWarning: Conversion of the second argument of issubdtype from `float` to `np.floating` is deprecated. In future, it will be treated as `np.float64 == np.dtype(float).type`.\n",
      "  from ._conv import register_converters as _register_converters\n"
     ]
    }
   ],
   "source": [
    "from __future__ import absolute_import\n",
    "from __future__ import division\n",
    "from __future__ import print_function\n",
    "\n",
    "import numpy as np\n",
    "import tensorflow as tf\n",
    "import variational_autoencoder as vae\n",
    "import weapon_data as weapons\n",
    "\n",
    "from tensorflow.python.framework import random_seed\n",
    "\n",
    "import matplotlib.pyplot as plt\n",
    "%matplotlib inline\n",
    "\n",
    "class tfPlugin:\n",
    "    def __init__(self):\n",
    "        self._sess = None\n",
    "        self._vae = None\n",
    "        self.trained_model_save_folder = \"trained_vae/\"\n",
    "        self.training_data_source = \"training_data.csv\"\n",
    "        self.test_data_source = \"test_data.csv\"\n",
    "        \n",
    "    def onSetup(self):\n",
    "        self._random_seed = 19071991\n",
    "        seed, _ = random_seed.get_seed(self._random_seed)\n",
    "        np.random.seed(seed)\n",
    "        \n",
    "        self.shouldStop = False\n",
    "        \n",
    "        self._train_data, self._test_data = weapons.get_data(self.training_data_source, self.test_data_source, seed=self._random_seed)\n",
    "\n",
    "        #set training parameter\n",
    "        self._network_architecture = \\\n",
    "            dict(n_input=self._train_data.num_features,\n",
    "                 n_hidden_1=26,\n",
    "                 n_hidden_2=12,\n",
    "                 n_z=2)  \n",
    "        self._batch_size = 4\n",
    "        self._learning_rate = 0.01\n",
    "        self._optimizer = tf.train.RMSPropOptimizer(self._learning_rate)\n",
    "        self._transfer_fct = tf.nn.elu\n",
    "        self._num_training_epochs = 100\n",
    "        \n",
    "        #keep track of the received and dismantled weapons \n",
    "        self._dismantled_weapons = []\n",
    "        \n",
    "        #amount of dismantles models needed to retrain the model\n",
    "        self._dismantled_weapons_needed_to_retrain = 20\n",
    "        \n",
    "        #start session is realized in on begin training and will be swaped with the tmp afterwards\n",
    "        self._sess = None\n",
    "        self._vae = None\n",
    "        \n",
    "        self._trained_model_available = False\n",
    "        self._trained_model_path = \"\"\n",
    "        \n",
    "    def onJsonInput(self, jsonInput):\n",
    "        if self._trained_model_available:\n",
    "            self.__load_trained_model()\n",
    "            \n",
    "        if self._vae == None:\n",
    "            print(\"ERROR: there is no trained model?!\")\n",
    "            return {}\n",
    "        \n",
    "        if not bool(jsonInput):\n",
    "            print(\"ERROR: empty input!\")\n",
    "            return {}\n",
    "        \n",
    "        generated_weapon = []\n",
    "        \n",
    "        #encode the json input to a standardized weapon data\n",
    "        encoded_json_input = self.__encode_json_input_to_a_standardized_train_data_format(jsonInput)\n",
    "        #check if the encoded data should be used to generate a new one \n",
    "        #calculate loss requires a batch which has the size of the trained model batch_size\n",
    "        batch = [encoded_json_input[0] for _ in range(self._batch_size)]\n",
    "        generation_cost = self._vae.calculate_loss(batch)\n",
    "        generation_cost /= self._batch_size\n",
    "\n",
    "        #if the cost is too high, then just generate a random one\n",
    "        #a too high value means that the VAE don't know which weapon that should be!\n",
    "        if generation_cost >= 50 or np.isnan(generation_cost) or np.isinf(generation_cost):\n",
    "            generated_weapon = self.__generate_random_weapons(1)\n",
    "            print(\"Generated a random weapon!\")\n",
    "        else:\n",
    "            generated_weapon = self._vae.encode_and_decode(encoded_json_input, False)\n",
    "            print(\"Generated a new weapon based on a dismantled one!\")\n",
    "\n",
    "        if len(generated_weapon) <= 0:\n",
    "            print(\"ERROR: no generated weapon?!\")\n",
    "            return {}\n",
    "        \n",
    "        #do it afterwards so that crazy weapons don't destroy the model\n",
    "        self.__add_received_dismantled_weapon(encoded_json_input[0])\n",
    "        \n",
    "        result, _ = self._train_data.decode_processed_tensor(generated_weapon[0])\n",
    "        return result\n",
    "        \n",
    "    def onBeginTraining(self):\n",
    "        with tf.Session() as sess:\n",
    "\n",
    "            #add the dismantled weapons so that the model emerges in a direction\n",
    "            if len(self._dismantled_weapons) > 0:\n",
    "                self._train_data.add_new_weapons_and_restandardize_data(self._dismantled_weapons)\n",
    "                self._dismantled_weapons = []\n",
    "                self._num_training_epochs += 10\n",
    "\n",
    "            network = vae.get_untrained(sess, self._network_architecture, self._optimizer, \n",
    "                                      self._transfer_fct, self._batch_size)\n",
    "\n",
    "            num_samples = self._train_data.num_examples\n",
    "            print(\"Num of training samples = %i\" %num_samples)\n",
    "            \n",
    "            #is basically the same code from the VAE file\n",
    "            #training cycle\n",
    "            for epoch in range(self._num_training_epochs):\n",
    "                avg_cost = 0.\n",
    "                total_batch = int(num_samples / self._batch_size)\n",
    "\n",
    "                # Loop over all batches\n",
    "                for _ in range(total_batch):\n",
    "                    batch = self._train_data.next_batch(self._batch_size)\n",
    "\n",
    "                    # Fit training using batch data\n",
    "                    cost = network.train_with_mini_batch(batch)\n",
    "\n",
    "                    #compute average loss/cost\n",
    "                    avg_cost += cost / num_samples * self._batch_size\n",
    "\n",
    "                # Display logs per epoch step\n",
    "                if (epoch+1) % 10 == 0:\n",
    "                    print(\"Epoch:\"+ '%04d' % (epoch+1) + \" - Cost:\" + \"{:.2f}\".format(avg_cost))\n",
    "\n",
    "                if self.shouldStop:\n",
    "                    break;\n",
    "\n",
    "            self._trained_model_path = network.save_trained_model(self.trained_model_save_folder)\n",
    "            self._trained_model_available = True\n",
    "        \n",
    "        \n",
    "    def onStopTraining(self):\n",
    "        if self._sess:\n",
    "            self._sess.close()\n",
    "        \n",
    "    def __load_trained_model(self):\n",
    "        if self._sess:\n",
    "            self._sess.close()\n",
    "        tf.reset_default_graph()\n",
    "    \n",
    "        self._sess = tf.Session(graph=tf.get_default_graph())\n",
    "        self._vae = vae.get_untrained(self._sess, self._network_architecture, self._optimizer, \n",
    "                                  self._transfer_fct, self._batch_size)\n",
    "        self._vae = vae.restore(self._vae, self._trained_model_path)\n",
    "        self._trained_model_available = False\n",
    "        \n",
    "    def __encode_json_input_to_a_standardized_train_data_format(self, json_input):\n",
    "        prepared_for_encoding = self._train_data.prepare_decoded_tensor_dict_for_encoding(json_input)\n",
    "        encoded, _ = self._train_data.encode_features_dict(prepared_for_encoding)\n",
    "        encoded_standardized = self._train_data.standardize_encoded_data(encoded[0])\n",
    "        return [encoded_standardized]\n",
    "    \n",
    "    def __add_received_dismantled_weapon(self, weapon):\n",
    "        self._dismantled_weapons.append(weapon)\n",
    "        \n",
    "        if len(self._dismantled_weapons) >= self._dismantled_weapons_needed_to_retrain:\n",
    "            self.shouldRetrain = True\n",
    "            print(\"Should retrain!\")\n",
    "    \n",
    "    def __generate_random_weapons(self, num):\n",
    "        generated_weapons = []\n",
    "        \n",
    "        for _ in range(num):\n",
    "            random_val = np.random.normal(size=(1, self._network_architecture[\"n_z\"]))\n",
    "            weapons = self._vae.decode_from_latent_space(random_val, False)\n",
    "            [generated_weapons.append(weapon) for weapon in weapons]\n",
    "            \n",
    "        return generated_weapons\n",
    "    \n",
    "    def __print_decoded_tensors_as_dict(self, array_of_tensors):\n",
    "        genDict = {}\n",
    "\n",
    "        for tensor in array_of_tensors:\n",
    "            decoded, _ = weapon_data.decode_processed_tensor(tensor)\n",
    "\n",
    "            for key, value in decoded.items():\n",
    "                if key not in genDict:\n",
    "                    genDict[key] = []\n",
    "                genDict[key].append(value)\n",
    "\n",
    "        for key, value in genDict.items():\n",
    "                print(key, \"=\", value)\n",
    "                \n",
    "    def show_z_distribution(self, title, z_mean=True):\n",
    "        all_z = np.zeros((self._batch_size,self._network_architecture['n_z']))\n",
    "\n",
    "        total_batch = int(self._train_data.num_examples / self._batch_size) \n",
    "\n",
    "        # Loop over all batches\n",
    "        for i in range(total_batch):\n",
    "            batch = self._train_data.next_batch(self._batch_size)\n",
    "            z_dist = self._vae.calculate_z(batch)\n",
    "            if z_mean:\n",
    "                z_dist = self._vae.calculate_z_mean(batch)\n",
    "            all_z = np.vstack((all_z, z_dist))\n",
    "\n",
    "        plt.figure(figsize=(15,5))\n",
    "        plt.subplot(1,2,1)\n",
    "        plt.scatter(all_z[:,0], all_z[:,1])\n",
    "        plt.xlim(-3,3)\n",
    "        plt.ylim(-3,3)\n",
    "        plt.title(title)\n",
    "        plt.subplot(1,2,2)\n",
    "        plt.hist2d(all_z[:,0], all_z[:,1], (50, 50), cmap=plt.cm.jet)\n",
    "        plt.colorbar()\n",
    "        plt.title(title)\n"
   ]
  },
  {
   "cell_type": "code",
   "execution_count": 2,
   "metadata": {},
   "outputs": [
    {
     "name": "stdout",
     "output_type": "stream",
     "text": [
      "Num of training samples = 127\n",
      "Epoch:0010 - Cost:13.98\n",
      "Epoch:0020 - Cost:11.49\n",
      "Epoch:0030 - Cost:9.90\n",
      "Epoch:0040 - Cost:10.24\n",
      "Epoch:0050 - Cost:9.78\n",
      "Epoch:0060 - Cost:9.45\n",
      "Epoch:0070 - Cost:9.07\n",
      "Epoch:0080 - Cost:8.94\n",
      "Epoch:0090 - Cost:8.66\n",
      "Epoch:0100 - Cost:8.57\n",
      "INFO:tensorflow:Restoring parameters from trained_vae/model.ckpt\n",
      "ERROR: empty input!\n"
     ]
    },
    {
     "data": {
      "image/png": "[encoded data removed]",
      "text/plain": [
       "<matplotlib.figure.Figure at 0x25a80037208>"
      ]
     },
     "metadata": {},
     "output_type": "display_data"
    }
   ],
   "source": [
    "pluginTest = tfPlugin()\n",
    "pluginTest.onSetup()\n",
    "pluginTest.onBeginTraining()\n",
    "pluginTest.onJsonInput({})\n",
    "pluginTest.show_z_distribution(\"Trained Latent Space - Z Mean\", z_mean=True)"
   ]
  },
  {
   "cell_type": "code",
   "execution_count": 3,
   "metadata": {},
   "outputs": [],
   "source": [
    "json_test = {'damages_first': '26.5',\n",
    " 'damages_last': '6.25',\n",
    " 'distances_first': '14.0',\n",
    " 'distances_last': '21.0',\n",
    " 'firemode_Automatic': '0.0',\n",
    " 'firemode_Semi-Automatic': '0.0',\n",
    " 'firemode_Single-Action': '1.0',\n",
    " 'hiprecoildec': '6.0',\n",
    " 'hiprecoilright': '1.2000000476837158',\n",
    " 'hiprecoilup': '11.0',\n",
    " 'hipstandbasespreaddec': '4.5',\n",
    " 'hipstandbasespreadinc': '0.30000001192092896',\n",
    " 'hordispersion': '2.700000047683716',\n",
    " 'initialspeed': '333.0',\n",
    " 'magsize': '2.0',\n",
    " 'reloadempty': '5.333333492279053',\n",
    " 'rof': '299.0',\n",
    " 'shotspershell': '12.0',\n",
    " 'type_Pistol': '0.0',\n",
    " 'type_Rifle': '-2.7755575615628914e-17',\n",
    " 'type_Shotgun': '1.0',\n",
    " 'type_Sniper Rifle': '0.0',\n",
    " 'type_Submachine Gun': '0.0',\n",
    " 'type_Light Machine Gun' : '0.0'}\n",
    "\n",
    "def input_and_train():\n",
    "    global pluginTest, json_test\n",
    "    for _ in range(pluginTest._dismantled_weapons_needed_to_retrain):\n",
    "        for key, value in json_test.items():\n",
    "            if \"type\" not in key or \"firemode\" not in key:\n",
    "                new_value = float(value) * np.random.uniform(low=0.8, high=5.2)\n",
    "                json_test[key] = str(new_value)\n",
    "        print(pluginTest.onJsonInput(json_test))\n",
    "    pluginTest.onBeginTraining()\n",
    "    pluginTest.show_z_distribution(\"Trained Latent Space - Z Mean\", z_mean=True)"
   ]
  },
  {
   "cell_type": "code",
   "execution_count": 4,
   "metadata": {},
   "outputs": [
    {
     "name": "stdout",
     "output_type": "stream",
     "text": [
      "Generated a random weapon!\n",
      "{'damages_first': '31.98237404155897', 'damages_last': '19.831682722590493', 'distances_first': '7.832712639037531', 'distances_last': '41.913821531096545', 'firemode_Automatic': '0.0997086980908462', 'firemode_Semi': '0.1265196778858278', 'firemode_Single': '0.043895806332000936', 'hiprecoildec': '3.9765994402640814', 'hiprecoilright': '0.38625259048295246', 'hiprecoilup': '1.2505892606634847', 'hipstandbasespreaddec': '4.3328604871360685', 'hipstandbasespreadinc': '0.15623886079838864', 'initialspeed': '471.351280426978', 'magsize': '5.01185126498337', 'reloadempty': '3.1725441395848275', 'rof': '202.26611413630985', 'shotspershell': '0.32414161471484926', 'type_Shotgun': '-0.057191626222834385', 'type_Pistol': '-0.004511204926675838', 'type_Rifle': '0.010675601036448296', 'type_SMG': '-0.04924638086441942', 'type_Sniper': '0.010675601036448185', 'type_MG': '-0.04608755857562147'}\n",
      "Generated a random weapon!\n",
      "{'damages_first': '42.68613487716464', 'damages_last': '30.21614016933148', 'distances_first': '13.9426721549774', 'distances_last': '59.86696550211194', 'firemode_Automatic': '0.3010279267259715', 'firemode_Semi': '0.3316614191862286', 'firemode_Single': '0.23293323841074964', 'hiprecoildec': '5.174646384583699', 'hiprecoilright': '0.5536508756736525', 'hiprecoilup': '2.427845745781643', 'hipstandbasespreaddec': '6.494819506875682', 'hipstandbasespreadinc': '0.32227354262132907', 'initialspeed': '558.9816430950691', 'magsize': '20.14432995335261', 'reloadempty': '3.6982979837335215', 'rof': '297.3089733921628', 'shotspershell': '1.518000825889001', 'type_Shotgun': '0.06656242258872827', 'type_Pistol': '0.16620204654013332', 'type_Rifle': '0.18827108175605217', 'type_SMG': '0.08729821429124016', 'type_Sniper': '0.18827108175605214', 'type_MG': '0.09430411590792076'}\n",
      "Generated a random weapon!\n",
      "{'damages_first': '34.958201181389676', 'damages_last': '22.718738102194393', 'distances_first': '9.531385061754449', 'distances_last': '46.90510019424808', 'firemode_Automatic': '0.15567885975116036', 'firemode_Semi': '0.18355256292966848', 'firemode_Single': '0.09645142014509794', 'hiprecoildec': '4.309676819930313', 'hiprecoilright': '0.4327921542757581', 'hiprecoilup': '1.577886539887314', 'hipstandbasespreaddec': '4.933921779980144', 'hipstandbasespreadinc': '0.20239931971655578', 'initialspeed': '495.71400821079226', 'magsize': '9.218937116898413', 'reloadempty': '3.318712629549923', 'rof': '228.6896417510011', 'shotspershell': '0.656054733506791', 'type_Shotgun': '-0.022785900723779604', 'type_Pistol': '0.04294997574113088', 'type_Rifle': '0.06005015821813192', 'type_SMG': '-0.011284666444403998', 'type_Sniper': '0.060050158218131866', 'type_MG': '-0.0070562908230135946'}\n",
      "Generated a random weapon!\n",
      "{'damages_first': '42.24561365521274', 'damages_last': '29.788760115348154', 'distances_first': '13.691212236040775', 'distances_last': '59.12809053643802', 'firemode_Automatic': '0.29274248444425033', 'firemode_Semi': '0.32321865855854515', 'firemode_Single': '0.2251532625823504', 'hiprecoildec': '5.125339873351515', 'hiprecoilright': '0.5467614749968774', 'hiprecoilup': '2.379394881329411', 'hipstandbasespreaddec': '6.40584247872521', 'hipstandbasespreadinc': '0.31544026205327563', 'initialspeed': '555.3751504766781', 'magsize': '19.52154156099741', 'reloadempty': '3.6766601940418964', 'rof': '293.3974139748488', 'shotspershell': '1.4688666639227221', 'type_Shotgun': '0.061469232854647386', 'type_Pistol': '0.1591762159657636', 'type_Rifle': '0.18096200792851583', 'type_SMG': '0.08167862012870913', 'type_Sniper': '0.1809620079285158', 'type_MG': '0.08852619234019345'}\n",
      "Generated a random weapon!\n",
      "{'damages_first': '69.06922174418229', 'damages_last': '55.81219440597428', 'distances_first': '29.00276132725955', 'distances_last': '104.11864154365455', 'firemode_Automatic': '0.7972481598437784', 'firemode_Semi': '0.8373035447815624', 'firemode_Single': '0.698880774818813', 'hiprecoildec': '8.127643661728206', 'hiprecoilright': '0.966261318620468', 'hiprecoilup': '5.329597811122398', 'hipstandbasespreaddec': '11.823708436361468', 'hipstandbasespreadinc': '0.7315229177475628', 'initialspeed': '774.9767037068366', 'magsize': '57.44350973514264', 'reloadempty': '4.994198513825902', 'rof': '531.5746721824155', 'shotspershell': '4.460675999517777', 'type_Shotgun': '0.3715966876556056', 'type_Pistol': '0.5869833599470673', 'type_Rifle': '0.6260160077664378', 'type_SMG': '0.42385916427342274', 'type_Sniper': '0.626016007766438', 'type_MG': '0.44034751132687044'}\n",
      "Generated a random weapon!\n",
      "{'damages_first': '44.69932327790017', 'damages_last': '32.16927324104288', 'distances_first': '15.091847647159238', 'distances_last': '63.24363485733097', 'firemode_Automatic': '0.3388925186351128', 'firemode_Semi': '0.37024495822783937', 'firemode_Single': '0.2684878412658342', 'hiprecoildec': '5.399977859089168', 'hiprecoilright': '0.5851355371141345', 'hiprecoilup': '2.6492669020397974', 'hipstandbasespreaddec': '6.901445821518958', 'hipstandbasespreadinc': '0.35350173434753596', 'initialspeed': '575.4633668915133', 'magsize': '22.990481977645178', 'reloadempty': '3.7971829977896463', 'rof': '315.18485690313776', 'shotspershell': '1.742544661738924', 'type_Shotgun': '0.0898383738583737', 'type_Pistol': '0.19831019459979438', 'type_Rifle': '0.22167365560826643', 'type_SMG': '0.11297984146625059', 'type_Sniper': '0.22167365560826643', 'type_MG': '0.12070931077082642'}\n",
      "Generated a random weapon!\n",
      "{'damages_first': '27.168062939785983', 'damages_last': '15.160987110125852', 'distances_first': '5.084590144453754', 'distances_last': '33.83890079446394', 'firemode_Automatic': '0.00915983285514288', 'firemode_Semi': '0.03425153234820594', 'firemode_Single': '-0.041128982794453706', 'hiprecoildec': '3.4377448457838997', 'hiprecoilright': '0.310960603377773', 'hiprecoilup': '0.7210857475538435', 'hipstandbasespreaddec': '3.3604599010086496', 'hipstandbasespreadinc': '0.08156019184676716', 'initialspeed': '431.93711242333427', 'magsize': '-1.7943976101239691', 'reloadempty': '2.9360718745968875', 'rof': '159.51797173222846', 'shotspershell': '-0.21282943149822042', 'type_Shotgun': '-0.1128534165256396', 'type_Pistol': '-0.08129418937290087', 'type_Rifle': '-0.06920285547847801', 'type_SMG': '-0.11066107149897457', 'type_Sniper': '-0.06920285547847813', 'type_MG': '-0.10923257904490322'}\n",
      "Generated a random weapon!\n",
      "{'damages_first': '25.394208340576288', 'damages_last': '13.44004828450078', 'distances_first': '4.072032039429379', 'distances_last': '30.863659896206563', 'firemode_Automatic': '-0.02420330418691885', 'firemode_Semi': '0.0002549187387977936', 'firemode_Single': '-0.07245674912497868', 'hiprecoildec': '3.239201444554193', 'hiprecoilright': '0.2832189317685215', 'hiprecoilup': '0.5259877943531617', 'hipstandbasespreaddec': '3.002174527356521', 'hipstandbasespreadinc': '0.054044500072318424', 'initialspeed': '417.4147847819944', 'magsize': '-4.302190649512035', 'reloadempty': '2.848942603977066', 'rof': '143.76722621367963', 'shotspershell': '-0.4106788308892799', 'type_Shotgun': '-0.13336225374899952', 'type_Pistol': '-0.10958522566484782', 'type_Rifle': '-0.0986344323897815', 'type_SMG': '-0.1332895907488058', 'type_Sniper': '-0.09863443238978162', 'type_MG': '-0.13249864611218842'}\n",
      "Generated a random weapon!\n",
      "{'damages_first': '40.79646473438882', 'damages_last': '28.382840688203636', 'distances_first': '12.864003802034215', 'distances_last': '56.69747015818278', 'firemode_Automatic': '0.26548649961812937', 'firemode_Semi': '0.2954451556199778', 'firemode_Single': '0.19956007203001844', 'hiprecoildec': '4.963140020129651', 'hiprecoilright': '0.5240979413045954', 'hiprecoilup': '2.220009783778751', 'hipstandbasespreaddec': '6.113141564678308', 'hipstandbasespreadinc': '0.29296134238396837', 'initialspeed': '543.5111479599694', 'magsize': '17.472802290992934', 'reloadempty': '3.605480014704117', 'rof': '280.52985657722076', 'shotspershell': '1.3072337748793055', 'type_Shotgun': '0.044714556714434556', 'type_Pistol': '0.1360638792896171', 'type_Rifle': '0.15691790761828533', 'type_SMG': '0.06319227166173438', 'type_Sniper': '0.15691790761828528', 'type_MG': '0.06951899975665546'}\n"
     ]
    },
    {
     "name": "stdout",
     "output_type": "stream",
     "text": [
      "Generated a random weapon!\n",
      "{'damages_first': '80.01949582987055', 'damages_last': '66.43581137756425', 'distances_first': '35.253436429177114', 'distances_last': '122.48525587686021', 'firemode_Automatic': '1.0032038763561253', 'firemode_Semi': '1.0471698084393148', 'firemode_Single': '0.8922718385308457', 'hiprecoildec': '9.353282258227994', 'hiprecoilright': '1.1375148744935382', 'hiprecoilup': '6.533967133194267', 'hipstandbasespreaddec': '14.035458511103784', 'hipstandbasespreadinc': '0.9013814657490572', 'initialspeed': '864.6252397850967', 'magsize': '72.92449737850147', 'reloadempty': '5.532060745937953', 'rof': '628.8064185492702', 'shotspershell': '5.682030417171935', 'type_Shotgun': '0.4982008573968081', 'type_Pistol': '0.761628227515692', 'type_Rifle': '0.8077016059526557', 'type_SMG': '0.5635484533782469', 'type_Sniper': '0.807701605952656', 'type_MG': '0.5839724800228872'}\n",
      "Generated a random weapon!\n",
      "{'damages_first': '86.38004993965211', 'damages_last': '72.6066240951844', 'distances_first': '38.88419095616868', 'distances_last': '133.1536504180094', 'firemode_Automatic': '1.1228348982688774', 'firemode_Semi': '1.169072302876185', 'firemode_Single': '1.0046045815711568', 'hiprecoildec': '10.065204220278465', 'hiprecoilright': '1.236988869399913', 'hiprecoilup': '7.233534667418006', 'hipstandbasespreaddec': '15.320171196615313', 'hipstandbasespreadinc': '1.0000451591980166', 'initialspeed': '916.6983075573211', 'magsize': '81.91675262324812', 'reloadempty': '5.844482316775882', 'rof': '685.2842545482094', 'shotspershell': '6.391463879742817', 'type_Shotgun': '0.5717398999688437', 'type_Pistol': '0.8630720928905058', 'type_Rifle': '0.9132351359071103', 'type_SMG': '0.6446880919804808', 'type_Sniper': '0.9132351359071106', 'type_MG': '0.6673981895309865'}\n",
      "Generated a random weapon!\n",
      "{'damages_first': '51.039758042450835', 'damages_last': '38.32056679267874', 'distances_first': '18.711117576658765', 'distances_last': '73.87828373589666', 'firemode_Automatic': '0.45814513046147237', 'firemode_Semi': '0.4917618575848234', 'firemode_Single': '0.38046525972294815', 'hiprecoildec': '6.109647909830541', 'hiprecoilright': '0.684294881502571', 'hiprecoilup': '3.346621603782209', 'hipstandbasespreaddec': '8.182094776481831', 'hipstandbasespreadinc': '0.45185334037832525', 'initialspeed': '627.3717200791814', 'magsize': '31.95429342888724', 'reloadempty': '4.108616334374274', 'rof': '371.4840454036446', 'shotspershell': '2.449734084481599', 'type_Shotgun': '0.1631448018877265', 'type_Pistol': '0.29943317847375067', 'type_Rifle': '0.3268733678660327', 'type_SMG': '0.19386282375006134', 'type_Sniper': '0.32687336786603277', 'type_MG': '0.2038711327902329'}\n",
      "Generated a random weapon!\n",
      "{'damages_first': '80.35231099774931', 'damages_last': '66.758698351736', 'distances_first': '35.44341518834984', 'distances_last': '123.0434782359388', 'firemode_Automatic': '1.009463554043667', 'firemode_Semi': '1.053548340631731', 'firemode_Single': '0.8981496347240656', 'hiprecoildec': '9.390533482449484', 'hiprecoilright': '1.1427198383603534', 'hiprecoilup': '6.570571913583943', 'hipstandbasespreaddec': '14.102680935553714', 'hipstandbasespreadinc': '0.9065440306973305', 'initialspeed': '867.3499562946101', 'magsize': '73.39501596654188', 'reloadempty': '5.548408164064224', 'rof': '631.7616139842889', 'shotspershell': '5.719151430981288', 'type_Shotgun': '0.5020487782503729', 'type_Pistol': '0.7669362645989813', 'type_Rifle': '0.8132236342040334', 'type_SMG': '0.5677940744321571', 'type_Sniper': '0.8132236342040337', 'type_MG': '0.5883377194401015'}\n",
      "Generated a random weapon!\n",
      "{'damages_first': '29.320383504219272', 'damages_last': '17.249101900467046', 'distances_first': '6.313185562081854', 'distances_last': '37.448932965260425', 'firemode_Automatic': '0.04964126012749548', 'firemode_Semi': '0.07550159344409385', 'firemode_Single': '-0.003117188738170573', 'hiprecoildec': '3.678649058333009', 'hiprecoilright': '0.3446211809262085', 'hiprecoilup': '0.9578093983760443', 'hipstandbasespreaddec': '3.7951883043347787', 'hipstandbasespreadinc': '0.11494657496810037', 'initialspeed': '449.55789399123705', 'magsize': '1.248452989030195', 'reloadempty': '3.041790867011861', 'rof': '178.62926388651883', 'shotspershell': '0.027232708408779338', 'type_Shotgun': '-0.08796885601649818', 'type_Pistol': '-0.04696703582411796', 'type_Rifle': '-0.03349181791197117', 'type_SMG': '-0.0832045779702573', 'type_Sniper': '-0.03349181791197128', 'type_MG': '-0.0810025118090022'}\n",
      "Generated a random weapon!\n",
      "{'damages_first': '28.054936706430578', 'damages_last': '16.02140458691737', 'distances_first': '5.590838639087739', 'distances_last': '35.32643145412915', 'firemode_Automatic': '0.025840394513779286', 'firemode_Semi': '0.05124881317289681', 'firemode_Single': '-0.025466045066359855', 'hiprecoildec': '3.5370105545795756', 'hiprecoilright': '0.324830601969583', 'hiprecoilup': '0.8186288363147987', 'hipstandbasespreaddec': '3.5395917751803534', 'hipstandbasespreadinc': '0.09531720734099608', 'initialspeed': '439.1978379762968', 'magsize': '-0.5405767728365802', 'reloadempty': '2.9796338804422513', 'rof': '167.3928691515093', 'shotspershell': '-0.11391070267766423', 'type_Shotgun': '-0.1025996168478725', 'type_Pistol': '-0.06714952501895857', 'type_Rifle': '-0.05448795523510577', 'type_SMG': '-0.09934749477761944', 'type_Sniper': '-0.054487955235105884', 'type_MG': '-0.09760024765530564'}\n",
      "Generated a random weapon!\n",
      "{'damages_first': '68.9421782276921', 'damages_last': '55.6889407186826', 'distances_first': '28.930241887182415', 'distances_last': '103.90555470649866', 'firemode_Automatic': '0.7948586910266296', 'firemode_Semi': '0.8348687063547704', 'firemode_Single': '0.6966370793095047', 'hiprecoildec': '8.113423977725141', 'hiprecoilright': '0.9642744593163709', 'hiprecoilup': '5.315624890204475', 'hipstandbasespreaddec': '11.798048027782295', 'hipstandbasespreadinc': '0.7295522431256161', 'initialspeed': '773.936614191044', 'magsize': '57.26390152683999', 'reloadempty': '4.987958313003523', 'rof': '530.4466033435659', 'shotspershell': '4.446506019945996', 'type_Shotgun': '0.3701278441544859', 'type_Pistol': '0.5849571551288811', 'type_Rifle': '0.6239081173968837', 'type_SMG': '0.422238509085706', 'type_Sniper': '0.6239081173968839', 'type_MG': '0.43868119494646285'}\n",
      "Generated a random weapon!\n",
      "{'damages_first': '59.561240213486094', 'damages_last': '46.587845027625434', 'distances_first': '23.57538088377914', 'distances_last': '88.17114758185723', 'firemode_Automatic': '0.6184194717746785', 'firemode_Semi': '0.655079379143364', 'firemode_Single': '0.5309618124634405', 'hiprecoildec': '7.06343750144049', 'hiprecoilright': '0.8175640683447589', 'hiprecoilup': '4.283859487059556', 'hipstandbasespreaddec': '9.90327441830793', 'hipstandbasespreadinc': '0.5840369347857426', 'initialspeed': '697.1360379284262', 'magsize': '44.001568151016514', 'reloadempty': '4.527179685898638', 'rof': '447.1496028718983', 'shotspershell': '3.400189736377813', 'type_Shotgun': '0.2616679225681865', 'type_Pistol': '0.43534147753577446', 'type_Rifle': '0.4682607499135041', 'type_SMG': '0.3025687590788509', 'type_Sniper': '0.4682607499135042', 'type_MG': '0.3156398063851895'}\n",
      "Generated a random weapon!\n",
      "{'damages_first': '42.34594950243413', 'damages_last': '29.886102848603855', 'distances_first': '13.748486307643805', 'distances_last': '59.29638128380107', 'firemode_Automatic': '0.2946296281946851', 'firemode_Semi': '0.325141634111715', 'firemode_Single': '0.22692527815664115', 'hiprecoildec': '5.1365702303274885', 'hiprecoilright': '0.5483306476480586', 'hiprecoilup': '2.3904303508849596', 'hipstandbasespreaddec': '6.426108438814856', 'hipstandbasespreadinc': '0.316996652440234', 'initialspeed': '556.1965876159845', 'magsize': '19.66339171003161', 'reloadempty': '3.6815885512980753', 'rof': '294.28833502140816', 'shotspershell': '1.4800577655603586', 'type_Shotgun': '0.06262928935490854', 'type_Pistol': '0.16077646273705376', 'type_Rifle': '0.1826267679408487', 'type_SMG': '0.08295857376826271', 'type_Sniper': '0.1826267679408487', 'type_MG': '0.08984220806760748'}\n",
      "Generated a random weapon!\n",
      "{'damages_first': '45.45423905150627', 'damages_last': '32.90166915751447', 'distances_first': '15.522771402418641', 'distances_last': '64.509835754165', 'firemode_Automatic': '0.3530911786725566', 'firemode_Semi': '0.3847132127704431', 'firemode_Single': '0.2818202896893387', 'hiprecoildec': '5.484473818002874', 'hiprecoilright': '0.5969418179070219', 'hiprecoilup': '2.732296549641737', 'hipstandbasespreaddec': '7.053924654983016', 'hipstandbasespreadinc': '0.36521184280370234', 'initialspeed': '581.6437687185896', 'magsize': '24.05774674851034', 'reloadempty': '3.8342634105602325', 'rof': '321.8880479331724', 'shotspershell': '1.8267452678457317', 'type_Shotgun': '0.09856651015834571', 'type_Pistol': '0.21035027362203718', 'type_Rifle': '0.23419912509282464', 'type_SMG': '0.12261007052936422', 'type_Sniper': '0.23419912509282464', 'type_MG': '0.13061086697881344'}\n"
     ]
    },
    {
     "name": "stdout",
     "output_type": "stream",
     "text": [
      "Generated a random weapon!\n",
      "Should retrain!\n",
      "{'damages_first': '32.24309765364001', 'damages_last': '20.08462870079377', 'distances_first': '7.98153983530351', 'distances_last': '42.35112656959886', 'firemode_Automatic': '0.10461245829973628', 'firemode_Semi': '0.13151654736020155', 'firemode_Single': '0.04850040492749144', 'hiprecoildec': '4.005781625064643', 'hiprecoilright': '0.39033009989683143', 'hiprecoilup': '1.2792650287285574', 'hipstandbasespreaddec': '4.3855217688533', 'hipstandbasespreadinc': '0.16028315538236362', 'initialspeed': '473.485792308708', 'magsize': '5.380450168113455', 'reloadempty': '3.185350520764045', 'rof': '204.581180583354', 'shotspershell': '0.3532217941615097', 'type_Shotgun': '-0.05417720885015975', 'type_Pistol': '-0.00035294912891287167', 'type_Rifle': '0.015001495078144161', 'type_SMG': '-0.04592040968420551', 'type_Sniper': '0.015001495078144078', 'type_MG': '-0.042667879731929925'}\n",
      "Num of training samples = 147\n",
      "Epoch:0010 - Cost:10.69\n",
      "Epoch:0020 - Cost:9.75\n",
      "Epoch:0030 - Cost:11.50\n",
      "Epoch:0040 - Cost:11.41\n",
      "Epoch:0050 - Cost:16.08\n",
      "Epoch:0060 - Cost:9.50\n",
      "Epoch:0070 - Cost:7.30\n",
      "Epoch:0080 - Cost:13.45\n",
      "Epoch:0090 - Cost:5.33\n",
      "Epoch:0100 - Cost:6.41\n",
      "Epoch:0110 - Cost:7.58\n"
     ]
    },
    {
     "data": {
      "image/png": "[encoded data removed]",
      "text/plain": [
       "<matplotlib.figure.Figure at 0x25a89eceef0>"
      ]
     },
     "metadata": {},
     "output_type": "display_data"
    }
   ],
   "source": [
    "input_and_train()"
   ]
  },
  {
   "cell_type": "code",
   "execution_count": 5,
   "metadata": {},
   "outputs": [
    {
     "name": "stdout",
     "output_type": "stream",
     "text": [
      "INFO:tensorflow:Restoring parameters from trained_vae/model.ckpt\n",
      "Generated a random weapon!\n",
      "{'damages_first': '-14139973.60681635', 'damages_last': '-67393197.53095156', 'distances_first': '-796090802.255856', 'distances_last': '-11269207.828156196', 'firemode_Automatic': '0.15023496618756269', 'firemode_Semi': '0.17387016834395277', 'firemode_Single': '0.0994415779711035', 'hiprecoildec': '-292774211.3400329', 'hiprecoilright': '-29474301.409170263', 'hiprecoilup': '-142642266.92350766', 'hipstandbasespreaddec': '-5191988.68054928', 'hipstandbasespreadinc': '-34554.10323617667', 'initialspeed': '-13823564993.102089', 'magsize': '-123833123.47654587', 'reloadempty': '-5404752.585729375', 'rof': '-28179074.16297336', 'shotspershell': '-206230751.48197728', 'type_Shotgun': '-0.007501842732861988', 'type_Pistol': '0.05265757297007331', 'type_Rifle': '0.06773162899792534', 'type_SMG': '0.003498923517698399', 'type_Sniper': '0.0677316289979254', 'type_MG': '0.007456147223251899'}\n",
      "Generated a random weapon!\n",
      "{'damages_first': '-19148182.891450822', 'damages_last': '-87403712.28004748', 'distances_first': '-1054234576.3715663', 'distances_last': '-14872160.153240107', 'firemode_Automatic': '0.12118352368333316', 'firemode_Semi': '0.14412194955901736', 'firemode_Single': '0.07242279490388559', 'hiprecoildec': '-386566084.25568163', 'hiprecoilright': '-38447001.18011248', 'hiprecoilup': '-185507439.8352966', 'hipstandbasespreaddec': '-6746619.080046135', 'hipstandbasespreadinc': '-46434.70325460158', 'initialspeed': '-18242235775.401302', 'magsize': '-160648057.85941592', 'reloadempty': '-7307159.268967303', 'rof': '-37721927.62744919', 'shotspershell': '-269189641.40968555', 'type_Shotgun': '-0.024871060418930654', 'type_Pistol': '0.02845273888703101', 'type_Rifle': '0.04248736266205236', 'type_SMG': '-0.015703469137866535', 'type_Sniper': '0.04248736266205244', 'type_MG': '-0.012300734051204104'}\n",
      "Generated a random weapon!\n",
      "{'damages_first': '-5512425.035232862', 'damages_last': '-32921457.607883804', 'distances_first': '-351391345.21275514', 'distances_last': '-5062469.16786679', 'firemode_Automatic': '0.2002813434523456', 'firemode_Semi': '0.22511686909037626', 'firemode_Single': '0.1459863307977645', 'hiprecoildec': '-131200704.0822177', 'hiprecoilright': '-14017199.141190646', 'hiprecoilup': '-68799234.35287985', 'hipstandbasespreaddec': '-2513855.9348450853', 'hipstandbasespreadinc': '-14087.61553707135', 'initialspeed': '-6211603385.769684', 'magsize': '-60412723.7895044', 'reloadempty': '-2127512.1331594735', 'rof': '-11739778.778719451', 'shotspershell': '-97772647.99760467', 'type_Shotgun': '0.0224197840842772', 'type_Pistol': '0.09435478845171594', 'type_Rifle': '0.11121945500291029', 'type_SMG': '0.036578526607527376', 'type_Sniper': '0.11121945500291032', 'type_MG': '0.04149095749792238'}\n",
      "Generated a random weapon!\n",
      "{'damages_first': '-22326329.28736063', 'damages_last': '-100102132.35711122', 'distances_first': '-1218049357.0057347', 'distances_last': '-17158548.22047441', 'firemode_Automatic': '0.10274784497196776', 'firemode_Semi': '0.1252441054149743', 'firemode_Single': '0.05527701621400502', 'hiprecoildec': '-446085222.9200827', 'hiprecoilright': '-44140963.19685398', 'hiprecoilup': '-212709137.4994939', 'hipstandbasespreaddec': '-7733167.9082453875', 'hipstandbasespreadinc': '-53973.98206342614', 'initialspeed': '-21046268479.17861', 'magsize': '-184010350.52229413', 'reloadempty': '-8514402.537022669', 'rof': '-43777701.98134241', 'shotspershell': '-309142558.2592522', 'type_Shotgun': '-0.03589334671956815', 'type_Pistol': '0.013092656703438649', 'type_Rifle': '0.026467669891046763', 'type_SMG': '-0.027889065134896224', 'type_Sniper': '0.02646766989104682', 'type_MG': '-0.024838201526749745'}\n",
      "Generated a random weapon!\n",
      "{'damages_first': '-19480363.97528725', 'damages_last': '-88730956.03119689', 'distances_first': '-1071356560.2579968', 'distances_last': '-15111134.313531157', 'firemode_Automatic': '0.11925661945277821', 'firemode_Semi': '0.1421488300273514', 'firemode_Single': '0.07063071151976141', 'hiprecoildec': '-392787047.52408123', 'hiprecoilright': '-39042136.28039574', 'hiprecoilup': '-188350571.73882154', 'hipstandbasespreaddec': '-6849733.54306475', 'hipstandbasespreadinc': '-47222.71157583041', 'initialspeed': '-18535314352.22592', 'magsize': '-163089893.67530102', 'reloadempty': '-7433340.799734096', 'rof': '-38354879.492389716', 'shotspershell': '-273365535.64747024', 'type_Shotgun': '-0.026023114023010482', 'type_Pistol': '0.026847297188647035', 'type_Rifle': '0.04081297821133989', 'type_SMG': '-0.016977112318903018', 'type_Sniper': '0.04081297821133997', 'type_MG': '-0.013611154974529291'}\n",
      "Generated a random weapon!\n",
      "{'damages_first': '-25486001.1794684', 'damages_last': '-112726736.7627837', 'distances_first': '-1380911885.474442', 'distances_last': '-19431645.557899848', 'firemode_Automatic': '0.08441933250595995', 'firemode_Semi': '0.10647599781543474', 'firemode_Single': '0.03823090560549505', 'hiprecoildec': '-505258377.97750926', 'hiprecoilright': '-49801826.32203329', 'hiprecoilup': '-239752712.21895653', 'hipstandbasespreaddec': '-8713981.94710299', 'hipstandbasespreadinc': '-61469.43518970898', 'initialspeed': '-23834001394.842434', 'magsize': '-207236838.62778002', 'reloadempty': '-9714628.123207126', 'rof': '-49798274.23552452', 'shotspershell': '-348863229.57249296', 'type_Shotgun': '-0.0468515606821817', 'type_Pistol': '-0.0021781376181893575', 'type_Rifle': '0.010541099285648836', 'type_SMG': '-0.04000382649703718', 'type_Sniper': '0.01054109928564892', 'type_MG': '-0.03730278894527754'}\n",
      "Generated a random weapon!\n",
      "{'damages_first': '-16824117.60610407', 'damages_last': '-78117809.86918461', 'distances_first': '-934442660.7478759', 'distances_last': '-13200205.978086654', 'firemode_Automatic': '0.1346648790293398', 'firemode_Semi': '0.15792664474040385', 'firemode_Single': '0.08496089229759682', 'hiprecoildec': '-343041857.6304712', 'hiprecoilright': '-34283209.51959533', 'hiprecoilup': '-165615806.98754', 'hipstandbasespreaddec': '-6025191.053046442', 'hipstandbasespreadinc': '-40921.49713587474', 'initialspeed': '-16191746510.900227', 'magsize': '-143564045.1676836', 'reloadempty': '-6424345.257042955', 'rof': '-33293555.488931827', 'shotspershell': '-239973496.04334164', 'type_Shotgun': '-0.01681085495154487', 'type_Pistol': '0.039685020014452455', 'type_Rifle': '0.05420199352327687', 'type_SMG': '-0.00679257671503658', 'type_Sniper': '0.054201993523276926', 'type_MG': '-0.0031325305462997083'}\n",
      "Generated a random weapon!\n",
      "{'damages_first': '-4346777.253092876', 'damages_last': '-28264061.957840472', 'distances_first': '-291309048.1940543', 'distances_last': '-4223891.315344659', 'firemode_Automatic': '0.20704299169794088', 'firemode_Semi': '0.2320406902165547', 'firemode_Single': '0.15227488280677318', 'hiprecoildec': '-109370887.78793699', 'hiprecoilright': '-11928826.432826458', 'hiprecoilup': '-58822476.015529215', 'hipstandbasespreaddec': '-2152019.722692227', 'hipstandbasespreadinc': '-11322.436552946678', 'initialspeed': '-5183169168.1349945', 'magsize': '-51844142.850867815', 'reloadempty': '-1684731.8887619134', 'rof': '-9518704.270056017', 'shotspershell': '-83119128.89739695', 'type_Shotgun': '0.02646242466149707', 'type_Pistol': '0.09998840109896055', 'type_Rifle': '0.11709499282367233', 'type_SMG': '0.0410478339264954', 'type_Sniper': '0.11709499282367238', 'type_MG': '0.046089320611506515'}\n",
      "Generated a random weapon!\n",
      "{'damages_first': '-18088609.395118184', 'damages_last': '-83170140.98318368', 'distances_first': '-999619785.7845457', 'distances_last': '-14109893.128193531', 'firemode_Automatic': '0.12732985998005197', 'firemode_Semi': '0.15041570095721252', 'firemode_Single': '0.07813908685858062', 'hiprecoildec': '-366722787.567238', 'hiprecoilright': '-36548670.993111484', 'hiprecoilup': '-176438569.39643633', 'hipstandbasespreaddec': '-6417710.068005894', 'hipstandbasespreadinc': '-43921.15635897283', 'initialspeed': '-17307389369.45975', 'magsize': '-152859220.26810482', 'reloadempty': '-6904672.155062257', 'rof': '-35702971.54241358', 'shotspershell': '-255869596.79202294', 'type_Shotgun': '-0.021196301305198118', 'type_Pistol': '0.03357369115158726', 'type_Rifle': '0.047828224839261746', 'type_SMG': '-0.011640870079469956', 'type_Sniper': '0.04782822483926183', 'type_MG': '-0.008120823312882802'}\n"
     ]
    },
    {
     "name": "stdout",
     "output_type": "stream",
     "text": [
      "Generated a random weapon!\n",
      "{'damages_first': '-22578292.626338832', 'damages_last': '-101108862.67214093', 'distances_first': '-1231036587.2842665', 'distances_last': '-17339812.989259664', 'firemode_Automatic': '0.101286264986092', 'firemode_Semi': '0.1237474705685227', 'firemode_Single': '0.05391769945828745', 'hiprecoildec': '-450803898.2241181', 'hiprecoilright': '-44592380.3133215', 'hiprecoilup': '-214865687.17202234', 'hipstandbasespreaddec': '-7811381.466040594', 'hipstandbasespreadinc': '-54571.695832874844', 'initialspeed': '-21268572097.274075', 'magsize': '-185862512.29593062', 'reloadempty': '-8610112.742559351', 'rof': '-44257803.56768507', 'shotspershell': '-312310024.1583344', 'type_Shotgun': '-0.036767193205386586', 'type_Pistol': '0.011874909906457148', 'type_Rifle': '0.025197629188962595', 'type_SMG': '-0.028855138774173034', 'type_Sniper': '0.02519762918896265', 'type_MG': '-0.02583217152496463'}\n",
      "Generated a random weapon!\n",
      "{'damages_first': '-3991364.2219129205', 'damages_last': '-26843993.96582035', 'distances_first': '-272989593.8692947', 'distances_last': '-3968203.8761268696', 'firemode_Automatic': '0.20910465898334307', 'firemode_Semi': '0.23415180499025173', 'firemode_Single': '0.15419230019948793', 'hiprecoildec': '-102714845.28682393', 'hiprecoilright': '-11292069.012715762', 'hiprecoilup': '-55780502.29382926', 'hipstandbasespreaddec': '-2041693.6817368502', 'hipstandbasespreadinc': '-10479.316821960198', 'initialspeed': '-4869593379.411163', 'magsize': '-49231530.901552685', 'reloadempty': '-1549725.5247305539', 'rof': '-8841485.271576595', 'shotspershell': '-78651182.64411551', 'type_Shotgun': '0.027695050128242256', 'type_Pistol': '0.10170612353461349', 'type_Rifle': '0.11888647970220073', 'type_SMG': '0.0424105526532389', 'type_Sniper': '0.11888647970220076', 'type_MG': '0.047491389227520706'}\n",
      "Generated a random weapon!\n",
      "{'damages_first': '-24418206.85834153', 'damages_last': '-108460318.80827335', 'distances_first': '-1325873359.6523068', 'distances_last': '-18663464.395060077', 'firemode_Automatic': '0.09061335587110456', 'firemode_Semi': '0.11281858001934758', 'firemode_Single': '0.04399154807933284', 'hiprecoildec': '-485261124.75279856', 'hiprecoilright': '-47888767.718435474', 'hiprecoilup': '-230613479.8889981', 'hipstandbasespreaddec': '-8382521.056056163', 'hipstandbasespreadinc': '-58936.38664675462', 'initialspeed': '-22891901873.813194', 'magsize': '-199387570.4298045', 'reloadempty': '-9309018.265993755', 'rof': '-47763653.843765706', 'shotspershell': '-335439839.832069', 'type_Shotgun': '-0.04314829052042883', 'type_Pistol': '0.0029825461529515984', 'type_Rifle': '0.015923399166199226', 'type_SMG': '-0.03590970728908616', 'type_Sniper': '0.01592339916619928', 'type_MG': '-0.03309044788102396'}\n",
      "Generated a random weapon!\n",
      "{'damages_first': '-14859914.573369982', 'damages_last': '-70269752.50518149', 'distances_first': '-833199530.6823742', 'distances_last': '-11787140.053418', 'firemode_Automatic': '0.14605875820431366', 'firemode_Semi': '0.1695937972563898', 'firemode_Single': '0.09555756919850775', 'hiprecoildec': '-306256996.86358076', 'hiprecoilright': '-30764146.497215375', 'hiprecoilup': '-148804228.6674555', 'hipstandbasespreaddec': '-5415470.178393497', 'hipstandbasespreadinc': '-36261.96530311229', 'initialspeed': '-14458758518.98985', 'magsize': '-129125350.28594258', 'reloadempty': '-5678227.680013173', 'rof': '-29550880.0832996', 'shotspershell': '-215281228.70679367', 'type_Shotgun': '-0.009998705515244982', 'type_Pistol': '0.04917807547812941', 'type_Rifle': '0.06410271086114819', 'type_SMG': '0.0007385378503093482', 'type_Sniper': '0.06410271086114824', 'type_MG': '0.004616052612098812'}\n",
      "Generated a random weapon!\n",
      "{'damages_first': '-19696870.007554196', 'damages_last': '-89596015.15826613', 'distances_first': '-1082516174.6254878', 'distances_last': '-15266890.766190626', 'firemode_Automatic': '0.11800071895207037', 'firemode_Semi': '0.14086280772874343', 'firemode_Single': '0.06946268335118783', 'hiprecoildec': '-396841691.63133824', 'hiprecoilright': '-39430028.14268061', 'hiprecoilup': '-190203642.96290985', 'hipstandbasespreaddec': '-6916940.570628337', 'hipstandbasespreadinc': '-47736.312630568995', 'initialspeed': '-18726334500.266582', 'magsize': '-164681411.70468086', 'reloadempty': '-7515582.275546548', 'rof': '-38767419.22918495', 'shotspershell': '-276087262.85164285', 'type_Shotgun': '-0.02677398927423634', 'type_Pistol': '0.02580091667793688', 'type_Rifle': '0.0397216628067224', 'type_SMG': '-0.017807236143129693', 'type_Sniper': '0.039721662806722485', 'type_MG': '-0.014465249468508454'}\n",
      "Generated a random weapon!\n",
      "{'damages_first': '-19075913.041885927', 'damages_last': '-87114955.00006118', 'distances_first': '-1050509490.0859966', 'distances_last': '-14820168.551506896', 'firemode_Automatic': '0.12160274405933966', 'firemode_Semi': '0.14455122461008338', 'firemode_Single': '0.07281268344023031', 'hiprecoildec': '-385212641.505831', 'hiprecoilright': '-38317522.63283483', 'hiprecoilup': '-184888883.49672416', 'hipstandbasespreaddec': '-6724185.332030582', 'hipstandbasespreadinc': '-46263.26289992103', 'initialspeed': '-18178473129.999622', 'magsize': '-160116808.14152688', 'reloadempty': '-7279707.0126826735', 'rof': '-37584221.604177885', 'shotspershell': '-268281127.15933108', 'type_Shotgun': '-0.024620417788423332', 'type_Pistol': '0.028802021358770274', 'type_Rifle': '0.042851644429602875', 'type_SMG': '-0.015426373283913039', 'type_Sniper': '0.04285164442960296', 'type_MG': '-0.012015636772630511'}\n",
      "Generated a random weapon!\n",
      "{'damages_first': '-15701647.97685801', 'damages_last': '-73632934.37878671', 'distances_first': '-876585943.9144084', 'distances_last': '-12392690.890221607', 'firemode_Automatic': '0.14117606097950974', 'firemode_Semi': '0.16459399233162858', 'firemode_Single': '0.09101650253441085', 'hiprecoildec': '-322020665.65654093', 'hiprecoilright': '-32272194.721127145', 'hiprecoilup': '-156008609.6818117', 'hipstandbasespreaddec': '-5676758.048560838', 'hipstandbasespreadinc': '-38258.74645194932', 'initialspeed': '-15201407754.49385', 'magsize': '-135312863.2783321', 'reloadempty': '-5997966.564970157', 'rof': '-31154754.456178777', 'shotspershell': '-225862775.46069413', 'type_Shotgun': '-0.012917962656450122', 'type_Pistol': '0.04510995128130499', 'type_Rifle': '0.05985988852410132', 'type_SMG': '-0.0024888223510049906', 'type_Sniper': '0.05985988852410137', 'type_MG': '0.001295499102388492'}\n",
      "Generated a random weapon!\n",
      "{'damages_first': '-2588765.3997642826', 'damages_last': '-21239850.284409016', 'distances_first': '-200693862.4128315', 'distances_last': '-2959161.242280704', 'firemode_Automatic': '0.21724080440425575', 'firemode_Semi': '0.2424830895387599', 'firemode_Single': '0.1617591791280979', 'hiprecoildec': '-76447498.41651338', 'hiprecoilright': '-8779175.19878733', 'hiprecoilup': '-43775684.27998681', 'hipstandbasespreaddec': '-1606303.9758991273', 'hipstandbasespreadinc': '-7152.036621552583', 'initialspeed': '-3632100678.4311523', 'magsize': '-38921142.363813765', 'reloadempty': '-1016937.611624809', 'rof': '-6168914.244987048', 'shotspershell': '-61018919.32650247', 'type_Shotgun': '0.03255947229663438', 'type_Pistol': '0.10848492806247902', 'type_Rifle': '0.12595638757073466', 'type_SMG': '0.04778837370472013', 'type_Sniper': '0.12595638757073468', 'type_MG': '0.05302450033170352'}\n",
      "Generated a random weapon!\n",
      "{'damages_first': '-11562093.296998246', 'damages_last': '-57093166.31634467', 'distances_first': '-663216212.8418894', 'distances_last': '-9414656.764456972', 'firemode_Automatic': '0.16518864271087358', 'firemode_Semi': '0.18918249718235175', 'firemode_Single': '0.11334898177667578', 'hiprecoildec': '-244496631.73647612', 'hiprecoilright': '-24855775.15540777', 'hiprecoilup': '-120578235.86049387', 'hipstandbasespreaddec': '-4391772.302171614', 'hipstandbasespreadinc': '-28438.790733105536', 'initialspeed': '-11549138395.115166', 'magsize': '-104883337.42347103', 'reloadempty': '-4425524.991341145', 'rof': '-23267072.158379175', 'shotspershell': '-173823862.42272943', 'type_Shotgun': '0.0014386311421487608', 'type_Pistol': '0.06511655014910767', 'type_Rifle': '0.08072563412520921', 'type_SMG': '0.013382989281493562', 'type_Sniper': '0.08072563412520925', 'type_MG': '0.017625625439167028'}\n"
     ]
    },
    {
     "name": "stdout",
     "output_type": "stream",
     "text": [
      "Generated a random weapon!\n",
      "{'damages_first': '-19331563.281966753', 'damages_last': '-88136416.48639375', 'distances_first': '-1063686758.4622457', 'distances_last': '-15004085.71122573', 'firemode_Automatic': '0.12011977722852307', 'firemode_Semi': '0.14303268997182877', 'firemode_Single': '0.0714334762255841', 'hiprecoildec': '-390000363.71665823', 'hiprecoilright': '-38775545.19544065', 'hiprecoilup': '-187076989.28927287', 'hipstandbasespreaddec': '-6803543.3644689815', 'hipstandbasespreadinc': '-46869.72282888868', 'initialspeed': '-18404029647.735157', 'magsize': '-161996072.02181566', 'reloadempty': '-7376817.715862212', 'rof': '-38071348.367577', 'shotspershell': '-271494941.6008767', 'type_Shotgun': '-0.025507050997838746', 'type_Pistol': '0.02756645565199531', 'type_Rifle': '0.041563019617291086', 'type_SMG': '-0.0164065831780129', 'type_Sniper': '0.04156301961729117', 'type_MG': '-0.013024151224404604'}\n",
      "Generated a random weapon!\n",
      "Should retrain!\n",
      "{'damages_first': '-29191357.963169686', 'damages_last': '-127531648.53003007', 'distances_first': '-1571901265.156428', 'distances_last': '-22097313.6800491', 'firemode_Automatic': '0.06292543050597366', 'firemode_Semi': '0.08446658127288392', 'firemode_Single': '0.018240880142176896', 'hiprecoildec': '-574650915.8713032', 'hiprecoilright': '-56440337.62913462', 'hiprecoilup': '-271466794.0806171', 'hipstandbasespreaddec': '-9864185.536756761', 'hipstandbasespreadinc': '-70259.37573947283', 'initialspeed': '-27103184216.00923', 'magsize': '-234474611.47317767', 'reloadempty': '-11122136.297979582', 'rof': '-56858617.52607925', 'shotspershell': '-395443780.94914395', 'type_Shotgun': '-0.059702291337171934', 'type_Pistol': '-0.020086244302774697', 'type_Rifle': '-0.008136038230184023', 'type_SMG': '-0.05421084378521074', 'type_Sniper': '-0.00813603823018394', 'type_MG': '-0.05192004830775836'}\n",
      "Num of training samples = 167\n",
      "Epoch:0010 - Cost:11.29\n",
      "Epoch:0020 - Cost:17.00\n",
      "Epoch:0030 - Cost:7.10\n",
      "Epoch:0040 - Cost:6.22\n",
      "Epoch:0050 - Cost:7.74\n",
      "Epoch:0060 - Cost:9.01\n",
      "Epoch:0070 - Cost:8.82\n",
      "Epoch:0080 - Cost:5.44\n",
      "Epoch:0090 - Cost:6.90\n",
      "Epoch:0100 - Cost:4.91\n",
      "Epoch:0110 - Cost:5.91\n",
      "Epoch:0120 - Cost:6.99\n"
     ]
    },
    {
     "data": {
      "image/png": "[encoded data removed]",
      "text/plain": [
       "<matplotlib.figure.Figure at 0x25a8f793748>"
      ]
     },
     "metadata": {},
     "output_type": "display_data"
    }
   ],
   "source": [
    "input_and_train()"
   ]
  },
  {
   "cell_type": "code",
   "execution_count": 6,
   "metadata": {},
   "outputs": [
    {
     "name": "stdout",
     "output_type": "stream",
     "text": [
      "INFO:tensorflow:Restoring parameters from trained_vae/model.ckpt\n",
      "Generated a random weapon!\n",
      "{'damages_first': '1.8629681383332024e+16', 'damages_last': '5.522268376851714e+16', 'distances_first': '2.5479222214969364e+18', 'distances_last': '2.0289379060016307e+17', 'firemode_Automatic': '0.3835281546563598', 'firemode_Semi': '0.4107628430458474', 'firemode_Single': '0.32050412017013785', 'hiprecoildec': '1.5506512377149773e+18', 'hiprecoilright': '1.4058451927721965e+17', 'hiprecoilup': '6.783515555149595e+16', 'hipstandbasespreaddec': '1055897730843939.8', 'hipstandbasespreadinc': '16453146949629.975', 'initialspeed': '1.4029341972277433e+20', 'magsize': '3.364823486525284e+16', 'reloadempty': '872811826499741.1', 'rof': '3632958642370810.0', 'shotspershell': '1.7956510740679654e+18', 'type_Shotgun': '0.14223773496265069', 'type_Pistol': '0.2544979524076424', 'type_Rifle': '0.27689085680079145', 'type_SMG': '0.1677439840033843', 'type_Sniper': '0.2768908568007915', 'type_MG': '0.1760223858069484'}\n"
     ]
    },
    {
     "ename": "KeyboardInterrupt",
     "evalue": "",
     "output_type": "error",
     "traceback": [
      "\u001b[1;31m---------------------------------------------------------------------------\u001b[0m",
      "\u001b[1;31mKeyboardInterrupt\u001b[0m                         Traceback (most recent call last)",
      "\u001b[1;32m<ipython-input-6-2a37f45b02bb>\u001b[0m in \u001b[0;36m<module>\u001b[1;34m()\u001b[0m\n\u001b[1;32m----> 1\u001b[1;33m \u001b[0minput_and_train\u001b[0m\u001b[1;33m(\u001b[0m\u001b[1;33m)\u001b[0m\u001b[1;33m\u001b[0m\u001b[0m\n\u001b[0m",
      "\u001b[1;32m<ipython-input-3-a15fc9188614>\u001b[0m in \u001b[0;36minput_and_train\u001b[1;34m()\u001b[0m\n\u001b[0;32m     31\u001b[0m                 \u001b[0mnew_value\u001b[0m \u001b[1;33m=\u001b[0m \u001b[0mfloat\u001b[0m\u001b[1;33m(\u001b[0m\u001b[0mvalue\u001b[0m\u001b[1;33m)\u001b[0m \u001b[1;33m*\u001b[0m \u001b[0mnp\u001b[0m\u001b[1;33m.\u001b[0m\u001b[0mrandom\u001b[0m\u001b[1;33m.\u001b[0m\u001b[0muniform\u001b[0m\u001b[1;33m(\u001b[0m\u001b[0mlow\u001b[0m\u001b[1;33m=\u001b[0m\u001b[1;36m0.8\u001b[0m\u001b[1;33m,\u001b[0m \u001b[0mhigh\u001b[0m\u001b[1;33m=\u001b[0m\u001b[1;36m5.2\u001b[0m\u001b[1;33m)\u001b[0m\u001b[1;33m\u001b[0m\u001b[0m\n\u001b[0;32m     32\u001b[0m                 \u001b[0mjson_test\u001b[0m\u001b[1;33m[\u001b[0m\u001b[0mkey\u001b[0m\u001b[1;33m]\u001b[0m \u001b[1;33m=\u001b[0m \u001b[0mstr\u001b[0m\u001b[1;33m(\u001b[0m\u001b[0mnew_value\u001b[0m\u001b[1;33m)\u001b[0m\u001b[1;33m\u001b[0m\u001b[0m\n\u001b[1;32m---> 33\u001b[1;33m         \u001b[0mprint\u001b[0m\u001b[1;33m(\u001b[0m\u001b[0mpluginTest\u001b[0m\u001b[1;33m.\u001b[0m\u001b[0monJsonInput\u001b[0m\u001b[1;33m(\u001b[0m\u001b[0mjson_test\u001b[0m\u001b[1;33m)\u001b[0m\u001b[1;33m)\u001b[0m\u001b[1;33m\u001b[0m\u001b[0m\n\u001b[0m\u001b[0;32m     34\u001b[0m     \u001b[0mpluginTest\u001b[0m\u001b[1;33m.\u001b[0m\u001b[0monBeginTraining\u001b[0m\u001b[1;33m(\u001b[0m\u001b[1;33m)\u001b[0m\u001b[1;33m\u001b[0m\u001b[0m\n\u001b[0;32m     35\u001b[0m     \u001b[0mpluginTest\u001b[0m\u001b[1;33m.\u001b[0m\u001b[0mshow_z_distribution\u001b[0m\u001b[1;33m(\u001b[0m\u001b[1;34m\"Trained Latent Space - Z Mean\"\u001b[0m\u001b[1;33m,\u001b[0m \u001b[0mz_mean\u001b[0m\u001b[1;33m=\u001b[0m\u001b[1;32mTrue\u001b[0m\u001b[1;33m)\u001b[0m\u001b[1;33m\u001b[0m\u001b[0m\n",
      "\u001b[1;32m<ipython-input-1-f5346c373754>\u001b[0m in \u001b[0;36monJsonInput\u001b[1;34m(self, jsonInput)\u001b[0m\n\u001b[0;32m     69\u001b[0m \u001b[1;33m\u001b[0m\u001b[0m\n\u001b[0;32m     70\u001b[0m         \u001b[1;31m#encode the json input to a standardized weapon data\u001b[0m\u001b[1;33m\u001b[0m\u001b[1;33m\u001b[0m\u001b[0m\n\u001b[1;32m---> 71\u001b[1;33m         \u001b[0mencoded_json_input\u001b[0m \u001b[1;33m=\u001b[0m \u001b[0mself\u001b[0m\u001b[1;33m.\u001b[0m\u001b[0m__encode_json_input_to_a_standardized_train_data_format\u001b[0m\u001b[1;33m(\u001b[0m\u001b[0mjsonInput\u001b[0m\u001b[1;33m)\u001b[0m\u001b[1;33m\u001b[0m\u001b[0m\n\u001b[0m\u001b[0;32m     72\u001b[0m         \u001b[1;31m#check if the encoded data should be used to generate a new one\u001b[0m\u001b[1;33m\u001b[0m\u001b[1;33m\u001b[0m\u001b[0m\n\u001b[0;32m     73\u001b[0m         \u001b[1;31m#calculate loss requires a batch which has the size of the trained model batch_size\u001b[0m\u001b[1;33m\u001b[0m\u001b[1;33m\u001b[0m\u001b[0m\n",
      "\u001b[1;32m<ipython-input-1-f5346c373754>\u001b[0m in \u001b[0;36m__encode_json_input_to_a_standardized_train_data_format\u001b[1;34m(self, json_input)\u001b[0m\n\u001b[0;32m    154\u001b[0m     \u001b[1;32mdef\u001b[0m \u001b[0m__encode_json_input_to_a_standardized_train_data_format\u001b[0m\u001b[1;33m(\u001b[0m\u001b[0mself\u001b[0m\u001b[1;33m,\u001b[0m \u001b[0mjson_input\u001b[0m\u001b[1;33m)\u001b[0m\u001b[1;33m:\u001b[0m\u001b[1;33m\u001b[0m\u001b[0m\n\u001b[0;32m    155\u001b[0m         \u001b[0mprepared_for_encoding\u001b[0m \u001b[1;33m=\u001b[0m \u001b[0mself\u001b[0m\u001b[1;33m.\u001b[0m\u001b[0m_train_data\u001b[0m\u001b[1;33m.\u001b[0m\u001b[0mprepare_decoded_tensor_dict_for_encoding\u001b[0m\u001b[1;33m(\u001b[0m\u001b[0mjson_input\u001b[0m\u001b[1;33m)\u001b[0m\u001b[1;33m\u001b[0m\u001b[0m\n\u001b[1;32m--> 156\u001b[1;33m         \u001b[0mencoded\u001b[0m\u001b[1;33m,\u001b[0m \u001b[0m_\u001b[0m \u001b[1;33m=\u001b[0m \u001b[0mself\u001b[0m\u001b[1;33m.\u001b[0m\u001b[0m_train_data\u001b[0m\u001b[1;33m.\u001b[0m\u001b[0mencode_features_dict\u001b[0m\u001b[1;33m(\u001b[0m\u001b[0mprepared_for_encoding\u001b[0m\u001b[1;33m)\u001b[0m\u001b[1;33m\u001b[0m\u001b[0m\n\u001b[0m\u001b[0;32m    157\u001b[0m         \u001b[0mencoded_standardized\u001b[0m \u001b[1;33m=\u001b[0m \u001b[0mself\u001b[0m\u001b[1;33m.\u001b[0m\u001b[0m_train_data\u001b[0m\u001b[1;33m.\u001b[0m\u001b[0mstandardize_encoded_data\u001b[0m\u001b[1;33m(\u001b[0m\u001b[0mencoded\u001b[0m\u001b[1;33m[\u001b[0m\u001b[1;36m0\u001b[0m\u001b[1;33m]\u001b[0m\u001b[1;33m)\u001b[0m\u001b[1;33m\u001b[0m\u001b[0m\n\u001b[0;32m    158\u001b[0m         \u001b[1;32mreturn\u001b[0m \u001b[1;33m[\u001b[0m\u001b[0mencoded_standardized\u001b[0m\u001b[1;33m]\u001b[0m\u001b[1;33m\u001b[0m\u001b[0m\n",
      "\u001b[1;32mD:\\_MT\\Game Mechanic Prototype\\TensorFlow Playground\\weapon_data.py\u001b[0m in \u001b[0;36mencode_features_dict\u001b[1;34m(self, features)\u001b[0m\n\u001b[0;32m    268\u001b[0m \u001b[1;33m\u001b[0m\u001b[0m\n\u001b[0;32m    269\u001b[0m         \u001b[1;32mwith\u001b[0m \u001b[0mtf\u001b[0m\u001b[1;33m.\u001b[0m\u001b[0mSession\u001b[0m\u001b[1;33m(\u001b[0m\u001b[1;33m)\u001b[0m \u001b[1;32mas\u001b[0m \u001b[0msess\u001b[0m\u001b[1;33m:\u001b[0m\u001b[1;33m\u001b[0m\u001b[0m\n\u001b[1;32m--> 270\u001b[1;33m             \u001b[0msess\u001b[0m\u001b[1;33m.\u001b[0m\u001b[0mrun\u001b[0m\u001b[1;33m(\u001b[0m\u001b[1;33m(\u001b[0m\u001b[0mvar_init\u001b[0m\u001b[1;33m,\u001b[0m \u001b[0mtable_init\u001b[0m\u001b[1;33m)\u001b[0m\u001b[1;33m)\u001b[0m\u001b[1;33m\u001b[0m\u001b[0m\n\u001b[0m\u001b[0;32m    271\u001b[0m             \u001b[0mweapon_data\u001b[0m \u001b[1;33m=\u001b[0m \u001b[0msess\u001b[0m\u001b[1;33m.\u001b[0m\u001b[0mrun\u001b[0m\u001b[1;33m(\u001b[0m\u001b[0minputs\u001b[0m\u001b[1;33m)\u001b[0m\u001b[1;33m\u001b[0m\u001b[0m\n\u001b[0;32m    272\u001b[0m \u001b[1;33m\u001b[0m\u001b[0m\n",
      "\u001b[1;32mD:\\z_outsourced_programs\\Anaconda3\\lib\\site-packages\\tensorflow\\python\\client\\session.py\u001b[0m in \u001b[0;36mrun\u001b[1;34m(self, fetches, feed_dict, options, run_metadata)\u001b[0m\n\u001b[0;32m    898\u001b[0m     \u001b[1;32mtry\u001b[0m\u001b[1;33m:\u001b[0m\u001b[1;33m\u001b[0m\u001b[0m\n\u001b[0;32m    899\u001b[0m       result = self._run(None, fetches, feed_dict, options_ptr,\n\u001b[1;32m--> 900\u001b[1;33m                          run_metadata_ptr)\n\u001b[0m\u001b[0;32m    901\u001b[0m       \u001b[1;32mif\u001b[0m \u001b[0mrun_metadata\u001b[0m\u001b[1;33m:\u001b[0m\u001b[1;33m\u001b[0m\u001b[0m\n\u001b[0;32m    902\u001b[0m         \u001b[0mproto_data\u001b[0m \u001b[1;33m=\u001b[0m \u001b[0mtf_session\u001b[0m\u001b[1;33m.\u001b[0m\u001b[0mTF_GetBuffer\u001b[0m\u001b[1;33m(\u001b[0m\u001b[0mrun_metadata_ptr\u001b[0m\u001b[1;33m)\u001b[0m\u001b[1;33m\u001b[0m\u001b[0m\n",
      "\u001b[1;32mD:\\z_outsourced_programs\\Anaconda3\\lib\\site-packages\\tensorflow\\python\\client\\session.py\u001b[0m in \u001b[0;36m_run\u001b[1;34m(self, handle, fetches, feed_dict, options, run_metadata)\u001b[0m\n\u001b[0;32m   1133\u001b[0m     \u001b[1;32mif\u001b[0m \u001b[0mfinal_fetches\u001b[0m \u001b[1;32mor\u001b[0m \u001b[0mfinal_targets\u001b[0m \u001b[1;32mor\u001b[0m \u001b[1;33m(\u001b[0m\u001b[0mhandle\u001b[0m \u001b[1;32mand\u001b[0m \u001b[0mfeed_dict_tensor\u001b[0m\u001b[1;33m)\u001b[0m\u001b[1;33m:\u001b[0m\u001b[1;33m\u001b[0m\u001b[0m\n\u001b[0;32m   1134\u001b[0m       results = self._do_run(handle, final_targets, final_fetches,\n\u001b[1;32m-> 1135\u001b[1;33m                              feed_dict_tensor, options, run_metadata)\n\u001b[0m\u001b[0;32m   1136\u001b[0m     \u001b[1;32melse\u001b[0m\u001b[1;33m:\u001b[0m\u001b[1;33m\u001b[0m\u001b[0m\n\u001b[0;32m   1137\u001b[0m       \u001b[0mresults\u001b[0m \u001b[1;33m=\u001b[0m \u001b[1;33m[\u001b[0m\u001b[1;33m]\u001b[0m\u001b[1;33m\u001b[0m\u001b[0m\n",
      "\u001b[1;32mD:\\z_outsourced_programs\\Anaconda3\\lib\\site-packages\\tensorflow\\python\\client\\session.py\u001b[0m in \u001b[0;36m_do_run\u001b[1;34m(self, handle, target_list, fetch_list, feed_dict, options, run_metadata)\u001b[0m\n\u001b[0;32m   1314\u001b[0m     \u001b[1;32mif\u001b[0m \u001b[0mhandle\u001b[0m \u001b[1;32mis\u001b[0m \u001b[1;32mNone\u001b[0m\u001b[1;33m:\u001b[0m\u001b[1;33m\u001b[0m\u001b[0m\n\u001b[0;32m   1315\u001b[0m       return self._do_call(_run_fn, feeds, fetches, targets, options,\n\u001b[1;32m-> 1316\u001b[1;33m                            run_metadata)\n\u001b[0m\u001b[0;32m   1317\u001b[0m     \u001b[1;32melse\u001b[0m\u001b[1;33m:\u001b[0m\u001b[1;33m\u001b[0m\u001b[0m\n\u001b[0;32m   1318\u001b[0m       \u001b[1;32mreturn\u001b[0m \u001b[0mself\u001b[0m\u001b[1;33m.\u001b[0m\u001b[0m_do_call\u001b[0m\u001b[1;33m(\u001b[0m\u001b[0m_prun_fn\u001b[0m\u001b[1;33m,\u001b[0m \u001b[0mhandle\u001b[0m\u001b[1;33m,\u001b[0m \u001b[0mfeeds\u001b[0m\u001b[1;33m,\u001b[0m \u001b[0mfetches\u001b[0m\u001b[1;33m)\u001b[0m\u001b[1;33m\u001b[0m\u001b[0m\n",
      "\u001b[1;32mD:\\z_outsourced_programs\\Anaconda3\\lib\\site-packages\\tensorflow\\python\\client\\session.py\u001b[0m in \u001b[0;36m_do_call\u001b[1;34m(self, fn, *args)\u001b[0m\n\u001b[0;32m   1320\u001b[0m   \u001b[1;32mdef\u001b[0m \u001b[0m_do_call\u001b[0m\u001b[1;33m(\u001b[0m\u001b[0mself\u001b[0m\u001b[1;33m,\u001b[0m \u001b[0mfn\u001b[0m\u001b[1;33m,\u001b[0m \u001b[1;33m*\u001b[0m\u001b[0margs\u001b[0m\u001b[1;33m)\u001b[0m\u001b[1;33m:\u001b[0m\u001b[1;33m\u001b[0m\u001b[0m\n\u001b[0;32m   1321\u001b[0m     \u001b[1;32mtry\u001b[0m\u001b[1;33m:\u001b[0m\u001b[1;33m\u001b[0m\u001b[0m\n\u001b[1;32m-> 1322\u001b[1;33m       \u001b[1;32mreturn\u001b[0m \u001b[0mfn\u001b[0m\u001b[1;33m(\u001b[0m\u001b[1;33m*\u001b[0m\u001b[0margs\u001b[0m\u001b[1;33m)\u001b[0m\u001b[1;33m\u001b[0m\u001b[0m\n\u001b[0m\u001b[0;32m   1323\u001b[0m     \u001b[1;32mexcept\u001b[0m \u001b[0merrors\u001b[0m\u001b[1;33m.\u001b[0m\u001b[0mOpError\u001b[0m \u001b[1;32mas\u001b[0m \u001b[0me\u001b[0m\u001b[1;33m:\u001b[0m\u001b[1;33m\u001b[0m\u001b[0m\n\u001b[0;32m   1324\u001b[0m       \u001b[0mmessage\u001b[0m \u001b[1;33m=\u001b[0m \u001b[0mcompat\u001b[0m\u001b[1;33m.\u001b[0m\u001b[0mas_text\u001b[0m\u001b[1;33m(\u001b[0m\u001b[0me\u001b[0m\u001b[1;33m.\u001b[0m\u001b[0mmessage\u001b[0m\u001b[1;33m)\u001b[0m\u001b[1;33m\u001b[0m\u001b[0m\n",
      "\u001b[1;32mD:\\z_outsourced_programs\\Anaconda3\\lib\\site-packages\\tensorflow\\python\\client\\session.py\u001b[0m in \u001b[0;36m_run_fn\u001b[1;34m(feed_dict, fetch_list, target_list, options, run_metadata)\u001b[0m\n\u001b[0;32m   1305\u001b[0m       \u001b[0mself\u001b[0m\u001b[1;33m.\u001b[0m\u001b[0m_extend_graph\u001b[0m\u001b[1;33m(\u001b[0m\u001b[1;33m)\u001b[0m\u001b[1;33m\u001b[0m\u001b[0m\n\u001b[0;32m   1306\u001b[0m       return self._call_tf_sessionrun(\n\u001b[1;32m-> 1307\u001b[1;33m           options, feed_dict, fetch_list, target_list, run_metadata)\n\u001b[0m\u001b[0;32m   1308\u001b[0m \u001b[1;33m\u001b[0m\u001b[0m\n\u001b[0;32m   1309\u001b[0m     \u001b[1;32mdef\u001b[0m \u001b[0m_prun_fn\u001b[0m\u001b[1;33m(\u001b[0m\u001b[0mhandle\u001b[0m\u001b[1;33m,\u001b[0m \u001b[0mfeed_dict\u001b[0m\u001b[1;33m,\u001b[0m \u001b[0mfetch_list\u001b[0m\u001b[1;33m)\u001b[0m\u001b[1;33m:\u001b[0m\u001b[1;33m\u001b[0m\u001b[0m\n",
      "\u001b[1;32mD:\\z_outsourced_programs\\Anaconda3\\lib\\site-packages\\tensorflow\\python\\client\\session.py\u001b[0m in \u001b[0;36m_call_tf_sessionrun\u001b[1;34m(self, options, feed_dict, fetch_list, target_list, run_metadata)\u001b[0m\n\u001b[0;32m   1407\u001b[0m       return tf_session.TF_SessionRun_wrapper(\n\u001b[0;32m   1408\u001b[0m           \u001b[0mself\u001b[0m\u001b[1;33m.\u001b[0m\u001b[0m_session\u001b[0m\u001b[1;33m,\u001b[0m \u001b[0moptions\u001b[0m\u001b[1;33m,\u001b[0m \u001b[0mfeed_dict\u001b[0m\u001b[1;33m,\u001b[0m \u001b[0mfetch_list\u001b[0m\u001b[1;33m,\u001b[0m \u001b[0mtarget_list\u001b[0m\u001b[1;33m,\u001b[0m\u001b[1;33m\u001b[0m\u001b[0m\n\u001b[1;32m-> 1409\u001b[1;33m           run_metadata)\n\u001b[0m\u001b[0;32m   1410\u001b[0m     \u001b[1;32melse\u001b[0m\u001b[1;33m:\u001b[0m\u001b[1;33m\u001b[0m\u001b[0m\n\u001b[0;32m   1411\u001b[0m       \u001b[1;32mwith\u001b[0m \u001b[0merrors\u001b[0m\u001b[1;33m.\u001b[0m\u001b[0mraise_exception_on_not_ok_status\u001b[0m\u001b[1;33m(\u001b[0m\u001b[1;33m)\u001b[0m \u001b[1;32mas\u001b[0m \u001b[0mstatus\u001b[0m\u001b[1;33m:\u001b[0m\u001b[1;33m\u001b[0m\u001b[0m\n",
      "\u001b[1;31mKeyboardInterrupt\u001b[0m: "
     ]
    }
   ],
   "source": [
    "input_and_train()"
   ]
  },
  {
   "cell_type": "code",
   "execution_count": null,
   "metadata": {},
   "outputs": [],
   "source": [
    "input_and_train()"
   ]
  },
  {
   "cell_type": "code",
   "execution_count": null,
   "metadata": {},
   "outputs": [],
   "source": [
    "input_and_train()"
   ]
  },
  {
   "cell_type": "code",
   "execution_count": null,
   "metadata": {},
   "outputs": [],
   "source": [
    "input_and_train()"
   ]
  },
  {
   "cell_type": "code",
   "execution_count": null,
   "metadata": {},
   "outputs": [],
   "source": [
    "input_and_train()"
   ]
  },
  {
   "cell_type": "code",
   "execution_count": null,
   "metadata": {},
   "outputs": [],
   "source": [
    "input_and_train()"
   ]
  },
  {
   "cell_type": "code",
   "execution_count": null,
   "metadata": {},
   "outputs": [],
   "source": [
    "input_and_train()"
   ]
  },
  {
   "cell_type": "code",
   "execution_count": null,
   "metadata": {},
   "outputs": [],
   "source": [
    "input_and_train()"
   ]
  },
  {
   "cell_type": "code",
   "execution_count": null,
   "metadata": {},
   "outputs": [],
   "source": [
    "pluginTest.onJsonInput(json_test)"
   ]
  },
  {
   "cell_type": "code",
   "execution_count": null,
   "metadata": {},
   "outputs": [],
   "source": []
  }
 ],
 "metadata": {
  "kernelspec": {
   "display_name": "Python 3",
   "language": "python",
   "name": "python3"
  },
  "language_info": {
   "codemirror_mode": {
    "name": "ipython",
    "version": 3
   },
   "file_extension": ".py",
   "mimetype": "text/x-python",
   "name": "python",
   "nbconvert_exporter": "python",
   "pygments_lexer": "ipython3",
   "version": "3.6.4"
  }
 },
 "nbformat": 4,
 "nbformat_minor": 2
}
