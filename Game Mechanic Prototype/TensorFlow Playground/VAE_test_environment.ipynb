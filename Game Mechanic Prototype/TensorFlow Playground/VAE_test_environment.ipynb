{
 "cells": [
  {
   "cell_type": "code",
   "execution_count": 1,
   "metadata": {},
   "outputs": [],
   "source": [
    "%config IPCompleter.greedy=True"
   ]
  },
  {
   "cell_type": "code",
   "execution_count": 2,
   "metadata": {},
   "outputs": [
    {
     "name": "stderr",
     "output_type": "stream",
     "text": [
      "D:\\z_outsourced_programs\\Anaconda3\\lib\\site-packages\\h5py\\__init__.py:36: FutureWarning: Conversion of the second argument of issubdtype from `float` to `np.floating` is deprecated. In future, it will be treated as `np.float64 == np.dtype(float).type`.\n",
      "  from ._conv import register_converters as _register_converters\n"
     ]
    },
    {
     "name": "stdout",
     "output_type": "stream",
     "text": [
      "Tensor Flow version 1.8.0\n"
     ]
    }
   ],
   "source": [
    "from __future__ import absolute_import\n",
    "from __future__ import division\n",
    "from __future__ import print_function\n",
    "\n",
    "import numpy as np\n",
    "import tensorflow as tf\n",
    "import variational_autoencoder as vae\n",
    "\n",
    "print(\"Tensor Flow version {}\".format(tf.__version__))\n",
    "\n"
   ]
  },
  {
   "cell_type": "code",
   "execution_count": 3,
   "metadata": {},
   "outputs": [],
   "source": [
    "#test utils\n",
    "import weapon_data as weapons\n",
    "\n",
    "def print_decoded_tensors_as_dict(weapon_data, array_of_tensors):\n",
    "    genDict = {}\n",
    "    \n",
    "    for tensor in array_of_tensors:\n",
    "        decoded, _ = weapon_data.decode_processed_tensor(tensor)\n",
    "        \n",
    "        for key, value in decoded.items():\n",
    "            if key not in genDict:\n",
    "                genDict[key] = []\n",
    "            genDict[key].append(value)\n",
    "    \n",
    "    for key, value in genDict.items():\n",
    "            print(key, \"=\", value)\n",
    "            \n",
    "            \n",
    "def get_weapon_data():\n",
    "    return weapons.get_data()"
   ]
  },
  {
   "cell_type": "code",
   "execution_count": 4,
   "metadata": {},
   "outputs": [
    {
     "name": "stdout",
     "output_type": "stream",
     "text": [
      "Epoch:0001 - Cost:23.721057411\n",
      "Epoch:0002 - Cost:17.459637409\n",
      "Epoch:0003 - Cost:16.314922303\n",
      "Epoch:0004 - Cost:15.568019537\n",
      "Epoch:0005 - Cost:14.469770086\n",
      "Epoch:0006 - Cost:14.109629593\n",
      "Epoch:0007 - Cost:13.291733569\n",
      "Epoch:0008 - Cost:12.337518842\n",
      "Epoch:0009 - Cost:12.884009939\n",
      "Epoch:0010 - Cost:11.449108710\n",
      "Epoch:0011 - Cost:12.617828189\n",
      "Epoch:0012 - Cost:11.225397425\n",
      "Epoch:0013 - Cost:12.049022179\n",
      "Epoch:0014 - Cost:11.804731354\n",
      "Epoch:0015 - Cost:10.872297287\n",
      "Epoch:0016 - Cost:11.365120430\n",
      "Epoch:0017 - Cost:10.359257480\n",
      "Epoch:0018 - Cost:11.645253414\n",
      "Epoch:0019 - Cost:10.396168416\n",
      "Epoch:0020 - Cost:11.079435589\n",
      "Epoch:0021 - Cost:11.569516325\n",
      "Epoch:0022 - Cost:9.732325606\n",
      "Epoch:0023 - Cost:10.834690800\n",
      "Epoch:0024 - Cost:10.803492614\n",
      "Epoch:0025 - Cost:10.141385687\n",
      "Epoch:0026 - Cost:10.028522597\n",
      "Epoch:0027 - Cost:11.094065509\n",
      "Epoch:0028 - Cost:10.418133848\n",
      "Epoch:0029 - Cost:10.210249968\n",
      "Epoch:0030 - Cost:9.825441285\n",
      "Epoch:0031 - Cost:10.134525795\n",
      "Epoch:0032 - Cost:9.293142634\n",
      "Epoch:0033 - Cost:10.350574493\n",
      "Epoch:0034 - Cost:10.157454934\n",
      "Epoch:0035 - Cost:9.372335329\n",
      "Epoch:0036 - Cost:10.140681800\n",
      "Epoch:0037 - Cost:10.012516442\n",
      "Epoch:0038 - Cost:10.023136965\n",
      "Epoch:0039 - Cost:9.272965153\n",
      "Epoch:0040 - Cost:9.457994506\n",
      "Epoch:0041 - Cost:9.694907857\n",
      "Epoch:0042 - Cost:9.141374137\n",
      "Epoch:0043 - Cost:9.295765344\n",
      "Epoch:0044 - Cost:9.757113810\n",
      "Epoch:0045 - Cost:9.413329477\n",
      "Epoch:0046 - Cost:9.206663282\n",
      "Epoch:0047 - Cost:9.607807355\n",
      "Epoch:0048 - Cost:9.183495289\n",
      "Epoch:0049 - Cost:9.712569034\n",
      "Epoch:0050 - Cost:9.289003297\n",
      "Epoch:0051 - Cost:9.394887774\n",
      "Epoch:0052 - Cost:9.596525763\n",
      "Epoch:0053 - Cost:9.997639513\n",
      "Epoch:0054 - Cost:9.153820188\n",
      "Epoch:0055 - Cost:9.654062331\n",
      "Epoch:0056 - Cost:8.852898455\n",
      "Epoch:0057 - Cost:9.079850595\n",
      "Epoch:0058 - Cost:9.071227276\n",
      "Epoch:0059 - Cost:9.693910869\n",
      "Epoch:0060 - Cost:9.301700187\n",
      "Epoch:0061 - Cost:9.326167760\n",
      "Epoch:0062 - Cost:9.101024162\n",
      "Epoch:0063 - Cost:9.090826455\n",
      "Epoch:0064 - Cost:9.231636453\n",
      "Epoch:0065 - Cost:9.098657968\n",
      "Epoch:0066 - Cost:8.672678174\n",
      "Epoch:0067 - Cost:8.887555130\n",
      "Epoch:0068 - Cost:9.860470899\n",
      "Epoch:0069 - Cost:9.074189419\n",
      "Epoch:0070 - Cost:8.927676794\n",
      "Epoch:0071 - Cost:9.233556192\n",
      "Epoch:0072 - Cost:8.379782744\n",
      "Epoch:0073 - Cost:9.051337986\n",
      "Epoch:0074 - Cost:9.347485700\n",
      "Epoch:0075 - Cost:8.916359368\n",
      "Epoch:0076 - Cost:9.534258940\n",
      "Epoch:0077 - Cost:8.799086338\n",
      "Epoch:0078 - Cost:9.353558578\n",
      "Epoch:0079 - Cost:8.998296798\n",
      "Epoch:0080 - Cost:8.965216884\n",
      "Epoch:0081 - Cost:8.654354846\n",
      "Epoch:0082 - Cost:8.909977275\n",
      "Epoch:0083 - Cost:9.527733645\n",
      "Epoch:0084 - Cost:9.028637773\n",
      "Epoch:0085 - Cost:8.588139016\n",
      "Epoch:0086 - Cost:9.147389014\n",
      "Epoch:0087 - Cost:9.211984649\n",
      "Epoch:0088 - Cost:8.927549077\n",
      "Epoch:0089 - Cost:9.123377432\n",
      "Epoch:0090 - Cost:8.345052359\n",
      "Epoch:0091 - Cost:9.196256908\n",
      "Epoch:0092 - Cost:9.243219511\n",
      "Epoch:0093 - Cost:8.875957369\n",
      "Epoch:0094 - Cost:9.154655817\n",
      "Epoch:0095 - Cost:8.941920964\n",
      "Epoch:0096 - Cost:9.230627766\n",
      "Epoch:0097 - Cost:8.826624307\n",
      "Epoch:0098 - Cost:8.618747681\n",
      "Epoch:0099 - Cost:9.418598761\n",
      "Epoch:0100 - Cost:8.401496572\n",
      "Trained model saved! You can find it in 'trained_vae/model.ckpt'\n"
     ]
    }
   ],
   "source": [
    "network_architecture = \\\n",
    "    dict(n_input=0, #set it in with scope\n",
    "         n_hidden_1=26,\n",
    "         n_hidden_2=12,\n",
    "         n_z=2)  \n",
    "\n",
    "learning_rate = 0.01\n",
    "optimizer =  tf.train.RMSPropOptimizer(learning_rate)\n",
    "transfer_fct = tf.nn.elu\n",
    "num_epochs = 100\n",
    "batch_size = 4\n",
    "epoch_debug_step = 1\n",
    "    \n",
    "with tf.Session() as sess:\n",
    "    train_data, test_data = get_weapon_data()\n",
    "    network_architecture['n_input'] = train_data.num_features\n",
    "  \n",
    "    network = vae.get_new_trained(sess, train_data, network_architecture, optimizer, \n",
    "                              transfer_fct, batch_size, num_epochs, epoch_debug_step)\n"
   ]
  },
  {
   "cell_type": "code",
   "execution_count": 5,
   "metadata": {},
   "outputs": [
    {
     "name": "stdout",
     "output_type": "stream",
     "text": [
      "INFO:tensorflow:Restoring parameters from trained_vae/model.ckpt\n",
      "damages_first = ['53.0', '38.0', '26.5', '80.0', '33.54171915208097', '22.9417303179533', '26.30971692785881', '31.32514793544796']\n",
      "damages_last = ['38.0', '21.5', '23.0', '80.0', '25.592233039872163', '12.212289190820734', '18.787008627949895', '13.008203006077332']\n",
      "dmg_distances_first = ['66.0', '10.0', '11.0', '0.0', '52.82091890530678', '6.325438159549687', '17.383235462518435', '13.189530193284142']\n",
      "dmg_distances_last = ['89.0', '47.0', '35.0', '115.0', '65.23942536302799', '29.09563548667389', '33.49498553421313', '38.09845333791813']\n",
      "firemode_Automatic = ['0.0', '1.0', '1.0', '0.0', '0.20620344596667695', '0.6787885441099946', '1.2071597476773168', '0.01753992349233857']\n",
      "firemode_Semi-Automatic = ['1.0', '0.0', '0.0', '0.0', '0.8128540337304877', '0.44223334189988694', '-0.09637685592308592', '0.9745681800087188']\n",
      "firemode_Single-Action = ['0.0', '0.0', '0.0', '1.0', '-0.06215683039630843', '-0.07722632254817435', '-0.02670679615356475', '-0.04324244666482174']\n",
      "hiprecoildec = ['3.0', '8.0', '6.0', '4.5', '3.8089059050559433', '7.220460262404532', '6.6430066339624885', '5.08411272803328']\n",
      "hiprecoilright = ['0.8999999761581421', '0.4000000059604645', '0.09600000083446497', '1.0', '0.3389479735084627', '0.3789264513414679', '0.2767097484771883', '0.5367598117493108']\n",
      "hiprecoilup = ['1.5', '0.7499999999999998', '0.2800000011920929', '5.0', '0.26148187784913013', '0.44879320781433085', '0.20093341002202791', '1.4895679200851368']\n",
      "hipstandbasespreaddec = ['3.0', '2.700000047683716', '10.800000190734863', '10.050000190734863', '3.774227737075907', '3.787504228284842', '8.591894740976507', '5.243858733344627']\n",
      "hipstandbasespreadinc = ['0.10000000149011612', '0.04500000178813934', '0.18000000715255737', '1.0', '0.07389429866373781', '0.09548803996859914', '0.1627431784654304', '0.12903907588126068']\n",
      "initialspeed = ['720.0', '570.0', '820.0', '740.0', '832.8991100135436', '391.25275798244735', '749.6203484214086', '405.1294022160446']\n",
      "magsize = ['6.0', '9.0', '30.0', '10.0', '31.878385104040383', '35.19864013215257', '69.13485440637187', '30.725080237388568']\n",
      "reloadempty = ['3.299999952316284', '3.9000000953674316', '3.9000000953674316', '5.399933338165283', '4.023641271688275', '2.795762201332975', '4.561185625373721', '2.9926996211266754']\n",
      "rof = ['179.0', '449.0', '450.0', '52.0', '302.433983539127', '556.7004195623837', '520.3299152681681', '346.7026741314752']\n",
      "shotspershell = ['1.0', '1.0', '1.0', '1.0', '0.8592311072052499', '1.403101474439315', '1.2752708207130112', '0.6641710249306636']\n",
      "type_Shotgun = ['0.0', '0.0', '0.0', '0.0', '-0.012321493164280203', '-0.012388365006935173', '-0.00335281029421039', '-0.036113381999861416']\n",
      "type_Pistol = ['0.0', '0.0', '0.0', '0.0', '-0.016017873981935354', '0.5325489203982642', '-0.013478673635624355', '0.937611925292855']\n",
      "type_Rifle = ['1.0', '-2.7755575615628914e-17', '-2.7755575615628914e-17', '-2.7755575615628914e-17', '1.1698462824959186', '0.04792164635822732', '0.30150438371929067', '0.1021478862524049']\n",
      "type_Submachine Gun = ['0.0', '1.0', '0.0', '0.0', '-0.02280150242387692', '0.352325022193457', '0.003613592783690389', '-0.028510147971402278']\n",
      "type_Sniper Rifle = ['0.0', '0.0', '0.0', '1.0', '-0.08644482029442302', '0.003715886244111677', '0.00795326185167633', '-0.030515103955807504']\n",
      "type_Light Machine Gun = ['-2.7755575615628914e-17', '-2.7755575615628914e-17', '1.0', '-2.7755575615628914e-17', '-0.003993708085883868', '0.05117122945902186', '0.8200856490660833', '0.04977722181354555']\n",
      "INFO:tensorflow:Restoring parameters from trained_vae/model.ckpt\n",
      "damages_first = ['53.0', '34.1162522465781']\n",
      "damages_last = ['38.0', '26.186358537028376']\n",
      "dmg_distances_first = ['66.0', '51.39711436869372']\n",
      "dmg_distances_last = ['89.0', '65.9450463866744']\n",
      "firemode_Automatic = ['0.0', '0.1998381637499001']\n",
      "firemode_Semi-Automatic = ['1.0', '0.8007478730262805']\n",
      "firemode_Single-Action = ['0.0', '-0.0449192766405864']\n",
      "hiprecoildec = ['3.0', '3.8193085558283233']\n",
      "hiprecoilright = ['0.8999999761581421', '0.3517399455327281']\n",
      "hiprecoilup = ['1.5', '0.3480086291743283']\n",
      "hipstandbasespreaddec = ['3.0', '3.813882819327609']\n",
      "hipstandbasespreadinc = ['0.10000000149011612', '0.08908571028233148']\n",
      "initialspeed = ['720.0', '825.3043090769986']\n",
      "magsize = ['6.0', '31.085054892985617']\n",
      "reloadempty = ['3.299999952316284', '3.9995924246367296']\n",
      "rof = ['179.0', '299.10982991277876']\n",
      "shotspershell = ['1.0', '0.8634170623491708']\n",
      "type_Shotgun = ['0.0', '-0.015590042562034417']\n",
      "type_Pistol = ['0.0', '-0.0038919565254624533']\n",
      "type_Rifle = ['1.0', '1.1345152423704112']\n",
      "type_Submachine Gun = ['0.0', '-0.020135403241250155']\n",
      "type_Sniper Rifle = ['0.0', '-0.06410471191209066']\n",
      "type_Light Machine Gun = ['-2.7755575615628914e-17', '-0.007443909376446872']\n"
     ]
    }
   ],
   "source": [
    "with tf.Session(graph=tf.Graph()) as sess:\n",
    "    network = vae.get_untrained(sess, network_architecture, optimizer, transfer_fct, batch_size)\n",
    "    network = vae.restore(network, \"trained_vae/model.ckpt\")\n",
    "        \n",
    "    train_data, test_data = get_weapon_data()\n",
    "    \n",
    "    samples = test_data.next_batch(batch_size)\n",
    "    x_reconstructed = network.encode_and_decode(samples, True)\n",
    "    print_decoded_tensors_as_dict(test_data, np.concatenate((samples,x_reconstructed), axis=0))\n",
    "\n",
    "\n",
    "with tf.Session(graph=tf.Graph()) as sess:\n",
    "    network = vae.get_untrained(sess, network_architecture, optimizer, transfer_fct, batch_size)\n",
    "    network = vae.restore(network, \"trained_vae/model.ckpt\")\n",
    "\n",
    "    train_data, test_data = get_weapon_data()\n",
    "    \n",
    "    samples = test_data.next_batch(1)\n",
    "    x_reconstructed_mean = network.encode_and_decode(samples, False)\n",
    "    print_decoded_tensors_as_dict(test_data, np.concatenate((samples,[x_reconstructed_mean]), axis=0))"
   ]
  },
  {
   "cell_type": "code",
   "execution_count": 6,
   "metadata": {},
   "outputs": [
    {
     "name": "stdout",
     "output_type": "stream",
     "text": [
      "INFO:tensorflow:Restoring parameters from trained_vae/model.ckpt\n",
      "Random Cost = 15537072128.00\n",
      "Random Cost = 1183886336.00\n",
      "Random Cost = 2653965312.00\n",
      "Random Cost = 1514938752.00\n",
      "Random Cost = 373032320.00\n",
      "Random input average cost = 1250.00\n",
      "Test data input average cost = 15.11\n"
     ]
    }
   ],
   "source": [
    "with tf.Session(graph=tf.Graph()) as sess:\n",
    "    network = vae.get_untrained(sess, network_architecture, optimizer, transfer_fct, batch_size)\n",
    "    network = vae.restore(network, \"trained_vae/model.ckpt\")\n",
    "    \n",
    "    avg_cost_rand = 0.\n",
    "    avg_cost = 0.\n",
    "\n",
    "    _, test_data = get_weapon_data()\n",
    "    num_samples = test_data.num_examples\n",
    "    total_batch = int(num_samples / batch_size)\n",
    "\n",
    "    # Loop over all batches\n",
    "    for i in range(total_batch):\n",
    "        batch = test_data.next_batch(batch_size)\n",
    "        cost = network.calculate_loss(batch)        \n",
    "\n",
    "        rand_sample = np.random.uniform(low=test_data.standardized_min_values, \n",
    "                                       high=test_data.standardized_max_values, \n",
    "                                       size=(batch_size,network_architecture[\"n_input\"]))\n",
    "        cost_rand = network.calculate_loss(rand_sample)\n",
    "\n",
    "        print(\"Random Cost = \" + \"{:.2f}\".format(cost_rand))\n",
    "\n",
    "        #compute average loss/cost\n",
    "        avg_cost_rand += min(cost_rand,1000) / batch_size\n",
    "        avg_cost += cost / batch_size\n",
    "    \n",
    "    print(\"Random input average cost = \" + \"{:.2f}\".format(avg_cost_rand))   \n",
    "    print(\"Test data input average cost = \" + \"{:.2f}\".format(avg_cost))\n"
   ]
  },
  {
   "cell_type": "code",
   "execution_count": 7,
   "metadata": {},
   "outputs": [
    {
     "name": "stdout",
     "output_type": "stream",
     "text": [
      "INFO:tensorflow:Restoring parameters from trained_vae/model.ckpt\n"
     ]
    },
    {
     "data": {
      "image/png": "[encoded data removed]",
      "text/plain": [
       "<matplotlib.figure.Figure at 0x22c1dbe7c18>"
      ]
     },
     "metadata": {},
     "output_type": "display_data"
    },
    {
     "data": {
      "image/png": "[encoded data removed]",
      "text/plain": [
       "<matplotlib.figure.Figure at 0x22c20ff8ba8>"
      ]
     },
     "metadata": {},
     "output_type": "display_data"
    },
    {
     "data": {
      "image/png": "[encoded data removed]",
      "text/plain": [
       "<matplotlib.figure.Figure at 0x22c213f5630>"
      ]
     },
     "metadata": {},
     "output_type": "display_data"
    }
   ],
   "source": [
    "import matplotlib.pyplot as plt\n",
    "%matplotlib inline\n",
    "\n",
    "def show_z_distribution(vae_model, title, z_mean=True):\n",
    "    all_z = np.zeros((batch_size,network_architecture['n_z']))\n",
    "        \n",
    "    train_data, test_data = get_weapon_data()\n",
    "    total_batch = int(train_data.num_examples / batch_size) \n",
    "\n",
    "    # Loop over all batches\n",
    "    for i in range(total_batch):\n",
    "        batch = train_data.next_batch(batch_size)\n",
    "        z_dist = vae_model.calculate_z(batch)\n",
    "        if z_mean:\n",
    "            z_dist = vae_model.calculate_z_mean(batch)\n",
    "        all_z = np.vstack((all_z, z_dist))\n",
    "\n",
    "    plt.figure(figsize=(15,5))\n",
    "    plt.subplot(1,2,1)\n",
    "    plt.scatter(all_z[:,0], all_z[:,1])\n",
    "    plt.xlim(-3,3)\n",
    "    plt.ylim(-3,3)\n",
    "    plt.title(title)\n",
    "    plt.subplot(1,2,2)\n",
    "    plt.hist2d(all_z[:,0], all_z[:,1], (50, 50), cmap=plt.cm.jet)\n",
    "    plt.colorbar()\n",
    "    plt.title(title)\n",
    "    \n",
    "with tf.Session(graph=tf.Graph()) as sess:\n",
    "    network = vae.get_untrained(sess, network_architecture, optimizer, transfer_fct, batch_size)\n",
    "    show_z_distribution(network, \"Untrained Latent Space\", z_mean=True)\n",
    "    network = vae.restore(network, \"trained_vae/model.ckpt\")\n",
    "    show_z_distribution(network, \"Trained Latent Space - Z Mean\", z_mean=True)    \n",
    "    show_z_distribution(network, \"Trained Latent Space - Z\", z_mean=False)"
   ]
  },
  {
   "cell_type": "code",
   "execution_count": 8,
   "metadata": {},
   "outputs": [
    {
     "name": "stdout",
     "output_type": "stream",
     "text": [
      "INFO:tensorflow:Restoring parameters from trained_vae/model.ckpt\n",
      "damages_first = ['78.67190383555153']\n",
      "damages_last = ['59.71944221334367']\n",
      "dmg_distances_first = ['9.204467842506817']\n",
      "dmg_distances_last = ['101.25927458033479']\n",
      "firemode_Automatic = ['0.03608744581964407']\n",
      "firemode_Semi-Automatic = ['0.11947373846962106']\n",
      "firemode_Single-Action = ['0.8268295832092816']\n",
      "hiprecoildec = ['3.6911539005656913']\n",
      "hiprecoilright = ['1.0035564846280982']\n",
      "hiprecoilup = ['5.18911164140915']\n",
      "hipstandbasespreaddec = ['8.65771344049021']\n",
      "hipstandbasespreadinc = ['0.8263970718270051']\n",
      "initialspeed = ['608.045052447358']\n",
      "magsize = ['2.6426231186116276']\n",
      "reloadempty = ['3.6635589239688886']\n",
      "rof = ['73.58512396207433']\n",
      "shotspershell = ['1.0345710360507374']\n",
      "type_Shotgun = ['0.01136397841741292']\n",
      "type_Pistol = ['0.14742341391154412']\n",
      "type_Rifle = ['0.0005416243492631923']\n",
      "type_Submachine Gun = ['0.026887180286681397']\n",
      "type_Sniper Rifle = ['0.7996025611277889']\n",
      "type_Light Machine Gun = ['0.009231631380441321']\n"
     ]
    }
   ],
   "source": [
    "# Testing single input in latent space\n",
    "with tf.Session(graph=tf.Graph()) as sess:\n",
    "    network = vae.get_untrained(sess, network_architecture, optimizer, transfer_fct, batch_size)\n",
    "    network = vae.restore(network, \"trained_vae/model.ckpt\")\n",
    "    \n",
    "    generated = []\n",
    "\n",
    "    random_val = np.random.normal(size=(1,network_architecture[\"n_z\"]))\n",
    "    x_test = network.decode_from_latent_space(random_val, False)\n",
    "    #[generated.append(x) for x in x_test]\n",
    "    generated.append(x_test)  \n",
    "    \n",
    "    train_data, test_data = get_weapon_data()\n",
    "    print_decoded_tensors_as_dict(train_data, generated)"
   ]
  },
  {
   "cell_type": "code",
   "execution_count": 9,
   "metadata": {},
   "outputs": [
    {
     "name": "stdout",
     "output_type": "stream",
     "text": [
      "INFO:tensorflow:Restoring parameters from trained_vae/model.ckpt\n",
      "damages_first = ['88.77761178087296', '29.5803214635597', '28.48970577410401', '31.04438006779946', '31.867614454483476', '31.548150859283048', '83.42659580728042', '30.354659899928052']\n",
      "damages_last = ['48.65950414572923', '13.958906690324124', '16.25857518160927', '14.118948636335734', '22.433694200014536', '19.74206309510837', '67.83638688074315', '19.04031528298434']\n",
      "dmg_distances_first = ['9.2097754446756', '11.954228411519267', '7.329175618103135', '13.650649019887574', '12.836783834035222', '8.785232690855896', '7.2181842397626905', '7.804478881149748']\n",
      "dmg_distances_last = ['76.25055424161513', '39.30724605275425', '35.81494177962013', '41.36300490579431', '37.987705156053394', '34.39548923823533', '120.19969670005418', '35.29416795001319']\n",
      "firemode_Automatic = ['0.03778478891814213', '0.25604104549928236', '0.6183910527290657', '0.13468037580444644', '1.0112138495954175', '0.9629258636497753', '0.03800992902200845', '0.8930319721103479']\n",
      "firemode_Semi-Automatic = ['0.03889965532063189', '0.8154221077797212', '0.39911606469981176', '0.9349586923061786', '-0.05684959705047071', '-0.006698769178758279', '-0.0181421745348731', '0.0748986929073297']\n",
      "firemode_Single-Action = ['0.891944477582213', '-0.06972819082435816', '-0.008318611191362124', '-0.07136632716916819', '0.035532202818211706', '0.04534054085375766', '0.9548077401000263', '0.038394693612378766']\n",
      "hiprecoildec = ['4.916687302662586', '6.099131296667215', '8.076288876647157', '5.529230544722217', '7.149271745826377', '9.302946251190843', '3.5652921098834094', '9.267691737416559']\n",
      "hiprecoilright = ['1.1864344692371063', '0.3595744621511303', '0.34395070316987625', '0.3861868869645162', '0.2916129217923722', '0.3587874585209311', '1.0061353831019093', '0.3431717886663187']\n",
      "hiprecoilup = ['6.748774089711818', '0.939343807224706', '0.813025603474955', '1.0763447077307415', '0.7730231251230177', '0.7583761709863774', '5.396651179723521', '0.7186427088452567']\n",
      "hipstandbasespreaddec = ['9.792346940351175', '3.9781131358234094', '3.5417500419070653', '4.1635318831966455', '10.72921623050466', '5.858515280889103', '8.471106214882763', '4.266825322593097']\n",
      "hipstandbasespreadinc = ['0.6461336762014026', '0.0740236853683432', '0.10285668452112201', '0.07613585427844105', '0.22042226285480795', '0.1344715937740041', '0.9208982741904146', '0.11660605104325217']\n",
      "initialspeed = ['481.89854465359656', '397.6152695034094', '391.99629478226063', '402.48697926513603', '709.2200415750584', '514.4899276540649', '683.8986000949767', '456.23251364539783']\n",
      "magsize = ['1.5842568932485008', '13.985501429088846', '17.68149173053498', '14.429341435813384', '49.45447062625455', '37.725332763165014', '2.8999624882821777', '27.09853100477331']\n",
      "reloadempty = ['3.532590109372454', '2.794784226352557', '2.8604475113094256', '2.851922194691169', '4.430426649104536', '3.690267247175815', '3.666930638212971', '3.23792840502197']\n",
      "rof = ['111.86195058935911', '432.9142814224607', '560.779695286584', '389.9488885565246', '494.4817768856202', '630.5305235704927', '67.07658131194606', '635.4890025863438']\n",
      "shotspershell = ['0.36362692682019193', '0.7442481730345025', '0.9620295304439543', '0.6965349952151731', '1.0307749892134794', '0.7677831756638847', '0.9002823576279527', '0.8110035644042874']\n",
      "type_Shotgun = ['0.23724955005610657', '-0.033744605106628967', '-0.020555873118403595', '-0.035796187962765125', '-0.026608977047039822', '-0.02198803388846314', '0.020393108381369', '-0.01908298475340274']\n",
      "type_Pistol = ['0.24745333955647023', '0.7149808790069893', '0.44428520159276513', '0.7770290965280653', '0.051051199467152614', '0.10790192192250164', '0.015296866399378328', '0.17705411002666324']\n",
      "type_Rifle = ['-0.005320576695112017', '0.18524200266241866', '0.08718016444283261', '0.21141349022723882', '0.13839405913487357', '0.07368193988185845', '-0.010389041222492956', '0.09303996356104369']\n",
      "type_Submachine Gun = ['0.08077911110086711', '0.16191638358653937', '0.43378511943330744', '0.09659900971493866', '-0.021072309587389995', '0.5015405407719082', '0.016143231700012833', '0.5622551302182838']\n",
      "type_Sniper Rifle = ['0.4168774193466339', '-0.012612774489338896', '0.061348812140913644', '-0.022645545016795027', '0.08622741290775238', '0.06716865421658152', '0.9086714261550998', '0.07441834292171573']\n",
      "type_Light Machine Gun = ['-0.007402526952028227', '0.008555466665091369', '0.014079837117746102', '-0.0037319453398002023', '0.697441528929111', '0.23169104901031737', '0.04128180724210044', '0.10070692789700639']\n"
     ]
    }
   ],
   "source": [
    "# Testing batch input in latent space\n",
    "with tf.Session(graph=tf.Graph()) as sess:\n",
    "    network = vae.get_untrained(sess, network_architecture, optimizer, transfer_fct, batch_size)\n",
    "    network = vae.restore(network, \"trained_vae/model.ckpt\")\n",
    "    \n",
    "    generated = []\n",
    "\n",
    "    random_val = np.random.normal(size=(batch_size,network_architecture[\"n_z\"]))\n",
    "    x_test = network.decode_from_latent_space(random_val, True)\n",
    "    [generated.append(x) for x in x_test]\n",
    "    \n",
    "    \n",
    "    random_val = np.random.normal(size=(batch_size,network_architecture[\"n_z\"]))\n",
    "    x_test = network.decode_from_latent_space(random_val, True)\n",
    "    [generated.append(x) for x in x_test]\n",
    "    \n",
    "    train_data, test_data = get_weapon_data()\n",
    "    print_decoded_tensors_as_dict(train_data, generated)"
   ]
  },
  {
   "cell_type": "code",
   "execution_count": null,
   "metadata": {},
   "outputs": [],
   "source": []
  }
 ],
 "metadata": {
  "kernelspec": {
   "display_name": "Python 3",
   "language": "python",
   "name": "python3"
  },
  "language_info": {
   "codemirror_mode": {
    "name": "ipython",
    "version": 3
   },
   "file_extension": ".py",
   "mimetype": "text/x-python",
   "name": "python",
   "nbconvert_exporter": "python",
   "pygments_lexer": "ipython3",
   "version": "3.6.4"
  }
 },
 "nbformat": 4,
 "nbformat_minor": 2
}
