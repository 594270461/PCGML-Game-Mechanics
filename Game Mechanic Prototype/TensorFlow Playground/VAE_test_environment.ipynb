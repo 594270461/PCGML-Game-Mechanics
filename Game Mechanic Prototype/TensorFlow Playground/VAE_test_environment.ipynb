{
 "cells": [
  {
   "cell_type": "code",
   "execution_count": 1,
   "metadata": {},
   "outputs": [],
   "source": [
    "%config IPCompleter.greedy=True"
   ]
  },
  {
   "cell_type": "code",
   "execution_count": 2,
   "metadata": {},
   "outputs": [
    {
     "name": "stderr",
     "output_type": "stream",
     "text": [
      "D:\\z_outsourced_programs\\Anaconda3\\lib\\site-packages\\h5py\\__init__.py:36: FutureWarning: Conversion of the second argument of issubdtype from `float` to `np.floating` is deprecated. In future, it will be treated as `np.float64 == np.dtype(float).type`.\n",
      "  from ._conv import register_converters as _register_converters\n"
     ]
    },
    {
     "name": "stdout",
     "output_type": "stream",
     "text": [
      "Tensor Flow version 1.8.0\n"
     ]
    }
   ],
   "source": [
    "from __future__ import absolute_import\n",
    "from __future__ import division\n",
    "from __future__ import print_function\n",
    "\n",
    "import numpy as np\n",
    "import tensorflow as tf\n",
    "import variational_autoencoder as vae\n",
    "import weapon_data as weapons\n",
    "\n",
    "print(\"Tensor Flow version {}\".format(tf.__version__))"
   ]
  },
  {
   "cell_type": "markdown",
   "metadata": {},
   "source": [
    "# Test Utils"
   ]
  },
  {
   "cell_type": "code",
   "execution_count": 3,
   "metadata": {},
   "outputs": [],
   "source": [
    "#test utils\n",
    "def print_decoded_tensors_as_dict(weapon_data, array_of_tensors):\n",
    "    genDict = {}\n",
    "    \n",
    "    for tensor in array_of_tensors:\n",
    "        decoded, _ = weapon_data.decode_processed_tensor(tensor)\n",
    "        \n",
    "        for key, value in decoded.items():\n",
    "            if key not in genDict:\n",
    "                genDict[key] = []\n",
    "            genDict[key].append(value)\n",
    "    \n",
    "    for key, value in genDict.items():\n",
    "            print(key, \"=\", value)\n",
    "            \n",
    "            \n",
    "def get_weapon_data():\n",
    "    return weapons.get_data()"
   ]
  },
  {
   "cell_type": "markdown",
   "metadata": {},
   "source": [
    "# Initial VAE Training\n",
    "Initializes all network hyperparameters and shows training debug messages of the training epoch and cost. Trains and saves the trained model in the specified folder."
   ]
  },
  {
   "cell_type": "code",
   "execution_count": 4,
   "metadata": {},
   "outputs": [
    {
     "name": "stdout",
     "output_type": "stream",
     "text": [
      "Epoch:0001 - Cost:23.617572064\n",
      "Epoch:0011 - Cost:14.608607795\n",
      "Epoch:0021 - Cost:12.335476567\n",
      "Epoch:0031 - Cost:10.586388475\n",
      "Epoch:0041 - Cost:9.893884148\n",
      "Epoch:0051 - Cost:9.277483467\n",
      "Epoch:0061 - Cost:9.140962165\n",
      "Epoch:0071 - Cost:9.000186184\n",
      "Epoch:0081 - Cost:8.614526613\n",
      "Epoch:0091 - Cost:8.959885064\n",
      "Trained model saved! You can find it in 'trained_vae/model.ckpt'\n"
     ]
    }
   ],
   "source": [
    "network_architecture = \\\n",
    "    dict(n_input=0, #set it in with scope\n",
    "         n_hidden_1=26,\n",
    "         n_hidden_2=12,\n",
    "         n_z=2)  \n",
    "\n",
    "learning_rate = 0.01\n",
    "optimizer =  tf.train.RMSPropOptimizer(learning_rate)\n",
    "transfer_fct = tf.nn.elu\n",
    "num_epochs = 70\n",
    "batch_size = 4\n",
    "epoch_debug_step = 1\n",
    "saved_model_folder = \"trained_vae/\"\n",
    "saved_model_full_path = saved_model_folder + \"model.ckpt\"\n",
    "    \n",
    "with tf.Session() as sess:\n",
    "    train_data, test_data = get_weapon_data()\n",
    "    network_architecture['n_input'] = train_data.num_features\n",
    "  \n",
    "    network = vae.get_new_trained(sess, train_data, network_architecture, optimizer, \n",
    "                              transfer_fct, batch_size, num_epochs, epoch_debug_step,\n",
    "                                  trained_model_save_path=saved_model_folder)\n"
   ]
  },
  {
   "cell_type": "code",
   "execution_count": 5,
   "metadata": {},
   "outputs": [
    {
     "name": "stdout",
     "output_type": "stream",
     "text": [
      "INFO:tensorflow:Restoring parameters from trained_vae/model.ckpt\n",
      "damages_first = ['53.0', '38.0', '26.5', '80.0', '37.89492652573062', '26.65606312068924', '23.79198639529914', '62.39835360928358']\n",
      "damages_last = ['38.0', '21.5', '23.0', '80.0', '27.46572387481021', '14.988826466137976', '18.614333537477854', '58.56348625261825']\n",
      "distances_first = ['66.0', '10.0', '11.0', '0.0', '48.88168353470817', '19.64925903036779', '17.391440890339496', '-0.11127666611915643']\n",
      "distances_last = ['89.0', '47.0', '35.0', '115.0', '64.22178113002585', '30.102388081758363', '36.991737064666424', '117.24233935705647']\n",
      "firemode_Automatic = ['0.0', '1.0', '1.0', '0.0', '0.1687243513476785', '1.2568338116308433', '1.2486967670138993', '0.24183799416943913']\n",
      "firemode_Semi = ['1.0', '0.0', '0.0', '0.0', '0.7952171424433059', '-0.09233417190392307', '-0.0752946479876434', '-0.05574152280592709']\n",
      "firemode_Single = ['0.0', '0.0', '0.0', '1.0', '-0.011140455087980311', '-0.07624311032057468', '-0.10402299849841506', '0.7521104764107517']\n",
      "hiprecoildec = ['3.0', '8.0', '6.0', '4.5', '3.7314912355145737', '6.962843146559414', '6.151663797596731', '3.887230691536783']\n",
      "hiprecoilright = ['0.8999999761581421', '0.4000000059604645', '0.09600000083446497', '1.0', '0.40246520680914166', '0.30685995327254345', '0.23376606929859822', '0.9567507832888766']\n",
      "hiprecoilup = ['1.5', '0.7499999999999998', '0.2800000011920929', '5.0', '0.8722519826287582', '0.03607756795036776', '-0.5400610497264569', '4.963003693817779']\n",
      "hipstandbasespreaddec = ['3.0', '2.700000047683716', '10.800000190734863', '10.050000190734863', '3.827815679233852', '8.20019996003274', '8.6982698150431', '7.365834472311683']\n",
      "hipstandbasespreadinc = ['0.10000000149011612', '0.04500000178813934', '0.18000000715255737', '1.0', '0.11060330352437558', '0.05250385455610726', '0.09678194059979256', '0.7826743211297496']\n",
      "initialspeed = ['720.0', '570.0', '820.0', '740.0', '783.5791615908051', '734.6598988951837', '826.9727693194598', '815.1291035894749']\n",
      "magsize = ['6.0', '9.0', '30.0', '10.0', '23.36533170117262', '83.39367810223881', '65.13009022473811', '12.017468252244953']\n",
      "reloadempty = ['3.299999952316284', '3.9000000953674316', '3.9000000953674316', '5.399933338165283', '3.727346369953766', '4.869434824757007', '4.623280421816833', '4.392312961916519']\n",
      "rof = ['179.0', '449.0', '450.0', '52.0', '278.2630827511814', '548.7733068995708', '522.56248232101', '136.4775245942713']\n",
      "shotspershell = ['1.0', '1.0', '1.0', '1.0', '0.7869054738588854', '0.1969591910248054', '0.9634798570304632', '1.7315882875111002']\n",
      "type_Shotgun = ['0.0', '0.0', '0.0', '0.0', '-0.030185837021813766', '0.003253067468717355', '-0.0023464345533025927', '0.02658700140904713']\n",
      "type_Pistol = ['0.0', '0.0', '0.0', '0.0', '0.06010996818314163', '-0.019812280206982336', '-0.029261256792496', '-0.0706131858007969']\n",
      "type_Rifle = ['1.0', '-2.7755575615628914e-17', '-2.7755575615628914e-17', '-2.7755575615628914e-17', '1.0585400359314479', '0.42858720410847617', '0.3101281860385531', '0.1195158744981277']\n",
      "type_SMG = ['0.0', '1.0', '0.0', '0.0', '-0.08557251943529673', '0.17219084192845946', '-0.1489420761812492', '-0.056477721471668796']\n",
      "type_Sniper = ['0.0', '0.0', '0.0', '1.0', '-0.0216118920486717', '-0.15215074045908783', '-0.0418693279369417', '0.8178133514888248']\n",
      "type_MG = ['-2.7755575615628914e-17', '-2.7755575615628914e-17', '1.0', '-2.7755575615628914e-17', '0.04386494473705199', '0.7189605757123064', '1.1463424875108221', '0.0026275934033959947']\n",
      "INFO:tensorflow:Restoring parameters from trained_vae/model.ckpt\n",
      "damages_first = ['53.0', '33.439634242847475']\n",
      "damages_last = ['38.0', '23.148154205944884']\n",
      "distances_first = ['66.0', '44.28879787492229']\n",
      "distances_last = ['89.0', '56.26024096288705']\n",
      "firemode_Automatic = ['0.0', '0.26035832614383253']\n",
      "firemode_Semi = ['1.0', '0.782911347676089']\n",
      "firemode_Single = ['0.0', '-0.07523644592548184']\n",
      "hiprecoildec = ['3.0', '4.16520489166772']\n",
      "hiprecoilright = ['0.8999999761581421', '0.3548898004534786']\n",
      "hiprecoilup = ['1.5', '0.6026550668036692']\n",
      "hipstandbasespreaddec = ['3.0', '3.892124899843786']\n",
      "hipstandbasespreadinc = ['0.10000000149011612', '0.07184180015246475']\n",
      "initialspeed = ['720.0', '736.9138789616645']\n",
      "magsize = ['6.0', '25.27925231917016']\n",
      "reloadempty = ['3.299999952316284', '3.567800618448722']\n",
      "rof = ['179.0', '318.7323322476197']\n",
      "shotspershell = ['1.0', '0.9091052629839023']\n",
      "type_Shotgun = ['0.0', '-0.02530688697785191']\n",
      "type_Pistol = ['0.0', '0.11604547073120612']\n",
      "type_Rifle = ['1.0', '0.9697787804556897']\n",
      "type_SMG = ['0.0', '-0.015913440182053498']\n",
      "type_Sniper = ['0.0', '-0.07183880022670419']\n",
      "type_MG = ['-2.7755575615628914e-17', '0.05120212504104632']\n"
     ]
    }
   ],
   "source": [
    "with tf.Session(graph=tf.Graph()) as sess:\n",
    "    network = vae.get_untrained(sess, network_architecture, optimizer, transfer_fct, batch_size)\n",
    "    network = vae.restore(network, saved_model_full_path)\n",
    "        \n",
    "    train_data, test_data = get_weapon_data()\n",
    "    \n",
    "    samples = test_data.next_batch(batch_size)\n",
    "    x_reconstructed = network.encode_and_decode(samples, True)\n",
    "    print_decoded_tensors_as_dict(test_data, np.concatenate((samples,x_reconstructed), axis=0))\n",
    "\n",
    "\n",
    "with tf.Session(graph=tf.Graph()) as sess:\n",
    "    network = vae.get_untrained(sess, network_architecture, optimizer, transfer_fct, batch_size)\n",
    "    network = vae.restore(network, saved_model_full_path)\n",
    "\n",
    "    train_data, test_data = get_weapon_data()\n",
    "    \n",
    "    samples = test_data.next_batch(1)\n",
    "    x_reconstructed_mean = network.encode_and_decode(samples, False)\n",
    "    print_decoded_tensors_as_dict(test_data, np.concatenate((samples,[x_reconstructed_mean]), axis=0))"
   ]
  },
  {
   "cell_type": "code",
   "execution_count": 6,
   "metadata": {},
   "outputs": [
    {
     "name": "stdout",
     "output_type": "stream",
     "text": [
      "INFO:tensorflow:Restoring parameters from trained_vae/model.ckpt\n",
      "Random Cost = 863006129064466306717188096.00\n",
      "Random Cost = 520385940761824198656.00\n",
      "Random Cost = 362522740767233933312.00\n",
      "Random Cost = 262617504350930259148800.00\n",
      "Random Cost = 1441600974083900571648.00\n",
      "Random input average cost = 1250.00\n",
      "Test data input average cost = 13.32\n"
     ]
    }
   ],
   "source": [
    "with tf.Session(graph=tf.Graph()) as sess:\n",
    "    network = vae.get_untrained(sess, network_architecture, optimizer, transfer_fct, batch_size)\n",
    "    network = vae.restore(network, saved_model_full_path)\n",
    "    \n",
    "    avg_cost_rand = 0.\n",
    "    avg_cost = 0.\n",
    "\n",
    "    _, test_data = get_weapon_data()\n",
    "    num_samples = test_data.num_examples\n",
    "    total_batch = int(num_samples / batch_size)\n",
    "\n",
    "    # Loop over all batches\n",
    "    for i in range(total_batch):\n",
    "        batch = test_data.next_batch(batch_size)\n",
    "        cost = network.calculate_loss(batch)        \n",
    "\n",
    "        rand_sample = np.random.uniform(low=test_data.standardized_min_values, \n",
    "                                       high=test_data.standardized_max_values, \n",
    "                                       size=(batch_size,network_architecture[\"n_input\"]))\n",
    "        cost_rand = network.calculate_loss(rand_sample)\n",
    "\n",
    "        print(\"Random Cost = \" + \"{:.2f}\".format(cost_rand))\n",
    "\n",
    "        #compute average loss/cost\n",
    "        avg_cost_rand += min(cost_rand,1000) / batch_size\n",
    "        avg_cost += cost / batch_size\n",
    "    \n",
    "    print(\"Random input average cost = \" + \"{:.2f}\".format(avg_cost_rand))   \n",
    "    print(\"Test data input average cost = \" + \"{:.2f}\".format(avg_cost))\n"
   ]
  },
  {
   "cell_type": "code",
   "execution_count": 7,
   "metadata": {},
   "outputs": [
    {
     "name": "stdout",
     "output_type": "stream",
     "text": [
      "INFO:tensorflow:Restoring parameters from trained_vae/model.ckpt\n"
     ]
    },
    {
     "data": {
      "image/png": "[encoded data removed]",
      "text/plain": [
       "<matplotlib.figure.Figure at 0x168f1c036a0>"
      ]
     },
     "metadata": {},
     "output_type": "display_data"
    },
    {
     "data": {
      "image/png": "[encoded data removed]",
      "text/plain": [
       "<matplotlib.figure.Figure at 0x168f5022588>"
      ]
     },
     "metadata": {},
     "output_type": "display_data"
    },
    {
     "data": {
      "image/png": "[encoded data removed]",
      "text/plain": [
       "<matplotlib.figure.Figure at 0x168f541c4e0>"
      ]
     },
     "metadata": {},
     "output_type": "display_data"
    }
   ],
   "source": [
    "import matplotlib.pyplot as plt\n",
    "%matplotlib inline\n",
    "\n",
    "def show_z_distribution(vae_model, title, z_mean=True):\n",
    "    all_z = np.zeros((batch_size,network_architecture['n_z']))\n",
    "        \n",
    "    train_data, test_data = get_weapon_data()\n",
    "    total_batch = int(train_data.num_examples / batch_size) \n",
    "\n",
    "    # Loop over all batches\n",
    "    for i in range(total_batch):\n",
    "        batch = train_data.next_batch(batch_size)\n",
    "        z_dist = vae_model.calculate_z(batch)\n",
    "        if z_mean:\n",
    "            z_dist = vae_model.calculate_z_mean(batch)\n",
    "        all_z = np.vstack((all_z, z_dist))\n",
    "\n",
    "    plt.figure(figsize=(15,5))\n",
    "    plt.subplot(1,2,1)\n",
    "    plt.scatter(all_z[:,0], all_z[:,1])\n",
    "    plt.xlim(-3,3)\n",
    "    plt.ylim(-3,3)\n",
    "    plt.title(title)\n",
    "    plt.subplot(1,2,2)\n",
    "    plt.hist2d(all_z[:,0], all_z[:,1], (50, 50), cmap=plt.cm.jet)\n",
    "    plt.colorbar()\n",
    "    plt.title(title)\n",
    "    \n",
    "with tf.Session(graph=tf.Graph()) as sess:\n",
    "    network = vae.get_untrained(sess, network_architecture, optimizer, transfer_fct, batch_size)\n",
    "    show_z_distribution(network, \"Untrained Latent Space\", z_mean=True)\n",
    "    network = vae.restore(network, \"trained_vae/model.ckpt\")\n",
    "    show_z_distribution(network, \"Trained Latent Space - Z Mean\", z_mean=True)    \n",
    "    show_z_distribution(network, \"Trained Latent Space - Z\", z_mean=False)"
   ]
  },
  {
   "cell_type": "code",
   "execution_count": 8,
   "metadata": {},
   "outputs": [
    {
     "name": "stdout",
     "output_type": "stream",
     "text": [
      "INFO:tensorflow:Restoring parameters from trained_vae/model.ckpt\n",
      "damages_first = ['46.00053235509399']\n",
      "damages_last = ['15.496031502175715']\n",
      "distances_first = ['9.709596455463608']\n",
      "distances_last = ['36.70804089825909']\n",
      "firemode_Automatic = ['-0.12347885851284673']\n",
      "firemode_Semi = ['0.9607769735732743']\n",
      "firemode_Single = ['0.14415791335246428']\n",
      "hiprecoildec = ['5.029731452833548']\n",
      "hiprecoilright = ['0.8125239056936049']\n",
      "hiprecoilup = ['4.50310239152686']\n",
      "hipstandbasespreaddec = ['7.610609976731748']\n",
      "hipstandbasespreadinc = ['0.2126398313973004']\n",
      "initialspeed = ['292.8350655237324']\n",
      "magsize = ['2.4241567912707502']\n",
      "reloadempty = ['3.0024942970790214']\n",
      "rof = ['218.93758652749437']\n",
      "shotspershell = ['2.5596298044090386']\n",
      "type_Shotgun = ['0.2724487575488136']\n",
      "type_Pistol = ['0.791027101056477']\n",
      "type_Rifle = ['-0.06260916783686274']\n",
      "type_SMG = ['0.05114650690321665']\n",
      "type_Sniper = ['-0.06354016442611252']\n",
      "type_MG = ['-0.006823653689000259']\n"
     ]
    }
   ],
   "source": [
    "# Testing single input in latent space\n",
    "with tf.Session(graph=tf.Graph()) as sess:\n",
    "    network = vae.get_untrained(sess, network_architecture, optimizer, transfer_fct, batch_size)\n",
    "    network = vae.restore(network, saved_model_full_path)\n",
    "    \n",
    "    generated = []\n",
    "\n",
    "    random_val = np.random.normal(size=(1,network_architecture[\"n_z\"]))\n",
    "    x_test = network.decode_from_latent_space(random_val, False)\n",
    "    #[generated.append(x) for x in x_test]\n",
    "    generated.append(x_test)  \n",
    "    \n",
    "    train_data, test_data = get_weapon_data()\n",
    "    print_decoded_tensors_as_dict(train_data, generated)"
   ]
  },
  {
   "cell_type": "code",
   "execution_count": 9,
   "metadata": {},
   "outputs": [
    {
     "name": "stdout",
     "output_type": "stream",
     "text": [
      "INFO:tensorflow:Restoring parameters from trained_vae/model.ckpt\n",
      "damages_first = ['57.350382487994096', '39.542392936668556', '34.43295537900569', '41.9358825029834', '34.851905079931655', '29.009807888391567', '32.61516831507675', '29.005021589353728']\n",
      "damages_last = ['18.68210449958675', '31.424828899188004', '30.004464309014146', '32.22041998084158', '19.01860748918468', '19.829479464910058', '10.034280066231037', '21.997596940925714']\n",
      "distances_first = ['10.737566060525264', '41.93602777180667', '27.813289462367962', '43.38191466622272', '10.51355357210354', '17.16271072244656', '8.844383274416103', '20.760934020932815']\n",
      "distances_last = ['35.99565382431098', '71.83350575484778', '62.06986272834432', '74.09109614610081', '34.87632066763851', '38.33105247654855', '28.70744307385973', '44.45388704516844']\n",
      "firemode_Automatic = ['-0.0507381557306163', '0.2526823156346969', '0.6356565872577251', '0.13202659851817072', '1.0867007908302886', '1.098955525750714', '-0.02846820311594145', '0.9839315090825345']\n",
      "firemode_Semi = ['0.6086939557217447', '0.7368300735119853', '0.2770938557359097', '0.8550483459736088', '-0.13172249712166628', '-0.05210572557709564', '0.9644000413595657', '0.04635506191505989']\n",
      "firemode_Single = ['0.4244781562848633', '-0.012669486409239095', '0.04628901407411312', '-0.008864993978715763', '0.04082694391474928', '-0.07024602407242331', '0.040087345728572754', '-0.05955283674316392']\n",
      "hiprecoildec = ['5.274216199300613', '3.238744884811193', '4.633335397415993', '2.936445792425998', '9.025975337997462', '6.644054127117878', '5.059962290382081', '5.995802670313844']\n",
      "hiprecoilright = ['1.0758633717513744', '0.3109193559069385', '0.27608863784369675', '0.33618268891409897', '0.40082389041278754', '0.23350596586066308', '0.865536268349411', '0.22498681841673301']\n",
      "hiprecoilup = ['6.728375960404849', '0.8285744750927424', '0.613135280723383', '0.9586526033179625', '0.5800346769688067', '0.1439411552258245', '5.168801746765654', '0.21632973558375745']\n",
      "hipstandbasespreaddec = ['9.765281191286954', '3.8989118132511447', '6.439691950073373', '3.5181577438379645', '8.69311026359372', '9.861912817270106', '7.585373393745324', '8.652568901378226']\n",
      "hipstandbasespreadinc = ['0.3788764741532705', '0.09125387219650616', '0.19800112567273911', '0.08845423145159897', '0.091332958357564', '0.06431868360424398', '0.18925196472476144', '0.08721701606246207']\n",
      "initialspeed = ['285.84330054183454', '777.8962209530996', '785.3147722629928', '761.7888827160891', '608.33654059586', '759.0662155710666', '278.8498565625225', '767.7576074132896']\n",
      "magsize = ['-0.2770357096189713', '12.668821556313329', '17.633714812956324', '12.567217392422245', '62.97591071583607', '41.05204355279598', '0.24494691493774567', '29.379085486321102']\n",
      "reloadempty = ['3.2533482517530903', '3.5157421115622993', '3.6221818550236167', '3.504755134676365', '4.689273361239222', '4.271972597114181', '3.1872452906961173', '3.9358285063563563']\n",
      "rof = ['179.23495415721203', '289.6059214229555', '392.4907725196605', '254.23377698770966', '580.392089523121', '516.1909025287697', '237.1528293192383', '487.1444421345724']\n",
      "shotspershell = ['3.2938652724593904', '1.007468898157039', '1.1481166004754058', '0.8664955308621045', '-0.36755734002168383', '0.4988463889642547', '5.907016686447738', '0.8827376563403089']\n",
      "type_Shotgun = ['0.46918582834419653', '-0.003778666912025136', '-0.0032415804711156404', '-0.019526882412222626', '-0.052334145701000534', '0.0069248274816329225', '0.5437546374691489', '0.017818997107343915']\n",
      "type_Pistol = ['0.6087550086420321', '-0.055013123825307125', '-0.07040615238128115', '-0.007917907282653874', '0.03880030596463954', '-0.013962706762680438', '0.5587453549629745', '-0.04425289108309208']\n",
      "type_Rifle = ['-0.03610421285625329', '1.063409914785991', '0.6298882129838159', '1.0914944364602985', '0.13741770116921137', '0.36216640772981723', '-0.08613963750394463', '0.4638597706591144']\n",
      "type_SMG = ['0.056211727650031976', '-0.10368960721911864', '-0.16541123895821286', '-0.08533969999802128', '0.5272646522430691', '-0.08042058213971022', '0.0408043941609149', '-0.12879714334039932']\n",
      "type_Sniper = ['-0.07609838517472148', '-0.013168870436467722', '0.07924312453372451', '-0.007983011767814019', '-0.04380498829902754', '-0.08656700522071373', '-0.0781095980161686', '-0.05044251109313855']\n",
      "type_MG = ['-0.02872239906682153', '0.11351803304893751', '0.5029174065978153', '0.03215480491994026', '0.37517691407059905', '0.7860947502991148', '0.014611014032476721', '0.7156838245797793']\n"
     ]
    }
   ],
   "source": [
    "# Testing batch input in latent space\n",
    "with tf.Session(graph=tf.Graph()) as sess:\n",
    "    network = vae.get_untrained(sess, network_architecture, optimizer, transfer_fct, batch_size)\n",
    "    network = vae.restore(network, saved_model_full_path)\n",
    "    \n",
    "    generated = []\n",
    "\n",
    "    random_val = np.random.normal(size=(batch_size,network_architecture[\"n_z\"]))\n",
    "    x_test = network.decode_from_latent_space(random_val, True)\n",
    "    [generated.append(x) for x in x_test]\n",
    "    \n",
    "    \n",
    "    random_val = np.random.normal(size=(batch_size,network_architecture[\"n_z\"]))\n",
    "    x_test = network.decode_from_latent_space(random_val, True)\n",
    "    [generated.append(x) for x in x_test]\n",
    "    \n",
    "    train_data, test_data = get_weapon_data()\n",
    "    print_decoded_tensors_as_dict(train_data, generated)"
   ]
  },
  {
   "cell_type": "code",
   "execution_count": null,
   "metadata": {},
   "outputs": [],
   "source": []
  }
 ],
 "metadata": {
  "kernelspec": {
   "display_name": "Python 3",
   "language": "python",
   "name": "python3"
  },
  "language_info": {
   "codemirror_mode": {
    "name": "ipython",
    "version": 3
   },
   "file_extension": ".py",
   "mimetype": "text/x-python",
   "name": "python",
   "nbconvert_exporter": "python",
   "pygments_lexer": "ipython3",
   "version": "3.6.4"
  }
 },
 "nbformat": 4,
 "nbformat_minor": 2
}
