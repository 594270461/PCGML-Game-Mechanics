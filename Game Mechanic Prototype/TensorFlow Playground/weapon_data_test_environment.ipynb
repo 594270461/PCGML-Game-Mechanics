{
 "cells": [
  {
   "cell_type": "code",
   "execution_count": 1,
   "metadata": {},
   "outputs": [
    {
     "name": "stderr",
     "output_type": "stream",
     "text": [
      "D:\\z_outsourced_programs\\Anaconda3\\lib\\site-packages\\h5py\\__init__.py:36: FutureWarning: Conversion of the second argument of issubdtype from `float` to `np.floating` is deprecated. In future, it will be treated as `np.float64 == np.dtype(float).type`.\n",
      "  from ._conv import register_converters as _register_converters\n"
     ]
    }
   ],
   "source": [
    "import weapon_data as weapons"
   ]
  },
  {
   "cell_type": "code",
   "execution_count": 2,
   "metadata": {},
   "outputs": [
    {
     "name": "stdout",
     "output_type": "stream",
     "text": [
      "Feature columns to tensor variables dictionary:\n",
      "_NumericColumn(key='damages_first', shape=(1,), default_value=None, dtype=tf.float32, normalizer_fn=None) = []\n",
      "_NumericColumn(key='damages_last', shape=(1,), default_value=None, dtype=tf.float32, normalizer_fn=None) = []\n",
      "_NumericColumn(key='distances_first', shape=(1,), default_value=None, dtype=tf.float32, normalizer_fn=None) = []\n",
      "_NumericColumn(key='distances_last', shape=(1,), default_value=None, dtype=tf.float32, normalizer_fn=None) = []\n",
      "_IndicatorColumn(categorical_column=_VocabularyListCategoricalColumn(key='firemode', vocabulary_list=('Automatic', 'Semi', 'Single'), dtype=tf.string, default_value=-1, num_oov_buckets=0)) = []\n",
      "_NumericColumn(key='hiprecoildec', shape=(1,), default_value=None, dtype=tf.float32, normalizer_fn=None) = []\n",
      "_NumericColumn(key='hiprecoilright', shape=(1,), default_value=None, dtype=tf.float32, normalizer_fn=None) = []\n",
      "_NumericColumn(key='hiprecoilup', shape=(1,), default_value=None, dtype=tf.float32, normalizer_fn=None) = []\n",
      "_NumericColumn(key='hipstandbasespreaddec', shape=(1,), default_value=None, dtype=tf.float32, normalizer_fn=None) = []\n",
      "_NumericColumn(key='hipstandbasespreadinc', shape=(1,), default_value=None, dtype=tf.float32, normalizer_fn=None) = []\n",
      "_NumericColumn(key='initialspeed', shape=(1,), default_value=None, dtype=tf.float32, normalizer_fn=None) = []\n",
      "_NumericColumn(key='magsize', shape=(1,), default_value=None, dtype=tf.float32, normalizer_fn=None) = []\n",
      "_NumericColumn(key='reloadempty', shape=(1,), default_value=None, dtype=tf.float32, normalizer_fn=None) = []\n",
      "_NumericColumn(key='rof', shape=(1,), default_value=None, dtype=tf.float32, normalizer_fn=None) = []\n",
      "_NumericColumn(key='shotspershell', shape=(1,), default_value=None, dtype=tf.float32, normalizer_fn=None) = []\n",
      "_IndicatorColumn(categorical_column=_VocabularyListCategoricalColumn(key='type', vocabulary_list=('Shotgun', 'Pistol', 'Rifle', 'SMG', 'Sniper', 'MG'), dtype=tf.string, default_value=-1, num_oov_buckets=0)) = []\n",
      "\n",
      "Generated input with feature columns:\n",
      "Tensor(\"input_layer/concat:0\", shape=(127, 23), dtype=float32)\n",
      "\n",
      "Found 23 features with 127 values in data source training_data.csv! \n",
      "\n",
      "Feature columns to tensor variables dictionary:\n",
      "_NumericColumn(key='damages_first', shape=(1,), default_value=None, dtype=tf.float32, normalizer_fn=None) = []\n",
      "_NumericColumn(key='damages_last', shape=(1,), default_value=None, dtype=tf.float32, normalizer_fn=None) = []\n",
      "_NumericColumn(key='distances_first', shape=(1,), default_value=None, dtype=tf.float32, normalizer_fn=None) = []\n",
      "_NumericColumn(key='distances_last', shape=(1,), default_value=None, dtype=tf.float32, normalizer_fn=None) = []\n",
      "_IndicatorColumn(categorical_column=_VocabularyListCategoricalColumn(key='firemode', vocabulary_list=('Automatic', 'Semi', 'Single'), dtype=tf.string, default_value=-1, num_oov_buckets=0)) = []\n",
      "_NumericColumn(key='hiprecoildec', shape=(1,), default_value=None, dtype=tf.float32, normalizer_fn=None) = []\n",
      "_NumericColumn(key='hiprecoilright', shape=(1,), default_value=None, dtype=tf.float32, normalizer_fn=None) = []\n",
      "_NumericColumn(key='hiprecoilup', shape=(1,), default_value=None, dtype=tf.float32, normalizer_fn=None) = []\n",
      "_NumericColumn(key='hipstandbasespreaddec', shape=(1,), default_value=None, dtype=tf.float32, normalizer_fn=None) = []\n",
      "_NumericColumn(key='hipstandbasespreadinc', shape=(1,), default_value=None, dtype=tf.float32, normalizer_fn=None) = []\n",
      "_NumericColumn(key='initialspeed', shape=(1,), default_value=None, dtype=tf.float32, normalizer_fn=None) = []\n",
      "_NumericColumn(key='magsize', shape=(1,), default_value=None, dtype=tf.float32, normalizer_fn=None) = []\n",
      "_NumericColumn(key='reloadempty', shape=(1,), default_value=None, dtype=tf.float32, normalizer_fn=None) = []\n",
      "_NumericColumn(key='rof', shape=(1,), default_value=None, dtype=tf.float32, normalizer_fn=None) = []\n",
      "_NumericColumn(key='shotspershell', shape=(1,), default_value=None, dtype=tf.float32, normalizer_fn=None) = []\n",
      "_IndicatorColumn(categorical_column=_VocabularyListCategoricalColumn(key='type', vocabulary_list=('Shotgun', 'Pistol', 'Rifle', 'SMG', 'Sniper', 'MG'), dtype=tf.string, default_value=-1, num_oov_buckets=0)) = []\n",
      "\n",
      "Generated input with feature columns:\n",
      "Tensor(\"input_layer_1/concat:0\", shape=(21, 23), dtype=float32)\n",
      "\n",
      "Found 23 features with 21 values in data source test_data.csv! \n",
      "\n",
      "[2.64425664 1.93281154 3.50921294 2.97122485 1.37344954 1.28290036\n",
      " 1.62128697 3.72741991 3.56002054 2.98518034 4.97400214 3.16036664\n",
      " 1.45441226 6.33094414 3.97758705 2.58739452 3.61915126 3.09569594\n",
      " 1.97094277 1.83829006 2.7325202  1.83829006 2.63391344]\n",
      "[-1.47834628 -1.16967347 -1.06092383 -1.12923278 -0.72809373 -0.77948376\n",
      " -0.61679395 -0.86343017 -1.24202406 -0.89611114 -0.95550762 -0.80200475\n",
      " -1.78036058 -0.63071684 -1.70352729 -1.30764756 -0.27904019 -0.32302914\n",
      " -0.5073714  -0.54398379 -0.36596253 -0.54398379 -0.3796632 ]\n",
      "[2.20266672 2.76325362 2.88712045 3.12640676 0.95346259 1.58113883\n",
      " 2.06155281 2.20872539 2.39329658 2.95017835 2.89288215 2.33321135\n",
      " 1.17915237 3.01318903 2.38607239 2.33420912 3.082207   3.082207\n",
      " 2.06155281 1.78885438 3.082207   2.44948974 1.78885438]\n",
      "[-1.35744332 -1.09757978 -0.95926529 -0.91073274 -1.04880885 -0.63245553\n",
      " -0.48507125 -1.32959555 -1.28305835 -0.70411138 -0.92760898 -0.80638565\n",
      " -1.68642181 -0.63118823 -1.47753223 -1.63406751 -0.32444284 -0.32444284\n",
      " -0.48507125 -0.55901699 -0.32444284 -0.40824829 -0.55901699]\n"
     ]
    }
   ],
   "source": [
    "train_data, test_data = weapons.get_data(debug=True) \n",
    "print(train_data.standardized_max_values)\n",
    "print(train_data.standardized_min_values)\n",
    "print(test_data.standardized_max_values)\n",
    "print(test_data.standardized_min_values)"
   ]
  },
  {
   "cell_type": "code",
   "execution_count": 3,
   "metadata": {},
   "outputs": [
    {
     "data": {
      "text/plain": [
       "{_IndicatorColumn(categorical_column=_VocabularyListCategoricalColumn(key='firemode', vocabulary_list=('Automatic', 'Semi', 'Single'), dtype=tf.string, default_value=-1, num_oov_buckets=0)): [],\n",
       " _IndicatorColumn(categorical_column=_VocabularyListCategoricalColumn(key='type', vocabulary_list=('Shotgun', 'Pistol', 'Rifle', 'SMG', 'Sniper', 'MG'), dtype=tf.string, default_value=-1, num_oov_buckets=0)): [],\n",
       " _NumericColumn(key='damages_first', shape=(1,), default_value=None, dtype=tf.float32, normalizer_fn=None): [],\n",
       " _NumericColumn(key='damages_last', shape=(1,), default_value=None, dtype=tf.float32, normalizer_fn=None): [],\n",
       " _NumericColumn(key='distances_first', shape=(1,), default_value=None, dtype=tf.float32, normalizer_fn=None): [],\n",
       " _NumericColumn(key='distances_last', shape=(1,), default_value=None, dtype=tf.float32, normalizer_fn=None): [],\n",
       " _NumericColumn(key='hiprecoildec', shape=(1,), default_value=None, dtype=tf.float32, normalizer_fn=None): [],\n",
       " _NumericColumn(key='hiprecoilright', shape=(1,), default_value=None, dtype=tf.float32, normalizer_fn=None): [],\n",
       " _NumericColumn(key='hiprecoilup', shape=(1,), default_value=None, dtype=tf.float32, normalizer_fn=None): [],\n",
       " _NumericColumn(key='hipstandbasespreaddec', shape=(1,), default_value=None, dtype=tf.float32, normalizer_fn=None): [],\n",
       " _NumericColumn(key='hipstandbasespreadinc', shape=(1,), default_value=None, dtype=tf.float32, normalizer_fn=None): [],\n",
       " _NumericColumn(key='initialspeed', shape=(1,), default_value=None, dtype=tf.float32, normalizer_fn=None): [],\n",
       " _NumericColumn(key='magsize', shape=(1,), default_value=None, dtype=tf.float32, normalizer_fn=None): [],\n",
       " _NumericColumn(key='reloadempty', shape=(1,), default_value=None, dtype=tf.float32, normalizer_fn=None): [],\n",
       " _NumericColumn(key='rof', shape=(1,), default_value=None, dtype=tf.float32, normalizer_fn=None): [],\n",
       " _NumericColumn(key='shotspershell', shape=(1,), default_value=None, dtype=tf.float32, normalizer_fn=None): []}"
      ]
     },
     "execution_count": 3,
     "metadata": {},
     "output_type": "execute_result"
    }
   ],
   "source": [
    "test_data._feature_cols_to_vars_dict"
   ]
  },
  {
   "cell_type": "code",
   "execution_count": 4,
   "metadata": {},
   "outputs": [
    {
     "name": "stdout",
     "output_type": "stream",
     "text": [
      "Training data size 127 \n",
      "Test data size 21 \n",
      "Sum of data 148\n"
     ]
    }
   ],
   "source": [
    "print(\"Training data size %i \"%train_data.num_examples)\n",
    "print(\"Test data size %i \"%test_data.num_examples)\n",
    "print(\"Sum of data %i\"%(train_data.num_examples+test_data.num_examples))"
   ]
  },
  {
   "cell_type": "code",
   "execution_count": 5,
   "metadata": {},
   "outputs": [],
   "source": [
    "import tensorflow as tf\n",
    "\n",
    "def addGeneratedWeapon(generatedWeaponTensorDict, dictToAdd):\n",
    "    for key, value in generatedWeaponTensorDict.items():\n",
    "        if key not in dictToAdd:\n",
    "            dictToAdd[key] = []\n",
    "        dictToAdd[key].append(value)\n",
    "\n",
    "def check_data(data):\n",
    "    genDict = {}\n",
    "\n",
    "    #print to see if normalized\n",
    "    print(data.data[0])\n",
    "    \n",
    "    #check if unnormalizing and adding works\n",
    "    var_init = tf.global_variables_initializer()\n",
    "\n",
    "    batch_size = 1\n",
    "    with tf.Session() as sess:\n",
    "        sess.run(var_init)\n",
    "\n",
    "        for i in range(1):\n",
    "            batch = data.next_batch(batch_size, shuffle=True)\n",
    "            #print(\"Batch size %i\" %len(batch))\n",
    "            data.add_new_weapons_and_restandardize_data(batch)\n",
    "\n",
    "            \n",
    "        tensorDict = [data.decode_processed_tensor(b)[0] for b in batch]\n",
    "        [addGeneratedWeapon(t, genDict) for t in tensorDict]\n",
    "        #debug_printDict(tensorDict[0])\n",
    "\n",
    "\n",
    "    #weapons.debug_printDict(genDict)\n",
    "    print(genDict)\n"
   ]
  },
  {
   "cell_type": "code",
   "execution_count": 6,
   "metadata": {},
   "outputs": [
    {
     "name": "stdout",
     "output_type": "stream",
     "text": [
      "[-1.47834628 -1.16967347 -0.22998987 -1.05853523 -0.72809373  1.28290036\n",
      " -0.61679395 -0.3337167  -0.28161517  0.61328002 -0.48584349 -0.53444912\n",
      " -1.18651422 -0.51888293  0.26802014 -0.27490497  3.61915126  3.09569594\n",
      " -0.5073714  -0.54398379 -0.36596253 -0.54398379 -0.3796632 ]\n",
      "Current position in dataset after next_batch = 1\n",
      "Added new weapon/s! New number of examples in dataset = 128\n",
      "{'damages_first': ['12.162937399085614'], 'damages_last': ['6.030075549538672'], 'distances_first': ['13.99480528785581'], 'distances_last': ['20.66219613488542'], 'firemode_Automatic': ['-0.0020645831274538895'], 'firemode_Semi': ['-0.0023659540699704773'], 'firemode_Single': ['1.010195544703345'], 'hiprecoildec': ['2.9833859455028495'], 'hiprecoilright': ['1.0032845339602585'], 'hiprecoilup': ['11.315553694101405'], 'hipstandbasespreaddec': ['5.996027556609341'], 'hipstandbasespreadinc': ['1.6521297364325476'], 'initialspeed': ['330.6993883813104'], 'magsize': ['5.915086202887252'], 'reloadempty': ['3.8702071318347144'], 'rof': ['75.98783464835114'], 'shotspershell': ['12.547623172931694'], 'type_Shotgun': ['1.0366858981976763'], 'type_Pistol': ['-0.0010030925202129115'], 'type_Rifle': ['-0.0011529972682136624'], 'type_SMG': ['-0.0005219959019970438'], 'type_Sniper': ['-0.0011529972682135792'], 'type_MG': ['-0.0005618005834807371']}\n"
     ]
    }
   ],
   "source": [
    "check_data(train_data)\n",
    "#check_data(test_data)"
   ]
  },
  {
   "cell_type": "code",
   "execution_count": 7,
   "metadata": {},
   "outputs": [
    {
     "name": "stdout",
     "output_type": "stream",
     "text": [
      "Current position in dataset after next_batch = 1\n"
     ]
    }
   ],
   "source": [
    "batch = test_data.next_batch(1)"
   ]
  },
  {
   "cell_type": "code",
   "execution_count": null,
   "metadata": {},
   "outputs": [],
   "source": [
    "weapon_dict, _ = test_data.decode_processed_tensor(batch[0])"
   ]
  },
  {
   "cell_type": "code",
   "execution_count": 8,
   "metadata": {},
   "outputs": [
    {
     "data": {
      "text/plain": [
       "array([-1.23029653, -1.03323256, -0.14336529, -0.91073274, -1.04880885,\n",
       "       -0.63245553,  2.06155281,  0.18639461,  1.60775078,  2.95017835,\n",
       "       -0.50310997,  0.03193609, -1.30889378, -0.63118823,  0.58731268,\n",
       "       -0.36727151,  3.082207  ,  3.082207  , -0.48507125, -0.55901699,\n",
       "       -0.32444284, -0.40824829, -0.55901699])"
      ]
     },
     "execution_count": 8,
     "metadata": {},
     "output_type": "execute_result"
    }
   ],
   "source": [
    "batch[0]"
   ]
  },
  {
   "cell_type": "code",
   "execution_count": 9,
   "metadata": {},
   "outputs": [
    {
     "data": {
      "text/plain": [
       "{'damages_first': '12.5',\n",
       " 'damages_last': '6.25',\n",
       " 'distances_first': '14.0',\n",
       " 'distances_last': '21.0',\n",
       " 'firemode_Automatic': '0.0',\n",
       " 'firemode_Semi': '0.0',\n",
       " 'firemode_Single': '1.0',\n",
       " 'hiprecoildec': '6.0',\n",
       " 'hiprecoilright': '1.2000000476837158',\n",
       " 'hiprecoilup': '11.0',\n",
       " 'hipstandbasespreaddec': '4.5',\n",
       " 'hipstandbasespreadinc': '0.30000001192092896',\n",
       " 'initialspeed': '333.0',\n",
       " 'magsize': '2.0',\n",
       " 'reloadempty': '5.333333492279053',\n",
       " 'rof': '299.0',\n",
       " 'shotspershell': '12.0',\n",
       " 'type_MG': '-2.7755575615628914e-17',\n",
       " 'type_Pistol': '0.0',\n",
       " 'type_Rifle': '-2.7755575615628914e-17',\n",
       " 'type_SMG': '0.0',\n",
       " 'type_Shotgun': '1.0',\n",
       " 'type_Sniper': '0.0'}"
      ]
     },
     "execution_count": 9,
     "metadata": {},
     "output_type": "execute_result"
    }
   ],
   "source": [
    "weapon_dict"
   ]
  },
  {
   "cell_type": "code",
   "execution_count": 10,
   "metadata": {},
   "outputs": [
    {
     "name": "stdout",
     "output_type": "stream",
     "text": [
      "Feature columns to tensor variables dictionary:\n",
      "_NumericColumn(key='damages_first', shape=(1,), default_value=None, dtype=tf.float32, normalizer_fn=None) = []\n",
      "_NumericColumn(key='damages_last', shape=(1,), default_value=None, dtype=tf.float32, normalizer_fn=None) = []\n",
      "_NumericColumn(key='distances_first', shape=(1,), default_value=None, dtype=tf.float32, normalizer_fn=None) = []\n",
      "_NumericColumn(key='distances_last', shape=(1,), default_value=None, dtype=tf.float32, normalizer_fn=None) = []\n",
      "_IndicatorColumn(categorical_column=_VocabularyListCategoricalColumn(key='firemode', vocabulary_list=('Automatic', 'Semi', 'Single'), dtype=tf.string, default_value=-1, num_oov_buckets=0)) = []\n",
      "_NumericColumn(key='hiprecoildec', shape=(1,), default_value=None, dtype=tf.float32, normalizer_fn=None) = []\n",
      "_NumericColumn(key='hiprecoilright', shape=(1,), default_value=None, dtype=tf.float32, normalizer_fn=None) = []\n",
      "_NumericColumn(key='hiprecoilup', shape=(1,), default_value=None, dtype=tf.float32, normalizer_fn=None) = []\n",
      "_NumericColumn(key='hipstandbasespreaddec', shape=(1,), default_value=None, dtype=tf.float32, normalizer_fn=None) = []\n",
      "_NumericColumn(key='hipstandbasespreadinc', shape=(1,), default_value=None, dtype=tf.float32, normalizer_fn=None) = []\n",
      "_NumericColumn(key='initialspeed', shape=(1,), default_value=None, dtype=tf.float32, normalizer_fn=None) = []\n",
      "_NumericColumn(key='magsize', shape=(1,), default_value=None, dtype=tf.float32, normalizer_fn=None) = []\n",
      "_NumericColumn(key='reloadempty', shape=(1,), default_value=None, dtype=tf.float32, normalizer_fn=None) = []\n",
      "_NumericColumn(key='rof', shape=(1,), default_value=None, dtype=tf.float32, normalizer_fn=None) = []\n",
      "_NumericColumn(key='shotspershell', shape=(1,), default_value=None, dtype=tf.float32, normalizer_fn=None) = []\n",
      "_IndicatorColumn(categorical_column=_VocabularyListCategoricalColumn(key='type', vocabulary_list=('Shotgun', 'Pistol', 'Rifle', 'SMG', 'Sniper', 'MG'), dtype=tf.string, default_value=-1, num_oov_buckets=0)) = []\n",
      "\n",
      "Generated input with feature columns:\n",
      "Tensor(\"input_layer_2/concat:0\", shape=(1, 23), dtype=float32)\n",
      "\n"
     ]
    }
   ],
   "source": [
    "prepared_for_encoding = test_data.prepare_decoded_tensor_dict_for_encoding(weapon_dict)\n",
    "original, _ = test_data.encode_features_dict(prepared_for_encoding)\n",
    "test = test_data.standardize_encoded_data(original[0])"
   ]
  },
  {
   "cell_type": "code",
   "execution_count": 11,
   "metadata": {},
   "outputs": [
    {
     "data": {
      "text/plain": [
       "array([-1.23029653, -1.03323256, -0.14336529, -0.91073274, -1.04880885,\n",
       "       -0.63245553, -0.48507125,  0.18639461,  1.60775078,  2.95017835,\n",
       "       -0.50310997,  0.03193609, -1.30889378, -0.63118823,  0.58731268,\n",
       "       -0.36727151,  3.082207  , -0.32444284, -0.48507125, -0.55901699,\n",
       "       -0.32444284, -0.40824829, -0.55901699])"
      ]
     },
     "execution_count": 11,
     "metadata": {},
     "output_type": "execute_result"
    }
   ],
   "source": [
    "test"
   ]
  },
  {
   "cell_type": "code",
   "execution_count": 12,
   "metadata": {
    "scrolled": true
   },
   "outputs": [
    {
     "data": {
      "text/plain": [
       "({'damages_first': '12.5',\n",
       "  'damages_last': '6.25',\n",
       "  'distances_first': '14.0',\n",
       "  'distances_last': '21.0',\n",
       "  'firemode_Automatic': '0.0',\n",
       "  'firemode_Semi': '0.0',\n",
       "  'firemode_Single': '0.0',\n",
       "  'hiprecoildec': '6.0',\n",
       "  'hiprecoilright': '1.2000000476837158',\n",
       "  'hiprecoilup': '11.0',\n",
       "  'hipstandbasespreaddec': '4.5',\n",
       "  'hipstandbasespreadinc': '0.30000001192092896',\n",
       "  'initialspeed': '333.0',\n",
       "  'magsize': '2.0',\n",
       "  'reloadempty': '5.333333492279053',\n",
       "  'rof': '299.0',\n",
       "  'shotspershell': '12.0',\n",
       "  'type_MG': '-2.7755575615628914e-17',\n",
       "  'type_Pistol': '0.0',\n",
       "  'type_Rifle': '-2.7755575615628914e-17',\n",
       "  'type_SMG': '0.0',\n",
       "  'type_Shotgun': '0.0',\n",
       "  'type_Sniper': '0.0'},\n",
       " array([ 1.25000000e+01,  6.25000000e+00,  1.40000000e+01,  2.10000000e+01,\n",
       "         0.00000000e+00,  0.00000000e+00,  0.00000000e+00,  6.00000000e+00,\n",
       "         1.20000005e+00,  1.10000000e+01,  4.50000000e+00,  3.00000012e-01,\n",
       "         3.33000000e+02,  2.00000000e+00,  5.33333349e+00,  2.99000000e+02,\n",
       "         1.20000000e+01,  0.00000000e+00,  0.00000000e+00, -2.77555756e-17,\n",
       "         0.00000000e+00,  0.00000000e+00, -2.77555756e-17]))"
      ]
     },
     "execution_count": 12,
     "metadata": {},
     "output_type": "execute_result"
    }
   ],
   "source": [
    "test_data.decode_processed_tensor(test)"
   ]
  },
  {
   "cell_type": "code",
   "execution_count": 13,
   "metadata": {},
   "outputs": [
    {
     "name": "stdout",
     "output_type": "stream",
     "text": [
      "Current position in dataset after next_batch = 11\n",
      "Added new weapon/s! New number of examples in dataset = 31\n"
     ]
    }
   ],
   "source": [
    "test_data.add_new_weapons_and_restandardize_data(test_data.next_batch(10))"
   ]
  },
  {
   "cell_type": "code",
   "execution_count": 14,
   "metadata": {},
   "outputs": [
    {
     "name": "stdout",
     "output_type": "stream",
     "text": [
      "Current position in dataset after next_batch = 21\n"
     ]
    },
    {
     "data": {
      "text/plain": [
       "array([[-0.39985327, -0.24782506, -0.39956765, -0.52074564,  0.84983659,\n",
       "        -0.58976782, -0.43852901,  0.13831796, -1.06338055, -0.65239347,\n",
       "        -0.78317108,  0.59550076,  1.10863399,  2.14007921,  0.69340237,\n",
       "         0.29275708, -0.32732684, -0.32732684, -0.43852901, -0.58976782,\n",
       "         3.80788655, -0.38490018, -0.63960215],\n",
       "       [-0.03141098, -0.60308874, -0.69544472, -0.59002679, -1.17669681,\n",
       "         1.6955825 , -0.43852901, -0.3385344 ,  0.32254193,  0.04702235,\n",
       "        -0.26500364, -0.2626493 , -1.87108148, -0.57643848, -1.34802515,\n",
       "        -0.39605317, -0.32732684, -0.32732684,  2.28035085, -0.58976782,\n",
       "        -0.26261287, -0.38490018, -0.63960215],\n",
       "       [-0.39985327, -0.60308874, -0.24216107, -0.59002679, -1.17669681,\n",
       "         1.6955825 , -0.43852901, -0.3385344 , -0.55940875, -0.229974  ,\n",
       "        -0.58885828, -0.43427931, -0.95794287, -0.54814142, -0.85011602,\n",
       "        -0.39605317, -0.32732684, -0.32732684,  2.28035085, -0.58976782,\n",
       "        -0.26261287, -0.38490018, -0.63960215],\n",
       "       [-0.47880519, -0.12940384, -0.39956765, -0.52074564,  0.84983659,\n",
       "        -0.58976782, -0.43852901,  0.13831796, -1.19945295, -0.65239347,\n",
       "         0.77133122, -0.33130129,  0.86833436, -0.26517083, -0.25262503,\n",
       "         0.39791895, -0.32732684, -0.32732684, -0.43852901, -0.58976782,\n",
       "        -0.26261287, -0.38490018,  1.56347192],\n",
       "       [-1.34727631, -1.19519486, -0.22204142, -0.95375252,  0.84983659,\n",
       "        -0.58976782, -0.43852901, -1.29223911,  2.33842927,  2.36686697,\n",
       "        -0.58885828,  0.08061078, -1.47218408, -0.61888407, -0.51651698,\n",
       "        -1.24260623,  3.05505046,  3.05505046, -0.43852901, -0.58976782,\n",
       "        -0.26261287, -0.38490018, -0.63960215],\n",
       "       [ 0.33703131, -0.12940384,  0.19218647,  0.25248093,  0.84983659,\n",
       "        -0.58976782, -0.43852901, -1.29223911,  0.07055611, -0.50004545,\n",
       "        -0.91271291, -0.77753937, -0.33316382, -0.3925076 , -0.45178873,\n",
       "        -0.39605317, -0.32732684, -0.32732684, -0.43852901,  1.6955825 ,\n",
       "        -0.26261287, -0.38490018, -0.63960215],\n",
       "       [-0.39985327, -0.24782506, -0.39956765, -0.52074564,  0.84983659,\n",
       "        -0.58976782, -0.43852901,  0.13831796, -0.73579887, -0.63508119,\n",
       "        -0.20023268, -0.33130129,  1.10863399,  0.72522625,  0.02122485,\n",
       "         0.66082363, -0.32732684, -0.32732684, -0.43852901, -0.58976782,\n",
       "        -0.26261287, -0.38490018,  1.56347192],\n",
       "       [-0.47880519, -0.69190465, -0.69544472, -0.6342553 , -1.17669681,\n",
       "         1.6955825 , -0.43852901, -0.3385344 , -0.43341576, -0.40309673,\n",
       "        -0.58885828, -0.43427931, -1.53466199, -0.56228995, -1.49739792,\n",
       "         0.39266086, -0.32732684, -0.32732684,  2.28035085, -0.58976782,\n",
       "        -0.26261287, -0.38490018, -0.63960215],\n",
       "       [ 0.23176209,  0.58112351,  1.3165193 ,  0.87106218, -1.17669681,\n",
       "         1.6955825 , -0.43852901, -0.21932131, -0.18142986, -0.29922311,\n",
       "        -0.26500364, -0.60590935,  0.7722145 , -0.60473554, -0.4104623 ,\n",
       "        -0.39605317, -0.32732684, -0.32732684, -0.43852901,  1.6955825 ,\n",
       "        -0.26261287, -0.38490018, -0.63960215],\n",
       "       [-0.39985327, -0.24782506, -0.39956765, -0.52074564,  0.84983659,\n",
       "        -0.58976782, -0.43852901,  2.04668102,  0.57452791, -0.61776892,\n",
       "         1.93720802, -0.22832333,  1.10863399,  0.72522625,  1.24110237,\n",
       "         1.71244233, -0.32732684, -0.32732684, -0.43852901, -0.58976782,\n",
       "        -0.26261287, -0.38490018,  1.56347192]])"
      ]
     },
     "execution_count": 14,
     "metadata": {},
     "output_type": "execute_result"
    }
   ],
   "source": [
    "test_data.next_batch(10)"
   ]
  },
  {
   "cell_type": "code",
   "execution_count": null,
   "metadata": {},
   "outputs": [],
   "source": []
  }
 ],
 "metadata": {
  "kernelspec": {
   "display_name": "Python 3",
   "language": "python",
   "name": "python3"
  },
  "language_info": {
   "codemirror_mode": {
    "name": "ipython",
    "version": 3
   },
   "file_extension": ".py",
   "mimetype": "text/x-python",
   "name": "python",
   "nbconvert_exporter": "python",
   "pygments_lexer": "ipython3",
   "version": "3.6.4"
  }
 },
 "nbformat": 4,
 "nbformat_minor": 2
}
