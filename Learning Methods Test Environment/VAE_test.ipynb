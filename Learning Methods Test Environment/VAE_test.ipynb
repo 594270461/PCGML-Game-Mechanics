{
 "cells": [
  {
   "cell_type": "code",
   "execution_count": 1,
   "metadata": {},
   "outputs": [],
   "source": [
    "%config IPCompleter.greedy=True"
   ]
  },
  {
   "cell_type": "code",
   "execution_count": 1,
   "metadata": {},
   "outputs": [
    {
     "name": "stderr",
     "output_type": "stream",
     "text": [
      "D:\\z_outsourced_programs\\Anaconda3\\lib\\site-packages\\h5py\\__init__.py:36: FutureWarning: Conversion of the second argument of issubdtype from `float` to `np.floating` is deprecated. In future, it will be treated as `np.float64 == np.dtype(float).type`.\n",
      "  from ._conv import register_converters as _register_converters\n"
     ]
    },
    {
     "name": "stdout",
     "output_type": "stream",
     "text": [
      "Tensor Flow version 1.8.0\n"
     ]
    }
   ],
   "source": [
    "from __future__ import absolute_import\n",
    "from __future__ import division\n",
    "from __future__ import print_function\n",
    "\n",
    "import numpy as np\n",
    "import tensorflow as tf\n",
    "import variational_autoencoder as vae\n",
    "\n",
    "print(\"Tensor Flow version {}\".format(tf.__version__))"
   ]
  },
  {
   "cell_type": "code",
   "execution_count": 2,
   "metadata": {},
   "outputs": [],
   "source": [
    "#test utils\n",
    "import weapon_data as weapons\n",
    "\n",
    "def print_decoded_tensors_as_dict(weapon_data, array_of_tensors):\n",
    "    genDict = {}\n",
    "    \n",
    "    for tensor in array_of_tensors:\n",
    "        decoded, _ = weapon_data.decode_processed_tensor(tensor)\n",
    "        \n",
    "        for key, value in decoded.items():\n",
    "            if key not in genDict:\n",
    "                genDict[key] = []\n",
    "            genDict[key].append(value)\n",
    "    \n",
    "    for key, value in genDict.items():\n",
    "            print(key, \"=\", value)\n",
    "            \n",
    "            \n",
    "def get_weapon_data():\n",
    "    return weapons.get_data(3, 12, 1)"
   ]
  },
  {
   "cell_type": "code",
   "execution_count": 6,
   "metadata": {},
   "outputs": [
    {
     "name": "stdout",
     "output_type": "stream",
     "text": [
      "Epoch:0001, cost=22.252041299\n",
      "\n",
      "Epoch:0002, cost=20.215972078\n",
      "\n",
      "Epoch:0003, cost=18.834537776\n",
      "\n",
      "Epoch:0004, cost=18.258050686\n",
      "\n",
      "Epoch:0005, cost=17.468047262\n",
      "\n",
      "Epoch:0006, cost=17.479546855\n",
      "\n",
      "Epoch:0007, cost=16.813450888\n",
      "\n",
      "Epoch:0008, cost=15.878490309\n",
      "\n",
      "Epoch:0009, cost=15.068870161\n",
      "\n",
      "Epoch:0010, cost=15.495313536\n",
      "\n",
      "Trained model saved! You can find it in './trained_vae/model.ckpt'\n",
      "\n"
     ]
    }
   ],
   "source": [
    "import weapon_data as weapons\n",
    "\n",
    "network_architecture = \\\n",
    "    dict(n_input=0, #set it in with scope\n",
    "         n_hidden_1=16,\n",
    "         n_hidden_2=15,\n",
    "         n_z=2)  \n",
    "\n",
    "learning_rate = 0.01\n",
    "optimizer =  tf.train.AdamOptimizer(learning_rate)\n",
    "#optimizer = tf.train.RMSPropOptimizer(learning_rate)\n",
    "transfer_fct = lambda x : tf.nn.tanh(x)\n",
    "num_epochs = 10\n",
    "batch_size = 1\n",
    "epoch_debug_step = 1\n",
    "    \n",
    "with tf.Session() as sess:\n",
    "    train_data, test_data = get_weapon_data()\n",
    "    network_architecture['n_input'] = train_data.num_features\n",
    "  \n",
    "    network = vae.get_new_trained(sess, train_data, network_architecture, optimizer, \n",
    "                              transfer_fct, batch_size, num_epochs, epoch_debug_step)\n"
   ]
  },
  {
   "cell_type": "code",
   "execution_count": 5,
   "metadata": {},
   "outputs": [
    {
     "name": "stdout",
     "output_type": "stream",
     "text": [
      "INFO:tensorflow:Restoring parameters from trained_vae/model.ckpt\n",
      "[[ 1.40150649  0.82948142  0.60118691  2.88712045  0.99569425 -1.04880885\n",
      "   1.58113883 -0.48507125 -1.32959555  0.82220467 -0.26424317  0.4513875\n",
      "  -0.57240795 -0.48010721 -0.97777561 -0.32444284 -0.32444284 -0.48507125\n",
      "   1.78885438 -0.32444284 -0.40824829 -0.55901699]]\n",
      "[[ 0.31589502  0.33757037  0.15587732  0.32921115  0.21974574 -0.91164726\n",
      "   0.75485486  0.12902382 -0.61903006  0.12270112  0.31485996 -0.21458998\n",
      "  -0.48973477 -0.13697842 -0.6768916   0.15905002  0.13858786  0.28317842\n",
      "   0.3577404  -0.4882409   0.05679157 -0.5166566 ]]\n",
      "damages_first = ['53.0', '43.32789065140148']\n",
      "damages_last = ['38.0', '29.349479239220795']\n",
      "dmg_distances_first = ['66.0', '22.108922666174994']\n",
      "dmg_distances_last = ['89.0', '61.32283286865561']\n",
      "firemode_Automatic = ['0.0', '0.06850299385887693']\n",
      "firemode_Semi-Automatic = ['1.0', '0.626722950553579']\n",
      "hiprecoildec = ['3.0', '4.406141366317528']\n",
      "hiprecoilright = ['0.8999999761581421', '0.632859563326282']\n",
      "hiprecoilup = ['1.5', '3.2114991551339593']\n",
      "initialspeed = ['720.0', '573.584033479699']\n",
      "magsize = ['6.0', '11.625912816374559']\n",
      "reloadempty = ['3.299999952316284', '3.9536277153144264']\n",
      "rof = ['179.0', '238.1414182637886']\n",
      "shotspershell = ['1.0', '2.5611881767621725']\n",
      "type_Shotgun = ['0.0', '0.13591966470071878']\n",
      "type_Pistol = ['0.0', '0.3016737649443769']\n",
      "type_Rifle = ['1.0', '0.3904632109839605']\n",
      "type_Submachine Gun = ['0.0', '-0.04808185839664891']\n",
      "type_Sniper Rifle = ['0.0', '0.16273005391553175']\n"
     ]
    }
   ],
   "source": [
    "with tf.Session(graph=tf.Graph()) as sess:\n",
    "    network = vae.get_untrained(sess, network_architecture, optimizer, transfer_fct, batch_size)\n",
    "    network = vae.restore(network, \"trained_vae/model.ckpt\")\n",
    "        \n",
    "    train_data, test_data = get_weapon_data()\n",
    "    samples = test_data.next_batch(1)\n",
    "    x_reconstructed = network.encode_and_decode(samples)\n",
    "    \n",
    "    print(samples)\n",
    "    print(x_reconstructed)\n",
    "    \n",
    "    \n",
    "    \n",
    "    print_decoded_tensors_as_dict(test_data, np.concatenate((samples,x_reconstructed), axis=0))"
   ]
  },
  {
   "cell_type": "code",
   "execution_count": 12,
   "metadata": {},
   "outputs": [
    {
     "name": "stdout",
     "output_type": "stream",
     "text": [
      "INFO:tensorflow:Restoring parameters from trained_vae/model.ckpt\n",
      "Average cost = 16.150316011\n",
      "Average unnormalized distance = 542.014407796\n",
      "Average normalized distance = 18.915708601\n"
     ]
    }
   ],
   "source": [
    "with tf.Session(graph=tf.Graph()) as sess:\n",
    "    network = vae.get_untrained(sess, network_architecture, optimizer, transfer_fct, batch_size)\n",
    "    network = vae.restore(network, \"trained_vae/model.ckpt\")\n",
    "    \n",
    "    _, test_data = get_weapon_data()\n",
    "    num_samples = test_data.num_examples\n",
    "    \n",
    "    batch_size = 1\n",
    "    avg_cost = 0.\n",
    "    avg_distance_norm = 0\n",
    "    avg_distance_unnorm = 0\n",
    "    for i in range(num_samples):\n",
    "        batch = test_data.next_batch(1)\n",
    "\n",
    "        x_reconstructed = network.encode_and_decode(samples)\n",
    "        cost = network.calculate_loss(batch)\n",
    "        \n",
    "        #print(batch[0])\n",
    "        _, unstandardized_batch = test_data.decode_processed_tensor(batch[0])\n",
    "        _, unstandardized_x = test_data.decode_processed_tensor(x_reconstructed[0])\n",
    "        distance_unnorm = (sess.run(tf.reduce_sum(tf.abs(unstandardized_batch - unstandardized_x))))\n",
    "        \n",
    "        distance_norm = (sess.run(tf.reduce_sum(tf.abs(batch[0] - x_reconstructed[0]))))\n",
    "        #print(cost)\n",
    "\n",
    "        #compute average loss/cost\n",
    "        avg_cost += cost / num_samples\n",
    "        avg_distance_unnorm += distance_unnorm / num_samples\n",
    "        avg_distance_norm += distance_norm / num_samples\n",
    "    \n",
    "    print(\"Average cost = \" + \"{:.9f}\".format(avg_cost))\n",
    "    print(\"Average unnormalized distance = \" + \"{:.9f}\".format(avg_distance_unnorm))\n",
    "    print(\"Average normalized distance = \" + \"{:.9f}\".format(avg_distance_norm))\n"
   ]
  },
  {
   "cell_type": "code",
   "execution_count": 14,
   "metadata": {},
   "outputs": [
    {
     "name": "stdout",
     "output_type": "stream",
     "text": [
      "INFO:tensorflow:Restoring parameters from trained_vae/model.ckpt\n"
     ]
    },
    {
     "data": {
      "image/png": "[encoded data removed]",
      "text/plain": [
       "<matplotlib.figure.Figure at 0x2384f760b70>"
      ]
     },
     "metadata": {},
     "output_type": "display_data"
    },
    {
     "data": {
      "image/png": "[encoded data removed]",
      "text/plain": [
       "<matplotlib.figure.Figure at 0x2384fc18be0>"
      ]
     },
     "metadata": {},
     "output_type": "display_data"
    }
   ],
   "source": [
    "import matplotlib.pyplot as plt\n",
    "%matplotlib inline\n",
    "\n",
    "def show_z_distribution(vae_model, title, z_mean=True):\n",
    "    all_z = np.zeros((1,network_architecture['n_z']))\n",
    "        \n",
    "    train_data, test_data = get_weapon_data()\n",
    "    total_batch = int(train_data.num_examples / batch_size) \n",
    "\n",
    "    # Loop over all batches\n",
    "    for i in range(total_batch):\n",
    "        batch = train_data.next_batch(batch_size)\n",
    "        z_dist = vae_model.calculate_z(batch)\n",
    "        if z_mean:\n",
    "            z_dist = vae_model.calculate_z_mean(batch)\n",
    "        all_z = np.vstack((all_z, z_dist))\n",
    "\n",
    "    plt.figure(figsize=(15,5))\n",
    "    plt.subplot(1,2,1)\n",
    "    plt.scatter(all_z[:,0], all_z[:,1])\n",
    "    plt.xlim(-3,3)\n",
    "    plt.ylim(-3,3)\n",
    "    plt.title(title)\n",
    "    plt.subplot(1,2,2)\n",
    "    plt.hist2d(all_z[:,0], all_z[:,1], (50, 50), cmap=plt.cm.jet)\n",
    "    plt.colorbar()\n",
    "    plt.title(title)\n",
    "    \n",
    "with tf.Session(graph=tf.Graph()) as sess:\n",
    "    network = vae.get_untrained(sess, network_architecture, optimizer, transfer_fct, batch_size)\n",
    "    show_z_distribution(network, \"Untrained Latent Space\", z_mean=True)\n",
    "    network = vae.restore(network, \"trained_vae/model.ckpt\")\n",
    "    show_z_distribution(network, \"Trained Latent Space\", z_mean=True)"
   ]
  },
  {
   "cell_type": "code",
   "execution_count": 13,
   "metadata": {},
   "outputs": [
    {
     "name": "stdout",
     "output_type": "stream",
     "text": [
      "INFO:tensorflow:Restoring parameters from trained_vae/model.ckpt\n",
      "damages_first = ['81.14501802535267', '37.99001474982083', '65.1747215053313', '35.101802970275884']\n",
      "damages_last = ['70.30277731443357', '21.181006150942153', '50.42946764922374', '20.149030829844513']\n",
      "dmg_distances_first = ['7.719734568221325', '21.370772431492668', '15.429994241057024', '19.038814236996863']\n",
      "dmg_distances_last = ['126.23351829435981', '46.830762106330866', '94.81158173285408', '43.3506464367037']\n",
      "firemode_Automatic = ['0.017815899766150056', '0.28248220211565267', '-0.045153416195217067', '0.5287769528679183']\n",
      "firemode_Semi-Automatic = ['0.12918095443665722', '0.6435731722501039', '0.5078695703868116', '0.4287639680955724']\n",
      "hiprecoildec = ['3.2300378432355346', '5.701299905185159', '3.5155589980041144', '6.755830501181775']\n",
      "hiprecoilright = ['0.9064637588041147', '0.44461377610911323', '0.7435536418092499', '0.3874253723452334']\n",
      "hiprecoilup = ['5.236704622784657', '1.9263852653213749', '4.241881348348033', '1.361206918735774']\n",
      "initialspeed = ['697.6228484139775', '519.950570449945', '598.3986135429262', '550.1675609859204']\n",
      "magsize = ['9.830727043454623', '22.71123708153678', '7.738875983373843', '33.536436271629306']\n",
      "reloadempty = ['3.9781767087766937', '3.753518757621983', '3.76430865428835', '3.9189144756548195']\n",
      "rof = ['60.43138176112819', '363.9817877596128', '121.99804705303134', '456.02046478139033']\n",
      "shotspershell = ['1.099454642213046', '2.023085717805016', '1.7962339285356173', '1.652544485902219']\n",
      "type_Shotgun = ['0.04573241532756329', '0.10706137811220587', '0.09913101275638073', '0.06663665107137495']\n",
      "type_Pistol = ['0.008307364074674695', '0.3112681189289448', '0.19580414663482676', '0.22520168537398558']\n",
      "type_Rifle = ['0.1365725984603942', '0.3627077543490943', '0.28957232398403604', '0.28878644376720364']\n",
      "type_Submachine Gun = ['-0.024929243095062906', '0.13574913984232231', '-0.03749890068643459', '0.2448271950922375']\n",
      "type_Sniper Rifle = ['0.8630552954487998', '0.0033166497109094473', '0.4939639619565722', '0.0016230916046710009']\n"
     ]
    }
   ],
   "source": [
    "# Testing\n",
    "with tf.Session(graph=tf.Graph()) as sess:\n",
    "    network = vae.get_untrained(sess, network_architecture, optimizer, transfer_fct, batch_size)\n",
    "    network = vae.restore(network, \"trained_vae/model.ckpt\")\n",
    "    \n",
    "    generated = []\n",
    "    for i in range(4):\n",
    "        random_val = np.random.normal(size=(1,network_architecture[\"n_z\"]))\n",
    "        x_test = network.decode_from_latent_space(random_val)\n",
    "        generated.append(x_test[0])\n",
    "        \n",
    "    train_data, test_data = get_weapon_data()\n",
    "    print_decoded_tensors_as_dict(train_data, generated)"
   ]
  },
  {
   "cell_type": "code",
   "execution_count": null,
   "metadata": {},
   "outputs": [],
   "source": []
  }
 ],
 "metadata": {
  "kernelspec": {
   "display_name": "Python 3",
   "language": "python",
   "name": "python3"
  },
  "language_info": {
   "codemirror_mode": {
    "name": "ipython",
    "version": 3
   },
   "file_extension": ".py",
   "mimetype": "text/x-python",
   "name": "python",
   "nbconvert_exporter": "python",
   "pygments_lexer": "ipython3",
   "version": "3.6.4"
  }
 },
 "nbformat": 4,
 "nbformat_minor": 2
}
