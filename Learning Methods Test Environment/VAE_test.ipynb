{
 "cells": [
  {
   "cell_type": "code",
   "execution_count": 1,
   "metadata": {},
   "outputs": [],
   "source": [
    "%config IPCompleter.greedy=True"
   ]
  },
  {
   "cell_type": "code",
   "execution_count": 2,
   "metadata": {},
   "outputs": [
    {
     "name": "stderr",
     "output_type": "stream",
     "text": [
      "D:\\z_outsourced_programs\\Anaconda3\\lib\\site-packages\\h5py\\__init__.py:36: FutureWarning: Conversion of the second argument of issubdtype from `float` to `np.floating` is deprecated. In future, it will be treated as `np.float64 == np.dtype(float).type`.\n",
      "  from ._conv import register_converters as _register_converters\n"
     ]
    },
    {
     "name": "stdout",
     "output_type": "stream",
     "text": [
      "Tensor Flow version 1.8.0\n"
     ]
    }
   ],
   "source": [
    "from __future__ import absolute_import\n",
    "from __future__ import division\n",
    "from __future__ import print_function\n",
    "\n",
    "import numpy as np\n",
    "import tensorflow as tf\n",
    "import variational_autoencoder as vae\n",
    "\n",
    "print(\"Tensor Flow version {}\".format(tf.__version__))"
   ]
  },
  {
   "cell_type": "code",
   "execution_count": 3,
   "metadata": {},
   "outputs": [],
   "source": [
    "#test utils\n",
    "import weapon_data as weapons\n",
    "\n",
    "def print_decoded_tensors_as_dict(weapon_data, array_of_tensors):\n",
    "    genDict = {}\n",
    "    \n",
    "    for tensor in array_of_tensors:\n",
    "        decoded, _ = weapon_data.decode_processed_tensor(tensor)\n",
    "        \n",
    "        for key, value in decoded.items():\n",
    "            if key not in genDict:\n",
    "                genDict[key] = []\n",
    "            genDict[key].append(value)\n",
    "    \n",
    "    for key, value in genDict.items():\n",
    "            print(key, \"=\", value)\n",
    "            \n",
    "            \n",
    "def get_weapon_data():\n",
    "    return weapons.get_data(2, 13, 0)"
   ]
  },
  {
   "cell_type": "code",
   "execution_count": 4,
   "metadata": {},
   "outputs": [
    {
     "name": "stdout",
     "output_type": "stream",
     "text": [
      "Epoch:0001 - Cost:21.842238697\n",
      "Epoch:0002 - Cost:19.848203058\n",
      "Epoch:0003 - Cost:17.585138411\n",
      "Epoch:0004 - Cost:16.193325726\n",
      "Epoch:0005 - Cost:15.926332774\n",
      "Epoch:0006 - Cost:15.006283738\n",
      "Epoch:0007 - Cost:15.697696228\n",
      "Epoch:0008 - Cost:14.240050635\n",
      "Epoch:0009 - Cost:14.954093498\n",
      "Epoch:0010 - Cost:14.232156558\n",
      "Epoch:0011 - Cost:15.229488977\n",
      "Epoch:0012 - Cost:13.795639887\n",
      "Epoch:0013 - Cost:15.454482131\n",
      "Epoch:0014 - Cost:13.712503816\n",
      "Epoch:0015 - Cost:13.780254586\n",
      "Epoch:0016 - Cost:15.503638279\n",
      "Epoch:0017 - Cost:13.291737076\n",
      "Epoch:0018 - Cost:15.055843113\n",
      "Epoch:0019 - Cost:13.825908158\n",
      "Epoch:0020 - Cost:14.991565389\n",
      "Trained model saved! You can find it in './trained_vae/model.ckpt'\n"
     ]
    }
   ],
   "source": [
    "network_architecture = \\\n",
    "    dict(n_input=0, #set it in with scope\n",
    "         n_hidden_1=8,\n",
    "         n_hidden_2=0,\n",
    "         n_z=2)  \n",
    "\n",
    "learning_rate = 0.01\n",
    "optimizer =  tf.train.AdamOptimizer(learning_rate)\n",
    "#optimizer = tf.train.RMSPropOptimizer(learning_rate)\n",
    "transfer_fct = tf.nn.elu\n",
    "num_epochs = 20\n",
    "batch_size = 5\n",
    "epoch_debug_step = 1\n",
    "    \n",
    "with tf.Session() as sess:\n",
    "    train_data, test_data = get_weapon_data()\n",
    "    network_architecture['n_input'] = train_data.num_features\n",
    "  \n",
    "    network = vae.get_new_trained(sess, train_data, network_architecture, optimizer, \n",
    "                              transfer_fct, batch_size, num_epochs, epoch_debug_step)\n"
   ]
  },
  {
   "cell_type": "code",
   "execution_count": 5,
   "metadata": {},
   "outputs": [
    {
     "name": "stdout",
     "output_type": "stream",
     "text": [
      "INFO:tensorflow:Restoring parameters from trained_vae/model.ckpt\n",
      "[[ 0.82948142  0.60118691  2.88712045  0.99569425 -0.26352316 -1.04880885\n",
      "   1.58113883 -0.48507125 -1.32959555  0.82220467 -0.26424317  0.4513875\n",
      "  -0.57240795 -0.48010721 -0.97777561 -0.32444284 -0.32444284 -0.48507125\n",
      "   1.78885438 -0.32444284 -0.40824829 -0.55901699]]\n",
      "[[ 0.7031001   0.64624727  0.05566801  0.62742066  0.17186983 -1.040858\n",
      "   0.33377224  0.6960973  -0.8481591   0.60532045  0.8005972  -0.02589207\n",
      "  -0.6600765  -0.37669513 -1.0231197   0.1745204   0.17777975  0.09396543\n",
      "   0.09841312 -0.684531    0.62767076 -0.57385296]\n",
      " [-0.13713601 -0.31949484  0.6504114  -0.22615746  0.35303712 -0.9776425\n",
      "   1.1687627  -0.26226085 -0.7670846  -0.047024    0.17143738 -0.5291935\n",
      "  -0.7597146  -0.6277039  -0.5216725   0.33432707  0.31459472  0.5767135\n",
      "   0.6257733  -0.56471956 -0.3743135  -0.7777812 ]\n",
      " [-0.03314753 -0.20980506  0.5540999  -0.12134199  0.3627721  -0.9404888\n",
      "   1.0106913  -0.12749887 -0.75265795  0.07086616  0.29914343 -0.43954694\n",
      "  -0.69736546 -0.5379713  -0.5850739   0.34095806  0.34752005  0.47780836\n",
      "   0.53490895 -0.56850564 -0.24795622 -0.6737975 ]\n",
      " [-0.12295657 -0.3001443   0.6975822  -0.21195385  0.3295783  -1.0883796\n",
      "   1.2720991  -0.2719921  -0.84080255 -0.07385352  0.14384243 -0.57008773\n",
      "  -0.8401566  -0.71439976 -0.5601695   0.31871593  0.27078354  0.6302116\n",
      "   0.67484814 -0.6148632  -0.37446147 -0.89290774]\n",
      " [-0.16751656 -0.35119236  0.6641437  -0.2563773   0.35222176 -0.96130943\n",
      "   1.1862872  -0.29595876 -0.75253457 -0.07472067  0.13951693 -0.5436106\n",
      "  -0.7584939  -0.63338506 -0.49376118  0.33299223  0.31113505  0.5913239\n",
      "   0.6379023  -0.5505495  -0.40654877 -0.781683  ]]\n",
      "damages_first = ['53.0', '50.515050556493776', '33.994064910962244', '36.03871908490177', '34.272865474471786', '33.39671306770019']\n",
      "damages_last = ['38.0', '38.87533600325014', '20.11496722086668', '22.245785409770285', '20.49086783724597', '19.499215871133924']\n",
      "dmg_distances_first = ['66.0', '17.415205475375625', '27.620387196599925', '25.967781330877585', '28.429788607568135', '27.85601847719032']\n",
      "dmg_distances_last = ['89.0', '75.86411610240012', '45.41799225419164', '49.15663626257755', '45.924618184479755', '44.340085777040315']\n",
      "drag = ['0.0024999999441206455', '0.003090071483542297', '0.0033356006122882116', '0.003348794071103385', '0.003303807782224451', '0.00333449558357348']\n",
      "firemode_Automatic = ['0.0', '0.0039708991010728445', '0.03554281916108154', '0.05409857566681331', '-0.019762941525379718', '0.04370007659884795']\n",
      "firemode_Semi-Automatic = ['1.0', '0.43649721495426913', '0.813707446462215', '0.7422980674720143', '0.8603900976318438', '0.8216241999196712']\n",
      "hiprecoildec = ['3.0', '3.9527168843948095', '4.113155544521285', '4.141704506925712', '3.9672747450613928', '4.141948667379925']\n",
      "hiprecoilright = ['0.8999999761581421', '0.8171718924480075', '0.5680415347057632', '0.613063790117007', '0.5577953412545342', '0.5574641792260697']\n",
      "hiprecoilup = ['1.5', '4.6470618810024344', '2.787623679999371', '3.165050061043989', '2.7060687069392575', '2.6932850087532563']\n",
      "initialspeed = ['720.0', '615.0695018880476', '504.41805953436443', '524.1269697380708', '495.4274171821543', '501.2484528919979']\n",
      "magsize = ['6.0', '0.034152128991173925', '-6.746224360082621', '-2.5033631603618645', '-12.220306044058674', '-6.663155469766927']\n",
      "reloadempty = ['3.299999952316284', '3.4969901448529983', '3.0188422528634273', '3.189774312218149', '2.8536948900173575', '3.0080201879536053']\n",
      "rof = ['179.0', '170.08721885034632', '268.65111771709866', '256.1890095016243', '261.0841845720519', '274.13733257909723']\n",
      "shotspershell = ['1.0', '2.6111417231703506', '3.127154062850477', '3.1485653788248036', '3.0767460171171477', '3.1228438734002313']\n",
      "type_Shotgun = ['0.0', '0.1474241892571816', '0.18758533674024208', '0.19725035635282986', '0.17472485085045736', '0.1865697753066619']\n",
      "type_Pistol = ['0.0', '0.2273742263728033', '0.41693816058516864', '0.3781004115967813', '0.4379456151573894', '0.4226753284497108']\n",
      "type_Rifle = ['1.0', '0.2800111307931053', '0.5046231735511992', '0.4659224332777744', '0.5255250121776828', '0.5097891331910824']\n",
      "type_Submachine Gun = ['0.0', '-0.10570153895739509', '-0.07053167379140096', '-0.07164305512197222', '-0.08525102019176325', '-0.06637214719754034']\n",
      "type_Sniper Rifle = ['0.0', '0.3624961572177134', '0.011874701797458337', '0.05609054163248063', '0.011822923597730656', '0.0005947088788945121']\n"
     ]
    }
   ],
   "source": [
    "with tf.Session(graph=tf.Graph()) as sess:\n",
    "    network = vae.get_untrained(sess, network_architecture, optimizer, transfer_fct, batch_size)\n",
    "    network = vae.restore(network, \"trained_vae/model.ckpt\")\n",
    "        \n",
    "    train_data, test_data = get_weapon_data()\n",
    "    samples = test_data.next_batch(1)\n",
    "    x_reconstructed = network.encode_and_decode(samples)\n",
    "    \n",
    "    print(samples)\n",
    "    print(x_reconstructed)\n",
    "    \n",
    "    print_decoded_tensors_as_dict(test_data, np.concatenate((samples,x_reconstructed), axis=0))"
   ]
  },
  {
   "cell_type": "code",
   "execution_count": 6,
   "metadata": {},
   "outputs": [
    {
     "name": "stdout",
     "output_type": "stream",
     "text": [
      "INFO:tensorflow:Restoring parameters from trained_vae/model.ckpt\n",
      "Average cost = 14.736269633\n",
      "Average unnormalized distance = 515.639769821\n",
      "Average normalized distance = 18.420588287\n"
     ]
    }
   ],
   "source": [
    "with tf.Session(graph=tf.Graph()) as sess:\n",
    "    network = vae.get_untrained(sess, network_architecture, optimizer, transfer_fct, batch_size)\n",
    "    network = vae.restore(network, \"trained_vae/model.ckpt\")\n",
    "    \n",
    "    _, test_data = get_weapon_data()\n",
    "    num_samples = test_data.num_examples\n",
    "    \n",
    "    batch_size = 1\n",
    "    avg_cost = 0.\n",
    "    avg_distance_norm = 0\n",
    "    avg_distance_unnorm = 0\n",
    "    for i in range(num_samples):\n",
    "        batch = test_data.next_batch(1)\n",
    "\n",
    "        x_reconstructed = network.encode_and_decode(samples)\n",
    "        cost = network.calculate_loss(batch)\n",
    "        \n",
    "        #print(batch[0])\n",
    "        _, unstandardized_batch = test_data.decode_processed_tensor(batch[0])\n",
    "        _, unstandardized_x = test_data.decode_processed_tensor(x_reconstructed[0])\n",
    "        distance_unnorm = (sess.run(tf.reduce_sum(tf.abs(unstandardized_batch - unstandardized_x))))\n",
    "        \n",
    "        distance_norm = (sess.run(tf.reduce_sum(tf.abs(batch[0] - x_reconstructed[0]))))\n",
    "        #print(cost)\n",
    "\n",
    "        #compute average loss/cost\n",
    "        avg_cost += cost / num_samples\n",
    "        avg_distance_unnorm += distance_unnorm / num_samples\n",
    "        avg_distance_norm += distance_norm / num_samples\n",
    "    \n",
    "    print(\"Average cost = \" + \"{:.9f}\".format(avg_cost))\n",
    "    print(\"Average unnormalized distance = \" + \"{:.9f}\".format(avg_distance_unnorm))\n",
    "    print(\"Average normalized distance = \" + \"{:.9f}\".format(avg_distance_norm))\n"
   ]
  },
  {
   "cell_type": "code",
   "execution_count": 7,
   "metadata": {},
   "outputs": [
    {
     "name": "stdout",
     "output_type": "stream",
     "text": [
      "INFO:tensorflow:Restoring parameters from trained_vae/model.ckpt\n"
     ]
    },
    {
     "data": {
      "image/png": "[encoded data removed]",
      "text/plain": [
       "<matplotlib.figure.Figure at 0x1fec46823c8>"
      ]
     },
     "metadata": {},
     "output_type": "display_data"
    },
    {
     "data": {
      "image/png": "[encoded data removed]",
      "text/plain": [
       "<matplotlib.figure.Figure at 0x1fec6a97128>"
      ]
     },
     "metadata": {},
     "output_type": "display_data"
    }
   ],
   "source": [
    "import matplotlib.pyplot as plt\n",
    "%matplotlib inline\n",
    "\n",
    "def show_z_distribution(vae_model, title, z_mean=True):\n",
    "    all_z = np.zeros((1,network_architecture['n_z']))\n",
    "        \n",
    "    train_data, test_data = get_weapon_data()\n",
    "    total_batch = int(train_data.num_examples / batch_size) \n",
    "\n",
    "    # Loop over all batches\n",
    "    for i in range(total_batch):\n",
    "        batch = train_data.next_batch(batch_size)\n",
    "        z_dist = vae_model.calculate_z(batch)\n",
    "        if z_mean:\n",
    "            z_dist = vae_model.calculate_z_mean(batch)\n",
    "        all_z = np.vstack((all_z, z_dist))\n",
    "\n",
    "    plt.figure(figsize=(15,5))\n",
    "    plt.subplot(1,2,1)\n",
    "    plt.scatter(all_z[:,0], all_z[:,1])\n",
    "    plt.xlim(-3,3)\n",
    "    plt.ylim(-3,3)\n",
    "    plt.title(title)\n",
    "    plt.subplot(1,2,2)\n",
    "    plt.hist2d(all_z[:,0], all_z[:,1], (50, 50), cmap=plt.cm.jet)\n",
    "    plt.colorbar()\n",
    "    plt.title(title)\n",
    "    \n",
    "with tf.Session(graph=tf.Graph()) as sess:\n",
    "    network = vae.get_untrained(sess, network_architecture, optimizer, transfer_fct, batch_size)\n",
    "    show_z_distribution(network, \"Untrained Latent Space\", z_mean=True)\n",
    "    network = vae.restore(network, \"trained_vae/model.ckpt\")\n",
    "    show_z_distribution(network, \"Trained Latent Space\", z_mean=True)"
   ]
  },
  {
   "cell_type": "code",
   "execution_count": 8,
   "metadata": {},
   "outputs": [
    {
     "name": "stdout",
     "output_type": "stream",
     "text": [
      "INFO:tensorflow:Restoring parameters from trained_vae/model.ckpt\n",
      "damages_first = ['44.78603008583234', '43.33383506417148', '41.87220580074771', '52.48577830104137']\n",
      "damages_last = ['31.829267404562486', '26.44379690805361', '28.392803260573714', '36.65332505808173']\n",
      "dmg_distances_first = ['11.27140186328564', '21.86867776459228', '12.64339679546138', '21.103020429155368']\n",
      "dmg_distances_last = ['63.770749593555855', '57.39997533258708', '58.712197755694376', '72.8311893641925']\n",
      "drag = ['0.0029004829016362455', '0.003219096995260971', '0.002948482212373928', '0.0030724630981439913']\n",
      "firemode_Automatic = ['0.5826481184213063', '0.012514386367965369', '0.5737631675800646', '-0.18286941681411711']\n",
      "firemode_Semi-Automatic = ['0.10418019138457751', '0.7630191237252554', '0.17175048363119658', '0.7859579848601259']\n",
      "hiprecoildec = ['6.476250192932279', '3.787417117210449', '6.425030181586825', '2.94988957804142']\n",
      "hiprecoilright = ['0.6572675528845016', '0.6327241226691229', '0.6265956305245035', '0.7004875678631342']\n",
      "hiprecoilup = ['3.185725777865165', '3.5939111897007594', '3.022610858454488', '4.078774928987174']\n",
      "initialspeed = ['627.4552224230049', '505.39560729636753', '610.6041377138002', '515.0016823622288']\n",
      "magsize = ['41.96800959924002', '4.971447519330635', '40.53966619818642', '-3.5503573581365195']\n",
      "reloadempty = ['4.442037327574186', '3.3682605188507995', '4.383259536260469', '3.1273289041986385']\n",
      "rof = ['352.87615503987956', '210.61617078607492', '362.285252458018', '134.46439406382433']\n",
      "shotspershell = ['2.062747128673672', '2.792950069599068', '2.164443029180136', '2.5353120284802655']\n",
      "type_Shotgun = ['0.15426388480245024', '0.21469724585650998', '0.16581742826244333', '0.16545840736478484']\n",
      "type_Pistol = ['0.06423576866937625', '0.35242072648003975', '0.09482598272469997', '0.3525717153919257']\n",
      "type_Rifle = ['0.0970682189188988', '0.4084587682215498', '0.13505591344307147', '0.39938663054939993']\n",
      "type_Submachine Gun = ['0.19989496861000683', '-0.027377250373850207', '0.1994484266283281', '-0.10135738575809398']\n",
      "type_Sniper Rifle = ['0.2441222248600788', '0.12205095319297901', '0.18401214453368997', '0.27664457877960336']\n"
     ]
    }
   ],
   "source": [
    "# Testing\n",
    "with tf.Session(graph=tf.Graph()) as sess:\n",
    "    network = vae.get_untrained(sess, network_architecture, optimizer, transfer_fct, batch_size)\n",
    "    network = vae.restore(network, \"trained_vae/model.ckpt\")\n",
    "    \n",
    "    generated = []\n",
    "    for i in range(4):\n",
    "        random_val = np.random.normal(size=(1,network_architecture[\"n_z\"]))\n",
    "        x_test = network.decode_from_latent_space(random_val)\n",
    "        generated.append(x_test[0])\n",
    "        \n",
    "    train_data, test_data = get_weapon_data()\n",
    "    print_decoded_tensors_as_dict(train_data, generated)"
   ]
  },
  {
   "cell_type": "code",
   "execution_count": null,
   "metadata": {},
   "outputs": [],
   "source": []
  },
  {
   "cell_type": "code",
   "execution_count": null,
   "metadata": {},
   "outputs": [],
   "source": []
  }
 ],
 "metadata": {
  "kernelspec": {
   "display_name": "Python 3",
   "language": "python",
   "name": "python3"
  },
  "language_info": {
   "codemirror_mode": {
    "name": "ipython",
    "version": 3
   },
   "file_extension": ".py",
   "mimetype": "text/x-python",
   "name": "python",
   "nbconvert_exporter": "python",
   "pygments_lexer": "ipython3",
   "version": "3.6.4"
  }
 },
 "nbformat": 4,
 "nbformat_minor": 2
}
