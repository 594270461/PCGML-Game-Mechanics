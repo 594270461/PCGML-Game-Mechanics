{
 "cells": [
  {
   "cell_type": "code",
   "execution_count": 1,
   "metadata": {},
   "outputs": [],
   "source": [
    "%config IPCompleter.greedy=True"
   ]
  },
  {
   "cell_type": "code",
   "execution_count": 2,
   "metadata": {},
   "outputs": [
    {
     "name": "stderr",
     "output_type": "stream",
     "text": [
      "D:\\z_outsourced_programs\\Anaconda3\\lib\\site-packages\\h5py\\__init__.py:36: FutureWarning: Conversion of the second argument of issubdtype from `float` to `np.floating` is deprecated. In future, it will be treated as `np.float64 == np.dtype(float).type`.\n",
      "  from ._conv import register_converters as _register_converters\n"
     ]
    },
    {
     "name": "stdout",
     "output_type": "stream",
     "text": [
      "Tensor Flow version 1.8.0\n"
     ]
    }
   ],
   "source": [
    "from __future__ import absolute_import\n",
    "from __future__ import division\n",
    "from __future__ import print_function\n",
    "\n",
    "import numpy as np\n",
    "import tensorflow as tf\n",
    "import variational_autoencoder as vae\n",
    "\n",
    "print(\"Tensor Flow version {}\".format(tf.__version__))"
   ]
  },
  {
   "cell_type": "code",
   "execution_count": 3,
   "metadata": {},
   "outputs": [],
   "source": [
    "#test utils\n",
    "import weapon_data as weapons\n",
    "\n",
    "def print_decoded_tensors_as_dict(weapon_data, array_of_tensors):\n",
    "    genDict = {}\n",
    "    \n",
    "    for tensor in array_of_tensors:\n",
    "        decoded = weapon_data.decode_processed_tensor(tensor)\n",
    "        \n",
    "        for key, value in decoded.items():\n",
    "            if key not in genDict:\n",
    "                genDict[key] = []\n",
    "            genDict[key].append(value)\n",
    "    \n",
    "    for key, value in genDict.items():\n",
    "            print(key, \"=\", value)\n",
    "            \n",
    "def get_weapon_data():\n",
    "    return weapons.get_data(3, 15, 1)"
   ]
  },
  {
   "cell_type": "code",
   "execution_count": 4,
   "metadata": {},
   "outputs": [
    {
     "name": "stdout",
     "output_type": "stream",
     "text": [
      "Epoch:0001, cost=24.966059962\n",
      "Epoch:0002, cost=22.324003452\n",
      "Epoch:0003, cost=21.411929443\n",
      "Epoch:0004, cost=20.743528685\n",
      "Epoch:0005, cost=20.225995583\n",
      "Epoch:0006, cost=19.325616083\n",
      "Epoch:0007, cost=19.301444801\n",
      "Epoch:0008, cost=19.278015233\n",
      "Epoch:0009, cost=18.798632113\n",
      "Epoch:0010, cost=19.280941212\n",
      "Trained model saved! You can find it in './trained_vae/model.ckpt'\n"
     ]
    }
   ],
   "source": [
    "import weapon_data as weapons\n",
    "\n",
    "network_architecture = \\\n",
    "    dict(n_input=0, #set it in with scope\n",
    "         n_hidden_1=14,\n",
    "         n_hidden_2=15,\n",
    "         n_z=2)  \n",
    "\n",
    "learning_rate = 0.01\n",
    "optimizer =  tf.train.AdamOptimizer(learning_rate)\n",
    "#optimizer = tf.train.RMSPropOptimizer(learning_rate)\n",
    "transfer_fct = lambda x : tf.nn.tanh(x)\n",
    "num_epochs = 10\n",
    "batch_size = 1\n",
    "epoch_debug_step = 1\n",
    "    \n",
    "with tf.Session() as sess:\n",
    "    weapon_data = get_weapon_data()\n",
    "    network_architecture['n_input'] = weapon_data.num_features\n",
    "  \n",
    "    network = vae.get_new_trained(sess, weapon_data, network_architecture, optimizer, \n",
    "                              transfer_fct, batch_size, num_epochs, epoch_debug_step, )\n"
   ]
  },
  {
   "cell_type": "code",
   "execution_count": 5,
   "metadata": {},
   "outputs": [
    {
     "name": "stdout",
     "output_type": "stream",
     "text": [
      "INFO:tensorflow:Restoring parameters from trained_vae/model.ckpt\n",
      "[[ 0.57455492 -0.70326645 -0.48674743 -0.30162464 -0.29826301 -0.22336265\n",
      "   1.3003496  -0.75793673 -0.59816232  0.19378264 -1.11913753 -0.86609068\n",
      "  -0.28002455  0.55030494  2.19514536  3.58362519  0.55859823 -0.28577464\n",
      "  -0.32322997 -0.50421948 -0.54611868 -0.36023741 -0.52522573  2.45919073\n",
      "  -0.2672411 ]]\n",
      "[[-0.01771249 -0.872924   -0.584317   -0.3309797  -0.6370051  -0.25324634\n",
      "   1.6034385  -0.9559141  -0.6911563   1.3573686  -0.7205461  -0.9235662\n",
      "  -0.15986642  0.23999609  0.83162403  0.34357196  1.4537512  -0.21630365\n",
      "  -0.42652544 -0.4870184  -0.22112171  1.011781   -0.5936212   0.88827145\n",
      "  -0.22868529]]\n",
      "damages_first = ['26.5', '22.300446526861176']\n",
      "damages_last = ['20.0', '17.659855771315883']\n",
      "dmg_distances_first = ['11.0', '10.563702821503544']\n",
      "dmg_distances_last = ['50.0', '35.87422458401922']\n",
      "drag = ['0.0024999999441206455', '0.0024638404818858404']\n",
      "firemode_Automatic = ['1.0', '1.1464640791636']\n",
      "firemode_Semi-Automatic = ['0.0', '-0.0953047618959676']\n",
      "hiprecoildec = ['6.0', '9.173995710129775']\n",
      "hiprecoilright = ['0.15000000596046448', '0.30694358945734723']\n",
      "hiprecoilup = ['0.20000000298023224', '0.03841091860258716']\n",
      "hordispersion = ['0.0', '0.0626252268447596']\n",
      "initialspeed = ['700.0', '634.993172107612']\n",
      "magsize = ['120.0', '61.980943612855114']\n",
      "reloadempty = ['8.75979995727539', '4.341833146055145']\n",
      "rof = ['450.0', '648.39584494121']\n",
      "shotspershell = ['1.0', '1.2003908632721494']\n",
      "type_Shotgun = ['-1.3877787807814457e-17', '-0.030229850806230002']\n",
      "type_Pistol = ['2.7755575615628914e-17', '0.006915053957452372']\n",
      "type_Rifle = ['2.7755575615628914e-17', '0.13671289433100392']\n",
      "type_Submachine Gun = ['0.0', '0.43748012257793334']\n",
      "type_Sniper Rifle = ['0.0', '-0.02815590957285427']\n",
      "verdispersion = ['0.0', '0.018375385971726887']\n"
     ]
    }
   ],
   "source": [
    "with tf.Session(graph=tf.Graph()) as sess:\n",
    "    network = vae.get_untrained(sess, network_architecture, optimizer, transfer_fct, batch_size)\n",
    "    network = vae.restore(network, \"trained_vae/model.ckpt\")\n",
    "        \n",
    "    weapon_data = get_weapon_data()\n",
    "    samples = weapon_data.next_batch(batch_size)\n",
    "    x_reconstructed = network.encode_and_decode(samples)\n",
    "    \n",
    "    print(samples)\n",
    "    print(x_reconstructed)\n",
    "    \n",
    "    print_decoded_tensors_as_dict(weapon_data, np.concatenate((samples,x_reconstructed), axis=0))"
   ]
  },
  {
   "cell_type": "code",
   "execution_count": 6,
   "metadata": {},
   "outputs": [
    {
     "name": "stdout",
     "output_type": "stream",
     "text": [
      "INFO:tensorflow:Restoring parameters from trained_vae/model.ckpt\n"
     ]
    },
    {
     "data": {
      "image/png": "[encoded data removed]",
      "text/plain": [
       "<matplotlib.figure.Figure at 0x24ac4b12d30>"
      ]
     },
     "metadata": {},
     "output_type": "display_data"
    },
    {
     "data": {
      "image/png": "[encoded data removed]",
      "text/plain": [
       "<matplotlib.figure.Figure at 0x24ac6f35748>"
      ]
     },
     "metadata": {},
     "output_type": "display_data"
    }
   ],
   "source": [
    "import matplotlib.pyplot as plt\n",
    "%matplotlib inline\n",
    "\n",
    "def show_z_distribution(vae_model, title, z_mean=True):\n",
    "    all_z = np.zeros((1,network_architecture['n_z']))\n",
    "        \n",
    "    weapon_data = get_weapon_data()\n",
    "    total_batch = int(weapon_data.num_examples / batch_size) \n",
    "\n",
    "    # Loop over all batches\n",
    "    for i in range(total_batch):\n",
    "        batch = weapon_data.next_batch(batch_size)\n",
    "        z_dist = vae_model.calculate_z(batch)\n",
    "        if z_mean:\n",
    "            z_dist = vae_model.calculate_z_mean(batch)\n",
    "        all_z = np.vstack((all_z, z_dist))\n",
    "\n",
    "    plt.figure(figsize=(15,5))\n",
    "    plt.subplot(1,2,1)\n",
    "    plt.scatter(all_z[:,0], all_z[:,1])\n",
    "    plt.xlim(-3,3)\n",
    "    plt.ylim(-3,3)\n",
    "    plt.title(title)\n",
    "    plt.subplot(1,2,2)\n",
    "    plt.hist2d(all_z[:,0], all_z[:,1], (50, 50), cmap=plt.cm.jet)\n",
    "    plt.colorbar()\n",
    "    plt.title(title)\n",
    "    \n",
    "with tf.Session(graph=tf.Graph()) as sess:\n",
    "    network = vae.get_untrained(sess, network_architecture, optimizer, transfer_fct, batch_size)\n",
    "    show_z_distribution(network, \"Untrained Latent Space\", z_mean=True)\n",
    "    network = vae.restore(network, \"trained_vae/model.ckpt\")\n",
    "    show_z_distribution(network, \"Trained Latent Space\", z_mean=True)"
   ]
  },
  {
   "cell_type": "code",
   "execution_count": 7,
   "metadata": {},
   "outputs": [
    {
     "name": "stdout",
     "output_type": "stream",
     "text": [
      "INFO:tensorflow:Restoring parameters from trained_vae/model.ckpt\n",
      "damages_first = ['41.87885356158407', '23.562920670447447', '41.71888541301121', '54.92813870628801']\n",
      "damages_last = ['22.700581747068032', '18.05944743641496', '22.541877021770556', '33.86883976895424']\n",
      "dmg_distances_first = ['22.740344919002506', '10.913183460507451', '22.876762999748905', '20.62263914478904']\n",
      "dmg_distances_last = ['49.33389846338657', '36.94993020315776', '49.1580902411299', '67.064639999771']\n",
      "drag = ['0.002419778073912136', '0.002424856978771294', '0.002427760503164194', '0.0024971493161846095']\n",
      "firemode_Automatic = ['0.12210401265847118', '1.1016389356806084', '0.1057675113032237', '-0.05917079233385664']\n",
      "firemode_Semi-Automatic = ['0.7740791886895211', '-0.06338777937196838', '0.7881570549816782', '0.7138661924586145']\n",
      "hiprecoildec = ['5.160375086781724', '9.023148044658974', '5.141256874467202', '4.270926220056471']\n",
      "hiprecoilright = ['0.5292272951799343', '0.31694774675682064', '0.5309062953848787', '0.70934920550996']\n",
      "hiprecoilup = ['2.1744478814257975', '0.12610858254573376', '2.19193508056049', '3.6038317933403077']\n",
      "hordispersion = ['-0.004969204527148691', '0.04543640260082986', '-0.002559434112141462', '0.025824193551407054']\n",
      "initialspeed = ['484.7025942577694', '626.8991012310854', '481.82997229935836', '495.63905074124364']\n",
      "magsize = ['12.891008043135832', '59.957312685974415', '12.281987932305869', '4.364290259760548']\n",
      "reloadempty = ['3.3110253980188364', '4.285837875086084', '3.2911342928670813', '3.3217890523690623']\n",
      "rof = ['338.57439453841727', '634.2119357525853', '333.25586948922256', '225.98634495821503']\n",
      "shotspershell = ['0.9421931034462799', '1.1085507506498404', '0.9397044861757741', '1.1558507262820825']\n",
      "type_Shotgun = ['0.01681789052444449', '-0.031402371164537035', '0.01746486296976313', '0.07016886419123992']\n",
      "type_Pistol = ['0.48459563736856937', '0.031221385257809015', '0.4931165606897133', '0.46291214424159965']\n",
      "type_Rifle = ['0.3896311908237491', '0.14043908335594013', '0.3897254410927864', '0.3105054447412602']\n",
      "type_Submachine Gun = ['0.03333818645079309', '0.41718557402545137', '0.02855652551834509', '-0.04483473061315678']\n",
      "type_Sniper Rifle = ['0.028485002719708136', '-0.022642851256002267', '0.02801963300309665', '0.2303741316722636']\n",
      "verdispersion = ['-0.014375306124497084', '0.0047883877079008125', '-0.011487341771890147', '0.012647479454791832']\n"
     ]
    }
   ],
   "source": [
    "# Testing\n",
    "with tf.Session(graph=tf.Graph()) as sess:\n",
    "    network = vae.get_untrained(sess, network_architecture, optimizer, transfer_fct, batch_size)\n",
    "    network = vae.restore(network, \"trained_vae/model.ckpt\")\n",
    "    \n",
    "    generated = []\n",
    "    for i in range(4):\n",
    "        random_val = np.random.normal(size=(1,network_architecture[\"n_z\"]))\n",
    "        x_test = network.decode_from_latent_space(random_val)\n",
    "        generated.append(x_test[0])\n",
    "        \n",
    "    weapon_data = get_weapon_data()\n",
    "    print_decoded_tensors_as_dict(weapon_data, generated)"
   ]
  },
  {
   "cell_type": "code",
   "execution_count": null,
   "metadata": {},
   "outputs": [],
   "source": []
  }
 ],
 "metadata": {
  "kernelspec": {
   "display_name": "Python 3",
   "language": "python",
   "name": "python3"
  },
  "language_info": {
   "codemirror_mode": {
    "name": "ipython",
    "version": 3
   },
   "file_extension": ".py",
   "mimetype": "text/x-python",
   "name": "python",
   "nbconvert_exporter": "python",
   "pygments_lexer": "ipython3",
   "version": "3.6.4"
  }
 },
 "nbformat": 4,
 "nbformat_minor": 2
}
