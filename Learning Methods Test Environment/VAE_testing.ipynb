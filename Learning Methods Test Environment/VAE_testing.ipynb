{
 "cells": [
  {
   "cell_type": "code",
   "execution_count": 1,
   "metadata": {},
   "outputs": [],
   "source": [
    "%config IPCompleter.greedy=True"
   ]
  },
  {
   "cell_type": "code",
   "execution_count": 2,
   "metadata": {},
   "outputs": [
    {
     "name": "stderr",
     "output_type": "stream",
     "text": [
      "D:\\z_outsourced_programs\\Anaconda3\\lib\\site-packages\\h5py\\__init__.py:36: FutureWarning: Conversion of the second argument of issubdtype from `float` to `np.floating` is deprecated. In future, it will be treated as `np.float64 == np.dtype(float).type`.\n",
      "  from ._conv import register_converters as _register_converters\n"
     ]
    },
    {
     "name": "stdout",
     "output_type": "stream",
     "text": [
      "Tensor Flow version 1.8.0\n"
     ]
    }
   ],
   "source": [
    "from __future__ import absolute_import\n",
    "from __future__ import division\n",
    "from __future__ import print_function\n",
    "\n",
    "import numpy as np\n",
    "import tensorflow as tf\n",
    "import variational_autoencoder as vae\n",
    "\n",
    "print(\"Tensor Flow version {}\".format(tf.__version__))"
   ]
  },
  {
   "cell_type": "code",
   "execution_count": 3,
   "metadata": {},
   "outputs": [],
   "source": [
    "#test utils\n",
    "import weapon_data as weapons\n",
    "\n",
    "def print_decoded_tensors_as_dict(weapon_data, array_of_tensors):\n",
    "    genDict = {}\n",
    "    \n",
    "    for tensor in array_of_tensors:\n",
    "        decoded = weapon_data.decode_processed_tensor(tensor)\n",
    "        \n",
    "        for key, value in decoded.items():\n",
    "            if key not in genDict:\n",
    "                genDict[key] = []\n",
    "            genDict[key].append(value)\n",
    "    \n",
    "    for key, value in genDict.items():\n",
    "            print(key, \"=\", value)\n",
    "            \n",
    "def get_weapon_data():\n",
    "    return weapons.get_data(3, 12, 1)"
   ]
  },
  {
   "cell_type": "code",
   "execution_count": 4,
   "metadata": {},
   "outputs": [
    {
     "name": "stdout",
     "output_type": "stream",
     "text": [
      "Epoch:0001, cost=20.717042397\n",
      "Epoch:0002, cost=18.930967079\n",
      "Epoch:0003, cost=17.893179747\n",
      "Epoch:0004, cost=18.306495682\n",
      "Epoch:0005, cost=17.561746969\n",
      "Epoch:0006, cost=16.583086491\n",
      "Epoch:0007, cost=15.615442494\n",
      "Epoch:0008, cost=15.900552633\n",
      "Epoch:0009, cost=15.138237557\n",
      "Epoch:0010, cost=15.732622481\n",
      "Trained model saved! You can find it in './trained_vae/model.ckpt'\n"
     ]
    }
   ],
   "source": [
    "import weapon_data as weapons\n",
    "\n",
    "network_architecture = \\\n",
    "    dict(n_input=0, #set it in with scope\n",
    "         n_hidden_1=14,\n",
    "         n_hidden_2=15,\n",
    "         n_z=2)  \n",
    "\n",
    "learning_rate = 0.01\n",
    "optimizer =  tf.train.AdamOptimizer(learning_rate)\n",
    "#optimizer = tf.train.RMSPropOptimizer(learning_rate)\n",
    "transfer_fct = lambda x : tf.nn.tanh(x)\n",
    "num_epochs = 10\n",
    "batch_size = 1\n",
    "epoch_debug_step = 1\n",
    "    \n",
    "with tf.Session() as sess:\n",
    "    train_data, test_data = get_weapon_data()\n",
    "    network_architecture['n_input'] = train_data.num_features\n",
    "  \n",
    "    network = vae.get_new_trained(sess, train_data, network_architecture, optimizer, \n",
    "                              transfer_fct, batch_size, num_epochs, epoch_debug_step)\n"
   ]
  },
  {
   "cell_type": "code",
   "execution_count": 5,
   "metadata": {},
   "outputs": [
    {
     "name": "stdout",
     "output_type": "stream",
     "text": [
      "INFO:tensorflow:Restoring parameters from trained_vae/model.ckpt\n",
      "[[ 1.95776754  0.82948142  0.60118691  2.88712045  0.99569425 -1.04880885\n",
      "   1.58113883 -0.48507125 -1.32959555  0.82220467 -0.26424317  0.4513875\n",
      "  -0.57240795 -0.48010721 -0.97777561 -0.32444284 -0.32444284 -0.48507125\n",
      "   1.78885438 -0.32444284 -0.40824829 -0.55901699]]\n",
      "[[-0.08357885 -0.3330724  -0.53984284  0.7589774  -0.42916352 -0.6136223\n",
      "   1.2020075  -0.6658957  -0.29116854 -0.41067845 -0.25938237 -0.3398904\n",
      "  -0.38926795 -0.20624314 -0.06887741  0.19557054  0.15808678  0.5067452\n",
      "   0.6693957  -0.38606325 -0.72785664 -0.30920857]]\n",
      "damages_first = ['53.0', '30.141502326732397']\n",
      "damages_last = ['38.0', '15.834518328383197']\n",
      "dmg_distances_first = ['66.0', '29.48326720199153']\n",
      "dmg_distances_last = ['89.0', '38.17700579502957']\n",
      "firemode_Automatic = ['0.0', '0.21734642579450958']\n",
      "firemode_Semi-Automatic = ['1.0', '0.828725938025202']\n",
      "hiprecoildec = ['3.0', '5.05494805665736']\n",
      "hiprecoilright = ['0.8999999761581421', '0.42916189806778093']\n",
      "hiprecoilup = ['1.5', '1.5143657728728552']\n",
      "initialspeed = ['720.0', '546.036585068807']\n",
      "magsize = ['6.0', '18.462683266215166']\n",
      "reloadempty = ['3.299999952316284', '3.8216849907072477']\n",
      "rof = ['179.0', '357.65200904122537']\n",
      "shotspershell = ['1.0', '2.679112179043072']\n",
      "type_Shotgun = ['0.0', '0.14164344477045673']\n",
      "type_Pistol = ['0.0', '0.3894632442061672']\n",
      "type_Rifle = ['1.0', '0.5232027154177397']\n",
      "type_Submachine Gun = ['0.0', '-0.018088271024003635']\n",
      "type_Sniper Rifle = ['0.0', '-0.11183962345924064']\n"
     ]
    }
   ],
   "source": [
    "with tf.Session(graph=tf.Graph()) as sess:\n",
    "    network = vae.get_untrained(sess, network_architecture, optimizer, transfer_fct, batch_size)\n",
    "    network = vae.restore(network, \"trained_vae/model.ckpt\")\n",
    "        \n",
    "    train_data, test_data = get_weapon_data()\n",
    "    samples = test_data.next_batch(1)\n",
    "    x_reconstructed = network.encode_and_decode(samples)\n",
    "    \n",
    "    print(samples)\n",
    "    print(x_reconstructed)\n",
    "    \n",
    "    print_decoded_tensors_as_dict(test_data, np.concatenate((samples,x_reconstructed), axis=0))"
   ]
  },
  {
   "cell_type": "code",
   "execution_count": 6,
   "metadata": {},
   "outputs": [
    {
     "name": "stdout",
     "output_type": "stream",
     "text": [
      "INFO:tensorflow:Restoring parameters from trained_vae/model.ckpt\n"
     ]
    },
    {
     "data": {
      "image/png": "[encoded data removed]",
      "text/plain": [
       "<matplotlib.figure.Figure at 0x2a2c3467cf8>"
      ]
     },
     "metadata": {},
     "output_type": "display_data"
    },
    {
     "data": {
      "image/png": "[encoded data removed]",
      "text/plain": [
       "<matplotlib.figure.Figure at 0x2a2c694ed30>"
      ]
     },
     "metadata": {},
     "output_type": "display_data"
    }
   ],
   "source": [
    "import matplotlib.pyplot as plt\n",
    "%matplotlib inline\n",
    "\n",
    "def show_z_distribution(vae_model, title, z_mean=True):\n",
    "    all_z = np.zeros((1,network_architecture['n_z']))\n",
    "        \n",
    "    train_data, test_data = get_weapon_data()\n",
    "    total_batch = int(train_data.num_examples / batch_size) \n",
    "\n",
    "    # Loop over all batches\n",
    "    for i in range(total_batch):\n",
    "        batch = train_data.next_batch(batch_size)\n",
    "        z_dist = vae_model.calculate_z(batch)\n",
    "        if z_mean:\n",
    "            z_dist = vae_model.calculate_z_mean(batch)\n",
    "        all_z = np.vstack((all_z, z_dist))\n",
    "\n",
    "    plt.figure(figsize=(15,5))\n",
    "    plt.subplot(1,2,1)\n",
    "    plt.scatter(all_z[:,0], all_z[:,1])\n",
    "    plt.xlim(-3,3)\n",
    "    plt.ylim(-3,3)\n",
    "    plt.title(title)\n",
    "    plt.subplot(1,2,2)\n",
    "    plt.hist2d(all_z[:,0], all_z[:,1], (50, 50), cmap=plt.cm.jet)\n",
    "    plt.colorbar()\n",
    "    plt.title(title)\n",
    "    \n",
    "with tf.Session(graph=tf.Graph()) as sess:\n",
    "    network = vae.get_untrained(sess, network_architecture, optimizer, transfer_fct, batch_size)\n",
    "    show_z_distribution(network, \"Untrained Latent Space\", z_mean=True)\n",
    "    network = vae.restore(network, \"trained_vae/model.ckpt\")\n",
    "    show_z_distribution(network, \"Trained Latent Space\", z_mean=True)"
   ]
  },
  {
   "cell_type": "code",
   "execution_count": 7,
   "metadata": {},
   "outputs": [
    {
     "name": "stdout",
     "output_type": "stream",
     "text": [
      "INFO:tensorflow:Restoring parameters from trained_vae/model.ckpt\n",
      "damages_first = ['29.559306383726266', '47.24076211266206', '30.00478807533316', '78.07163799824838']\n",
      "damages_last = ['17.817328785989112', '31.164304650875398', '17.581934256917428', '64.11245713472117']\n",
      "dmg_distances_first = ['19.12340102621512', '21.879909291205692', '20.02458900736641', '10.196637817273537']\n",
      "dmg_distances_last = ['42.0451089023843', '63.048155607498934', '42.050880720853456', '109.99260754160268']\n",
      "firemode_Automatic = ['0.4863700359871784', '0.030459255208517555', '0.43432524791154525', '0.03894804115043893']\n",
      "firemode_Semi-Automatic = ['0.5748888680150802', '0.759622205054547', '0.6284977976473016', '0.17525395971904936']\n",
      "hiprecoildec = ['6.322396564062193', '4.452514025086625', '6.1154903976841055', '4.277460242871096']\n",
      "hiprecoilright = ['0.3759521371687695', '0.5599932049422993', '0.37995955654072733', '0.8619962259797394']\n",
      "hiprecoilup = ['1.179458687678575', '2.792419350794406', '1.2554123133210342', '4.60285466396727']\n",
      "initialspeed = ['537.461655462528', '543.3817941720564', '532.3050902093638', '669.283773276243']\n",
      "magsize = ['31.11149308257665', '7.949048158516431', '28.60637930697864', '5.9182845260387325']\n",
      "reloadempty = ['3.8589939320109257', '3.631730551836802', '3.8160537204616127', '3.87173120641767']\n",
      "rof = ['441.4444919297927', '249.78693787311772', '426.57273709345736', '137.51874140454623']\n",
      "shotspershell = ['1.7643288104032582', '2.1559342800518855', '1.8306575785513188', '1.174257553643558']\n",
      "type_Shotgun = ['0.0814625417154989', '0.12140651401886868', '0.08893872726390971', '0.036640960462059065']\n",
      "type_Pistol = ['0.2659024685872107', '0.33424972320977675', '0.2871384890476083', '0.10763202142609947']\n",
      "type_Rifle = ['0.3477062367601657', '0.40445346877260724', '0.36874781051990546', '0.1007450049247656']\n",
      "type_Submachine Gun = ['0.18790910699761182', '-9.526275073749868e-05', '0.1642380777525365', '0.049155405389015486']\n",
      "type_Sniper Rifle = ['-0.06192421855905314', '0.13574095654612195', '-0.0684810266260231', '0.7344531662125777']\n"
     ]
    }
   ],
   "source": [
    "# Testing\n",
    "with tf.Session(graph=tf.Graph()) as sess:\n",
    "    network = vae.get_untrained(sess, network_architecture, optimizer, transfer_fct, batch_size)\n",
    "    network = vae.restore(network, \"trained_vae/model.ckpt\")\n",
    "    \n",
    "    generated = []\n",
    "    for i in range(4):\n",
    "        random_val = np.random.normal(size=(1,network_architecture[\"n_z\"]))\n",
    "        x_test = network.decode_from_latent_space(random_val)\n",
    "        generated.append(x_test[0])\n",
    "        \n",
    "    train_data, test_data = get_weapon_data()\n",
    "    print_decoded_tensors_as_dict(train_data, generated)"
   ]
  },
  {
   "cell_type": "code",
   "execution_count": null,
   "metadata": {},
   "outputs": [],
   "source": []
  }
 ],
 "metadata": {
  "kernelspec": {
   "display_name": "Python 3",
   "language": "python",
   "name": "python3"
  },
  "language_info": {
   "codemirror_mode": {
    "name": "ipython",
    "version": 3
   },
   "file_extension": ".py",
   "mimetype": "text/x-python",
   "name": "python",
   "nbconvert_exporter": "python",
   "pygments_lexer": "ipython3",
   "version": "3.6.4"
  }
 },
 "nbformat": 4,
 "nbformat_minor": 2
}
