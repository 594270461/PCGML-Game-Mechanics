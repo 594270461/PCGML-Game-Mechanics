{
 "cells": [
  {
   "cell_type": "code",
   "execution_count": 1,
   "metadata": {},
   "outputs": [],
   "source": [
    "%config IPCompleter.greedy=True"
   ]
  },
  {
   "cell_type": "code",
   "execution_count": 2,
   "metadata": {},
   "outputs": [
    {
     "name": "stderr",
     "output_type": "stream",
     "text": [
      "D:\\z_outsourced_programs\\Anaconda3\\lib\\site-packages\\h5py\\__init__.py:36: FutureWarning: Conversion of the second argument of issubdtype from `float` to `np.floating` is deprecated. In future, it will be treated as `np.float64 == np.dtype(float).type`.\n",
      "  from ._conv import register_converters as _register_converters\n"
     ]
    },
    {
     "name": "stdout",
     "output_type": "stream",
     "text": [
      "Tensor Flow version 1.8.0\n"
     ]
    }
   ],
   "source": [
    "from __future__ import absolute_import\n",
    "from __future__ import division\n",
    "from __future__ import print_function\n",
    "\n",
    "import numpy as np\n",
    "import tensorflow as tf\n",
    "import variational_autoencoder as vae\n",
    "\n",
    "print(\"Tensor Flow version {}\".format(tf.__version__))"
   ]
  },
  {
   "cell_type": "code",
   "execution_count": 3,
   "metadata": {},
   "outputs": [],
   "source": [
    "#test utils\n",
    "\n",
    "def print_decoded_tensors_as_dict(weapon_data, array_of_tensors):\n",
    "    genDict = {}\n",
    "    \n",
    "    for tensor in array_of_tensors:\n",
    "        decoded = weapon_data.decode_processed_tensor(tensor)\n",
    "        \n",
    "        for key, value in decoded.items():\n",
    "            if key not in genDict:\n",
    "                genDict[key] = []\n",
    "            genDict[key].append(value)\n",
    "    \n",
    "    for key, value in genDict.items():\n",
    "            print(key, \"=\", value)"
   ]
  },
  {
   "cell_type": "code",
   "execution_count": 4,
   "metadata": {},
   "outputs": [
    {
     "name": "stdout",
     "output_type": "stream",
     "text": [
      "Epoch:0001, cost=23.046435601\n",
      "Epoch:0002, cost=21.019927756\n",
      "Epoch:0003, cost=20.441246265\n",
      "Epoch:0004, cost=19.779068831\n",
      "Epoch:0005, cost=19.641180000\n",
      "Epoch:0006, cost=19.741274917\n",
      "Epoch:0007, cost=19.105970721\n",
      "Epoch:0008, cost=19.568770434\n",
      "Epoch:0009, cost=17.014551250\n",
      "Epoch:0010, cost=15.456455318\n",
      "Trained model saved! You can find it in './trained_vae/model.ckpt'\n"
     ]
    }
   ],
   "source": [
    "import weapon_data as weapons\n",
    "\n",
    "network_architecture = \\\n",
    "    dict(n_input=0, #set it in with scope\n",
    "         n_hidden_1=14,\n",
    "         n_hidden_2=15,\n",
    "         n_z=2)  \n",
    "\n",
    "learning_rate = 0.01\n",
    "optimizer =  tf.train.AdamOptimizer(learning_rate)\n",
    "#optimizer = tf.train.RMSPropOptimizer(learning_rate)\n",
    "transfer_fct = lambda x : tf.nn.tanh(x)\n",
    "num_epochs = 10\n",
    "batch_size = 1\n",
    "epoch_debug_step = 1\n",
    "    \n",
    "with tf.Session() as sess:\n",
    "    weapon_data = weapons.DataSet(seed=19071991) \n",
    "    network_architecture['n_input'] = weapon_data.num_features\n",
    "  \n",
    "    network = vae.get_new_trained(sess, weapon_data, network_architecture, optimizer, \n",
    "                              transfer_fct, batch_size, num_epochs, epoch_debug_step)\n"
   ]
  },
  {
   "cell_type": "code",
   "execution_count": 5,
   "metadata": {},
   "outputs": [
    {
     "name": "stdout",
     "output_type": "stream",
     "text": [
      "INFO:tensorflow:Restoring parameters from trained_vae/model.ckpt\n",
      "[[-0.70326645 -0.48674743 -0.30162464 -0.29826301 -0.22336265  1.3003496\n",
      "  -0.75793673 -0.59816232  0.19378264 -1.11913753 -0.86609068 -0.28002455\n",
      "   0.55030494  2.19514536  3.58362519  0.55859823 -0.28577464 -0.32322997\n",
      "  -0.50421948 -0.54611868 -0.36023741 -0.52522573  2.45919073 -0.2672411 ]]\n",
      "[[-1.2020228  -0.7937411  -0.31446782 -0.71914965  0.260878    1.4008116\n",
      "  -0.614611   -0.8130327   0.995099   -0.89871156 -0.9356314   0.27635598\n",
      "  -0.03830398  0.58076525  0.20245719  1.3864859   0.2282736  -0.08239971\n",
      "  -0.35243344 -0.05339414  0.8216794  -0.56983817  0.9069236   0.1279099 ]]\n",
      "damages_first = ['26.5', '14.154223090608234']\n",
      "damages_last = ['20.0', '12.636953787952233']\n",
      "dmg_distances_first = ['11.0', '10.809114953405938']\n",
      "dmg_distances_last = ['50.0', '32.4487406140964']\n",
      "drag = ['0.0024999999441206455', '0.0030859343854165115']\n",
      "firemode_Automatic = ['1.0', '1.048547034469915']\n",
      "firemode_Semi-Automatic = ['0.0', '0.06899588042298144']\n",
      "hiprecoildec = ['6.0', '8.185807350267499']\n",
      "hiprecoilright = ['0.15000000596046448', '0.23679174516381996']\n",
      "hiprecoilup = ['0.20000000298023224', '0.0044903991343856475']\n",
      "hordispersion = ['0.0', '0.28998003385828064']\n",
      "initialspeed = ['700.0', '576.6918877974866']\n",
      "magsize = ['120.0', '51.30667718540229']\n",
      "reloadempty = ['8.75979995727539', '4.149416437720871']\n",
      "rof = ['450.0', '633.4876104412654']\n",
      "shotspershell = ['1.0', '2.4827854265251523']\n",
      "type_Shotgun = ['-1.3877787807814457e-17', '0.07047997639757662']\n",
      "type_Pistol = ['2.7755575615628914e-17', '0.061019936194810415']\n",
      "type_Rifle = ['2.7755575615628914e-17', '0.20726900553315114']\n",
      "type_Submachine Gun = ['0.0', '0.3768645680081648']\n",
      "type_Sniper Rifle = ['0.0', '-0.018365307087654797']\n",
      "verdispersion = ['0.0', '0.18832576825495015']\n"
     ]
    }
   ],
   "source": [
    "with tf.Session(graph=tf.Graph()) as sess:\n",
    "    network = vae.get_untrained(sess, network_architecture, optimizer, transfer_fct, batch_size)\n",
    "    network = vae.restore(network, \"trained_vae/model.ckpt\")\n",
    "        \n",
    "    weapon_data = weapons.DataSet(seed=19071991) \n",
    "    samples = weapon_data.next_batch(batch_size)\n",
    "    x_reconstructed = network.encode_and_decode(samples)\n",
    "    \n",
    "    print(samples)\n",
    "    print(x_reconstructed)\n",
    "    \n",
    "    print_decoded_tensors_as_dict(weapon_data, np.concatenate((samples,x_reconstructed), axis=0))"
   ]
  },
  {
   "cell_type": "code",
   "execution_count": 6,
   "metadata": {},
   "outputs": [
    {
     "name": "stdout",
     "output_type": "stream",
     "text": [
      "INFO:tensorflow:Restoring parameters from trained_vae/model.ckpt\n"
     ]
    },
    {
     "data": {
      "text/plain": [
       "<matplotlib.colorbar.Colorbar at 0x2174486db38>"
      ]
     },
     "execution_count": 6,
     "metadata": {},
     "output_type": "execute_result"
    },
    {
     "data": {
      "image/png": "[encoded data removed]",
      "text/plain": [
       "<matplotlib.figure.Figure at 0x216b6396198>"
      ]
     },
     "metadata": {},
     "output_type": "display_data"
    }
   ],
   "source": [
    "import matplotlib.pyplot as plt\n",
    "%matplotlib inline\n",
    "\n",
    "all_z = np.zeros((1,network_architecture['n_z']))\n",
    "with tf.Session(graph=tf.Graph()) as sess:\n",
    "    network = vae.get_untrained(sess, network_architecture, optimizer, transfer_fct, batch_size)\n",
    "    network = vae.restore(network, \"trained_vae/model.ckpt\")\n",
    "    \n",
    "    weapon_data = weapons.DataSet(seed=19071991) \n",
    "    total_batch = int(weapon_data.num_examples / batch_size) \n",
    "    \n",
    "    # Loop over all batches\n",
    "    for i in range(total_batch):\n",
    "        batch = weapon_data.next_batch(batch_size)\n",
    "        z_mean = network.calculate_z_mean(batch)\n",
    "        all_z = np.vstack((all_z, z_mean))\n",
    "\n",
    "plt.figure(figsize=(15,5))\n",
    "plt.subplot(1,2,1)\n",
    "plt.scatter(all_z[:,0], all_z[:,1])\n",
    "plt.xlim(-3,3)\n",
    "plt.ylim(-3,3)\n",
    "plt.subplot(1,2,2)\n",
    "plt.hist2d(all_z[:,0], all_z[:,1], (50, 50), cmap=plt.cm.jet)\n",
    "plt.colorbar()"
   ]
  },
  {
   "cell_type": "code",
   "execution_count": 7,
   "metadata": {},
   "outputs": [
    {
     "name": "stdout",
     "output_type": "stream",
     "text": [
      "INFO:tensorflow:Restoring parameters from trained_vae/model.ckpt\n",
      "damages_first = ['80.15472925491693', '56.36197773405936', '24.848753363870294', '52.87579753111174']\n",
      "damages_last = ['58.47196207483085', '41.85417563386442', '10.727825219839264', '29.34764786072265']\n",
      "dmg_distances_first = ['10.910621468887744', '12.289474373587389', '20.052056502870357', '20.561660732216687']\n",
      "dmg_distances_last = ['105.66235377513189', '80.25946254052447', '29.74742535653435', '61.15762279870653']\n",
      "drag = ['0.0028130089073218636', '0.003954857648738474', '0.003288543642434613', '0.0023720569518609165']\n",
      "firemode_Automatic = ['-0.027911365791978615', '0.1152164976480144', '0.311917513883339', '-0.027920928464676253']\n",
      "firemode_Semi-Automatic = ['0.1443852482923157', '0.1980682572581001', '0.739172287200995', '0.7694706568375733']\n",
      "hiprecoildec = ['3.8858855346017065', '4.196058031147216', '5.868531883997618', '4.634664488614292']\n",
      "hiprecoilright = ['1.095489259185201', '1.0298377015147138', '0.4931431538399206', '0.6703431776151669']\n",
      "hiprecoilup = ['6.576130047436949', '6.807007092093565', '2.023533744180888', '2.9291410230381576']\n",
      "hordispersion = ['0.16908090681870874', '0.7024130900241427', '0.3156911170611355', '-0.05473568087073935']\n",
      "initialspeed = ['602.7545629571315', '526.488919814847', '458.3205004207574', '508.02079608403994']\n",
      "magsize = ['6.078653161610401', '5.774683323427922', '15.977590559729448', '11.682202239051252']\n",
      "reloadempty = ['3.9221210907554025', '3.9052998991017174', '3.408741014897694', '3.3917331780299427']\n",
      "rof = ['56.5445999057265', '123.89180723200172', '400.0121722463386', '243.43589390192926']\n",
      "shotspershell = ['1.9685898087788638', '4.5910429629548615', '2.7740691848997097', '0.5874533441760932']\n",
      "type_Shotgun = ['0.20091275336272113', '0.419105102347785', '0.15608876776470834', '0.03704473452171577']\n",
      "type_Pistol = ['0.13354427872216335', '0.019776830885666175', '0.4050761890989537', '0.5394225135671579']\n",
      "type_Rifle = ['0.01647288794763241', '0.04824547102737489', '0.3377633922949813', '0.3161864492856935']\n",
      "type_Submachine Gun = ['-0.03928705441849141', '-0.008334165136260036', '0.1123335887645019', '0.028140714454843715']\n",
      "type_Sniper Rifle = ['0.7099545920114193', '0.48637030523176944', '-0.12942589055889314', '0.15129701806365903']\n",
      "verdispersion = ['0.1758084532272864', '0.559754342236686', '0.25356273923917616', '-0.0731688101589878']\n"
     ]
    }
   ],
   "source": [
    "# Testing\n",
    "with tf.Session(graph=tf.Graph()) as sess:\n",
    "    network = vae.get_untrained(sess, network_architecture, optimizer, transfer_fct, batch_size)\n",
    "    network = vae.restore(network, \"trained_vae/model.ckpt\")\n",
    "    \n",
    "    generated = []\n",
    "    for i in range(4):\n",
    "        random_val = np.random.normal(size=(1,network_architecture[\"n_z\"]))\n",
    "        x_test = network.decode_from_latent_space(random_val)\n",
    "        generated.append(x_test[0])\n",
    "        \n",
    "    weapon_data = weapons.DataSet(seed=19071991) \n",
    "    print_decoded_tensors_as_dict(weapon_data, generated)"
   ]
  },
  {
   "cell_type": "code",
   "execution_count": null,
   "metadata": {},
   "outputs": [],
   "source": []
  }
 ],
 "metadata": {
  "kernelspec": {
   "display_name": "Python 3",
   "language": "python",
   "name": "python3"
  },
  "language_info": {
   "codemirror_mode": {
    "name": "ipython",
    "version": 3
   },
   "file_extension": ".py",
   "mimetype": "text/x-python",
   "name": "python",
   "nbconvert_exporter": "python",
   "pygments_lexer": "ipython3",
   "version": "3.6.4"
  }
 },
 "nbformat": 4,
 "nbformat_minor": 2
}
