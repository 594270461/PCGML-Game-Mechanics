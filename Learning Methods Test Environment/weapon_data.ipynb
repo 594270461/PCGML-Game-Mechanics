{
 "cells": [
  {
   "cell_type": "code",
   "execution_count": 1,
   "metadata": {},
   "outputs": [],
   "source": [
    "%config IPCompleter.greedy=True"
   ]
  },
  {
   "cell_type": "code",
   "execution_count": 2,
   "metadata": {},
   "outputs": [
    {
     "name": "stderr",
     "output_type": "stream",
     "text": [
      "D:\\z_outsourced_programs\\Anaconda3\\lib\\site-packages\\h5py\\__init__.py:36: FutureWarning: Conversion of the second argument of issubdtype from `float` to `np.floating` is deprecated. In future, it will be treated as `np.float64 == np.dtype(float).type`.\n",
      "  from ._conv import register_converters as _register_converters\n"
     ]
    }
   ],
   "source": [
    "from __future__ import absolute_import\n",
    "from __future__ import division\n",
    "from __future__ import print_function\n",
    "\n",
    "import numpy as np\n",
    "import tensorflow as tf\n",
    "import csv\n",
    "\n",
    "data_path = \"./weapon_data.csv\""
   ]
  },
  {
   "cell_type": "code",
   "execution_count": 3,
   "metadata": {},
   "outputs": [],
   "source": [
    "def getCsvHeader(filename):\n",
    "    with open(filename, mode='r') as f:\n",
    "        reader = csv.reader(f)\n",
    "        header = next(reader)\n",
    "        return header\n",
    "    \n",
    "def getCsvAsDict(filename):\n",
    "    with open(filename, mode='r') as infile:\n",
    "        dictReader = csv.DictReader(infile)\n",
    "        header = getCsvHeader(filename)\n",
    "\n",
    "        final_dict = { col_name: [] for col_name in header }\n",
    "        x = 0\n",
    "\n",
    "        for row in dictReader:\n",
    "            ##int(row)\n",
    "            for col_name in header:\n",
    "                final_dict[col_name].append(row[col_name])\n",
    "\n",
    "        return final_dict"
   ]
  },
  {
   "cell_type": "code",
   "execution_count": 4,
   "metadata": {},
   "outputs": [
    {
     "name": "stdout",
     "output_type": "stream",
     "text": [
      "{'weapshowname': ['12g Automatic Backbored', '12g Automatic Extended', '12g Automatic Hunter', '1903 Hammerless', 'Annihilator Trench', 'Auto revolver', 'Autoloading 8 .25 Extended', 'Autoloading 8 .35 Factory', 'Autoloading 8 .35 Marksman', 'Automatico M1918 Factory', 'Automatico M1918 Storm', 'Automatico M1918 Trench', 'BAR 1918 Storm', 'BAR 1918 Telescopic', 'BAR 1918 Trench', 'Beretta M1915', 'Bodeo 1889', 'Borchard C93', 'Bulldog', 'C93 Carbine', 'C96 Carbine', 'C96 Trench', 'Carcano M91', 'Carcano M91 Patrol Carbine', 'Cei-Rigotti Factory', 'Cei-Rigotti Optical', 'Cei-Rigotti Trench', 'Chauchat Low Weight', 'Chauchat Telescopic', 'FN1903 Extended', 'Farquhar-Hill Optical', 'Farquhar-Hill Storm', 'Fedorov Avtomat Optical', 'Fedorov Avtomat Trench', 'Frommer Stop', 'Frommer Stop Auto', 'Gasser M1870', 'General Liu Rifle Factory', 'General Liu Rifle Storm', 'Gewehr 98 Infantry', 'Gewehr 98 Marksman', 'Gewehr 98 Sniper', 'Gewehr M.95 Carbine', 'Gewehr M.95 Infantry', 'Gewehr M.95 Marksman', 'Hellriegel 1915 Defensive', 'Hellriegel 1915 Factory', 'Howdah Pistol', 'Howell Automatic Factory', 'Howell Automatic Sniper', 'Huot Automatic Low Weight', 'Huot Automatic Optical', 'IMG 08-18 Low Weight', 'IMG 08-18 Suppressive', 'Lebel Model 1886 Infantry', 'Lebel Model 1886 Sniper', 'Lewis Gun Low Weight', 'Lewis Gun Optical', 'Lewis Gun Suppressive', 'M1903 Experimental', 'M1903 Marksman', 'M1903 Sniper', 'M1907 SL Factory', 'M1907 SL Sweeper', 'M1907 SL Trench', 'M1909 Benet-Mercie Optical', 'M1909 Benet-Mercie Storm', 'M1909 Benet-Mercie Telescopic', 'M1911', 'M1911 Extended', 'M1917 Enfield Infantry', 'M1917 Enfield Silenced', 'M1917 Low Weight', 'M1917 Patrol Carbine', 'M1917 Telescopic', 'M97 Trench Gun Backbored', 'M97 Trench Gun Hunter', 'M97 Trench Gun Sweeper', 'MG 08-15', 'MG15 N.A. Low Weight', 'MG15 N.A. Storm', 'MG15 N.A. Suppressive', 'MP 18 Experimental', 'MP 18 Optical', 'MP 18 Trench', 'Madsen MG Low Weight', 'Madsen MG Storm', 'Madsen MG Trench', 'Mars Automatic Pistol', 'Martini-Henry Infantry', 'Martini-Henry Sniper', 'Maschinenpistole M1912', 'Maschinenpistole M1912 Experimental', 'Mauser C96', 'Mle M1903', 'Model 10-A Factory', 'Model 10-A Hunter', 'Model 10-A Slug', 'Model 1900 Factory', 'Model 1900 Slug', 'Mondragon Optical', 'Mondragon Sniper', 'Mondragon Storm', 'Mosin-Nagant M91 Infantry', 'Mosin-Nagant M91 Marksman', 'Nagant Revolver', 'No. 3 Revolver', 'Obrez Pistol', 'P08 Artillery', 'P08 Pistol', 'Parabellum MG14 Low Weight', 'Parabellum MG14 Suppressive', 'Perino Model 1908 Defensive', 'Perino Model 1908 Low Weight', 'Pieper M1893', 'RSC 1917 Factory', 'RSC 1917 Optical', 'RSC SMG Factory', 'RSC SMG Optical', 'Revolver MkVI', 'Ribeyrolles 1918 Factory', 'Ribeyrolles 1918 Optical', 'Ross MkIII', 'Ross MkIII Infantry', 'Russian 1895 Cavalry', 'Russian 1895 Infantry', 'Russian 1895 Sniper', 'Russian 1895 Trench', 'SMG 08-18 Factory', 'SMG 08-18 Optical', 'SMLE MKIII Carbine', 'SMLE MKIII Infantry', 'SMLE MKIII Marksman', 'Sawed Off Shotgun', 'Selbstlader 1906 Factory', 'Selbstlader 1906 Sniper', 'Selbstlader M1916 Factory', 'Selbstlader M1916 Marksman', 'Selbstlader M1916 Optical', 'Sjögren Inertial Factory', 'Sjögren Inertial Slug', 'Steyr M1912', 'Taschenpistole M1914', 'Type 38 Arisaka', 'Type 38 Arisaka Patrol', 'Vetterli-Vitali M1870 Carbine', 'Vetterli-Vitali M1870 Infantry', 'Villar Perosa'], 'type': ['Shotgun', 'Shotgun', 'Shotgun', 'Pistol', 'Rifle', 'Pistol', 'Rifle', 'Rifle', 'Rifle', 'Submachine Gun', 'Submachine Gun', 'Submachine Gun', 'Rifle', 'Rifle', 'Rifle', 'Pistol', 'Pistol', 'Pistol', 'Pistol', 'Pistol', 'Pistol', 'Pistol', 'Sniper Rifle', 'Sniper Rifle', 'Rifle', 'Rifle', 'Rifle', 'Rifle', 'Rifle', 'Pistol', 'Rifle', 'Rifle', 'Rifle', 'Rifle', 'Pistol', 'Pistol', 'Pistol', 'Rifle', 'Rifle', 'Sniper Rifle', 'Sniper Rifle', 'Sniper Rifle', 'Sniper Rifle', 'Sniper Rifle', 'Sniper Rifle', 'Submachine Gun', 'Submachine Gun', 'Pistol', 'Rifle', 'Rifle', 'Light Machine Gun', 'Light Machine Gun', 'Submachine Gun', 'Submachine Gun', 'Sniper Rifle', 'Sniper Rifle', 'Light Machine Gun', 'Light Machine Gun', 'Light Machine Gun', 'Sniper Rifle', 'Sniper Rifle', 'Sniper Rifle', 'Rifle', 'Rifle', 'Rifle', 'Light Machine Gun', 'Light Machine Gun', 'Light Machine Gun', 'Pistol', 'Pistol', 'Sniper Rifle', 'Sniper Rifle', 'Light Machine Gun', 'Light Machine Gun', 'Light Machine Gun', 'Shotgun', 'Shotgun', 'Shotgun', 'Submachine Gun', 'Light Machine Gun', 'Light Machine Gun', 'Light Machine Gun', 'Submachine Gun', 'Submachine Gun', 'Submachine Gun', 'Light Machine Gun', 'Light Machine Gun', 'Light Machine Gun', 'Pistol', 'Sniper Rifle', 'Sniper Rifle', 'Pistol', 'Pistol', 'Pistol', 'Pistol', 'Shotgun', 'Shotgun', 'Shotgun', 'Shotgun', 'Shotgun', 'Rifle', 'Rifle', 'Rifle', 'Sniper Rifle', 'Sniper Rifle', 'Pistol', 'Pistol', 'Pistol', 'Pistol', 'Pistol', 'Light Machine Gun', 'Light Machine Gun', 'Light Machine Gun', 'Light Machine Gun', 'Rifle', 'Rifle', 'Rifle', 'Submachine Gun', 'Submachine Gun', 'Pistol', 'Submachine Gun', 'Submachine Gun', 'Sniper Rifle', 'Sniper Rifle', 'Sniper Rifle', 'Sniper Rifle', 'Sniper Rifle', 'Sniper Rifle', 'Submachine Gun', 'Submachine Gun', 'Sniper Rifle', 'Sniper Rifle', 'Sniper Rifle', 'Shotgun', 'Rifle', 'Rifle', 'Rifle', 'Rifle', 'Rifle', 'Shotgun', 'Shotgun', 'Pistol', 'Pistol', 'Sniper Rifle', 'Sniper Rifle', 'Sniper Rifle', 'Sniper Rifle', 'Pistol'], 'firemode': ['Semi-Automatic', 'Semi-Automatic', 'Semi-Automatic', 'Semi-Automatic', 'Automatic', 'Semi-Automatic', 'Semi-Automatic', 'Semi-Automatic', 'Semi-Automatic', 'Automatic', 'Automatic', 'Automatic', 'Automatic', 'Automatic', 'Automatic', 'Semi-Automatic', 'Semi-Automatic', 'Semi-Automatic', 'Semi-Automatic', 'Semi-Automatic', 'Semi-Automatic', 'Semi-Automatic', 'Single-Action', 'Single-Action', 'Automatic', 'Automatic', 'Automatic', 'Automatic', 'Automatic', 'Semi-Automatic', 'Semi-Automatic', 'Semi-Automatic', 'Automatic', 'Automatic', 'Semi-Automatic', 'Automatic', 'Semi-Automatic', 'Semi-Automatic', 'Semi-Automatic', 'Single-Action', 'Single-Action', 'Single-Action', 'Single-Action', 'Single-Action', 'Single-Action', 'Automatic', 'Automatic', 'Semi-Automatic', 'Semi-Automatic', 'Semi-Automatic', 'Automatic', 'Automatic', 'Automatic', 'Automatic', 'Single-Action', 'Single-Action', 'Automatic', 'Automatic', 'Automatic', 'Semi-Automatic', 'Single-Action', 'Single-Action', 'Semi-Automatic', 'Automatic', 'Semi-Automatic', 'Automatic', 'Automatic', 'Automatic', 'Semi-Automatic', 'Semi-Automatic', 'Single-Action', 'Single-Action', 'Automatic', 'Automatic', 'Automatic', 'Automatic', 'Automatic', 'Automatic', 'Automatic', 'Automatic', 'Automatic', 'Automatic', 'Semi-Automatic', 'Automatic', 'Automatic', 'Automatic', 'Automatic', 'Automatic', 'Semi-Automatic', 'Single-Action', 'Single-Action', 'Automatic', 'Semi-Automatic', 'Semi-Automatic', 'Semi-Automatic', 'Single-Action', 'Single-Action', 'Single-Action', 'Semi-Automatic', 'Single-Action', 'Semi-Automatic', 'Semi-Automatic', 'Semi-Automatic', 'Single-Action', 'Single-Action', 'Single-Action', 'Single-Action', 'Single-Action', 'Semi-Automatic', 'Semi-Automatic', 'Automatic', 'Automatic', 'Automatic', 'Automatic', 'Semi-Automatic', 'Semi-Automatic', 'Semi-Automatic', 'Automatic', 'Automatic', 'Semi-Automatic', 'Automatic', 'Automatic', 'Single-Action', 'Single-Action', 'Single-Action', 'Single-Action', 'Single-Action', 'Single-Action', 'Automatic', 'Automatic', 'Single-Action', 'Single-Action', 'Single-Action', 'Single-Action', 'Semi-Automatic', 'Semi-Automatic', 'Semi-Automatic', 'Semi-Automatic', 'Semi-Automatic', 'Semi-Automatic', 'Semi-Automatic', 'Semi-Automatic', 'Semi-Automatic', 'Single-Action', 'Single-Action', 'Single-Action', 'Single-Action', 'Automatic'], 'rof': ['257', '257', '257', '449', '830', '224', '359', '359', '359', '900', '900', '900', '600', '600', '600', '449', '224', '359', '257', '359', '299', '359', '73', '73', '299', '299', '299', '359', '359', '359', '257', '257', '449', '449', '449', '900', '179', '299', '299', '50', '50', '50', '66', '66', '66', '650', '650', '257', '257', '257', '475', '475', '600', '600', '56', '56', '480', '480', '480', '359', '53', '53', '299', '299', '299', '450', '450', '450', '299', '299', '60', '60', '450', '359', '450', '138', '138', '138', '430', '500', '500', '500', '550', '550', '550', '540', '540', '540', '199', '25', '25', '900', '450', '299', '359', '78', '78', '78', '299', '299', '257', '257', '257', '56', '56', '199', '163', '38', '299', '299', '700', '700', '450', '450', '224', '179', '179', '449', '449', '199', '550', '550', '62', '62', '124', '56', '56', '124', '770', '770', '52', '52', '52', '299', '299', '299', '224', '224', '224', '163', '163', '359', '449', '57', '57', '46', '46', '900'], 'damages_first': ['7.7', '7.7', '7.7', '26.5', '30', '53', '38', '42', '42', '23', '23', '23', '26.5', '26.5', '26.5', '26.5', '53', '26.5', '53', '26.5', '28', '34.73', '85', '85', '38', '38', '38', '38', '38', '30', '42', '42', '28', '28', '26.5', '23', '53', '40', '40', '80', '80', '80', '90', '90', '90', '26.5', '26.5', '53', '42', '42', '26.5', '26.5', '28', '28', '80', '80', '26.5', '26.5', '26.5', '34.73', '80', '80', '42', '42', '42', '26.5', '26.5', '26.5', '35', '35', '80', '80', '26.5', '34.73', '26.5', '10', '10', '12.5', '28', '28', '28', '28', '28', '28', '28', '28', '28', '28', '40', '90', '90', '26.5', '26.5', '28', '30', '12.5', '12.5', '112', '12.5', '112', '40', '40', '40', '80', '80', '40', '53', '100', '30', '30', '28', '28', '26.5', '26.5', '40', '53', '53', '38', '38', '53', '28', '28', '80', '80', '79', '80', '80', '79', '28', '28', '80', '80', '80', '12.5', '40', '40', '40', '40', '40', '9.1', '75', '30', '26.5', '80', '80', '90', '90', '23'], 'damages_last': ['3.85', '3.85', '3.85', '13.5', '15', '15', '21', '30', '30', '13.5', '13.5', '13.5', '23', '23', '23', '13.5', '17.5', '13.5', '13.5', '13.5', '15', '15', '54', '54', '28', '28', '28', '28', '28', '13.5', '30', '30', '19', '19', '13.5', '12', '21', '35', '35', '80', '80', '80', '79', '79', '79', '15', '15', '15', '30', '30', '20', '20', '21', '21', '80', '80', '20', '20', '20', '15', '80', '80', '23', '23', '23', '23', '23', '23', '15', '15', '80', '80', '23', '15', '23', '5', '5', '4.2', '21', '21', '21', '21', '15', '15', '15', '21', '21', '21', '23', '70', '70', '15', '15', '15', '13.5', '6.25', '6.25', '45', '6.25', '45', '35', '35', '35', '80', '80', '23', '13.5', '45', '15', '15', '21', '21', '20', '20', '21', '38', '38', '21.5', '21.5', '15', '17.5', '17.5', '80', '80', '40', '80', '80', '40', '15', '15', '80', '80', '80', '6.25', '35', '35', '35', '35', '35', '4.55', '34', '15', '13.5', '80', '80', '70', '70', '13.5'], 'dmg_distances_first': ['12', '14', '14', '6', '11', '6', '16', '51', '51', '6', '6', '6', '11', '11', '11', '6', '10', '14.69', '6', '14.69', '17.46', '11', '19', '19', '50', '50', '50', '18', '18', '12.29', '46.33', '46.33', '28', '28', '6', '6', '14', '40', '40', '0', '0', '0', '20', '20', '20', '11', '11', '6', '46.33', '46.33', '11', '11', '11', '11', '0', '0', '11', '11', '11', '11', '0', '0', '21', '21', '21', '11', '11', '11', '6', '6', '0', '0', '11', '11', '11', '12', '14', '10', '11', '11', '11', '11', '11', '11', '11', '11', '11', '11', '14', '0', '0', '11', '11', '13.66', '12.29', '14', '14', '8', '14', '8', '40', '40', '40', '0', '0', '14', '6', '10', '14', '12.29', '11', '11', '11', '11', '13', '66', '66', '10', '10', '6', '11', '11', '0', '0', '61', '0', '0', '41', '11', '11', '0', '0', '0', '14', '40', '40', '40', '40', '40', '14', '23.5', '12.29', '6', '0', '0', '0', '0', '6'], 'dmg_distances_last': ['19', '21', '21', '31.33', '37', '38.76', '45', '78', '78', '37', '37', '37', '35', '35', '35', '31.33', '38.5', '37.33', '43.33', '37.33', '38.76', '33', '115', '115', '62', '62', '62', '35', '35', '37.33', '59', '59', '40', '40', '31.33', '42.16', '38.11', '80', '80', '165', '165', '165', '125', '125', '125', '37', '37', '38.76', '59', '59', '50', '50', '35', '35', '127.5', '127.5', '50', '50', '50', '33', '190', '190', '60', '60', '60', '35', '35', '35', '32.76', '32.76', '190', '190', '35', '33', '35', '19', '21', '16', '35', '35', '35', '35', '37', '37', '37', '35', '35', '35', '30.06', '140', '140', '37', '37', '32.76', '37.33', '21', '21', '60', '21', '60', '80', '80', '80', '140', '140', '30.06', '43.33', '35', '38.76', '32.76', '35', '35', '50', '50', '40', '89', '89', '47', '47', '38.76', '37', '37', '115', '115', '100', '140', '140', '80', '37', '37', '115', '115', '115', '21', '80', '80', '80', '80', '80', '21', '60', '32.76', '31.33', '102.5', '102.5', '110', '110', '37'], 'ammo': ['12g_Buckshot', '12g_Buckshot', '12g_Buckshot', '32ACP', '45cal', '455WebleyMkII', '25Remington', '35Remington', '35Remington', '9x19mm', '9x19mm', '9x19mm', '30-06', '30-06', '30-06', '32ACP', '1035_Ordinanza_Italiana', '765x25mm', '442Webley', '765x25mm', '763x25mm', '9x19mm', '65x52mm', '65x52mm', '65x52mm', '65x52mm', '65x52mm', '8mm', '8mm', '9x20mm', 'British303', 'British303', '65_Arisaka', '65_Arisaka', '32ACP', '32ACP', '112x295', '792x57mm', '792x57mm', '792x57mm', '792x57mm', '792x57mm', '8x50mm', '8x50mm', '8x50mm', '9x23mm', '9x23mm', '455WebleyMkII', 'British303', 'British303', 'British303', 'British303', '792x57mm', '792x57mm', '8mm', '8mm', 'British303', 'British303', 'British303', '30-18_Auto', '30-06', '30-06', '351Winchester', '351Winchester', '351Winchester', '30-06', '30-06', '30-06', '45cal', '45cal', '30-06', '30-06', '30-06', '9x19mm', '30-06', '12g_Buckshot', '12g_Buckshot', '12g_Buckshot', '792x57mm', '792x57mm', '792x57mm', '792x57mm', '9x19mm', '9x19mm', '9x19mm', '792x57mm', '792x57mm', '792x57mm', '8.5mm', 'MartiniHenry577_450', 'MartiniHenry577_450', '9x23mm', '9x23mm', '763x25mm', '9x20mm', '12g_Buckshot', '12g_Buckshot', '12g_Slug', '12g_Buckshot', '12g_Slug', '792x57mm', '792x57mm', '792x57mm', '762x54mm', '762x54mm', '762x38mm', '44_American', '762x54mm', '9x19mm', '9x19mm', '792x57mm', '792x57mm', '65x52mm', '65x52mm', '8mm', '8mm', '8mm', '8mm', '8mm', '455WebleyMkII', '8mm', '8mm', 'British303', 'British303', '30-40', '762x54mm', '762x54mm', '30-40', '9x19mm', '9x19mm', 'British303', 'British303', 'British303', '12g_Buckshot', '792x57mm', '792x57mm', '792x57mm', '792x57mm', '792x57mm', '12g_Buckshot', '12g_Slug', '9x23mm', '32ACP', '65_Arisaka', '65_Arisaka', '104x47mm', '104x47mm', '9x19mm'], 'initialspeed': ['333', '333', '333', '320', '380', '230', '660', '660', '660', '380', '380', '380', '820', '820', '820', '320', '255', '390', '215', '390', '460', '460', '700', '700', '700', '700', '700', '720', '720', '350', '740', '740', '570', '570', '320', '350', '230', '800', '800', '880', '880', '880', '620', '620', '620', '380', '380', '230', '740', '740', '740', '740', '870', '870', '720', '720', '740', '740', '740', '400', '820', '820', '570', '570', '570', '820', '820', '820', '250', '250', '820', '820', '820', '460', '820', '333', '333', '333', '870', '870', '870', '870', '420', '420', '420', '800', '800', '800', '530', '440', '440', '350', '350', '440', '350', '333', '333', '420', '333', '420', '800', '800', '800', '820', '820', '335', '210', '390', '370', '350', '870', '870', '700', '700', '420', '720', '720', '570', '570', '230', '520', '520', '740', '740', '610', '820', '820', '580', '380', '380', '740', '740', '740', '333', '800', '800', '800', '800', '800', '333', '420', '350', '320', '770', '770', '440', '440', '380'], 'bdrop': ['12', '12', '12', '12', '12', '12', '12', '12', '12', '12', '12', '12', '12', '12', '12', '12', '12', '12', '12', '12', '12', '12', '12', '12', '12', '12', '12', '12', '12', '12', '12', '12', '12', '12', '12', '12', '12', '12', '12', '12', '12', '12', '12', '12', '12', '12', '12', '12', '12', '12', '12', '12', '12', '12', '12', '12', '12', '12', '12', '12', '12', '12', '12', '12', '12', '12', '12', '12', '12', '12', '12', '12', '12', '12', '12', '12', '12', '12', '12', '12', '12', '12', '12', '12', '12', '12', '12', '12', '12', '12', '12', '12', '12', '12', '12', '12', '12', '12', '12', '12', '12', '12', '12', '12', '12', '12', '12', '12', '12', '12', '12', '12', '12', '12', '12', '12', '12', '12', '12', '12', '12', '12', '12', '12', '12', '12', '12', '12', '12', '12', '12', '12', '12', '12', '12', '12', '12', '12', '12', '12', '12', '12', '12', '12', '12', '12', '12', '12'], 'drag': ['0.007', '0.007', '0.007', '0.0025', '0.0025', '0.0025', '0.0025', '0.0025', '0.0025', '0.0025', '0.0025', '0.0025', '0.002', '0.002', '0.002', '0.0025', '0.0025', '0.0025', '0.0025', '0.0025', '0.0025', '0.0025', '0.0025', '0.0025', '0.0025', '0.0025', '0.0025', '0.0025', '0.0025', '0.0025', '0.0025', '0.0025', '0.002', '0.002', '0.0025', '0.0025', '0.0025', '0.0025', '0.0025', '0.0025', '0.0025', '0.0025', '0.0025', '0.0025', '0.0025', '0.0025', '0.0025', '0.0025', '0.0025', '0.0025', '0.0025', '0.0025', '0.0025', '0.0025', '0.0025', '0.0025', '0.0025', '0.0025', '0.0025', '0.0025', '0.002', '0.002', '0.0025', '0.0025', '0.0025', '0.002', '0.002', '0.002', '0.0025', '0.0025', '0.002', '0.002', '0.002', '0.0025', '0.002', '0.007', '0.007', '0.007', '0.0025', '0.0025', '0.0025', '0.0025', '0.0025', '0.0025', '0.0025', '0.0025', '0.0025', '0.0025', '0.0025', '0.0025', '0.0025', '0.0025', '0.0025', '0.0025', '0.0025', '0.007', '0.007', '0.002', '0.007', '0.002', '0.0025', '0.0025', '0.0025', '0.0025', '0.0025', '0.0025', '0.0025', '0.0025', '0.0025', '0.0025', '0.0025', '0.0025', '0.0025', '0.0025', '0.0025', '0.0025', '0.0025', '0.0025', '0.0025', '0.0025', '0.0025', '0.0025', '0.0025', '0.0025', '0.0025', '0.0025', '0.0025', '0.0025', '0.0025', '0.0025', '0.0025', '0.0025', '0.0025', '0.007', '0.0025', '0.0025', '0.0025', '0.0025', '0.0025', '0.007', '0.002', '0.0025', '0.0025', '0.002', '0.002', '0.0025', '0.0025', '0.0025'], 'magsize': ['5', '7', '5', '9', '20', '6', '16', '5', '5', '25', '25', '25', '20', '20', '20', '9', '6', '9', '6', '9', '20', '41', '6', '6', '10', '10', '10', '20', '20', '11', '20', '20', '26', '26', '8', '16', '6', '6', '6', '5', '5', '5', '5', '5', '5', '120', '60', '4', '21', '21', '26', '26', '100', '100', '8', '8', '47', '47', '97', '41', '5', '5', '21', '21', '21', '30', '30', '30', '8', '15', '6', '6', '250', '41', '250', '5', '5', '5', '200', '100', '100', '200', '30', '32', '32', '30', '30', '30', '11', '1', '1', '16', '16', '10', '8', '6', '6', '6', '2', '2', '10', '10', '10', '5', '5', '7', '6', '5', '33', '9', '100', '100', '120', '120', '9', '6', '6', '9', '9', '6', '25', '25', '5', '5', '5', '5', '5', '5', '81', '81', '10', '10', '10', '2', '5', '5', '26', '26', '26', '5', '5', '8', '9', '5', '5', '4', '4', '25'], 'shotspershell': ['12', '12', '12', '1', '1', '1', '1', '1', '1', '1', '1', '1', '1', '1', '1', '1', '1', '1', '1', '1', '1', '1', '1', '1', '1', '1', '1', '1', '1', '1', '1', '1', '1', '1', '1', '1', '1', '1', '1', '1', '1', '1', '1', '1', '1', '1', '1', '1', '1', '1', '1', '1', '1', '1', '1', '1', '1', '1', '1', '1', '1', '1', '1', '1', '1', '1', '1', '1', '1', '1', '1', '1', '1', '1', '1', '12', '12', '12', '1', '1', '1', '1', '1', '1', '1', '1', '1', '1', '1', '1', '1', '1', '1', '1', '1', '12', '12', '1', '12', '1', '1', '1', '1', '1', '1', '1', '1', '1', '1', '1', '1', '1', '1', '1', '1', '1', '1', '1', '1', '1', '1', '1', '1', '1', '1', '1', '1', '1', '1', '1', '1', '1', '1', '12', '1', '1', '1', '1', '1', '12', '1', '1', '1', '1', '1', '1', '1', '2'], 'reloadempty': ['4.15', '5.49', '4.15', '1.7', '3.633', '3.17', '3.033', '3.2333667', '3.2333667', '2.8', '2.8', '2.8', '3.2', '3.2', '3.2', '2', '4.238428571', '2.05', '7.242857143', '2.05', '4.0833334', '3.5', '3.333', '3.333', '4.7666666', '4.7666666', '4.7666666', '3.55', '3.55', '2.8', '3.2', '3.2', '3.8', '3.8', '2', '2.1', '2.6', '3.583', '3.583', '3.4666666', '3.4666666', '3.4666666', '3', '3', '3', '4.5', '4.5', '3.3', '3.8', '3.8', '4.25', '4.25', '8.433', '8.433', '4.596666683', '4.596666683', '4.2', '4.2', '4.2', '3', '3.6999667', '3.6999667', '3.5', '3.5', '3.5', '3.9', '3.9', '3.9', '1.7', '2.6', '4.82663', '4.82663', '8.33333', '3.5', '8.33333', '3.37', '3.37', '3.37', '5.8', '4.45', '4.45', '4.45', '3.3', '2.96', '2.96', '4.2', '4.2', '4.2', '2.93', '2.3', '2.3', '4.1', '4.1', '2.7', '2.7', '3.87', '3.87', '3.87', '2.4', '2.4', '3.83336', '3.83336', '3.83336', '3.9', '3.9', '6.8', '2.3', '4.8', '2.6', '2.05', '6.9', '6.9', '8.7598', '8.7598', '4', '3.3', '3.3', '3.9', '3.9', '2.85', '2.766', '2.766', '3.8', '3.8', '3.8766667', '3.8766667', '3.8766667', '3.8766667', '4.5', '4.5', '5.3999334', '5.3999334', '5.3999334', '5.3333334', '3.0667', '3.0667', '3.47', '3.47', '3.47', '3.6166668', '3.6166668', '2.6', '1.4', '3.9', '3.9', '3.8', '3.8', '5'], 'hordispersion': ['1.200006', '1.8', '1.200006', '0', '0', '0', '0', '0', '0', '0', '0', '0', '0', '0', '0', '0', '0', '0', '0', '0', '0', '0', '0', '0', '0', '0', '0', '0', '0', '0', '0', '0', '0', '0', '0', '0', '0', '0', '0', '0', '0', '0', '0', '0', '0', '0', '0', '0', '0', '0', '0', '0', '0', '0', '0', '0', '0', '0', '0', '0', '0', '0', '0', '0', '0', '0', '0', '0', '0', '0', '0', '0', '0', '0', '0', '1.8', '1.8', '2.7', '0', '0', '0', '0', '0', '0', '0', '0', '0', '0', '0', '0', '0', '0', '0', '0', '0', '2.25', '1.8', '0', '2.25', '0', '0', '0', '0', '0', '0', '0', '0', '0', '0', '0', '0', '0', '0', '0', '0', '0', '0', '0', '0', '0', '0', '0', '0', '0', '0', '0', '0', '0', '0', '0', '0', '0', '0', '2.7', '0', '0', '0', '0', '0', '1.6', '0', '0', '0', '0', '0', '0', '0', '0.5'], 'verdispersion': ['1.200006', '1.8', '1.200006', '0', '0', '0', '0', '0', '0', '0', '0', '0', '0', '0', '0', '0', '0', '0', '0', '0', '0', '0', '0', '0', '0', '0', '0', '0', '0', '0', '0', '0', '0', '0', '0', '0', '0', '0', '0', '0', '0', '0', '0', '0', '0', '0', '0', '0', '0', '0', '0', '0', '0', '0', '0', '0', '0', '0', '0', '0', '0', '0', '0', '0', '0', '0', '0', '0', '0', '0', '0', '0', '0', '0', '0', '1.8', '1.8', '0.45', '0', '0', '0', '0', '0', '0', '0', '0', '0', '0', '0', '0', '0', '0', '0', '0', '0', '2.25', '1.8', '0', '2.25', '0', '0', '0', '0', '0', '0', '0', '0', '0', '0', '0', '0', '0', '0', '0', '0', '0', '0', '0', '0', '0', '0', '0', '0', '0', '0', '0', '0', '0', '0', '0', '0', '0', '0', '2.7', '0', '0', '0', '0', '0', '1.6', '0', '0', '0', '0', '0', '0', '0', '0'], 'hiprecoildec': ['4.5', '3', '3', '5', '8', '5', '3', '5.25', '3', '16', '8', '8', '6', '6', '6', '5', '5', '5', '5', '4', '5', '5', '3', '3', '5.25', '3', '3', '10.002', '6', '4', '3', '3', '4', '4', '5', '12', '5', '5.25', '3', '4.5', '3', '3', '3', '4.5', '3', '8', '8', '5', '5.25', '3', '10.002', '6', '10.002', '6', '4.5', '3', '10.002', '6', '6', '5', '3', '3', '5.25', '3', '3', '6', '6', '6', '5', '5', '4.5', '3', '10.002', '5', '6', '4.5', '3', '3', '6', '10.002', '6', '6', '8', '8', '8', '10.002', '6', '6', '5', '4.5', '3', '8', '8', '5', '5', '4.5', '3', '4.5', '9', '9', '3', '3', '3', '4.5', '3', '5', '5', '5', '4', '5', '10.002', '6', '6', '10.002', '3', '5.25', '3', '16', '8', '5', '16', '8', '3', '4.5', '4.5', '4.5', '3', '3', '16', '8', '3', '4.5', '3', '6', '3', '3', '5.25', '3', '3', '4.5', '4.5', '5', '5', '4.5', '3', '3', '4.5', '10'], 'hiprecoilright': ['0.48', '0.8', '0.8', '0.4', '0.45', '1', '0.15', '0.15', '0.15', '0.4', '0.32', '0.4', '0.208', '0.26', '0.26', '0.4', '1', '0.3', '0.8', '0.12', '0.3', '0.12', '1', '1', '0.4', '0.4', '0.4', '0.22', '0.22', '0.15', '0.3', '0.18', '0.2', '0.2', '0.4', '0.6', '1', '0.5', '0.3', '1', '1', '1', '1', '1', '1', '0.475', '0.38', '1.5', '0.24', '0.24', '0.14', '0.1232', '0.575', '0.575', '1', '1', '0.24', '0.2112', '0.24', '0.1', '1', '1', '0.6', '0.6', '0.6', '0.1056', '0.096', '0.12', '0.7', '0.5', '1', '1', '0.17', '0.12', '0.17', '0.9', '1.5', '1.5', '0.15', '0.35', '0.28', '0.35', '0.138', '0.23', '0.23', '0.275', '0.22', '0.275', '0.8', '1', '1', '0.48', '0.36', '0.35', '0.3', '1', '1', '1', '2', '2', '0.45', '0.45', '0.27', '1', '1', '0.8', '1.2', '0.8', '0.4', '0.5', '0.8', '0.8', '0.15', '0.15', '0.1', '0.9', '0.9', '0.4', '0.4', '0.8', '0.33', '0.33', '1', '1', '1', '1', '1', '1', '0.6', '0.6', '1', '1', '1', '1.2', '0.1', '0.1', '0.53', '0.53', '0.53', '0.5', '0.5', '0.25', '0.4', '1', '1', '1', '1', '0.4'], 'hiprecoilup': ['4.4', '5.5', '5.5', '1', '0.55', '4', '0.68', '0.85', '0.85', '0.42', '0.336', '0.42', '0.44', '0.55', '0.55', '1', '5', '1.3', '4', '0.35', '1.2', '0.36', '5', '5', '0.8', '0.8', '0.8', '0.55', '0.55', '1', '0.9', '0.54', '0.45', '0.45', '1', '0.5', '6', '1.3', '0.78', '5', '5', '5', '5', '5', '5', '0.48', '0.384', '5', '1', '1', '0.28', '0.28', '0.42', '0.42', '5', '5', '0.25', '0.25', '0.25', '0.28', '5', '5', '0.9', '0.72', '0.9', '0.35', '0.28', '0.35', '2.3', '1.7', '5', '5', '0.26', '0.36', '0.26', '7.2', '9', '9', '0.28', '0.4125', '0.33', '0.4125', '0.42', '0.42', '0.42', '0.38', '0.304', '0.38', '4', '10', '10', '0.63', '0.7875', '1.5', '1.1', '11', '11', '11', '8', '8', '1.1', '1.1', '0.66', '5', '5', '3', '4', '7', '1.4', '1.5', '0.38', '0.38', '0.2', '0.2', '1.2', '1.5', '1.5', '0.75', '0.75', '5', '0.504', '0.504', '5', '5', '5', '5', '5', '5', '0.47', '0.47', '5', '5', '5', '11', '0.95', '0.95', '1.1', '1.1', '1.1', '6', '6', '1.5', '1', '5', '5', '5', '5', '0.38'], 'hipstandmovemax': ['2', '2', '2', '2', '2.5', '2', '3.5', '3.5', '3.5', '2.5', '2.5', '2.5', '4.25', '4.25', '4.25', '2', '2', '2', '2', '3', '3', '2.5', '5', '5', '3.5', '3.5', '3.5', '4.25', '4.25', '3', '4', '4', '3.5', '3.5', '2', '2.5', '2', '4', '4', '5', '5', '5', '5', '5', '5', '3.25', '3.25', '2', '4', '4', '4.25', '4.25', '5.75', '5.75', '5', '5', '5', '5', '5', '5', '5', '5', '3.5', '3.5', '3.5', '5', '5', '5', '2', '3', '5', '5', '5.75', '2.5', '5.75', '2', '2', '2', '4', '5.75', '5.75', '5.75', '2.5', '2.5', '2.5', '4.25', '4.25', '4.25', '2', '5', '5', '2.5', '2.5', '2', '2', '4', '4', '2.2', '4', '2.2', '4', '4', '4', '5', '5', '2', '2', '2', '3', '2', '5.75', '5.75', '5.75', '5.75', '3', '4', '4', '2.5', '2.5', '2', '3.25', '3.25', '5', '5', '5', '5', '5', '5', '3.25', '3.25', '5', '5', '5', '2', '4', '4', '4', '4', '4', '2', '2.2', '2', '2', '5', '5', '5', '5', '2.5'], 'hipstandmovespreaddec': ['4.5', '4.5', '4.5', '4.5', '2.7', '9', '3', '6', '3', '4.05', '2.7', '2.7', '4.5', '4.5', '4.5', '4.5', '9', '4.5', '9', '5', '4.5', '2.1', '10.05', '6.7', '6', '3', '3', '27', '9', '4.5', '3', '3', '3', '3', '4.5', '2.7', '9', '6', '3', '10.05', '6.7', '6.7', '6.7', '10.05', '6.7', '2.7', '2.7', '9', '6', '3', '27', '9', '18.9', '6.3', '10.05', '6.7', '32.4', '10.8', '10.8', '2.1', '6.7', '6.7', '6', '3', '3', '10.8', '10.8', '10.8', '6', '6', '10.05', '6.7', '18.9', '2.1', '6.3', '4.5', '4.5', '4.5', '3.6', '18.9', '6.3', '6.3', '2.7', '2.7', '2.7', '13.5', '4.5', '4.5', '6', '10.05', '6.7', '2.7', '2.7', '4.5', '4.5', '24', '6', '9', '18', '9', '3', '3', '3', '10.05', '6.7', '9', '9', '9', '4.5', '4.5', '16.2', '5.4', '6.3', '18.9', '6', '6', '3', '4.05', '2.7', '9', '4.05', '2.7', '6.7', '10.05', '10.05', '10.05', '6.7', '10.05', '4.05', '2.7', '6.7', '10.05', '6.7', '4.5', '3', '3', '6', '3', '3', '9', '9', '4.5', '4.5', '10.05', '6.7', '6.7', '10.05', '3'], 'hipstandmovespreadinc': ['0.15', '0.15', '0.15', '0.15', '0.045', '0.3', '0.05', '0.1', '0.1', '0.045', '0.045', '0.045', '-0.18', '-0.18', '-0.09', '0.15', '0.3', '0.15', '0.3', '0.15', '0.15', '0.07', '1', '1', '0.1', '0.1', '0.05', '-0.225', '-0.18', '0.15', '0.1', '0.1', '0.1', '0.05', '0.15', '0.045', '0.3', '0.1', '0.1', '1', '1', '1', '1', '1', '1', '0.045', '0.045', '0.3', '0.1', '0.1', '-0.225', '-0.18', '-0.216', '-0.18', '1', '1', '-0.216', '-0.18', '-0.18', '0.07', '1', '1', '0.1', '0.05', '0.05', '-0.18', '-0.18', '-0.18', '0.2', '0.2', '1', '1', '-0.209999988', '0.07', '-0.18', '0.3', '0.3', '0.3', '-0.45', '-0.209999988', '-0.18', '-0.18', '0.045', '0.045', '0.045', '-0.225', '-0.18', '-0.09', '0.2', '1', '1', '0.045', '0.045', '0.15', '0.15', '1.6', '1.6', '0.3', '0.3', '0.3', '0.1', '0.1', '0.1', '1', '1', '0.3', '0.3', '0.3', '0.15', '0.15', '-0.209999988', '-0.18', '-0.18', '-0.216', '0.2', '0.1', '0.1', '0.045', '0.045', '0.3', '0.045', '0.045', '1', '1', '1', '1', '1', '1', '0.045', '0.045', '1', '1', '1', '0.3', '0.1', '0.1', '0.1', '0.1', '0.1', '0.3', '0.3', '0.15', '0.15', '1', '1', '1', '1', '0.05']}\n"
     ]
    }
   ],
   "source": [
    "features = getCsvAsDict(data_path)\n",
    "print(features)"
   ]
  },
  {
   "cell_type": "code",
   "execution_count": 5,
   "metadata": {},
   "outputs": [],
   "source": [
    "def tensorToParameterDict(tensor, cols_to_vars_dict):\n",
    "    idx =  0 #keep track of the id to find the right value in the tensor\n",
    "    result = dict()\n",
    "    for key in cols_to_vars_dict:\n",
    "        '''\n",
    "        e.g., key = _NumericColumn(key='bdrop', shape=(1,), default_value=None, \n",
    "                    dtype=tf.float32, normalizer_fn=None)\n",
    "        then key[0] = 'bdrop'\n",
    "        '''\n",
    "        if key[0] in NUMERICAL_PARAMS:\n",
    "            result[key[0]] = str(tensor[idx])\n",
    "        \n",
    "            '''\n",
    "            e.g., key = _IndicatorColumn(categorical_column=_VocabularyListCategoricalColumn(\n",
    "                        key='firemode', vocabulary_list=('Automatic', 'Semi-Automatic', \n",
    "                        'Single-Action'), dtype=tf.string, default_value=-1, num_oov_buckets=0))\n",
    "            then key[0] = _VocabularyListCategoricalColumn(\n",
    "                        key='firemode', vocabulary_list=('Automatic', 'Semi-Automatic', \n",
    "                        'Single-Action'), dtype=tf.string, default_value=-1, num_oov_buckets=0)\n",
    "            and key[0][0] = 'firemode'\n",
    "            and key[0][0][0] = 'Automatic'\n",
    "            '''\n",
    "        elif (len(key[0]) > 0) and key[0][0] in CATEGORICAL_PARAMS:\n",
    "            for i in range(0, len(key[0][1])-1):\n",
    "                param = key[0][0] + \"_\" + key[0][1][i]\n",
    "                result[param] = str(tensor[idx])\n",
    "                idx += 1\n",
    "                \n",
    "        idx += 1\n",
    "    return result"
   ]
  },
  {
   "cell_type": "code",
   "execution_count": 6,
   "metadata": {},
   "outputs": [],
   "source": [
    "CATEGORICAL_PARAMS  = ['type', 'firemode', 'ammo']\n",
    "NUMERICAL_PARAMS = ['rof', 'damages_first', 'damages_last', 'dmg_distances_first', 'dmg_distances_last', 'initialspeed',\n",
    "                    'drag', 'magsize', 'shotspershell', 'reloadempty', 'hordispersion', 'verdispersion', \n",
    "                    'hiprecoildec', 'hiprecoilright', 'hiprecoilup', 'hipstandmovemax', 'hipstandmovespreaddec',\n",
    "                    'hipstandmovespreadinc' ]\n",
    "\n",
    "for key, values in features.items():\n",
    "    if key in NUMERICAL_PARAMS:\n",
    "        features[key] = [float('{:.4f}'.format(float(value))) for value in values]\n",
    "\n",
    "type_column = tf.feature_column.categorical_column_with_vocabulary_list(\n",
    "    'type', ['Shotgun', 'Pistol', 'Rifle', 'Submachine Gun', 'Sniper Rifle', 'Light Machine Gun'])\n",
    "type_column = tf.feature_column.indicator_column(type_column)\n",
    "\n",
    "firemode_colum = tf.feature_column.categorical_column_with_vocabulary_list(\n",
    "    'firemode', ['Automatic', 'Semi-Automatic', 'Single-Action'])\n",
    "firemode_colum = tf.feature_column.indicator_column(firemode_colum)\n",
    "\n",
    "columns = [tf.feature_column.numeric_column(param) for param in NUMERICAL_PARAMS]\n",
    "columns.append(type_column)\n",
    "columns.append(firemode_colum)\n",
    "\n",
    "cols_to_vars_dict = {}\n",
    "inputs = tf.feature_column.input_layer(features, columns, cols_to_vars=cols_to_vars_dict)\n",
    "#print(cols_to_vars_dict)\n",
    "#print(inputs)\n",
    "\n",
    "var_init = tf.global_variables_initializer()\n",
    "table_init = tf.tables_initializer()"
   ]
  },
  {
   "cell_type": "code",
   "execution_count": 12,
   "metadata": {},
   "outputs": [
    {
     "name": "stdout",
     "output_type": "stream",
     "text": [
      "input size = 148\n",
      "[[12.    7.7   3.85 ...  0.    0.    1.2 ]\n",
      " [12.    7.7   3.85 ...  0.    0.    1.8 ]\n",
      " [12.    7.7   3.85 ...  0.    0.    1.2 ]\n",
      " ...\n",
      " [12.   90.   70.   ...  1.    0.    0.  ]\n",
      " [12.   90.   70.   ...  1.    0.    0.  ]\n",
      " [12.   23.   13.5  ...  0.    0.    0.  ]]\n",
      "bdrop = 12.0\n",
      "damages_first = 23.0\n",
      "damages_last = 13.5\n",
      "dmg_distances_first = 6.0\n",
      "dmg_distances_last = 37.0\n",
      "drag = 0.0025\n",
      "firemode_Automatic = 1.0\n",
      "firemode_Semi-Automatic = 0.0\n",
      "hiprecoildec = 10.0\n",
      "hiprecoilright = 0.4\n",
      "hiprecoilup = 0.38\n",
      "hipstandmovemax = 2.5\n",
      "hipstandmovespreaddec = 3.0\n",
      "hipstandmovespreadinc = 0.05\n",
      "hordispersion = 0.5\n",
      "initialspeed = 380.0\n",
      "magsize = 25.0\n",
      "reloadempty = 5.0\n",
      "rof = 900.0\n",
      "shotspershell = 2.0\n",
      "type_Shotgun = 0.0\n",
      "type_Pistol = 1.0\n",
      "type_Rifle = 0.0\n",
      "type_Submachine Gun = 0.0\n",
      "type_Sniper Rifle = 0.0\n",
      "verdispersion = 0.0\n"
     ]
    }
   ],
   "source": [
    "with tf.Session() as sess:\n",
    "    sess.run((var_init, table_init))\n",
    "    \n",
    "    processedInput = sess.run(inputs)\n",
    "    print(\"input size = %i\" %len(processedInput))\n",
    "    print(processedInput)\n",
    "    tensorDict = tensorToParameterDict(processedInput[len(processedInput)-1], cols_to_vars_dict)\n",
    "    for key, value in tensorDict.items():\n",
    "        print(key + \" = \" + value)"
   ]
  },
  {
   "cell_type": "code",
   "execution_count": null,
   "metadata": {},
   "outputs": [],
   "source": []
  }
 ],
 "metadata": {
  "kernelspec": {
   "display_name": "Python 3",
   "language": "python",
   "name": "python3"
  },
  "language_info": {
   "codemirror_mode": {
    "name": "ipython",
    "version": 3
   },
   "file_extension": ".py",
   "mimetype": "text/x-python",
   "name": "python",
   "nbconvert_exporter": "python",
   "pygments_lexer": "ipython3",
   "version": "3.6.4"
  }
 },
 "nbformat": 4,
 "nbformat_minor": 2
}
