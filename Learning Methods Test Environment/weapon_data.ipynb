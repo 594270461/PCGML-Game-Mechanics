{
 "cells": [
  {
   "cell_type": "code",
   "execution_count": 1,
   "metadata": {},
   "outputs": [],
   "source": [
    "%config IPCompleter.greedy=True"
   ]
  },
  {
   "cell_type": "code",
   "execution_count": 2,
   "metadata": {},
   "outputs": [
    {
     "name": "stderr",
     "output_type": "stream",
     "text": [
      "D:\\z_outsourced_programs\\Anaconda3\\lib\\site-packages\\h5py\\__init__.py:36: FutureWarning: Conversion of the second argument of issubdtype from `float` to `np.floating` is deprecated. In future, it will be treated as `np.float64 == np.dtype(float).type`.\n",
      "  from ._conv import register_converters as _register_converters\n"
     ]
    }
   ],
   "source": [
    "#adhere to https://github.com/tensorflow/tensorflow/blob/r0.7/tensorflow/examples/tutorials/mnist/input_data.py\n",
    "\n",
    "from __future__ import absolute_import\n",
    "from __future__ import division\n",
    "from __future__ import print_function\n",
    "\n",
    "import numpy as np\n",
    "import tensorflow as tf\n",
    "import csv\n",
    "\n",
    "data_path = \"./weapon_data.csv\""
   ]
  },
  {
   "cell_type": "code",
   "execution_count": 3,
   "metadata": {},
   "outputs": [],
   "source": [
    "def getCsvHeader(filename):\n",
    "    with open(filename, mode='r') as f:\n",
    "        reader = csv.reader(f)\n",
    "        header = next(reader)\n",
    "        return header\n",
    "    \n",
    "def getCsvAsDict(filename):\n",
    "    header = getCsvHeader(filename)\n",
    "    result = { h: [] for h in header }\n",
    "    with open(filename, mode='r') as file:\n",
    "        for row in csv.DictReader(file):\n",
    "            for h in header:\n",
    "                result[h].append(row[h])\n",
    "\n",
    "    return result"
   ]
  },
  {
   "cell_type": "code",
   "execution_count": 4,
   "metadata": {},
   "outputs": [
    {
     "name": "stdout",
     "output_type": "stream",
     "text": [
      "148\n"
     ]
    }
   ],
   "source": [
    "features = getCsvAsDict(data_path)\n",
    "print(len(features['weapshowname']))\n",
    "#print(features)"
   ]
  },
  {
   "cell_type": "code",
   "execution_count": 5,
   "metadata": {},
   "outputs": [],
   "source": [
    "def tensorToParameterDict(tensor, cols_to_vars_dict):\n",
    "    idx =  0 #keep track of the id to find the right value in the processed tensor\n",
    "    result = dict()\n",
    "    for key in cols_to_vars_dict:\n",
    "        '''\n",
    "        e.g., key = _NumericColumn(key='bdrop', shape=(1,), default_value=None, \n",
    "                    dtype=tf.float32, normalizer_fn=None)\n",
    "        then key[0] = 'bdrop'\n",
    "        '''\n",
    "        if key[0] in NUMERICAL_PARAMS:\n",
    "            result[key[0]] = str(tensor[idx])\n",
    "        \n",
    "            '''\n",
    "            e.g., key = _IndicatorColumn(categorical_column=_VocabularyListCategoricalColumn(\n",
    "                        key='firemode', vocabulary_list=('Automatic', 'Semi-Automatic', \n",
    "                        'Single-Action'), dtype=tf.string, default_value=-1, num_oov_buckets=0))\n",
    "            then key[0] = _VocabularyListCategoricalColumn(\n",
    "                        key='firemode', vocabulary_list=('Automatic', 'Semi-Automatic', \n",
    "                        'Single-Action'), dtype=tf.string, default_value=-1, num_oov_buckets=0)\n",
    "            and key[0][0] = 'firemode'\n",
    "            and key[0][0][0] = 'Automatic'\n",
    "            '''\n",
    "        elif (len(key[0]) > 0) and key[0][0] in CATEGORICAL_PARAMS:\n",
    "            for i in range(0, len(key[0][1])-1):\n",
    "                param = key[0][0] + \"_\" + key[0][1][i]\n",
    "                result[param] = str(tensor[idx])\n",
    "                idx += 1\n",
    "                \n",
    "        idx += 1\n",
    "    return result"
   ]
  },
  {
   "cell_type": "code",
   "execution_count": 23,
   "metadata": {},
   "outputs": [
    {
     "name": "stdout",
     "output_type": "stream",
     "text": [
      "Shuffled 148 input data\n"
     ]
    }
   ],
   "source": [
    "#define constants for data processing\n",
    "CATEGORICAL_PARAMS  = ['type', 'firemode', 'ammo']\n",
    "NUMERICAL_PARAMS = ['rof', 'damages_first', 'damages_last', 'dmg_distances_first', 'dmg_distances_last', 'initialspeed',\n",
    "                    'drag', 'magsize', 'shotspershell', 'reloadempty', 'hordispersion', 'verdispersion', \n",
    "                    'hiprecoildec', 'hiprecoilright', 'hiprecoilup' ]\n",
    "WEAPON_TYPES = ['Shotgun', 'Pistol', 'Rifle', 'Submachine Gun', 'Sniper Rifle', 'Light Machine Gun']\n",
    "WEAPON_FIREMODES = ['Automatic', 'Semi-Automatic', 'Single-Action']\n",
    "\n",
    "#convert all numerical data to float so they can be used as 'tf.feature_column.numeric_column'\n",
    "for key, values in features.items():\n",
    "    if key in NUMERICAL_PARAMS:\n",
    "        features[key] = [float('{:.4f}'.format(float(value))) for value in values]\n",
    "\n",
    "#encode categorical data\n",
    "type_column = tf.feature_column.categorical_column_with_vocabulary_list('type', WEAPON_TYPES)\n",
    "type_column = tf.feature_column.indicator_column(type_column)\n",
    "\n",
    "firemode_colum = tf.feature_column.categorical_column_with_vocabulary_list('firemode', WEAPON_FIREMODES)\n",
    "firemode_colum = tf.feature_column.indicator_column(firemode_colum)\n",
    "\n",
    "#create list with all feature columns\n",
    "columns = [tf.feature_column.numeric_column(param) for param in NUMERICAL_PARAMS]\n",
    "columns.append(type_column)\n",
    "columns.append(firemode_colum)\n",
    "\n",
    "#make sure you know whats going on inside\n",
    "cols_to_vars_dict = {}\n",
    "\n",
    "#create an input layer with your feature columns and make sure you get the cols_to_vars dictionary!\n",
    "inputs = tf.feature_column.input_layer(features, columns, cols_to_vars=cols_to_vars_dict, trainable = False)\n",
    "#print(cols_to_vars_dict)\n",
    "#print(inputs)\n",
    "\n",
    "var_init = tf.global_variables_initializer()\n",
    "table_init = tf.tables_initializer() #needed for the feature columns\n",
    "\n",
    "weapon_data = [];\n",
    "\n",
    "#shuffle the whole input layer\n",
    "tf.set_random_seed(19071991)\n",
    "with tf.Session() as sess:\n",
    "    sess.run((var_init, table_init))\n",
    "    weapon_data = sess.run(tf.random_shuffle(inputs))\n",
    "    print(\"Shuffled %i\" %len(weapon_data) + \" input data\")\n"
   ]
  },
  {
   "cell_type": "code",
   "execution_count": 42,
   "metadata": {},
   "outputs": [
    {
     "name": "stdout",
     "output_type": "stream",
     "text": [
      "damages_first = ['42.0', '26.5', '80.0', '26.5', '80.0', '80.0', '26.5', '34.73', '26.5', '26.5']\n",
      "damages_last = ['23.0', '15.0', '80.0', '23.0', '80.0', '80.0', '13.5', '15.0', '20.0', '23.0']\n",
      "dmg_distances_first = ['21.0', '11.0', '0.0', '11.0', '0.0', '0.0', '6.0', '11.0', '11.0', '11.0']\n",
      "dmg_distances_last = ['60.0', '37.0', '190.0', '35.0', '165.0', '127.5', '31.33', '33.0', '50.0', '35.0']\n",
      "drag = ['0.0025', '0.0025', '0.002', '0.002', '0.0025', '0.0025', '0.0025', '0.0025', '0.0025', '0.002']\n",
      "firemode_Automatic = ['0.0', '0.0', '0.0', '1.0', '0.0', '0.0', '0.0', '0.0', '1.0', '1.0']\n",
      "firemode_Semi-Automatic = ['1.0', '1.0', '0.0', '0.0', '0.0', '0.0', '1.0', '1.0', '0.0', '0.0']\n",
      "hiprecoildec = ['5.25', '8.0', '3.0', '6.0', '3.0', '4.5', '5.0', '5.0', '6.0', '6.0']\n",
      "hiprecoilright = ['0.6', '0.36', '1.0', '0.096', '1.0', '1.0', '0.4', '0.1', '0.15', '0.17']\n",
      "hiprecoilup = ['0.9', '0.7875', '5.0', '0.28', '5.0', '5.0', '1.0', '0.28', '0.2', '0.26']\n",
      "hordispersion = ['0.0', '0.0', '0.0', '0.0', '0.0', '0.0', '0.0', '0.0', '0.0', '0.0']\n",
      "initialspeed = ['570.0', '350.0', '820.0', '820.0', '880.0', '720.0', '320.0', '400.0', '700.0', '820.0']\n",
      "magsize = ['21.0', '16.0', '5.0', '30.0', '5.0', '8.0', '8.0', '41.0', '120.0', '250.0']\n",
      "reloadempty = ['3.5', '4.1', '3.7', '3.9', '3.4667', '4.5967', '2.0', '3.0', '8.7598', '8.3333']\n",
      "rof = ['299.0', '450.0', '53.0', '450.0', '50.0', '56.0', '449.0', '359.0', '450.0', '450.0']\n",
      "shotspershell = ['1.0', '1.0', '1.0', '1.0', '1.0', '1.0', '1.0', '1.0', '1.0', '1.0']\n",
      "type_Shotgun = ['0.0', '0.0', '0.0', '0.0', '0.0', '0.0', '0.0', '0.0', '0.0', '0.0']\n",
      "type_Pistol = ['0.0', '1.0', '0.0', '0.0', '0.0', '0.0', '1.0', '0.0', '0.0', '0.0']\n",
      "type_Rifle = ['1.0', '0.0', '0.0', '0.0', '0.0', '0.0', '0.0', '0.0', '0.0', '0.0']\n",
      "type_Submachine Gun = ['0.0', '0.0', '0.0', '0.0', '0.0', '0.0', '0.0', '0.0', '0.0', '0.0']\n",
      "type_Sniper Rifle = ['0.0', '0.0', '1.0', '0.0', '1.0', '1.0', '0.0', '1.0', '0.0', '0.0']\n",
      "verdispersion = ['0.0', '0.0', '0.0', '0.0', '0.0', '0.0', '0.0', '0.0', '0.0', '0.0']\n"
     ]
    }
   ],
   "source": [
    "genDict = {}\n",
    "\n",
    "def addGeneratedWeapon(generatedWeaponTensorDict, dictToAdd):\n",
    "    for key, value in generatedWeaponTensorDict.items():\n",
    "        if key not in dictToAdd:\n",
    "            dictToAdd[key] = []\n",
    "        dictToAdd[key].append(value)\n",
    "        \n",
    "def debug_printDict(dictionary):\n",
    "    for key, value in dictionary.items():\n",
    "        print(key, \"=\", value)\n",
    "\n",
    "var_init = tf.global_variables_initializer()\n",
    "\n",
    "with tf.Session() as sess:\n",
    "    sess.run(var_init)\n",
    "    \n",
    "    batch = weapon_data[0:10]\n",
    "    #print(batch)\n",
    "    \n",
    "    \n",
    "    tensorDict = [tensorToParameterDict(b, cols_to_vars_dict) for b in batch]\n",
    "    [addGeneratedWeapon(t, genDict) for t in tensorDict]\n",
    "    #debug_printDict(tensorDict[0])\n",
    "    \n",
    "    \n",
    "debug_printDict(genDict)\n"
   ]
  },
  {
   "cell_type": "code",
   "execution_count": null,
   "metadata": {},
   "outputs": [],
   "source": []
  },
  {
   "cell_type": "code",
   "execution_count": null,
   "metadata": {},
   "outputs": [],
   "source": []
  }
 ],
 "metadata": {
  "kernelspec": {
   "display_name": "Python 3",
   "language": "python",
   "name": "python3"
  },
  "language_info": {
   "codemirror_mode": {
    "name": "ipython",
    "version": 3
   },
   "file_extension": ".py",
   "mimetype": "text/x-python",
   "name": "python",
   "nbconvert_exporter": "python",
   "pygments_lexer": "ipython3",
   "version": "3.6.4"
  }
 },
 "nbformat": 4,
 "nbformat_minor": 2
}
