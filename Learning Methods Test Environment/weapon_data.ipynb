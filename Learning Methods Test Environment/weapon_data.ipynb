{
 "cells": [
  {
   "cell_type": "code",
   "execution_count": 1,
   "metadata": {},
   "outputs": [],
   "source": [
    "%config IPCompleter.greedy=True"
   ]
  },
  {
   "cell_type": "code",
   "execution_count": 60,
   "metadata": {},
   "outputs": [],
   "source": [
    "from __future__ import absolute_import\n",
    "from __future__ import division\n",
    "from __future__ import print_function\n",
    "\n",
    "import numpy as np\n",
    "import tensorflow as tf\n",
    "import csv\n",
    "\n",
    "data_path = \"./weapon_data.csv\""
   ]
  },
  {
   "cell_type": "code",
   "execution_count": 63,
   "metadata": {},
   "outputs": [],
   "source": [
    "def getCsvHeader(filename):\n",
    "    with open(filename, mode='r') as f:\n",
    "        reader = csv.reader(f)\n",
    "        header = next(reader)\n",
    "        return header\n",
    "    \n",
    "def getCsvAsDict(filename):\n",
    "    header = getCsvHeader(filename)\n",
    "    result = { h: [] for h in header }\n",
    "    with open(filename, mode='r') as file:\n",
    "        for row in csv.DictReader(file):\n",
    "            for h in header:\n",
    "                result[h].append(row[h])\n",
    "\n",
    "    return result"
   ]
  },
  {
   "cell_type": "code",
   "execution_count": 64,
   "metadata": {},
   "outputs": [
    {
     "name": "stdout",
     "output_type": "stream",
     "text": [
      "148\n"
     ]
    }
   ],
   "source": [
    "features = getCsvAsDict(data_path)\n",
    "print(len(features['weapshowname']))\n",
    "#print(features)"
   ]
  },
  {
   "cell_type": "code",
   "execution_count": 24,
   "metadata": {},
   "outputs": [],
   "source": [
    "def tensorToParameterDict(tensor, cols_to_vars_dict):\n",
    "    idx =  0 #keep track of the id to find the right value in the processed tensor\n",
    "    result = dict()\n",
    "    for key in cols_to_vars_dict:\n",
    "        '''\n",
    "        e.g., key = _NumericColumn(key='bdrop', shape=(1,), default_value=None, \n",
    "                    dtype=tf.float32, normalizer_fn=None)\n",
    "        then key[0] = 'bdrop'\n",
    "        '''\n",
    "        if key[0] in NUMERICAL_PARAMS:\n",
    "            result[key[0]] = str(tensor[idx])\n",
    "        \n",
    "            '''\n",
    "            e.g., key = _IndicatorColumn(categorical_column=_VocabularyListCategoricalColumn(\n",
    "                        key='firemode', vocabulary_list=('Automatic', 'Semi-Automatic', \n",
    "                        'Single-Action'), dtype=tf.string, default_value=-1, num_oov_buckets=0))\n",
    "            then key[0] = _VocabularyListCategoricalColumn(\n",
    "                        key='firemode', vocabulary_list=('Automatic', 'Semi-Automatic', \n",
    "                        'Single-Action'), dtype=tf.string, default_value=-1, num_oov_buckets=0)\n",
    "            and key[0][0] = 'firemode'\n",
    "            and key[0][0][0] = 'Automatic'\n",
    "            '''\n",
    "        elif (len(key[0]) > 0) and key[0][0] in CATEGORICAL_PARAMS:\n",
    "            for i in range(0, len(key[0][1])-1):\n",
    "                param = key[0][0] + \"_\" + key[0][1][i]\n",
    "                result[param] = str(tensor[idx])\n",
    "                idx += 1\n",
    "                \n",
    "        idx += 1\n",
    "    return result"
   ]
  },
  {
   "cell_type": "code",
   "execution_count": 37,
   "metadata": {},
   "outputs": [],
   "source": [
    "#define constants for data processing\n",
    "CATEGORICAL_PARAMS  = ['type', 'firemode', 'ammo']\n",
    "NUMERICAL_PARAMS = ['rof', 'damages_first', 'damages_last', 'dmg_distances_first', 'dmg_distances_last', 'initialspeed',\n",
    "                    'drag', 'magsize', 'shotspershell', 'reloadempty', 'hordispersion', 'verdispersion', \n",
    "                    'hiprecoildec', 'hiprecoilright', 'hiprecoilup' ]\n",
    "WEAPON_TYPES = ['Shotgun', 'Pistol', 'Rifle', 'Submachine Gun', 'Sniper Rifle', 'Light Machine Gun']\n",
    "WEAPON_FIREMODES = ['Automatic', 'Semi-Automatic', 'Single-Action']\n",
    "\n",
    "#convert all numerical data to float so they can be used as 'tf.feature_column.numeric_column'\n",
    "for key, values in features.items():\n",
    "    if key in NUMERICAL_PARAMS:\n",
    "        features[key] = [float('{:.4f}'.format(float(value))) for value in values]\n",
    "\n",
    "#encode categorical data\n",
    "type_column = tf.feature_column.categorical_column_with_vocabulary_list('type', WEAPON_TYPES)\n",
    "type_column = tf.feature_column.indicator_column(type_column)\n",
    "\n",
    "firemode_colum = tf.feature_column.categorical_column_with_vocabulary_list('firemode', WEAPON_FIREMODES)\n",
    "firemode_colum = tf.feature_column.indicator_column(firemode_colum)\n",
    "\n",
    "#create list with all feature columns\n",
    "columns = [tf.feature_column.numeric_column(param) for param in NUMERICAL_PARAMS]\n",
    "columns.append(type_column)\n",
    "columns.append(firemode_colum)\n",
    "\n",
    "#make sure you know whats going on inside\n",
    "cols_to_vars_dict = {}\n",
    "\n",
    "#create an input layer with your feature columns and make sure you get the cols_to_vars dictionary!\n",
    "inputs = tf.feature_column.input_layer(features, columns, cols_to_vars=cols_to_vars_dict)\n",
    "\n",
    "#shuffle the whole input layer\n",
    "tf.set_random_seed(19071991)\n",
    "inputs = tf.random_shuffle(inputs)\n",
    "\n",
    "#print(cols_to_vars_dict)\n",
    "#print(inputs)\n",
    "\n",
    "var_init = tf.global_variables_initializer()\n",
    "table_init = tf.tables_initializer() #needed for the feature columns\n",
    "\n"
   ]
  },
  {
   "cell_type": "code",
   "execution_count": 42,
   "metadata": {},
   "outputs": [
    {
     "name": "stdout",
     "output_type": "stream",
     "text": [
      "input size = 148\n",
      "[[26.5 15.  11.  ...  0.   0.   0. ]\n",
      " [28.  21.  11.  ...  0.   0.   0. ]\n",
      " [80.  80.   0.  ...  1.   0.   0. ]\n",
      " ...\n",
      " [80.  80.   0.  ...  1.   0.   0. ]\n",
      " [53.  15.   6.  ...  0.   0.   0. ]\n",
      " [53.  21.  14.  ...  0.   0.   0. ]]\n",
      "damages_first = 53.0\n",
      "damages_last = 21.0\n",
      "dmg_distances_first = 14.0\n",
      "dmg_distances_last = 38.11\n",
      "drag = 0.0025\n",
      "firemode_Automatic = 0.0\n",
      "firemode_Semi-Automatic = 1.0\n",
      "hiprecoildec = 5.0\n",
      "hiprecoilright = 1.0\n",
      "hiprecoilup = 6.0\n",
      "hordispersion = 0.0\n",
      "initialspeed = 230.0\n",
      "magsize = 6.0\n",
      "reloadempty = 2.6\n",
      "rof = 179.0\n",
      "shotspershell = 1.0\n",
      "type_Shotgun = 0.0\n",
      "type_Pistol = 1.0\n",
      "type_Rifle = 0.0\n",
      "type_Submachine Gun = 0.0\n",
      "type_Sniper Rifle = 0.0\n",
      "verdispersion = 0.0\n",
      "damages_first = 80.0\n",
      "damages_last = 80.0\n",
      "dmg_distances_first = 0.0\n",
      "dmg_distances_last = 115.0\n",
      "drag = 0.0025\n",
      "firemode_Automatic = 0.0\n",
      "firemode_Semi-Automatic = 0.0\n",
      "hiprecoildec = 4.5\n",
      "hiprecoilright = 1.0\n",
      "hiprecoilup = 5.0\n",
      "hordispersion = 0.0\n",
      "initialspeed = 740.0\n",
      "magsize = 10.0\n",
      "reloadempty = 5.3999\n",
      "rof = 52.0\n",
      "shotspershell = 1.0\n",
      "type_Shotgun = 0.0\n",
      "type_Pistol = 0.0\n",
      "type_Rifle = 0.0\n",
      "type_Submachine Gun = 0.0\n",
      "type_Sniper Rifle = 1.0\n",
      "verdispersion = 0.0\n",
      "{'damages_first': ['53.0', '80.0'], 'damages_last': ['21.0', '80.0'], 'dmg_distances_first': ['14.0', '0.0'], 'dmg_distances_last': ['38.11', '115.0'], 'drag': ['0.0025', '0.0025'], 'firemode_Automatic': ['0.0', '0.0'], 'firemode_Semi-Automatic': ['1.0', '0.0'], 'hiprecoildec': ['5.0', '4.5'], 'hiprecoilright': ['1.0', '1.0'], 'hiprecoilup': ['6.0', '5.0'], 'hordispersion': ['0.0', '0.0'], 'initialspeed': ['230.0', '740.0'], 'magsize': ['6.0', '10.0'], 'reloadempty': ['2.6', '5.3999'], 'rof': ['179.0', '52.0'], 'shotspershell': ['1.0', '1.0'], 'type_Shotgun': ['0.0', '0.0'], 'type_Pistol': ['1.0', '0.0'], 'type_Rifle': ['0.0', '0.0'], 'type_Submachine Gun': ['0.0', '0.0'], 'type_Sniper Rifle': ['0.0', '1.0'], 'verdispersion': ['0.0', '0.0']}\n"
     ]
    }
   ],
   "source": [
    "genDict = {}\n",
    "\n",
    "def addGeneratedWeapon(generatedWeaponTensorDict, dictToAdd):\n",
    "    for key, value in generatedWeaponTensorDict.items():\n",
    "        if key not in dictToAdd:\n",
    "            dictToAdd[key] = []\n",
    "        dictToAdd[key].append(value)\n",
    "        \n",
    "with tf.Session() as sess:\n",
    "    sess.run((var_init, table_init))\n",
    "    \n",
    "    processedInput = sess.run(inputs)\n",
    "    print(\"input size = %i\" %len(processedInput))\n",
    "    print(processedInput)\n",
    "    tensorDict = tensorToParameterDict(processedInput[len(processedInput)-1], cols_to_vars_dict)\n",
    "    addGeneratedWeapon(tensorDict, genDict)\n",
    "    for key, value in tensorDict.items():\n",
    "        print(key + \" = \" + value)\n",
    "    \n",
    "    \n",
    "print(genDict) \n",
    "    "
   ]
  },
  {
   "cell_type": "code",
   "execution_count": null,
   "metadata": {},
   "outputs": [],
   "source": []
  }
 ],
 "metadata": {
  "kernelspec": {
   "display_name": "Python 3",
   "language": "python",
   "name": "python3"
  },
  "language_info": {
   "codemirror_mode": {
    "name": "ipython",
    "version": 3
   },
   "file_extension": ".py",
   "mimetype": "text/x-python",
   "name": "python",
   "nbconvert_exporter": "python",
   "pygments_lexer": "ipython3",
   "version": "3.6.4"
  }
 },
 "nbformat": 4,
 "nbformat_minor": 2
}
