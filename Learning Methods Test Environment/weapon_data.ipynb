{
 "cells": [
  {
   "cell_type": "code",
   "execution_count": 20,
   "metadata": {},
   "outputs": [],
   "source": [
    "%config IPCompleter.greedy=True"
   ]
  },
  {
   "cell_type": "code",
   "execution_count": 21,
   "metadata": {},
   "outputs": [],
   "source": [
    "#adhere to https://github.com/tensorflow/tensorflow/blob/r0.7/tensorflow/examples/tutorials/mnist/input_data.py\n",
    "\n",
    "from __future__ import absolute_import\n",
    "from __future__ import division\n",
    "from __future__ import print_function\n",
    "\n",
    "import numpy as np\n",
    "import tensorflow as tf\n",
    "import csv\n",
    "\n",
    "data_path = \"./weapon_data.csv\""
   ]
  },
  {
   "cell_type": "code",
   "execution_count": 22,
   "metadata": {},
   "outputs": [],
   "source": [
    "def getCsvHeader(filename):\n",
    "    with open(filename, mode='r') as f:\n",
    "        reader = csv.reader(f)\n",
    "        header = next(reader)\n",
    "        return header\n",
    "    \n",
    "def getCsvAsDict(filename):\n",
    "    header = getCsvHeader(filename)\n",
    "    result = { h: [] for h in header }\n",
    "    with open(filename, mode='r') as file:\n",
    "        for row in csv.DictReader(file):\n",
    "            for h in header:\n",
    "                result[h].append(row[h])\n",
    "\n",
    "    return result"
   ]
  },
  {
   "cell_type": "code",
   "execution_count": 23,
   "metadata": {},
   "outputs": [
    {
     "name": "stdout",
     "output_type": "stream",
     "text": [
      "148\n"
     ]
    }
   ],
   "source": [
    "features = getCsvAsDict(data_path)\n",
    "print(len(features['weapshowname']))\n",
    "#print(features)"
   ]
  },
  {
   "cell_type": "code",
   "execution_count": 31,
   "metadata": {},
   "outputs": [],
   "source": [
    "def tensorToParameterDict(tensor, cols_to_vars_dict):\n",
    "    idx =  0 #keep track of the id to find the right value in the processed tensor\n",
    "    result = dict()\n",
    "    for key in cols_to_vars_dict:\n",
    "        '''\n",
    "        e.g., key = _NumericColumn(key='bdrop', shape=(1,), default_value=None, \n",
    "                    dtype=tf.float32, normalizer_fn=None)\n",
    "        then key[0] = 'bdrop'\n",
    "        '''\n",
    "        if key[0] in NUMERICAL_PARAMS:\n",
    "            result[key[0]] = str(tensor[idx])\n",
    "        \n",
    "            '''\n",
    "            e.g., key = _IndicatorColumn(categorical_column=_VocabularyListCategoricalColumn(\n",
    "                        key='firemode', vocabulary_list=('Automatic', 'Semi-Automatic', \n",
    "                        'Single-Action'), dtype=tf.string, default_value=-1, num_oov_buckets=0))\n",
    "            then key[0] = _VocabularyListCategoricalColumn(\n",
    "                        key='firemode', vocabulary_list=('Automatic', 'Semi-Automatic', \n",
    "                        'Single-Action'), dtype=tf.string, default_value=-1, num_oov_buckets=0)\n",
    "            and key[0][0] = 'firemode'\n",
    "            and key[0][0][0] = 'Automatic'\n",
    "            '''\n",
    "        elif (len(key[0]) > 0) and key[0][0] in CATEGORICAL_PARAMS:\n",
    "            for i in range(0, len(key[0][1])-1):\n",
    "                param = key[0][0] + \"_\" + key[0][1][i]\n",
    "                result[param] = str(tensor[idx])\n",
    "                idx += 1\n",
    "                \n",
    "        idx += 1\n",
    "    return result"
   ]
  },
  {
   "cell_type": "code",
   "execution_count": 37,
   "metadata": {},
   "outputs": [
    {
     "name": "stdout",
     "output_type": "stream",
     "text": [
      "Shuffled 148 input data\n"
     ]
    }
   ],
   "source": [
    "#based on https://www.tensorflow.org/get_started/feature_columns\n",
    "\n",
    "#define constants for data processing\n",
    "CATEGORICAL_PARAMS  = ['type', 'firemode'] #exclude ammo because I'm not interested in decoding its values\n",
    "NUMERICAL_PARAMS = ['rof', 'damages_first', 'damages_last', 'dmg_distances_first', 'dmg_distances_last', 'initialspeed',\n",
    "                    'drag', 'magsize', 'shotspershell', 'reloadempty', 'hordispersion', 'verdispersion', \n",
    "                    'hiprecoildec', 'hiprecoilright', 'hiprecoilup' ]\n",
    "WEAPON_TYPES = ['Shotgun', 'Pistol', 'Rifle', 'Submachine Gun', 'Sniper Rifle', 'Light Machine Gun']\n",
    "WEAPON_FIREMODES = ['Automatic', 'Semi-Automatic', 'Single-Action']\n",
    "\n",
    "#convert all numerical data to float so they can be used as 'tf.feature_column.numeric_column'\n",
    "for key, values in features.items():\n",
    "    if key in NUMERICAL_PARAMS:\n",
    "        features[key] = [float('{:.4f}'.format(float(value))) for value in values]\n",
    "\n",
    "#one hot encoding of categorical data\n",
    "type_column = tf.feature_column.categorical_column_with_vocabulary_list(key='type', vocabulary_list=WEAPON_TYPES)\n",
    "type_column = tf.feature_column.indicator_column(type_column) #could use embedding column to further reduce dimensions\n",
    "\n",
    "#one hot encoding of categorical data\n",
    "firemode_colum = tf.feature_column.categorical_column_with_vocabulary_list(key='firemode', vocabulary_list=WEAPON_FIREMODES)\n",
    "firemode_colum = tf.feature_column.indicator_column(firemode_colum) #could use embedding column to further reduce dimensions\n",
    "\n",
    "#create this bucket just because i don't wnat to define the vocabulary list with every ammo name\n",
    "ammo_column = tf.feature_column.categorical_column_with_hash_bucket(key = \"ammo\", hash_bucket_size = 31) \n",
    "#actual dimension reduction with an embedding column\n",
    "ammo_column = tf.feature_column.embedding_column(ammo_column, dimension=1)\n",
    "\n",
    "#create list with all feature columns\n",
    "columns = [tf.feature_column.numeric_column(param) for param in NUMERICAL_PARAMS]\n",
    "columns.append(type_column)\n",
    "columns.append(firemode_colum)\n",
    "columns.append(ammo_column)\n",
    "\n",
    "#print(columns)\n",
    "\n",
    "#make sure you know whats going on inside\n",
    "cols_to_vars_dict = {}\n",
    "\n",
    "#create an input layer with your feature columns and make sure you get the cols_to_vars dictionary!\n",
    "inputs = tf.feature_column.input_layer(features, columns, cols_to_vars=cols_to_vars_dict, trainable = False)\n",
    "#print(cols_to_vars_dict)\n",
    "#print(inputs)\n",
    "\n",
    "var_init = tf.global_variables_initializer()\n",
    "table_init = tf.tables_initializer() #needed for the feature columns\n",
    "\n",
    "weapon_data = [];\n",
    "\n",
    "#shuffle the whole input layer\n",
    "tf.set_random_seed(19071991)\n",
    "with tf.Session() as sess:\n",
    "    sess.run((var_init, table_init))\n",
    "    weapon_data = sess.run(tf.random_shuffle(inputs))\n",
    "    print(\"Shuffled %i\" %len(weapon_data) + \" input data\")\n"
   ]
  },
  {
   "cell_type": "code",
   "execution_count": 39,
   "metadata": {},
   "outputs": [
    {
     "name": "stdout",
     "output_type": "stream",
     "text": [
      "damages_first = ['80.0', '23.0', '12.5', '40.0', '26.5', '26.5', '100.0', '40.0', '40.0', '23.0']\n",
      "damages_last = ['80.0', '13.5', '6.25', '35.0', '23.0', '23.0', '45.0', '35.0', '35.0', '13.5']\n",
      "dmg_distances_first = ['0.0', '6.0', '14.0', '40.0', '11.0', '11.0', '10.0', '40.0', '40.0', '6.0']\n",
      "dmg_distances_last = ['165.0', '37.0', '21.0', '80.0', '35.0', '35.0', '35.0', '80.0', '80.0', '37.0']\n",
      "drag = ['0.0025', '0.0025', '0.007', '0.0025', '0.002', '0.002', '0.0025', '0.0025', '0.0025', '0.0025']\n",
      "firemode_Automatic = ['0.0', '1.0', '0.0', '0.0', '1.0', '1.0', '0.0', '0.0', '0.0', '1.0']\n",
      "firemode_Semi-Automatic = ['0.0', '0.0', '0.0', '1.0', '0.0', '0.0', '0.0', '1.0', '1.0', '0.0']\n",
      "hiprecoildec = ['4.5', '16.0', '6.0', '3.0', '6.0', '6.0', '5.0', '3.0', '5.25', '8.0']\n",
      "hiprecoilright = ['1.0', '0.4', '1.2', '0.45', '0.17', '0.12', '0.8', '0.1', '0.53', '0.32']\n",
      "hiprecoilup = ['5.0', '0.42', '11.0', '1.1', '0.26', '0.35', '7.0', '0.95', '1.1', '0.336']\n",
      "hordispersion = ['0.0', '0.0', '2.7', '0.0', '0.0', '0.0', '0.0', '0.0', '0.0', '0.0']\n",
      "initialspeed = ['880.0', '380.0', '333.0', '800.0', '820.0', '820.0', '390.0', '800.0', '800.0', '380.0']\n",
      "magsize = ['5.0', '25.0', '2.0', '10.0', '250.0', '30.0', '5.0', '5.0', '26.0', '25.0']\n",
      "reloadempty = ['3.4667', '2.8', '5.3333', '3.8334', '8.3333', '3.9', '4.8', '3.0667', '3.47', '2.8']\n",
      "rof = ['50.0', '900.0', '299.0', '257.0', '450.0', '450.0', '38.0', '299.0', '224.0', '900.0']\n",
      "shotspershell = ['1.0', '1.0', '12.0', '1.0', '1.0', '1.0', '1.0', '1.0', '1.0', '1.0']\n",
      "type_Shotgun = ['0.0', '0.0', '1.0', '0.0', '0.0', '0.0', '0.0', '0.0', '0.0', '0.0']\n",
      "type_Pistol = ['0.0', '0.0', '0.0', '0.0', '0.0', '0.0', '1.0', '0.0', '0.0', '0.0']\n",
      "type_Rifle = ['0.0', '0.0', '0.0', '1.0', '0.0', '0.0', '0.0', '1.0', '1.0', '0.0']\n",
      "type_Submachine Gun = ['0.0', '1.0', '0.0', '0.0', '0.0', '0.0', '0.0', '0.0', '0.0', '1.0']\n",
      "type_Sniper Rifle = ['1.0', '0.0', '0.0', '0.0', '0.0', '0.0', '0.0', '0.0', '0.0', '0.0']\n",
      "verdispersion = ['0.0', '0.0', '2.7', '0.0', '0.0', '0.0', '0.0', '0.0', '0.0', '0.0']\n"
     ]
    }
   ],
   "source": [
    "genDict = {}\n",
    "\n",
    "def addGeneratedWeapon(generatedWeaponTensorDict, dictToAdd):\n",
    "    for key, value in generatedWeaponTensorDict.items():\n",
    "        if key not in dictToAdd:\n",
    "            dictToAdd[key] = []\n",
    "        dictToAdd[key].append(value)\n",
    "        \n",
    "def debug_printDict(dictionary):\n",
    "    for key, value in dictionary.items():\n",
    "        print(key, \"=\", value)\n",
    "\n",
    "var_init = tf.global_variables_initializer()\n",
    "\n",
    "with tf.Session() as sess:\n",
    "    sess.run(var_init)\n",
    "    \n",
    "    batch = weapon_data[0:10]\n",
    "    #print(batch)\n",
    "    \n",
    "    \n",
    "    tensorDict = [tensorToParameterDict(b, cols_to_vars_dict) for b in batch]\n",
    "    [addGeneratedWeapon(t, genDict) for t in tensorDict]\n",
    "    #debug_printDict(tensorDict[0])\n",
    "    \n",
    "    \n",
    "debug_printDict(genDict)\n"
   ]
  }
 ],
 "metadata": {
  "kernelspec": {
   "display_name": "Python 3",
   "language": "python",
   "name": "python3"
  },
  "language_info": {
   "codemirror_mode": {
    "name": "ipython",
    "version": 3
   },
   "file_extension": ".py",
   "mimetype": "text/x-python",
   "name": "python",
   "nbconvert_exporter": "python",
   "pygments_lexer": "ipython3",
   "version": "3.6.4"
  }
 },
 "nbformat": 4,
 "nbformat_minor": 2
}
