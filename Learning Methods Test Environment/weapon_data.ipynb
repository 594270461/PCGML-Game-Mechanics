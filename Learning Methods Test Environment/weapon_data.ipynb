{
 "cells": [
  {
   "cell_type": "code",
   "execution_count": 1,
   "metadata": {},
   "outputs": [],
   "source": [
    "%config IPCompleter.greedy=True"
   ]
  },
  {
   "cell_type": "code",
   "execution_count": 21,
   "metadata": {},
   "outputs": [],
   "source": [
    "from __future__ import absolute_import\n",
    "from __future__ import division\n",
    "from __future__ import print_function\n",
    "\n",
    "import numpy as np\n",
    "import tensorflow as tf\n",
    "import csv\n",
    "\n",
    "data_path = \"./weapon_data.csv\""
   ]
  },
  {
   "cell_type": "code",
   "execution_count": 22,
   "metadata": {},
   "outputs": [],
   "source": [
    "def getCsvHeader(filename):\n",
    "    with open(filename, mode='r') as f:\n",
    "        reader = csv.reader(f)\n",
    "        header = next(reader)\n",
    "        return header\n",
    "    \n",
    "def getCsvAsDict(filename):\n",
    "    with open(filename, mode='r') as infile:\n",
    "        dictReader = csv.DictReader(infile)\n",
    "        header = getCsvHeader(filename)\n",
    "\n",
    "        final_dict = { col_name: [] for col_name in header }\n",
    "        x = 0\n",
    "\n",
    "        for row in dictReader:\n",
    "            ##int(row)\n",
    "            for col_name in header:\n",
    "                final_dict[col_name].append(row[col_name])\n",
    "\n",
    "        return final_dict"
   ]
  },
  {
   "cell_type": "code",
   "execution_count": 23,
   "metadata": {},
   "outputs": [],
   "source": [
    "features = getCsvAsDict(data_path)\n",
    "#print(features)"
   ]
  },
  {
   "cell_type": "code",
   "execution_count": 24,
   "metadata": {},
   "outputs": [],
   "source": [
    "def tensorToParameterDict(tensor, cols_to_vars_dict):\n",
    "    idx =  0 #keep track of the id to find the right value in the tensor\n",
    "    result = dict()\n",
    "    for key in cols_to_vars_dict:\n",
    "        '''\n",
    "        e.g., key = _NumericColumn(key='bdrop', shape=(1,), default_value=None, \n",
    "                    dtype=tf.float32, normalizer_fn=None)\n",
    "        then key[0] = 'bdrop'\n",
    "        '''\n",
    "        if key[0] in NUMERICAL_PARAMS:\n",
    "            result[key[0]] = str(tensor[idx])\n",
    "        \n",
    "            '''\n",
    "            e.g., key = _IndicatorColumn(categorical_column=_VocabularyListCategoricalColumn(\n",
    "                        key='firemode', vocabulary_list=('Automatic', 'Semi-Automatic', \n",
    "                        'Single-Action'), dtype=tf.string, default_value=-1, num_oov_buckets=0))\n",
    "            then key[0] = _VocabularyListCategoricalColumn(\n",
    "                        key='firemode', vocabulary_list=('Automatic', 'Semi-Automatic', \n",
    "                        'Single-Action'), dtype=tf.string, default_value=-1, num_oov_buckets=0)\n",
    "            and key[0][0] = 'firemode'\n",
    "            and key[0][0][0] = 'Automatic'\n",
    "            '''\n",
    "        elif (len(key[0]) > 0) and key[0][0] in CATEGORICAL_PARAMS:\n",
    "            for i in range(0, len(key[0][1])-1):\n",
    "                param = key[0][0] + \"_\" + key[0][1][i]\n",
    "                result[param] = str(tensor[idx])\n",
    "                idx += 1\n",
    "                \n",
    "        idx += 1\n",
    "    return result"
   ]
  },
  {
   "cell_type": "code",
   "execution_count": 33,
   "metadata": {},
   "outputs": [
    {
     "name": "stdout",
     "output_type": "stream",
     "text": [
      "[[ 7.7   3.85 12.   ...  0.    0.    1.2 ]\n",
      " [ 7.7   3.85 14.   ...  0.    0.    1.8 ]\n",
      " [ 7.7   3.85 14.   ...  0.    0.    1.2 ]\n",
      " ...\n",
      " [90.   70.    0.   ...  1.    0.    0.  ]\n",
      " [90.   70.    0.   ...  1.    0.    0.  ]\n",
      " [23.   13.5   6.   ...  0.    0.    0.  ]]\n",
      "[[26.5 13.5  6.  ...  0.   0.   0. ]\n",
      " [40.  35.  40.  ...  0.   0.   0. ]\n",
      " [28.  21.  11.  ...  0.   1.   0. ]\n",
      " ...\n",
      " [26.5 23.  11.  ...  0.   0.   0. ]\n",
      " [28.  21.  11.  ...  0.   1.   0. ]\n",
      " [26.5 20.  11.  ...  0.   1.   0. ]]\n"
     ]
    }
   ],
   "source": [
    "CATEGORICAL_PARAMS  = ['type', 'firemode', 'ammo']\n",
    "NUMERICAL_PARAMS = ['rof', 'damages_first', 'damages_last', 'dmg_distances_first', 'dmg_distances_last', 'initialspeed',\n",
    "                    'drag', 'magsize', 'shotspershell', 'reloadempty', 'hordispersion', 'verdispersion', \n",
    "                    'hiprecoildec', 'hiprecoilright', 'hiprecoilup' ]\n",
    "\n",
    "for key, values in features.items():\n",
    "    if key in NUMERICAL_PARAMS:\n",
    "        features[key] = [float('{:.4f}'.format(float(value))) for value in values]\n",
    "\n",
    "type_column = tf.feature_column.categorical_column_with_vocabulary_list(\n",
    "    'type', ['Shotgun', 'Pistol', 'Rifle', 'Submachine Gun', 'Sniper Rifle', 'Light Machine Gun'])\n",
    "type_column = tf.feature_column.indicator_column(type_column)\n",
    "\n",
    "firemode_colum = tf.feature_column.categorical_column_with_vocabulary_list(\n",
    "    'firemode', ['Automatic', 'Semi-Automatic', 'Single-Action'])\n",
    "firemode_colum = tf.feature_column.indicator_column(firemode_colum)\n",
    "\n",
    "columns = [tf.feature_column.numeric_column(param) for param in NUMERICAL_PARAMS]\n",
    "columns.append(type_column)\n",
    "columns.append(firemode_colum)\n",
    "\n",
    "cols_to_vars_dict = {}\n",
    "inputs = tf.feature_column.input_layer(features, columns, cols_to_vars=cols_to_vars_dict)\n",
    "\n",
    "\n",
    "#print(cols_to_vars_dict)\n",
    "#print(inputs)\n",
    "\n",
    "var_init = tf.global_variables_initializer()\n",
    "table_init = tf.tables_initializer()\n",
    "\n",
    "with tf.Session() as sess:\n",
    "    sess.run((var_init, table_init))\n",
    "    print(sess.run(inputs))\n",
    "    \n",
    "tf.set_random_seed(1234)\n",
    "inputs = tf.random_shuffle(inputs)\n",
    "\n",
    "with tf.Session() as sess:\n",
    "    sess.run((var_init, table_init))\n",
    "    print(sess.run(inputs))"
   ]
  },
  {
   "cell_type": "code",
   "execution_count": 34,
   "metadata": {},
   "outputs": [
    {
     "name": "stdout",
     "output_type": "stream",
     "text": [
      "input size = 148\n",
      "[[26.5 13.5  6.  ...  0.   0.   0. ]\n",
      " [40.  35.  40.  ...  0.   0.   0. ]\n",
      " [28.  21.  11.  ...  0.   1.   0. ]\n",
      " ...\n",
      " [26.5 23.  11.  ...  0.   0.   0. ]\n",
      " [28.  21.  11.  ...  0.   1.   0. ]\n",
      " [26.5 20.  11.  ...  0.   1.   0. ]]\n",
      "damages_first = 26.5\n",
      "damages_last = 20.0\n",
      "dmg_distances_first = 11.0\n",
      "dmg_distances_last = 50.0\n",
      "drag = 0.0025\n",
      "firemode_Automatic = 1.0\n",
      "firemode_Semi-Automatic = 0.0\n",
      "hiprecoildec = 6.0\n",
      "hiprecoilright = 0.1232\n",
      "hiprecoilup = 0.28\n",
      "hipstandmovemax = 4.25\n",
      "hipstandmovespreaddec = 9.0\n",
      "hipstandmovespreadinc = -0.18\n",
      "hordispersion = 0.0\n",
      "initialspeed = 740.0\n",
      "magsize = 26.0\n",
      "reloadempty = 4.25\n",
      "rof = 475.0\n",
      "shotspershell = 1.0\n",
      "type_Shotgun = 0.0\n",
      "type_Pistol = 0.0\n",
      "type_Rifle = 0.0\n",
      "type_Submachine Gun = 0.0\n",
      "type_Sniper Rifle = 0.0\n",
      "verdispersion = 0.0\n"
     ]
    }
   ],
   "source": [
    "with tf.Session() as sess:\n",
    "    sess.run((var_init, table_init))\n",
    "    \n",
    "    processedInput = sess.run(inputs)\n",
    "    print(\"input size = %i\" %len(processedInput))\n",
    "    print(processedInput)\n",
    "    tensorDict = tensorToParameterDict(processedInput[len(processedInput)-1], cols_to_vars_dict)\n",
    "    for key, value in tensorDict.items():\n",
    "        print(key + \" = \" + value)"
   ]
  },
  {
   "cell_type": "code",
   "execution_count": null,
   "metadata": {},
   "outputs": [],
   "source": []
  }
 ],
 "metadata": {
  "kernelspec": {
   "display_name": "Python 3",
   "language": "python",
   "name": "python3"
  },
  "language_info": {
   "codemirror_mode": {
    "name": "ipython",
    "version": 3
   },
   "file_extension": ".py",
   "mimetype": "text/x-python",
   "name": "python",
   "nbconvert_exporter": "python",
   "pygments_lexer": "ipython3",
   "version": "3.6.4"
  }
 },
 "nbformat": 4,
 "nbformat_minor": 2
}
