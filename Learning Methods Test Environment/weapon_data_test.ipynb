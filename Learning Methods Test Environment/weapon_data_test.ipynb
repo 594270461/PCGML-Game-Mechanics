{
 "cells": [
  {
   "cell_type": "code",
   "execution_count": 4,
   "metadata": {},
   "outputs": [],
   "source": [
    "import weapon_data as weapons"
   ]
  },
  {
   "cell_type": "code",
   "execution_count": 15,
   "metadata": {},
   "outputs": [
    {
     "name": "stdout",
     "output_type": "stream",
     "text": [
      "Using 2 categorical data:\n",
      "\ttype\n",
      "\tfiremode\n",
      "Using 15 numerical data:\n",
      "\tdamages_first\n",
      "\tdamages_last\n",
      "\tdmg_distances_last\n",
      "\trof\n",
      "\tmagsize\n",
      "\treloadempty\n",
      "\tshotspershell\n",
      "\thiprecoilright\n",
      "\thiprecoilup\n",
      "\tdmg_distances_first\n",
      "\tinitialspeed\n",
      "\thiprecoildec\n",
      "\tdrag\n",
      "\thordispersion\n",
      "\tverdispersion\n",
      "That will sum up to 24 parameters!\n"
     ]
    }
   ],
   "source": [
    "train_data, test_data = weapons.get_data(2, #num_of_categorical_param\n",
    "                                         15, #num_of_numerical_param\n",
    "                                         1, #ammo_feature_column_dimension\n",
    "                                         debug=True) "
   ]
  },
  {
   "cell_type": "code",
   "execution_count": 16,
   "metadata": {},
   "outputs": [
    {
     "name": "stdout",
     "output_type": "stream",
     "text": [
      "Training data size 127 \n",
      "Test data size 21 \n",
      "Sum of data 148\n"
     ]
    }
   ],
   "source": [
    "print(\"Training data size %i \"%train_data.num_examples)\n",
    "print(\"Test data size %i \"%test_data.num_examples)\n",
    "print(\"Sum of data %i\"%(train_data.num_examples+test_data.num_examples))"
   ]
  },
  {
   "cell_type": "code",
   "execution_count": 21,
   "metadata": {},
   "outputs": [],
   "source": [
    "import tensorflow as tf\n",
    "\n",
    "def addGeneratedWeapon(generatedWeaponTensorDict, dictToAdd):\n",
    "    for key, value in generatedWeaponTensorDict.items():\n",
    "        if key not in dictToAdd:\n",
    "            dictToAdd[key] = []\n",
    "        dictToAdd[key].append(value)\n",
    "\n",
    "def check_data(data):\n",
    "    genDict = {}\n",
    "\n",
    "    #print to see if normalized\n",
    "    print(data.data[0])\n",
    "    \n",
    "    #check if unnormalizing and adding works\n",
    "    var_init = tf.global_variables_initializer()\n",
    "\n",
    "    batch_size = 2\n",
    "    with tf.Session() as sess:\n",
    "        sess.run(var_init)\n",
    "\n",
    "        for i in range(0,1):\n",
    "            batch = data.next_batch(batch_size, shuffle=True)\n",
    "            #print(\"Batch size %i\" %len(batch))\n",
    "            data.add_new_weapon(batch[0])\n",
    "\n",
    "            \n",
    "        tensorDict = [data.decode_processed_tensor(b) for b in batch]\n",
    "        [addGeneratedWeapon(t, genDict) for t in tensorDict]\n",
    "        #debug_printDict(tensorDict[0])\n",
    "\n",
    "\n",
    "    weapons.debug_printDict(genDict)\n"
   ]
  },
  {
   "cell_type": "code",
   "execution_count": 22,
   "metadata": {},
   "outputs": [
    {
     "name": "stdout",
     "output_type": "stream",
     "text": [
      "[-1.28861958 -1.07189324 -0.09150088 -1.01140354  3.58557301 -0.72809373\n",
      " -0.77948376  1.62128697 -0.86343017  1.03262864  2.98518034  3.3970178\n",
      " -1.18651422 -0.49092445  0.04270027 -1.0717193   3.61915126  3.09569594\n",
      " -0.5073714  -0.54398379 -0.36596253 -0.54398379 -0.3796632   3.89160102]\n",
      "damages_first = ['90.0', '26.5']\n",
      "damages_last = ['79.0', '20.0']\n",
      "dmg_distances_first = ['20.0', '11.0']\n",
      "dmg_distances_last = ['125.0', '50.0']\n",
      "drag = ['0.0024999999441206455', '0.0024999999441206455']\n",
      "firemode_Automatic = ['0.0', '1.0']\n",
      "firemode_Semi-Automatic = ['0.0', '0.0']\n",
      "hiprecoildec = ['3.0', '10.001999855041504']\n",
      "hiprecoilright = ['1.0', '0.14000000059604645']\n",
      "hiprecoilup = ['5.0', '0.2800000011920929']\n",
      "hordispersion = ['0.0', '0.0']\n",
      "initialspeed = ['620.0', '740.0']\n",
      "magsize = ['5.0', '26.0']\n",
      "reloadempty = ['3.0', '4.25']\n",
      "rof = ['65.99999999999997', '475.0']\n",
      "shotspershell = ['1.0', '1.0']\n",
      "type_Shotgun = ['0.0', '0.0']\n",
      "type_Pistol = ['0.0', '0.0']\n",
      "type_Rifle = ['0.0', '0.0']\n",
      "type_Submachine Gun = ['0.0', '0.0']\n",
      "type_Sniper Rifle = ['1.0', '0.0']\n",
      "verdispersion = ['-1.3877787807814457e-17', '-1.3877787807814457e-17']\n",
      "[-0.51827452 -0.3254131  -0.318201   -0.0976977  -0.26352316  0.95346259\n",
      " -0.63245553 -0.48507125  2.20872539 -1.14166007 -0.70411138 -0.31750032\n",
      "  0.36041689  1.10282999  2.38607239  0.40094614 -0.32444284 -0.32444284\n",
      " -0.48507125 -0.55901699 -0.32444284 -0.40824829  1.78885438 -0.31750032]\n",
      "damages_first = ['12.5', '10.0']\n",
      "damages_last = ['6.25', '5.0']\n",
      "dmg_distances_first = ['14.0', '14.0']\n",
      "dmg_distances_last = ['21.0', '21.0']\n",
      "drag = ['0.007000000216066837', '0.007000000216066837']\n",
      "firemode_Automatic = ['0.0', '1.0']\n",
      "firemode_Semi-Automatic = ['0.0', '0.0']\n",
      "hiprecoildec = ['6.0', '3.0']\n",
      "hiprecoilright = ['1.2000000476837158', '1.5']\n",
      "hiprecoilup = ['11.0', '9.0']\n",
      "hordispersion = ['2.700000047683716', '1.7999999523162842']\n",
      "initialspeed = ['333.0', '333.0']\n",
      "magsize = ['2.0', '5.0']\n",
      "reloadempty = ['5.333333492279053', '3.369999885559082']\n",
      "rof = ['299.0', '138.0']\n",
      "shotspershell = ['12.0', '12.0']\n",
      "type_Shotgun = ['1.0', '1.0']\n",
      "type_Pistol = ['0.0', '0.0']\n",
      "type_Rifle = ['-2.7755575615628914e-17', '-2.7755575615628914e-17']\n",
      "type_Submachine Gun = ['0.0', '0.0']\n",
      "type_Sniper Rifle = ['0.0', '0.0']\n",
      "verdispersion = ['2.700000047683716', '1.7999999523162842']\n"
     ]
    }
   ],
   "source": [
    "check_data(train_data)\n",
    "check_data(test_data)"
   ]
  },
  {
   "cell_type": "code",
   "execution_count": null,
   "metadata": {},
   "outputs": [],
   "source": []
  }
 ],
 "metadata": {
  "kernelspec": {
   "display_name": "Python 3",
   "language": "python",
   "name": "python3"
  },
  "language_info": {
   "codemirror_mode": {
    "name": "ipython",
    "version": 3
   },
   "file_extension": ".py",
   "mimetype": "text/x-python",
   "name": "python",
   "nbconvert_exporter": "python",
   "pygments_lexer": "ipython3",
   "version": "3.6.4"
  }
 },
 "nbformat": 4,
 "nbformat_minor": 2
}
