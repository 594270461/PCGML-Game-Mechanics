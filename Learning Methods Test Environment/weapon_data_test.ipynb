{
 "cells": [
  {
   "cell_type": "code",
   "execution_count": 1,
   "metadata": {},
   "outputs": [
    {
     "name": "stderr",
     "output_type": "stream",
     "text": [
      "D:\\z_outsourced_programs\\Anaconda3\\lib\\site-packages\\h5py\\__init__.py:36: FutureWarning: Conversion of the second argument of issubdtype from `float` to `np.floating` is deprecated. In future, it will be treated as `np.float64 == np.dtype(float).type`.\n",
      "  from ._conv import register_converters as _register_converters\n"
     ]
    }
   ],
   "source": [
    "import weapon_data as weapons"
   ]
  },
  {
   "cell_type": "code",
   "execution_count": 2,
   "metadata": {},
   "outputs": [],
   "source": [
    "data = weapons.get_data(2, #num_of_categorical_param\n",
    "                        9, #num_of_numerical_param\n",
    "                        1) #ammo_feature_column_dimension"
   ]
  },
  {
   "cell_type": "code",
   "execution_count": 3,
   "metadata": {},
   "outputs": [
    {
     "data": {
      "text/plain": [
       "148"
      ]
     },
     "execution_count": 3,
     "metadata": {},
     "output_type": "execute_result"
    }
   ],
   "source": [
    "data.num_examples"
   ]
  },
  {
   "cell_type": "code",
   "execution_count": 4,
   "metadata": {},
   "outputs": [
    {
     "name": "stdout",
     "output_type": "stream",
     "text": [
      "[-1.46276659 -1.16010297 -1.04165615 -0.76902396  1.31937134 -0.59816232\n",
      " -0.28103282  0.6278052  -0.50750033  0.20288523 -0.31220894  3.52767706\n",
      "  3.09377255 -0.50421948 -0.54611868 -0.36023741 -0.52522573 -0.40663784]\n",
      "damages_first = 7.699999809265137\n",
      "damages_last = 3.8499999046325684\n",
      "dmg_distances_last = 18.999999999999993\n",
      "firemode_Automatic = 0.0\n",
      "firemode_Semi-Automatic = 1.0\n",
      "hiprecoilright = 0.47999998927116394\n",
      "hiprecoilup = 4.400000095367432\n",
      "magsize = 5.0\n",
      "reloadempty = 4.150000095367432\n",
      "rof = 257.0\n",
      "shotspershell = 12.0\n",
      "type_Shotgun = 1.0\n",
      "type_Pistol = 2.7755575615628914e-17\n",
      "type_Rifle = 2.7755575615628914e-17\n",
      "type_Submachine Gun = 0.0\n",
      "type_Sniper Rifle = 0.0\n"
     ]
    }
   ],
   "source": [
    "\n",
    "print(data.data[0])\n",
    "weapons.debug_printDict(data.decode_processed_tensor(data.data[0]))\n"
   ]
  },
  {
   "cell_type": "code",
   "execution_count": 5,
   "metadata": {},
   "outputs": [
    {
     "name": "stdout",
     "output_type": "stream",
     "text": [
      "damages_first = ['26.5']\n",
      "damages_last = ['20.0']\n",
      "dmg_distances_last = ['50.0']\n",
      "firemode_Automatic = ['1.0']\n",
      "firemode_Semi-Automatic = ['0.0']\n",
      "hiprecoilright = ['0.15000000596046448']\n",
      "hiprecoilup = ['0.20000000298023224']\n",
      "magsize = ['120.0']\n",
      "reloadempty = ['8.75979995727539']\n",
      "rof = ['450.0']\n",
      "shotspershell = ['1.0']\n",
      "type_Shotgun = ['-1.3877787807814457e-17']\n",
      "type_Pistol = ['2.7755575615628914e-17']\n",
      "type_Rifle = ['2.7755575615628914e-17']\n",
      "type_Submachine Gun = ['0.0']\n",
      "type_Sniper Rifle = ['0.0']\n"
     ]
    }
   ],
   "source": [
    "import tensorflow as tf\n",
    "\n",
    "genDict = {}\n",
    "\n",
    "def addGeneratedWeapon(generatedWeaponTensorDict, dictToAdd):\n",
    "    for key, value in generatedWeaponTensorDict.items():\n",
    "        if key not in dictToAdd:\n",
    "            dictToAdd[key] = []\n",
    "        dictToAdd[key].append(value)\n",
    "\n",
    "\n",
    "var_init = tf.global_variables_initializer()\n",
    "\n",
    "batch_size = 1\n",
    "with tf.Session() as sess:\n",
    "    sess.run(var_init)\n",
    "    \n",
    "    for i in range(0,1):\n",
    "        batch = data.next_batch(batch_size, shuffle=True)\n",
    "        #print(\"Batch size %i\" %len(batch))\n",
    "        data.add_new_weapon(batch[0])\n",
    "    \n",
    "    tensorDict = [data.decode_processed_tensor(b) for b in batch]\n",
    "    [addGeneratedWeapon(t, genDict) for t in tensorDict]\n",
    "    #debug_printDict(tensorDict[0])\n",
    "    \n",
    "    \n",
    "weapons.debug_printDict(genDict)\n"
   ]
  },
  {
   "cell_type": "code",
   "execution_count": null,
   "metadata": {},
   "outputs": [],
   "source": []
  }
 ],
 "metadata": {
  "kernelspec": {
   "display_name": "Python 3",
   "language": "python",
   "name": "python3"
  },
  "language_info": {
   "codemirror_mode": {
    "name": "ipython",
    "version": 3
   },
   "file_extension": ".py",
   "mimetype": "text/x-python",
   "name": "python",
   "nbconvert_exporter": "python",
   "pygments_lexer": "ipython3",
   "version": "3.6.4"
  }
 },
 "nbformat": 4,
 "nbformat_minor": 2
}
