{
 "cells": [
  {
   "cell_type": "code",
   "execution_count": 1,
   "metadata": {},
   "outputs": [
    {
     "name": "stderr",
     "output_type": "stream",
     "text": [
      "D:\\z_outsourced_programs\\Anaconda3\\lib\\site-packages\\h5py\\__init__.py:36: FutureWarning: Conversion of the second argument of issubdtype from `float` to `np.floating` is deprecated. In future, it will be treated as `np.float64 == np.dtype(float).type`.\n",
      "  from ._conv import register_converters as _register_converters\n"
     ]
    }
   ],
   "source": [
    "import weapon_data as weapons"
   ]
  },
  {
   "cell_type": "code",
   "execution_count": 2,
   "metadata": {},
   "outputs": [
    {
     "name": "stdout",
     "output_type": "stream",
     "text": [
      "Feature columns to tensor variables dictionary:\n",
      "_NumericColumn(key='damages_first', shape=(1,), default_value=None, dtype=tf.float32, normalizer_fn=None) = []\n",
      "_NumericColumn(key='damages_last', shape=(1,), default_value=None, dtype=tf.float32, normalizer_fn=None) = []\n",
      "_NumericColumn(key='dmg_distances_first', shape=(1,), default_value=None, dtype=tf.float32, normalizer_fn=None) = []\n",
      "_NumericColumn(key='dmg_distances_last', shape=(1,), default_value=None, dtype=tf.float32, normalizer_fn=None) = []\n",
      "_NumericColumn(key='drag', shape=(1,), default_value=None, dtype=tf.float32, normalizer_fn=None) = []\n",
      "_IndicatorColumn(categorical_column=_VocabularyListCategoricalColumn(key='firemode', vocabulary_list=('Automatic', 'Semi-Automatic', 'Single-Action'), dtype=tf.string, default_value=-1, num_oov_buckets=0)) = []\n",
      "_NumericColumn(key='hiprecoildec', shape=(1,), default_value=None, dtype=tf.float32, normalizer_fn=None) = []\n",
      "_NumericColumn(key='hiprecoilright', shape=(1,), default_value=None, dtype=tf.float32, normalizer_fn=None) = []\n",
      "_NumericColumn(key='hiprecoilup', shape=(1,), default_value=None, dtype=tf.float32, normalizer_fn=None) = []\n",
      "_NumericColumn(key='hordispersion', shape=(1,), default_value=None, dtype=tf.float32, normalizer_fn=None) = []\n",
      "_NumericColumn(key='initialspeed', shape=(1,), default_value=None, dtype=tf.float32, normalizer_fn=None) = []\n",
      "_NumericColumn(key='magsize', shape=(1,), default_value=None, dtype=tf.float32, normalizer_fn=None) = []\n",
      "_NumericColumn(key='reloadempty', shape=(1,), default_value=None, dtype=tf.float32, normalizer_fn=None) = []\n",
      "_NumericColumn(key='rof', shape=(1,), default_value=None, dtype=tf.float32, normalizer_fn=None) = []\n",
      "_NumericColumn(key='shotspershell', shape=(1,), default_value=None, dtype=tf.float32, normalizer_fn=None) = []\n",
      "_IndicatorColumn(categorical_column=_VocabularyListCategoricalColumn(key='type', vocabulary_list=('Shotgun', 'Pistol', 'Rifle', 'Submachine Gun', 'Sniper Rifle', 'Light Machine Gun'), dtype=tf.string, default_value=-1, num_oov_buckets=0)) = []\n",
      "_NumericColumn(key='verdispersion', shape=(1,), default_value=None, dtype=tf.float32, normalizer_fn=None) = []\n",
      "\n",
      "Generated input with feature columns:\n",
      "Tensor(\"input_layer/concat:0\", shape=(148, 24), dtype=float32)\n",
      "\n",
      "Found 24 features with 148 values in data source ./weapon_data.csv! \n",
      "\n"
     ]
    }
   ],
   "source": [
    "data = weapons.DataSet(seed=19071991, show_debug=True) "
   ]
  },
  {
   "cell_type": "code",
   "execution_count": 3,
   "metadata": {},
   "outputs": [
    {
     "data": {
      "text/plain": [
       "148"
      ]
     },
     "execution_count": 3,
     "metadata": {},
     "output_type": "execute_result"
    }
   ],
   "source": [
    "data.num_examples"
   ]
  },
  {
   "cell_type": "code",
   "execution_count": 4,
   "metadata": {},
   "outputs": [
    {
     "name": "stdout",
     "output_type": "stream",
     "text": [
      "[-1.46276659 -1.16010297 -0.23434236 -1.04165615  3.49562516 -0.76902396\n",
      "  1.31937134 -0.59816232 -0.35611695 -0.28103282  0.6278052   2.02240975\n",
      " -1.20156256 -0.50750033  0.20288523 -0.31220894  3.52767706  3.09377255\n",
      " -0.50421948 -0.54611868 -0.36023741 -0.52522573 -0.40663784  2.25064891]\n",
      "damages_first = 7.699999809265137\n",
      "damages_last = 3.8499999046325684\n",
      "dmg_distances_first = 12.0\n",
      "dmg_distances_last = 18.999999999999993\n",
      "drag = 0.007000000216066837\n",
      "firemode_Automatic = 0.0\n",
      "firemode_Semi-Automatic = 1.0\n",
      "hiprecoildec = 4.5\n",
      "hiprecoilright = 0.47999998927116394\n",
      "hiprecoilup = 4.400000095367432\n",
      "hordispersion = 1.2000060081481934\n",
      "initialspeed = 333.0\n",
      "magsize = 5.0\n",
      "reloadempty = 4.150000095367432\n",
      "rof = 257.0\n",
      "shotspershell = 12.0\n",
      "type_Shotgun = 1.0\n",
      "type_Pistol = 2.7755575615628914e-17\n",
      "type_Rifle = 2.7755575615628914e-17\n",
      "type_Submachine Gun = 0.0\n",
      "type_Sniper Rifle = 0.0\n",
      "verdispersion = 1.2000060081481934\n"
     ]
    }
   ],
   "source": [
    "\n",
    "print(data.data[0])\n",
    "weapons.debug_printDict(data.decode_processed_tensor(data.data[0]))\n"
   ]
  },
  {
   "cell_type": "code",
   "execution_count": 5,
   "metadata": {},
   "outputs": [
    {
     "name": "stdout",
     "output_type": "stream",
     "text": [
      "Current position in dataset after next_batch = 1\n",
      "Added new weapon/s! New number of examples in dataset = 149\n",
      "damages_first = ['26.5']\n",
      "damages_last = ['20.0']\n",
      "dmg_distances_first = ['11.0']\n",
      "dmg_distances_last = ['50.0']\n",
      "drag = ['0.0024999999441206455']\n",
      "firemode_Automatic = ['1.0']\n",
      "firemode_Semi-Automatic = ['0.0']\n",
      "hiprecoildec = ['6.0']\n",
      "hiprecoilright = ['0.15000000596046448']\n",
      "hiprecoilup = ['0.20000000298023224']\n",
      "hordispersion = ['0.0']\n",
      "initialspeed = ['700.0']\n",
      "magsize = ['120.0']\n",
      "reloadempty = ['8.75979995727539']\n",
      "rof = ['450.0']\n",
      "shotspershell = ['1.0']\n",
      "type_Shotgun = ['-1.3877787807814457e-17']\n",
      "type_Pistol = ['2.7755575615628914e-17']\n",
      "type_Rifle = ['2.7755575615628914e-17']\n",
      "type_Submachine Gun = ['0.0']\n",
      "type_Sniper Rifle = ['0.0']\n",
      "verdispersion = ['0.0']\n"
     ]
    }
   ],
   "source": [
    "import tensorflow as tf\n",
    "\n",
    "genDict = {}\n",
    "\n",
    "def addGeneratedWeapon(generatedWeaponTensorDict, dictToAdd):\n",
    "    for key, value in generatedWeaponTensorDict.items():\n",
    "        if key not in dictToAdd:\n",
    "            dictToAdd[key] = []\n",
    "        dictToAdd[key].append(value)\n",
    "\n",
    "\n",
    "var_init = tf.global_variables_initializer()\n",
    "\n",
    "batch_size = 1\n",
    "with tf.Session() as sess:\n",
    "    sess.run(var_init)\n",
    "    \n",
    "    for i in range(0,1):\n",
    "        batch = data.next_batch(batch_size, shuffle=True)\n",
    "        #print(\"Batch size %i\" %len(batch))\n",
    "        data.add_new_weapon(batch[0])\n",
    "    \n",
    "    tensorDict = [data.decode_processed_tensor(b) for b in batch]\n",
    "    [addGeneratedWeapon(t, genDict) for t in tensorDict]\n",
    "    #debug_printDict(tensorDict[0])\n",
    "    \n",
    "    \n",
    "weapons.debug_printDict(genDict)\n"
   ]
  },
  {
   "cell_type": "code",
   "execution_count": 7,
   "metadata": {},
   "outputs": [
    {
     "name": "stdout",
     "output_type": "stream",
     "text": [
      "[-0.70326645 -0.48674743 -0.30162464 -0.29826301 -0.22336265  1.3003496\n",
      " -0.75793673 -0.59816232  0.19378264 -1.11913753 -0.86609068 -0.28002455\n",
      "  0.55030494  2.19514536  3.58362519  0.55859823 -0.28577464 -0.32322997\n",
      " -0.50421948 -0.54611868 -0.36023741 -0.52522573  2.45919073 -0.2672411 ]\n",
      "[-0.69974214 -0.48472607 -0.30051904 -0.29717174 -0.22257459  1.28868704\n",
      " -0.75393703 -0.5954372   0.19310693 -1.11071723 -0.86101486 -0.27900988\n",
      "  0.54789867  2.15322605  3.4269465   0.55613856 -0.28473602 -0.32203059\n",
      " -0.50209645 -0.54373907 -0.35887028 -0.52297636  2.40265005 -0.266279  ]\n",
      "damages_first = 26.5\n",
      "damages_last = 20.0\n",
      "dmg_distances_first = 11.0\n",
      "dmg_distances_last = 50.0\n",
      "drag = 0.0024999999441206455\n",
      "firemode_Automatic = 1.0\n",
      "firemode_Semi-Automatic = 0.0\n",
      "hiprecoildec = 6.0\n",
      "hiprecoilright = 0.15000000596046448\n",
      "hiprecoilup = 0.20000000298023224\n",
      "hordispersion = 0.0\n",
      "initialspeed = 700.0\n",
      "magsize = 120.0\n",
      "reloadempty = 8.75979995727539\n",
      "rof = 450.0\n",
      "shotspershell = 1.0\n",
      "type_Shotgun = -1.3877787807814457e-17\n",
      "type_Pistol = 2.7755575615628914e-17\n",
      "type_Rifle = 2.7755575615628914e-17\n",
      "type_Submachine Gun = 0.0\n",
      "type_Sniper Rifle = 0.0\n",
      "verdispersion = 0.0\n"
     ]
    }
   ],
   "source": [
    "import numpy as np\n",
    "\n",
    "def __standardize_matrix(x_original):\n",
    "    std = x_original.std(dtype=np.float64)\n",
    "    mean = x_original.mean(dtype=np.float64)\n",
    "    x_standardized = (x_original - mean) / std\n",
    "    return x_standardized\n",
    "\n",
    "def __standardize_columns(x_original):\n",
    "    std = x_original.std(dtype=np.float64, axis=0)\n",
    "    mean = x_original.mean(dtype=np.float64, axis=0)\n",
    "    x_standardized = (x_original - mean) / std\n",
    "    return x_standardized\n",
    "\n",
    "def __un_standardize_matrix(x_standardized, x_original):\n",
    "    std = x_original.std(dtype=np.float64)\n",
    "    mean = x_original.mean(dtype=np.float64)\n",
    "    return mean + (x_standardized*std)\n",
    "\n",
    "def __un_standardize_columns(x_standardized, x_original):\n",
    "    std = x_original.std(dtype=np.float64, axis=0)\n",
    "    mean = x_original.mean(dtype=np.float64, axis=0)\n",
    "    return mean + (x_standardized*std)\n",
    "\n",
    "print(data.data[0])\n",
    "#print((__standardize(data.data))[0])\n",
    "#x_stand = __standardize_columns(data.data)\n",
    "#print(x_stand[0])\n",
    "#x_normal = __un_standardize_columns(x_stand, data.data)\n",
    "#print(x_normal[0])\n",
    "#print(np.asarray(vanilla(data.data))[0])\n",
    "#print(un_vanilla(np.asarray(vanilla(data.data))[0]))\n",
    "\n",
    "weapons.debug_printDict(data.decode_processed_tensor(data.data[0]))"
   ]
  },
  {
   "cell_type": "code",
   "execution_count": null,
   "metadata": {},
   "outputs": [],
   "source": []
  }
 ],
 "metadata": {
  "kernelspec": {
   "display_name": "Python 3",
   "language": "python",
   "name": "python3"
  },
  "language_info": {
   "codemirror_mode": {
    "name": "ipython",
    "version": 3
   },
   "file_extension": ".py",
   "mimetype": "text/x-python",
   "name": "python",
   "nbconvert_exporter": "python",
   "pygments_lexer": "ipython3",
   "version": "3.6.4"
  }
 },
 "nbformat": 4,
 "nbformat_minor": 2
}
