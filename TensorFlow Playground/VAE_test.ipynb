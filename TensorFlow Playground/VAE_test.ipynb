{
 "cells": [
  {
   "cell_type": "code",
   "execution_count": 1,
   "metadata": {},
   "outputs": [],
   "source": [
    "%config IPCompleter.greedy=True"
   ]
  },
  {
   "cell_type": "code",
   "execution_count": 2,
   "metadata": {},
   "outputs": [
    {
     "name": "stderr",
     "output_type": "stream",
     "text": [
      "D:\\z_outsourced_programs\\Anaconda3\\lib\\site-packages\\h5py\\__init__.py:36: FutureWarning: Conversion of the second argument of issubdtype from `float` to `np.floating` is deprecated. In future, it will be treated as `np.float64 == np.dtype(float).type`.\n",
      "  from ._conv import register_converters as _register_converters\n"
     ]
    },
    {
     "name": "stdout",
     "output_type": "stream",
     "text": [
      "Tensor Flow version 1.8.0\n"
     ]
    }
   ],
   "source": [
    "from __future__ import absolute_import\n",
    "from __future__ import division\n",
    "from __future__ import print_function\n",
    "\n",
    "import numpy as np\n",
    "import tensorflow as tf\n",
    "import variational_autoencoder as vae\n",
    "\n",
    "print(\"Tensor Flow version {}\".format(tf.__version__))"
   ]
  },
  {
   "cell_type": "code",
   "execution_count": 3,
   "metadata": {},
   "outputs": [],
   "source": [
    "#test utils\n",
    "import weapon_data as weapons\n",
    "\n",
    "def print_decoded_tensors_as_dict(weapon_data, array_of_tensors):\n",
    "    genDict = {}\n",
    "    \n",
    "    for tensor in array_of_tensors:\n",
    "        decoded, _ = weapon_data.decode_processed_tensor(tensor)\n",
    "        \n",
    "        for key, value in decoded.items():\n",
    "            if key not in genDict:\n",
    "                genDict[key] = []\n",
    "            genDict[key].append(value)\n",
    "    \n",
    "    for key, value in genDict.items():\n",
    "            print(key, \"=\", value)\n",
    "            \n",
    "            \n",
    "def get_weapon_data():\n",
    "    return weapons.get_data(2, 13, 0)"
   ]
  },
  {
   "cell_type": "code",
   "execution_count": 4,
   "metadata": {},
   "outputs": [
    {
     "name": "stdout",
     "output_type": "stream",
     "text": [
      "Epoch:0001 - Cost:22.564115029\n",
      "Epoch:0002 - Cost:17.606869345\n",
      "Epoch:0003 - Cost:16.559788441\n",
      "Epoch:0004 - Cost:14.914163184\n",
      "Epoch:0005 - Cost:14.993014779\n",
      "Epoch:0006 - Cost:14.634663424\n",
      "Epoch:0007 - Cost:14.582165696\n",
      "Epoch:0008 - Cost:11.505556122\n",
      "Epoch:0009 - Cost:13.799359870\n",
      "Epoch:0010 - Cost:11.880904956\n",
      "Epoch:0011 - Cost:12.483304136\n",
      "Epoch:0012 - Cost:11.089303009\n",
      "Epoch:0013 - Cost:12.913107114\n",
      "Epoch:0014 - Cost:11.512494290\n",
      "Epoch:0015 - Cost:10.581362942\n",
      "Epoch:0016 - Cost:11.683639782\n",
      "Epoch:0017 - Cost:10.400852429\n",
      "Epoch:0018 - Cost:12.107261147\n",
      "Epoch:0019 - Cost:10.118913245\n",
      "Epoch:0020 - Cost:11.298225974\n",
      "Epoch:0021 - Cost:10.898118732\n",
      "Epoch:0022 - Cost:9.702796365\n",
      "Epoch:0023 - Cost:10.168508995\n",
      "Epoch:0024 - Cost:10.528818311\n",
      "Epoch:0025 - Cost:10.344547737\n",
      "Epoch:0026 - Cost:10.064771412\n",
      "Epoch:0027 - Cost:11.318472569\n",
      "Epoch:0028 - Cost:10.046714122\n",
      "Epoch:0029 - Cost:10.491924797\n",
      "Epoch:0030 - Cost:9.926897094\n",
      "Epoch:0031 - Cost:9.935223452\n",
      "Epoch:0032 - Cost:9.643910055\n",
      "Epoch:0033 - Cost:10.961648746\n",
      "Epoch:0034 - Cost:10.022534333\n",
      "Epoch:0035 - Cost:9.797475635\n",
      "Epoch:0036 - Cost:10.367384558\n",
      "Epoch:0037 - Cost:10.094472825\n",
      "Epoch:0038 - Cost:10.172468035\n",
      "Epoch:0039 - Cost:9.369317152\n",
      "Epoch:0040 - Cost:9.831578352\n",
      "Epoch:0041 - Cost:9.471128344\n",
      "Epoch:0042 - Cost:9.725561472\n",
      "Epoch:0043 - Cost:9.808209096\n",
      "Epoch:0044 - Cost:9.521629303\n",
      "Epoch:0045 - Cost:9.811962233\n",
      "Epoch:0046 - Cost:9.305649029\n",
      "Epoch:0047 - Cost:9.999148647\n",
      "Epoch:0048 - Cost:9.805655757\n",
      "Epoch:0049 - Cost:9.998716114\n",
      "Epoch:0050 - Cost:9.665593545\n",
      "Epoch:0051 - Cost:9.398370037\n",
      "Epoch:0052 - Cost:9.981331127\n",
      "Epoch:0053 - Cost:9.466204606\n",
      "Epoch:0054 - Cost:8.887982421\n",
      "Epoch:0055 - Cost:10.355411229\n",
      "Epoch:0056 - Cost:8.946221059\n",
      "Epoch:0057 - Cost:9.511341215\n",
      "Epoch:0058 - Cost:9.246930385\n",
      "Epoch:0059 - Cost:9.628762072\n",
      "Epoch:0060 - Cost:9.735858301\n",
      "Epoch:0061 - Cost:9.484667320\n",
      "Epoch:0062 - Cost:9.471051494\n",
      "Epoch:0063 - Cost:8.924709020\n",
      "Epoch:0064 - Cost:10.215688946\n",
      "Epoch:0065 - Cost:9.203963347\n",
      "Epoch:0066 - Cost:9.328245163\n",
      "Epoch:0067 - Cost:9.189727408\n",
      "Epoch:0068 - Cost:9.785922148\n",
      "Epoch:0069 - Cost:9.210990095\n",
      "Epoch:0070 - Cost:8.990816447\n",
      "Trained model saved! You can find it in './trained_vae/model.ckpt'\n"
     ]
    }
   ],
   "source": [
    "network_architecture = \\\n",
    "    dict(n_input=0, #set it in with scope\n",
    "         n_hidden_1=26,\n",
    "         n_hidden_2=12,\n",
    "         n_z=2)  \n",
    "\n",
    "learning_rate = 0.01\n",
    "optimizer =  tf.train.RMSPropOptimizer(learning_rate)\n",
    "transfer_fct = tf.nn.elu\n",
    "num_epochs = 70\n",
    "batch_size = 4\n",
    "epoch_debug_step = 1\n",
    "    \n",
    "with tf.Session() as sess:\n",
    "    train_data, test_data = get_weapon_data()\n",
    "    network_architecture['n_input'] = train_data.num_features\n",
    "  \n",
    "    network = vae.get_new_trained(sess, train_data, network_architecture, optimizer, \n",
    "                              transfer_fct, batch_size, num_epochs, epoch_debug_step)\n"
   ]
  },
  {
   "cell_type": "code",
   "execution_count": 5,
   "metadata": {},
   "outputs": [
    {
     "name": "stdout",
     "output_type": "stream",
     "text": [
      "INFO:tensorflow:Restoring parameters from trained_vae/model.ckpt\n",
      "[[ 0.82948142  0.60118691  2.88712045  0.99569425 -1.04880885  1.58113883\n",
      "  -0.48507125 -1.32959555  0.82220467 -0.26424317 -0.85685916  0.4513875\n",
      "  -0.57240795 -0.48010721 -0.97777561 -0.32444284 -0.32444284 -0.48507125\n",
      "   1.78885438 -0.32444284 -0.40824829 -0.55901699]\n",
      " [ 0.0666007  -0.24819643 -0.37647957 -0.18180478  0.95346259 -0.63245553\n",
      "  -0.48507125  1.19705471 -0.48703846 -0.51801329 -0.92760898 -0.23089207\n",
      "  -0.52832274 -0.1651308   0.39585861 -0.32444284 -0.32444284 -0.48507125\n",
      "  -0.55901699  3.082207   -0.40824829 -0.55901699]\n",
      " [-0.51827452 -0.17097976 -0.318201   -0.51823307  0.95346259 -0.63245553\n",
      "  -0.48507125  0.18639461 -1.28305835 -0.67704257  0.98263667  0.90624054\n",
      "  -0.21972628 -0.1651308   0.40094614 -0.32444284 -0.32444284 -0.48507125\n",
      "  -0.55901699 -0.32444284 -0.40824829  1.78885438]\n",
      " [ 2.20266672  2.76325362 -0.95926529  1.72462221 -1.04880885 -0.63245553\n",
      "   2.06155281 -0.57160047  1.08405337  0.92001739  0.80576207  0.5423581\n",
      "  -0.51362767  0.62227497 -1.62389245 -0.32444284 -0.32444284 -0.48507125\n",
      "  -0.55901699 -0.32444284  2.44948974 -0.55901699]]\n",
      "[[ 0.31839007 -0.12828806  1.7011831  -0.06761137 -0.6645055   1.0213742\n",
      "  -0.3264117  -0.8105879  -0.11200637 -0.19956917 -0.4912294   0.2073892\n",
      "  -0.11039193  0.11645325 -0.4866755  -0.33726528 -0.03755374 -0.1063282\n",
      "   1.6901741  -0.57504684 -0.5232503  -0.8116519 ]\n",
      " [-0.9012001  -0.66101825 -0.04065916 -0.5777451   0.8206715  -0.23405352\n",
      "  -0.8412134   0.73142105 -0.8233033  -0.8365282  -0.7825351  -0.5047236\n",
      "  -0.21116515 -0.55406284  1.0726999  -0.06560621 -0.36254182  0.20927003\n",
      "   0.19944793  0.9775346  -0.4470999  -0.51252675]\n",
      " [-0.72080123 -0.55895215  0.20638388 -0.499007    1.2978914  -0.75132877\n",
      "  -0.6296367   0.21019559 -0.8999885  -0.727667    0.2379434   0.46623945\n",
      "   0.14279565  0.06528035  0.6319398  -0.12821057 -0.09876108 -0.5726563\n",
      "   0.43414778 -0.22739306 -0.54690886  1.0682449 ]\n",
      " [ 1.6532035   1.598516   -0.7433646   1.5938387  -0.3896471  -1.1731554\n",
      "   1.8095752  -0.4850765   1.1937895   0.9428147   0.37065858  0.6462184\n",
      "  -0.5691886   0.11731486 -0.94426715 -0.32696292 -0.10803977 -0.7845758\n",
      "  -0.8330066  -0.05059665  1.759101   -0.05546604]]\n",
      "damages_first = ['53.0', '38.0', '26.5', '80.0', '42.950761620171434', '18.970796902837982', '22.517856282062976', '69.19628159834599']\n",
      "damages_last = ['38.0', '21.5', '23.0', '80.0', '23.829322970921833', '13.480582094399118', '15.463303617336722', '57.3739725996042']\n",
      "dmg_distances_first = ['66.0', '10.0', '11.0', '0.0', '45.65054169637001', '15.762330881029198', '20.001333926708323', '3.7046329767921495']\n",
      "dmg_distances_last = ['89.0', '47.0', '35.0', '115.0', '51.073144114185865', '32.87727680291776', '35.685771637792676', '110.33510623240267']\n",
      "firemode_Automatic = ['0.0', '1.0', '1.0', '0.0', '0.19193370053072667', '0.9336797758841835', '1.1720190293488173', '0.3292069893507617']\n",
      "firemode_Semi-Automatic = ['1.0', '0.0', '0.0', '0.0', '0.7471241280483849', '0.17997968214198878', '-0.053701453322536286', '-0.24426331409159907']\n",
      "hiprecoildec = ['3.0', '8.0', '6.0', '4.5', '4.027066691500304', '7.0785553859352675', '6.047099871481866', '4.671222714946937']\n",
      "hiprecoilright = ['0.8999999761581421', '0.4000000059604645', '0.09600000083446497', '1.0', '0.5432247696959543', '0.2715804673250202', '0.24229439209332881', '1.0419082228170056']\n",
      "hiprecoilup = ['1.5', '0.7499999999999998', '0.2800000011920929', '5.0', '1.6911395435686858', '-0.19134867653930776', '0.13038307756669187', '5.067375893984052']\n",
      "hipstandbasespreaddec = ['3.0', '2.700000047683716', '10.800000190734863', '10.050000190734863', '4.550377150373739', '3.3151558373965724', '7.642282965759697', '8.205034139498824']\n",
      "initialspeed = ['720.0', '570.0', '820.0', '740.0', '666.356676262991', '509.7977997428051', '723.2652208051967', '762.8338176123939']\n",
      "magsize = ['6.0', '9.0', '30.0', '10.0', '37.44020627536331', '30.582585452931504', '54.66963007148883', '6.219077183792251']\n",
      "reloadempty = ['3.299999952316284', '3.9000000953674316', '3.9000000953674316', '5.399933338165283', '4.436390971490114', '3.1591214838217994', '4.338911460819093', '4.4380322661509615']\n",
      "rof = ['179.0', '449.0', '450.0', '52.0', '275.5300860746248', '582.0391652096614', '495.40385945315506', '185.58638447244866']\n",
      "shotspershell = ['1.0', '1.0', '1.0', '1.0', '0.958596611581642', '1.8357779995772663', '1.633629825667567', '0.9918627288188664']\n",
      "type_Shotgun = ['0.0', '0.0', '0.0', '0.0', '0.08421443731889243', '-0.011183709528484895', '0.06624741928797845', '0.06352372143815646']\n",
      "type_Pistol = ['0.0', '0.0', '0.0', '0.0', '0.14872357931383948', '0.2726516608608132', '-0.034392600402153556', '-0.11760847400366703']\n",
      "type_Rifle = ['1.0', '-2.7755575615628914e-17', '-2.7755575615628914e-17', '-2.7755575615628914e-17', '0.9579703214538968', '0.32304364364508475', '0.42300646429857947', '-0.11669703408336174']\n",
      "type_Submachine Gun = ['0.0', '1.0', '0.0', '0.0', '-0.07356317982853522', '0.3821870442021975', '0.028488334812886054', '0.08038577500095175']\n",
      "type_Sniper Rifle = ['0.0', '0.0', '0.0', '1.0', '-0.04024231402912354', '-0.013595229293006467', '-0.048521090233319686', '0.7584142767670046']\n"
     ]
    }
   ],
   "source": [
    "with tf.Session(graph=tf.Graph()) as sess:\n",
    "    network = vae.get_untrained(sess, network_architecture, optimizer, transfer_fct, batch_size)\n",
    "    network = vae.restore(network, \"trained_vae/model.ckpt\")\n",
    "        \n",
    "    train_data, test_data = get_weapon_data()\n",
    "    samples = test_data.next_batch(batch_size)\n",
    "    x_reconstructed = network.encode_and_decode(samples)\n",
    "    \n",
    "    print(samples)\n",
    "    print(x_reconstructed)\n",
    "    \n",
    "    print_decoded_tensors_as_dict(test_data, np.concatenate((samples,x_reconstructed), axis=0))"
   ]
  },
  {
   "cell_type": "code",
   "execution_count": 6,
   "metadata": {},
   "outputs": [
    {
     "name": "stdout",
     "output_type": "stream",
     "text": [
      "INFO:tensorflow:Restoring parameters from trained_vae/model.ckpt\n",
      "Random Cost = 318834173088342231482368.000\n",
      "Random Cost = 3518399209761344061440.000\n",
      "Random Cost = 2176358749689769623552.000\n",
      "Random Cost = 63702484484032800227328.000\n",
      "Random Cost = 1420002976908426870784.000\n",
      "Random Cost = 145247483094169362104320.000\n",
      "Random Cost = 743508148224.000\n",
      "Random Cost = 15928585828609279850014834688.000\n",
      "Random Cost = 36020583667104481280.000\n",
      "Random Cost = 623782559575199597985792.000\n",
      "Random Cost = 51499299283927040.000\n",
      "Random Cost = 41157215603654656.000\n",
      "Random Cost = 50208380301624786580144128.000\n",
      "Random Cost = 154936508416.000\n",
      "Random Cost = 3898615889777074896896.000\n",
      "Random Cost = 845532111952859365376.000\n",
      "Random Cost = 1656633981665280.000\n",
      "Random Cost = 936273874207352291328.000\n",
      "Random Cost = 17112514201194070016.000\n",
      "Random Cost = 646576538297217341980672.000\n",
      "Random Cost = 2544354208429188841472.000\n",
      "random input Average cost = 1000.000000000\n",
      "Average cost = 10.742467767\n",
      "Average unnormalized distance = 333.086151278\n",
      "Average normalized distance = 10.402896864\n"
     ]
    }
   ],
   "source": [
    "with tf.Session(graph=tf.Graph()) as sess:\n",
    "    network = vae.get_untrained(sess, network_architecture, optimizer, transfer_fct, batch_size)\n",
    "    network = vae.restore(network, \"trained_vae/model.ckpt\")\n",
    "    \n",
    "    avg_cost_rand = 0.\n",
    "    avg_cost = 0.\n",
    "    avg_distance_norm = 0.\n",
    "    avg_distance_unnorm = 0.\n",
    "\n",
    "    _, test_data = get_weapon_data()\n",
    "    num_samples = test_data.num_examples\n",
    "\n",
    "    for i in range(num_samples):\n",
    "        batch = test_data.next_batch(batch_size)\n",
    "\n",
    "        x_reconstructed = network.encode_and_decode(batch)\n",
    "        cost = network.calculate_loss(batch)\n",
    "\n",
    "        _, unstandardized_batch = test_data.decode_processed_tensor(batch[0])\n",
    "        _, unstandardized_x = test_data.decode_processed_tensor(x_reconstructed[0])\n",
    "\n",
    "        distance_unnorm = tf.reduce_sum(tf.abs(unstandardized_batch - unstandardized_x))\n",
    "        distance_norm = tf.reduce_sum(tf.abs(batch[0] - x_reconstructed[0]))\n",
    "\n",
    "        distance_unnorm, distance_norm = sess.run((distance_unnorm, distance_norm))\n",
    "\n",
    "        sample = np.random.uniform(low=test_data.standardized_min_values, \n",
    "                                   high=test_data.standardized_max_values, \n",
    "                                   size=(batch_size,network_architecture[\"n_input\"]))\n",
    "        cost_rand = network.calculate_loss(sample)\n",
    "        print(\"Random Cost = \" + \"{:.3f}\".format(cost_rand))\n",
    "\n",
    "        #compute average loss/cost\n",
    "        avg_cost_rand += min(cost_rand,1000) / num_samples\n",
    "        avg_cost += cost / num_samples\n",
    "        avg_distance_unnorm += distance_unnorm / num_samples\n",
    "        avg_distance_norm += distance_norm / num_samples\n",
    "    \n",
    "    print(\"random input Average cost = \" + \"{:.9f}\".format(avg_cost_rand))   \n",
    "    print(\"Average cost = \" + \"{:.9f}\".format(avg_cost))\n",
    "    print(\"Average unnormalized distance = \" + \"{:.9f}\".format(avg_distance_unnorm))\n",
    "    print(\"Average normalized distance = \" + \"{:.9f}\".format(avg_distance_norm))\n"
   ]
  },
  {
   "cell_type": "code",
   "execution_count": 7,
   "metadata": {},
   "outputs": [
    {
     "name": "stdout",
     "output_type": "stream",
     "text": [
      "INFO:tensorflow:Restoring parameters from trained_vae/model.ckpt\n"
     ]
    },
    {
     "data": {
      "image/png": "[encoded data removed]",
      "text/plain": [
       "<matplotlib.figure.Figure at 0x18dc80f0668>"
      ]
     },
     "metadata": {},
     "output_type": "display_data"
    },
    {
     "data": {
      "image/png": "[encoded data removed]",
      "text/plain": [
       "<matplotlib.figure.Figure at 0x18dca879358>"
      ]
     },
     "metadata": {},
     "output_type": "display_data"
    },
    {
     "data": {
      "image/png": "[encoded data removed]",
      "text/plain": [
       "<matplotlib.figure.Figure at 0x18dcac3b550>"
      ]
     },
     "metadata": {},
     "output_type": "display_data"
    }
   ],
   "source": [
    "import matplotlib.pyplot as plt\n",
    "%matplotlib inline\n",
    "\n",
    "def show_z_distribution(vae_model, title, z_mean=True):\n",
    "    all_z = np.zeros((batch_size,network_architecture['n_z']))\n",
    "        \n",
    "    train_data, test_data = get_weapon_data()\n",
    "    total_batch = int(train_data.num_examples / batch_size) \n",
    "\n",
    "    # Loop over all batches\n",
    "    for i in range(total_batch):\n",
    "        batch = train_data.next_batch(batch_size)\n",
    "        z_dist = vae_model.calculate_z(batch)\n",
    "        if z_mean:\n",
    "            z_dist = vae_model.calculate_z_mean(batch)\n",
    "        all_z = np.vstack((all_z, z_dist))\n",
    "\n",
    "    plt.figure(figsize=(15,5))\n",
    "    plt.subplot(1,2,1)\n",
    "    plt.scatter(all_z[:,0], all_z[:,1])\n",
    "    plt.xlim(-3,3)\n",
    "    plt.ylim(-3,3)\n",
    "    plt.title(title)\n",
    "    plt.subplot(1,2,2)\n",
    "    plt.hist2d(all_z[:,0], all_z[:,1], (50, 50), cmap=plt.cm.jet)\n",
    "    plt.colorbar()\n",
    "    plt.title(title)\n",
    "    \n",
    "with tf.Session(graph=tf.Graph()) as sess:\n",
    "    network = vae.get_untrained(sess, network_architecture, optimizer, transfer_fct, batch_size)\n",
    "    show_z_distribution(network, \"Untrained Latent Space\", z_mean=True)\n",
    "    network = vae.restore(network, \"trained_vae/model.ckpt\")\n",
    "    show_z_distribution(network, \"Trained Latent Space - Z Mean\", z_mean=True)    \n",
    "    show_z_distribution(network, \"Trained Latent Space - Z\", z_mean=False)"
   ]
  },
  {
   "cell_type": "code",
   "execution_count": 8,
   "metadata": {},
   "outputs": [
    {
     "name": "stdout",
     "output_type": "stream",
     "text": [
      "INFO:tensorflow:Restoring parameters from trained_vae/model.ckpt\n",
      "damages_first = ['36.2697036666592', '26.361972672119357', '44.45714355864933', '26.268190465609514']\n",
      "damages_last = ['16.667544281887796', '21.936292685804798', '17.29070045882394', '16.695934998054142']\n",
      "dmg_distances_first = ['10.926951738625284', '16.26409175502747', '7.522615594973017', '16.901495200894033']\n",
      "dmg_distances_last = ['34.72098742510346', '49.27829262276761', '29.759272258961907', '36.172670589955615']\n",
      "firemode_Automatic = ['0.10399126674583362', '0.9668386727262663', '-0.10582061928802555', '0.9586518887780422']\n",
      "firemode_Semi-Automatic = ['0.9286150145333654', '-0.019269769920635504', '1.0400576571862006', '-0.023516228943109452']\n",
      "hiprecoildec = ['5.0753351885973625', '5.888362643302527', '4.7961816497786165', '7.0583993098218']\n",
      "hiprecoilright = ['0.4546846798193124', '0.2744535258394834', '0.6482277769865162', '0.24222363886747755']\n",
      "hiprecoilup = ['1.6207557326016795', '0.8647473700243626', '3.053561820341991', '0.6512881482349835']\n",
      "hipstandbasespreaddec = ['4.497013941491302', '10.53175614573743', '6.298277127110936', '5.407301310790469']\n",
      "initialspeed = ['363.6440901316587', '722.0156191404928', '282.0127913971305', '574.6126842561176']\n",
      "magsize = ['15.609880917458586', '37.838070768427535', '18.969057327640034', '23.909730881720968']\n",
      "reloadempty = ['3.017680751055521', '4.186026807748988', '3.218461701248172', '3.5857354765213754']\n",
      "rof = ['376.98263116093375', '434.6658222647211', '290.99998148405786', '524.3336774666863']\n",
      "shotspershell = ['0.5371500565025864', '1.7717272711252767', '1.002923548558976', '1.4785133272660622']\n",
      "type_Shotgun = ['-0.03917610760442505', '0.07428976018638067', '0.03483573945537421', '0.08851028551815295']\n",
      "type_Pistol = ['0.9670578534703582', '-0.052155926830713545', '1.1655767664719898', '0.009711803865060098']\n",
      "type_Rifle = ['0.15729558548753347', '0.2606534206984251', '-0.0955683486211816', '0.4336174686072181']\n",
      "type_Submachine Gun = ['-0.052636429558999095', '-0.03722408490431843', '-0.11842301107763469', '0.292405769054957']\n",
      "type_Sniper Rifle = ['0.005967000092597985', '0.08015937179512247', '-0.00510390293905455', '-0.03436491807263928']\n"
     ]
    }
   ],
   "source": [
    "# Testing\n",
    "with tf.Session(graph=tf.Graph()) as sess:\n",
    "    network = vae.get_untrained(sess, network_architecture, optimizer, transfer_fct, batch_size)\n",
    "    network = vae.restore(network, \"trained_vae/model.ckpt\")\n",
    "    \n",
    "    generated = []\n",
    "    for i in range(4):\n",
    "        random_val = np.random.normal(size=(batch_size,network_architecture[\"n_z\"]))\n",
    "        x_test = network.decode_from_latent_space(random_val)\n",
    "        generated.append(x_test[0])\n",
    "        \n",
    "    train_data, test_data = get_weapon_data()\n",
    "    print_decoded_tensors_as_dict(train_data, generated)"
   ]
  },
  {
   "cell_type": "code",
   "execution_count": null,
   "metadata": {},
   "outputs": [],
   "source": []
  },
  {
   "cell_type": "code",
   "execution_count": null,
   "metadata": {},
   "outputs": [],
   "source": []
  }
 ],
 "metadata": {
  "kernelspec": {
   "display_name": "Python 3",
   "language": "python",
   "name": "python3"
  },
  "language_info": {
   "codemirror_mode": {
    "name": "ipython",
    "version": 3
   },
   "file_extension": ".py",
   "mimetype": "text/x-python",
   "name": "python",
   "nbconvert_exporter": "python",
   "pygments_lexer": "ipython3",
   "version": "3.6.4"
  }
 },
 "nbformat": 4,
 "nbformat_minor": 2
}
