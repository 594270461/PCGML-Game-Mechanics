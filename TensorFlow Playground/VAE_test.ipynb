{
 "cells": [
  {
   "cell_type": "code",
   "execution_count": 1,
   "metadata": {},
   "outputs": [],
   "source": [
    "%config IPCompleter.greedy=True"
   ]
  },
  {
   "cell_type": "code",
   "execution_count": 2,
   "metadata": {},
   "outputs": [
    {
     "name": "stderr",
     "output_type": "stream",
     "text": [
      "D:\\z_outsourced_programs\\Anaconda3\\lib\\site-packages\\h5py\\__init__.py:36: FutureWarning: Conversion of the second argument of issubdtype from `float` to `np.floating` is deprecated. In future, it will be treated as `np.float64 == np.dtype(float).type`.\n",
      "  from ._conv import register_converters as _register_converters\n"
     ]
    },
    {
     "name": "stdout",
     "output_type": "stream",
     "text": [
      "Tensor Flow version 1.8.0\n"
     ]
    }
   ],
   "source": [
    "from __future__ import absolute_import\n",
    "from __future__ import division\n",
    "from __future__ import print_function\n",
    "\n",
    "import numpy as np\n",
    "import tensorflow as tf\n",
    "import variational_autoencoder as vae\n",
    "\n",
    "print(\"Tensor Flow version {}\".format(tf.__version__))"
   ]
  },
  {
   "cell_type": "code",
   "execution_count": 3,
   "metadata": {},
   "outputs": [],
   "source": [
    "#test utils\n",
    "import weapon_data as weapons\n",
    "\n",
    "def print_decoded_tensors_as_dict(weapon_data, array_of_tensors):\n",
    "    genDict = {}\n",
    "    \n",
    "    for tensor in array_of_tensors:\n",
    "        decoded, _ = weapon_data.decode_processed_tensor(tensor)\n",
    "        \n",
    "        for key, value in decoded.items():\n",
    "            if key not in genDict:\n",
    "                genDict[key] = []\n",
    "            genDict[key].append(value)\n",
    "    \n",
    "    for key, value in genDict.items():\n",
    "            print(key, \"=\", value)\n",
    "            \n",
    "            \n",
    "def get_weapon_data():\n",
    "    return weapons.get_data(2, 14, 0)"
   ]
  },
  {
   "cell_type": "code",
   "execution_count": 4,
   "metadata": {},
   "outputs": [
    {
     "name": "stdout",
     "output_type": "stream",
     "text": [
      "Epoch:0001 - Cost:21.310438381\n",
      "Epoch:0002 - Cost:17.125075002\n",
      "Epoch:0003 - Cost:16.700586664\n",
      "Epoch:0004 - Cost:15.218550915\n",
      "Epoch:0005 - Cost:15.164929578\n",
      "Epoch:0006 - Cost:14.306028591\n",
      "Epoch:0007 - Cost:13.854096450\n",
      "Epoch:0008 - Cost:12.364231365\n",
      "Epoch:0009 - Cost:12.893258673\n",
      "Epoch:0010 - Cost:12.621951621\n",
      "Epoch:0011 - Cost:12.412936849\n",
      "Epoch:0012 - Cost:11.314645662\n",
      "Epoch:0013 - Cost:12.362421576\n",
      "Epoch:0014 - Cost:11.702547299\n",
      "Epoch:0015 - Cost:10.785960656\n",
      "Epoch:0016 - Cost:11.680106741\n",
      "Epoch:0017 - Cost:10.567544487\n",
      "Epoch:0018 - Cost:12.030411397\n",
      "Epoch:0019 - Cost:10.121456672\n",
      "Epoch:0020 - Cost:10.979067780\n",
      "Epoch:0021 - Cost:11.130329132\n",
      "Epoch:0022 - Cost:9.808868318\n",
      "Epoch:0023 - Cost:10.115104825\n",
      "Epoch:0024 - Cost:10.430811229\n",
      "Epoch:0025 - Cost:10.432538941\n",
      "Epoch:0026 - Cost:9.775308249\n",
      "Epoch:0027 - Cost:11.428373202\n",
      "Epoch:0028 - Cost:9.668019798\n",
      "Epoch:0029 - Cost:10.483662493\n",
      "Epoch:0030 - Cost:10.093432239\n",
      "Epoch:0031 - Cost:10.093798525\n",
      "Epoch:0032 - Cost:9.484885764\n",
      "Epoch:0033 - Cost:10.533346492\n",
      "Epoch:0034 - Cost:10.209575683\n",
      "Epoch:0035 - Cost:9.545175657\n",
      "Epoch:0036 - Cost:10.391863125\n",
      "Epoch:0037 - Cost:10.348947600\n",
      "Epoch:0038 - Cost:9.901855649\n",
      "Epoch:0039 - Cost:9.526187401\n",
      "Epoch:0040 - Cost:9.842568330\n",
      "Epoch:0041 - Cost:10.289862565\n",
      "Epoch:0042 - Cost:9.840540443\n",
      "Epoch:0043 - Cost:9.711719768\n",
      "Epoch:0044 - Cost:9.891021218\n",
      "Epoch:0045 - Cost:9.889100037\n",
      "Epoch:0046 - Cost:9.547252610\n",
      "Epoch:0047 - Cost:9.487713731\n",
      "Epoch:0048 - Cost:9.928867866\n",
      "Epoch:0049 - Cost:9.827818473\n",
      "Epoch:0050 - Cost:9.830077840\n",
      "Epoch:0051 - Cost:9.310029188\n",
      "Epoch:0052 - Cost:10.045264372\n",
      "Epoch:0053 - Cost:10.097448349\n",
      "Epoch:0054 - Cost:8.948878596\n",
      "Epoch:0055 - Cost:9.704522050\n",
      "Epoch:0056 - Cost:9.304800649\n",
      "Epoch:0057 - Cost:9.644340470\n",
      "Epoch:0058 - Cost:9.143995345\n",
      "Epoch:0059 - Cost:9.634614148\n",
      "Epoch:0060 - Cost:9.698888223\n",
      "Epoch:0061 - Cost:9.541933991\n",
      "Epoch:0062 - Cost:9.425101228\n",
      "Epoch:0063 - Cost:9.176177363\n",
      "Epoch:0064 - Cost:9.920571545\n",
      "Epoch:0065 - Cost:9.449259315\n",
      "Epoch:0066 - Cost:9.042354388\n",
      "Epoch:0067 - Cost:9.351396891\n",
      "Epoch:0068 - Cost:9.657187184\n",
      "Epoch:0069 - Cost:8.893627077\n",
      "Epoch:0070 - Cost:9.034664845\n",
      "Trained model saved! You can find it in './trained_vae/model.ckpt'\n"
     ]
    }
   ],
   "source": [
    "network_architecture = \\\n",
    "    dict(n_input=0, #set it in with scope\n",
    "         n_hidden_1=26,\n",
    "         n_hidden_2=12,\n",
    "         n_z=2)  \n",
    "\n",
    "learning_rate = 0.01\n",
    "optimizer =  tf.train.RMSPropOptimizer(learning_rate)\n",
    "transfer_fct = tf.nn.elu\n",
    "num_epochs = 70\n",
    "batch_size = 4\n",
    "epoch_debug_step = 1\n",
    "    \n",
    "with tf.Session() as sess:\n",
    "    train_data, test_data = get_weapon_data()\n",
    "    network_architecture['n_input'] = train_data.num_features\n",
    "  \n",
    "    network = vae.get_new_trained(sess, train_data, network_architecture, optimizer, \n",
    "                              transfer_fct, batch_size, num_epochs, epoch_debug_step)\n"
   ]
  },
  {
   "cell_type": "code",
   "execution_count": 5,
   "metadata": {},
   "outputs": [
    {
     "name": "stdout",
     "output_type": "stream",
     "text": [
      "INFO:tensorflow:Restoring parameters from trained_vae/model.ckpt\n",
      "damages_first = ['53.0', '38.0', '26.5', '80.0', '43.67517207247538', '24.599461054349863', '22.01470231511278', '76.67929826273891']\n",
      "damages_last = ['38.0', '21.5', '23.0', '80.0', '30.35201548544274', '15.080185988864669', '18.706697513596247', '61.0377021619106']\n",
      "dmg_distances_first = ['66.0', '10.0', '11.0', '0.0', '43.42812989493006', '10.347734965400107', '15.220484995265268', '-7.8173131216300895']\n",
      "dmg_distances_last = ['89.0', '47.0', '35.0', '115.0', '64.53591548450206', '29.13717168226191', '35.545889670821595', '113.74377857736096']\n",
      "firemode_Automatic = ['0.0', '1.0', '1.0', '0.0', '0.3497064809604773', '0.9367879361712201', '1.3357871140224546', '0.21476811528334872']\n",
      "firemode_Semi-Automatic = ['1.0', '0.0', '0.0', '0.0', '0.4636084039045623', '0.2471033103896942', '-0.1359451942491982', '-0.35039577214164064']\n",
      "hiprecoildec = ['3.0', '8.0', '6.0', '4.5', '4.2651203035117495', '7.2925611983892455', '6.151896221835875', '4.780504275152045']\n",
      "hiprecoilright = ['0.8999999761581421', '0.4000000059604645', '0.09600000083446497', '1.0', '0.5610411906536096', '0.2929490197351592', '0.1554854730864219', '1.2670590676835096']\n",
      "hiprecoilup = ['1.5', '0.7499999999999998', '0.2800000011920929', '5.0', '1.853490295351643', '-0.06948175690732983', '-0.5046676818860947', '7.3403072935968785']\n",
      "hipstandbasespreaddec = ['3.0', '2.700000047683716', '10.800000190734863', '10.050000190734863', '4.753932702810459', '3.871479993925061', '8.192797930753548', '8.545708954468317']\n",
      "initialspeed = ['720.0', '570.0', '820.0', '740.0', '761.9234720107054', '461.19854049605715', '755.8821161540187', '746.3551731814732']\n",
      "magsize = ['6.0', '9.0', '30.0', '10.0', '19.857086663592334', '38.21295584435451', '80.72394618116601', '11.733910485981284']\n",
      "reloadempty = ['3.299999952316284', '3.9000000953674316', '3.9000000953674316', '5.399933338165283', '4.091884124830857', '3.2609561222732344', '4.9309740925465375', '4.828043157142537']\n",
      "rof = ['179.0', '449.0', '450.0', '52.0', '287.6463315068973', '595.9253901763332', '507.3259268505105', '127.30663682931845']\n",
      "shotspershell = ['1.0', '1.0', '1.0', '1.0', '0.9713567547143294', '0.8342904206509452', '1.1658285764818974', '1.1708356713127785']\n",
      "type_Shotgun = ['0.0', '0.0', '0.0', '0.0', '0.0825457687621663', '-0.04854889400522794', '-0.03142280864191335', '0.07700745220162317']\n",
      "type_Pistol = ['0.0', '0.0', '0.0', '0.0', '-0.042957463040672605', '0.4432335406039028', '-0.026832974431963807', '-0.0547299127990592']\n",
      "type_Rifle = ['1.0', '-2.7755575615628914e-17', '-2.7755575615628914e-17', '-2.7755575615628914e-17', '0.8865611621660574', '0.11489171725065693', '0.35601293611955115', '-0.00979651782491689']\n",
      "type_Submachine Gun = ['0.0', '1.0', '0.0', '0.0', '-0.03556363141583724', '0.3872528399833944', '0.09099352334604126', '0.07130798359849146']\n",
      "type_Sniper Rifle = ['0.0', '0.0', '0.0', '1.0', '0.10055235138065044', '-0.03174336836820005', '-0.012366099303458361', '0.7029357868424511']\n",
      "INFO:tensorflow:Restoring parameters from trained_vae/model.ckpt\n",
      "damages_first = ['53.0', '43.23360429171571']\n",
      "damages_last = ['38.0', '29.8027213194219']\n",
      "dmg_distances_first = ['66.0', '42.506818736872354']\n",
      "dmg_distances_last = ['89.0', '63.47827855174016']\n",
      "firemode_Automatic = ['0.0', '0.3491455528562677']\n",
      "firemode_Semi-Automatic = ['1.0', '0.46461158257349755']\n",
      "hiprecoildec = ['3.0', '4.286747965774756']\n",
      "hiprecoilright = ['0.8999999761581421', '0.5699401465442774']\n",
      "hiprecoilup = ['1.5', '1.9638541810663028']\n",
      "hipstandbasespreaddec = ['3.0', '4.82595153864669']\n",
      "initialspeed = ['720.0', '750.4902021862003']\n",
      "magsize = ['6.0', '19.68973610961112']\n",
      "reloadempty = ['3.299999952316284', '4.084515088760404']\n",
      "rof = ['179.0', '287.0139934425447']\n",
      "shotspershell = ['1.0', '1.1757386441301483']\n",
      "type_Shotgun = ['0.0', '0.09863819250319673']\n",
      "type_Pistol = ['0.0', '-0.03189466369984509']\n",
      "type_Rifle = ['1.0', '0.8571040906262672']\n",
      "type_Submachine Gun = ['0.0', '-0.03249137589635254']\n",
      "type_Sniper Rifle = ['0.0', '0.09856024120006954']\n"
     ]
    }
   ],
   "source": [
    "with tf.Session(graph=tf.Graph()) as sess:\n",
    "    network = vae.get_untrained(sess, network_architecture, optimizer, transfer_fct, batch_size)\n",
    "    network = vae.restore(network, \"trained_vae/model.ckpt\")\n",
    "        \n",
    "    train_data, test_data = get_weapon_data()\n",
    "    \n",
    "    samples = test_data.next_batch(batch_size)\n",
    "    x_reconstructed = network.encode_and_decode(samples, True)\n",
    "    print_decoded_tensors_as_dict(test_data, np.concatenate((samples,x_reconstructed), axis=0))\n",
    "\n",
    "\n",
    "with tf.Session(graph=tf.Graph()) as sess:\n",
    "    network = vae.get_untrained(sess, network_architecture, optimizer, transfer_fct, batch_size)\n",
    "    network = vae.restore(network, \"trained_vae/model.ckpt\")\n",
    "\n",
    "    train_data, test_data = get_weapon_data()\n",
    "    \n",
    "    samples = test_data.next_batch(1)\n",
    "    x_reconstructed_mean = network.encode_and_decode(samples, False)\n",
    "    print_decoded_tensors_as_dict(test_data, np.concatenate((samples,[x_reconstructed_mean]), axis=0))"
   ]
  },
  {
   "cell_type": "code",
   "execution_count": 6,
   "metadata": {},
   "outputs": [
    {
     "name": "stdout",
     "output_type": "stream",
     "text": [
      "INFO:tensorflow:Restoring parameters from trained_vae/model.ckpt\n",
      "Random Cost = 172594773442881912832.00\n",
      "Random Cost = 2536868269273382912.00\n",
      "Random Cost = 1554133160143355904.00\n",
      "Random Cost = 4942331155132186624.00\n",
      "Random Cost = 551587282944.00\n",
      "Random input average cost = 1250.00\n",
      "Test data input average cost = 13.78\n"
     ]
    }
   ],
   "source": [
    "with tf.Session(graph=tf.Graph()) as sess:\n",
    "    network = vae.get_untrained(sess, network_architecture, optimizer, transfer_fct, batch_size)\n",
    "    network = vae.restore(network, \"trained_vae/model.ckpt\")\n",
    "    \n",
    "    avg_cost_rand = 0.\n",
    "    avg_cost = 0.\n",
    "\n",
    "    _, test_data = get_weapon_data()\n",
    "    num_samples = test_data.num_examples\n",
    "    total_batch = int(num_samples / batch_size)\n",
    "\n",
    "    # Loop over all batches\n",
    "    for i in range(total_batch):\n",
    "        batch = test_data.next_batch(batch_size)\n",
    "        cost = network.calculate_loss(batch)        \n",
    "\n",
    "        rand_sample = np.random.uniform(low=test_data.standardized_min_values, \n",
    "                                       high=test_data.standardized_max_values, \n",
    "                                       size=(batch_size,network_architecture[\"n_input\"]))\n",
    "        cost_rand = network.calculate_loss(rand_sample)\n",
    "\n",
    "        print(\"Random Cost = \" + \"{:.2f}\".format(cost_rand))\n",
    "\n",
    "        #compute average loss/cost\n",
    "        avg_cost_rand += min(cost_rand,1000) / batch_size\n",
    "        avg_cost += cost / batch_size\n",
    "    \n",
    "    print(\"Random input average cost = \" + \"{:.2f}\".format(avg_cost_rand))   \n",
    "    print(\"Test data input average cost = \" + \"{:.2f}\".format(avg_cost))\n"
   ]
  },
  {
   "cell_type": "code",
   "execution_count": 7,
   "metadata": {},
   "outputs": [
    {
     "name": "stdout",
     "output_type": "stream",
     "text": [
      "INFO:tensorflow:Restoring parameters from trained_vae/model.ckpt\n"
     ]
    },
    {
     "data": {
      "image/png": "[encoded data removed]",
      "text/plain": [
       "<matplotlib.figure.Figure at 0x1e7462a6240>"
      ]
     },
     "metadata": {},
     "output_type": "display_data"
    },
    {
     "data": {
      "image/png": "[encoded data removed]",
      "text/plain": [
       "<matplotlib.figure.Figure at 0x1e74967d2e8>"
      ]
     },
     "metadata": {},
     "output_type": "display_data"
    },
    {
     "data": {
      "image/png": "[encoded data removed]",
      "text/plain": [
       "<matplotlib.figure.Figure at 0x1e749a45208>"
      ]
     },
     "metadata": {},
     "output_type": "display_data"
    }
   ],
   "source": [
    "import matplotlib.pyplot as plt\n",
    "%matplotlib inline\n",
    "\n",
    "def show_z_distribution(vae_model, title, z_mean=True):\n",
    "    all_z = np.zeros((batch_size,network_architecture['n_z']))\n",
    "        \n",
    "    train_data, test_data = get_weapon_data()\n",
    "    total_batch = int(train_data.num_examples / batch_size) \n",
    "\n",
    "    # Loop over all batches\n",
    "    for i in range(total_batch):\n",
    "        batch = train_data.next_batch(batch_size)\n",
    "        z_dist = vae_model.calculate_z(batch)\n",
    "        if z_mean:\n",
    "            z_dist = vae_model.calculate_z_mean(batch)\n",
    "        all_z = np.vstack((all_z, z_dist))\n",
    "\n",
    "    plt.figure(figsize=(15,5))\n",
    "    plt.subplot(1,2,1)\n",
    "    plt.scatter(all_z[:,0], all_z[:,1])\n",
    "    plt.xlim(-3,3)\n",
    "    plt.ylim(-3,3)\n",
    "    plt.title(title)\n",
    "    plt.subplot(1,2,2)\n",
    "    plt.hist2d(all_z[:,0], all_z[:,1], (50, 50), cmap=plt.cm.jet)\n",
    "    plt.colorbar()\n",
    "    plt.title(title)\n",
    "    \n",
    "with tf.Session(graph=tf.Graph()) as sess:\n",
    "    network = vae.get_untrained(sess, network_architecture, optimizer, transfer_fct, batch_size)\n",
    "    show_z_distribution(network, \"Untrained Latent Space\", z_mean=True)\n",
    "    network = vae.restore(network, \"trained_vae/model.ckpt\")\n",
    "    show_z_distribution(network, \"Trained Latent Space - Z Mean\", z_mean=True)    \n",
    "    show_z_distribution(network, \"Trained Latent Space - Z\", z_mean=False)"
   ]
  },
  {
   "cell_type": "code",
   "execution_count": 8,
   "metadata": {},
   "outputs": [
    {
     "name": "stdout",
     "output_type": "stream",
     "text": [
      "INFO:tensorflow:Restoring parameters from trained_vae/model.ckpt\n",
      "damages_first = ['27.263936701672474']\n",
      "damages_last = ['19.113330013605285']\n",
      "dmg_distances_first = ['14.739550173298152']\n",
      "dmg_distances_last = ['36.63805317307938']\n",
      "firemode_Automatic = ['0.9092576021406127']\n",
      "firemode_Semi-Automatic = ['0.17921089007188606']\n",
      "hiprecoildec = ['7.132951380654595']\n",
      "hiprecoilright = ['0.22992708153303565']\n",
      "hiprecoilup = ['0.31396454195542844']\n",
      "hipstandbasespreaddec = ['3.700355843120847']\n",
      "initialspeed = ['506.43458571093015']\n",
      "magsize = ['21.71457933253968']\n",
      "reloadempty = ['3.503138569500356']\n",
      "rof = ['551.4279232021785']\n",
      "shotspershell = ['1.2410389309340037']\n",
      "type_Shotgun = ['-0.011393620058910522']\n",
      "type_Pistol = ['0.1984958939907944']\n",
      "type_Rifle = ['0.3039079137989705']\n",
      "type_Submachine Gun = ['0.4490758110706213']\n",
      "type_Sniper Rifle = ['0.011702724712392254']\n"
     ]
    }
   ],
   "source": [
    "# Testing single input in latent space\n",
    "with tf.Session(graph=tf.Graph()) as sess:\n",
    "    network = vae.get_untrained(sess, network_architecture, optimizer, transfer_fct, batch_size)\n",
    "    network = vae.restore(network, \"trained_vae/model.ckpt\")\n",
    "    \n",
    "    generated = []\n",
    "\n",
    "    random_val = np.random.normal(size=(1,network_architecture[\"n_z\"]))\n",
    "    x_test = network.decode_from_latent_space(random_val, False)\n",
    "    #[generated.append(x) for x in x_test]\n",
    "    generated.append(x_test)  \n",
    "    \n",
    "    train_data, test_data = get_weapon_data()\n",
    "    print_decoded_tensors_as_dict(train_data, generated)"
   ]
  },
  {
   "cell_type": "code",
   "execution_count": 9,
   "metadata": {},
   "outputs": [
    {
     "name": "stdout",
     "output_type": "stream",
     "text": [
      "INFO:tensorflow:Restoring parameters from trained_vae/model.ckpt\n",
      "damages_first = ['26.934589866429828', '50.74991400796283', '56.68314993335576', '47.364527300825756', '94.08812667709995', '85.95081210854792', '26.427037084402166', '75.34829718048795']\n",
      "damages_last = ['20.02087906372541', '36.09868602549555', '35.83849387512017', '34.66385853358094', '72.03588087286928', '54.46929568287071', '19.433899617149024', '46.42682580662675']\n",
      "dmg_distances_first = ['13.787511730855954', '39.433043158512966', '32.72417548377115', '40.363266288667695', '5.133182335506293', '18.00785361820897', '10.227150504246925', '23.89585555543802']\n",
      "dmg_distances_last = ['39.14907748659786', '75.87120766946724', '70.16417545980735', '74.70921566516076', '126.34642538308167', '91.73748137066788', '35.91612818175737', '80.94483085846943']\n",
      "firemode_Automatic = ['1.09585013522762', '0.20205114108915015', '0.1676163762926878', '0.23203490049695968', '-0.006935273774014095', '0.04545878210321408', '1.0321732077203523', '0.0806826292125658']\n",
      "firemode_Semi-Automatic = ['-0.03675463690877723', '0.6147475557088572', '0.4444644679852838', '0.6564972257198998', '-0.1275884623879614', '0.02658098786030816', '0.023569693170331474', '0.18628078828896413']\n",
      "hiprecoildec = ['7.211303277548081', '3.414547222464876', '3.81518540146864', '3.3656629235051922', '4.147345948408817', '4.514284701694537', '9.048447866804127', '4.31811996828668']\n",
      "hiprecoilright = ['0.1980733979085153', '0.4960685396965353', '0.7841397027276432', '0.4150812119532829', '1.1896697897253299', '1.2042979493762525', '0.2658333468546414', '1.0830505253972866']\n",
      "hiprecoilup = ['0.2522510290407731', '1.8123490945306853', '4.100870912147491', '1.2385941562153437', '6.172972919891576', '6.555415454022131', '0.26066533201448205', '5.8973835583555']\n",
      "hipstandbasespreaddec = ['5.494853352928958', '4.364270182016881', '5.974715679192009', '3.9671728616833075', '8.398904639245288', '8.35576580332878', '3.782806444473885', '7.614669900007744']\n",
      "initialspeed = ['585.6584567809242', '721.0654794420499', '636.6391191445829', '729.6933039483503', '695.3514612062862', '614.4743193451983', '479.04718729500667', '607.8630417203219']\n",
      "magsize = ['32.29833179213803', '10.352727789150956', '9.426892117311217', '10.39072675298139', '7.858323074092734', '7.801862932788689', '33.75168876156139', '9.14889038467811']\n",
      "reloadempty = ['3.8732932194629974', '3.702153362056811', '3.8285231829783304', '3.6578123773392623', '4.064990499202888', '3.930250569511497', '3.649975387877049', '3.9270091063492933']\n",
      "rof = ['541.8322816162777', '237.69289589109945', '188.6712564213211', '257.0079816989755', '67.77413940506054', '115.14132789999968', '640.8686997858019', '137.85509466197553']\n",
      "shotspershell = ['1.218320676723582', '0.7406637979199096', '2.4907259072106296', '0.5135564383822635', '0.3673614988742684', '1.1534285347329654', '1.340959925781863', '1.8973633948394546']\n",
      "type_Shotgun = ['-0.008979882407345902', '0.04264770536888495', '0.31500984395708287', '-0.013323647781514639', '0.07198859876792223', '0.34233464295011373', '0.0005751670349512239', '0.3767030667841955']\n",
      "type_Pistol = ['0.02687355280299039', '-0.02236688235690415', '-0.08264180990487105', '0.0042972231564673', '-0.020943983823308726', '-0.049726972678592524', '0.11611649555959676', '-0.07118950055729892']\n",
      "type_Rifle = ['0.3064308057185578', '0.9335686418497103', '0.6210984392463067', '0.9936481711139449', '-0.018734258459121023', '0.14678966052580428', '0.09627589603553238', '0.2990605390689801']\n",
      "type_Submachine Gun = ['0.4329177742013284', '-0.0365167891828536', '0.02476270578344504', '-0.0455742064341184', '0.06897618588662269', '0.04279209077567363', '0.7046032418165257', '0.04932055263033336']\n",
      "type_Sniper Rifle = ['0.02063443727416414', '0.14686398888155577', '0.19585795961152686', '0.11889360874017356', '0.8917365456545131', '0.5228398932819026', '0.048615350862578705', '0.38504126414437556']\n"
     ]
    }
   ],
   "source": [
    "# Testing batch input in latent space\n",
    "with tf.Session(graph=tf.Graph()) as sess:\n",
    "    network = vae.get_untrained(sess, network_architecture, optimizer, transfer_fct, batch_size)\n",
    "    network = vae.restore(network, \"trained_vae/model.ckpt\")\n",
    "    \n",
    "    generated = []\n",
    "\n",
    "    random_val = np.random.normal(size=(batch_size,network_architecture[\"n_z\"]))\n",
    "    x_test = network.decode_from_latent_space(random_val, True)\n",
    "    [generated.append(x) for x in x_test]\n",
    "    \n",
    "    \n",
    "    random_val = np.random.normal(size=(batch_size,network_architecture[\"n_z\"]))\n",
    "    x_test = network.decode_from_latent_space(random_val, True)\n",
    "    [generated.append(x) for x in x_test]\n",
    "    \n",
    "    train_data, test_data = get_weapon_data()\n",
    "    print_decoded_tensors_as_dict(train_data, generated)"
   ]
  },
  {
   "cell_type": "code",
   "execution_count": null,
   "metadata": {},
   "outputs": [],
   "source": []
  }
 ],
 "metadata": {
  "kernelspec": {
   "display_name": "Python 3",
   "language": "python",
   "name": "python3"
  },
  "language_info": {
   "codemirror_mode": {
    "name": "ipython",
    "version": 3
   },
   "file_extension": ".py",
   "mimetype": "text/x-python",
   "name": "python",
   "nbconvert_exporter": "python",
   "pygments_lexer": "ipython3",
   "version": "3.6.4"
  }
 },
 "nbformat": 4,
 "nbformat_minor": 2
}
