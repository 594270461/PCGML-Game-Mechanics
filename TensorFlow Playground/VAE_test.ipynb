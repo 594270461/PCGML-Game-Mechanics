{
 "cells": [
  {
   "cell_type": "code",
   "execution_count": 1,
   "metadata": {},
   "outputs": [],
   "source": [
    "%config IPCompleter.greedy=True"
   ]
  },
  {
   "cell_type": "code",
   "execution_count": 2,
   "metadata": {},
   "outputs": [
    {
     "name": "stderr",
     "output_type": "stream",
     "text": [
      "D:\\z_outsourced_programs\\Anaconda3\\lib\\site-packages\\h5py\\__init__.py:36: FutureWarning: Conversion of the second argument of issubdtype from `float` to `np.floating` is deprecated. In future, it will be treated as `np.float64 == np.dtype(float).type`.\n",
      "  from ._conv import register_converters as _register_converters\n"
     ]
    },
    {
     "name": "stdout",
     "output_type": "stream",
     "text": [
      "Tensor Flow version 1.8.0\n"
     ]
    }
   ],
   "source": [
    "from __future__ import absolute_import\n",
    "from __future__ import division\n",
    "from __future__ import print_function\n",
    "\n",
    "import numpy as np\n",
    "import tensorflow as tf\n",
    "import variational_autoencoder as vae\n",
    "\n",
    "print(\"Tensor Flow version {}\".format(tf.__version__))"
   ]
  },
  {
   "cell_type": "code",
   "execution_count": 3,
   "metadata": {},
   "outputs": [],
   "source": [
    "#test utils\n",
    "import weapon_data as weapons\n",
    "\n",
    "def print_decoded_tensors_as_dict(weapon_data, array_of_tensors):\n",
    "    genDict = {}\n",
    "    \n",
    "    for tensor in array_of_tensors:\n",
    "        decoded, _ = weapon_data.decode_processed_tensor(tensor)\n",
    "        \n",
    "        for key, value in decoded.items():\n",
    "            if key not in genDict:\n",
    "                genDict[key] = []\n",
    "            genDict[key].append(value)\n",
    "    \n",
    "    for key, value in genDict.items():\n",
    "            print(key, \"=\", value)\n",
    "            \n",
    "            \n",
    "def get_weapon_data():\n",
    "    return weapons.get_data(2, 13, 0)"
   ]
  },
  {
   "cell_type": "code",
   "execution_count": 4,
   "metadata": {},
   "outputs": [
    {
     "name": "stdout",
     "output_type": "stream",
     "text": [
      "Epoch:0001 - Cost:21.868058227\n",
      "Epoch:0002 - Cost:20.513934150\n",
      "Epoch:0003 - Cost:18.262609497\n",
      "Epoch:0004 - Cost:17.487285719\n",
      "Epoch:0005 - Cost:17.325108183\n",
      "Epoch:0006 - Cost:16.090945785\n",
      "Epoch:0007 - Cost:16.033347723\n",
      "Epoch:0008 - Cost:14.290757029\n",
      "Epoch:0009 - Cost:14.937185753\n",
      "Epoch:0010 - Cost:13.963837586\n",
      "Epoch:0011 - Cost:14.671362291\n",
      "Epoch:0012 - Cost:13.671589236\n",
      "Epoch:0013 - Cost:14.376235271\n",
      "Epoch:0014 - Cost:13.307567244\n",
      "Epoch:0015 - Cost:12.794855223\n",
      "Epoch:0016 - Cost:13.395027213\n",
      "Epoch:0017 - Cost:11.545756727\n",
      "Epoch:0018 - Cost:12.505062584\n",
      "Epoch:0019 - Cost:11.361872774\n",
      "Epoch:0020 - Cost:11.557234516\n",
      "Trained model saved! You can find it in './trained_vae/model.ckpt'\n"
     ]
    }
   ],
   "source": [
    "network_architecture = \\\n",
    "    dict(n_input=0, #set it in with scope\n",
    "         n_hidden_1=8,\n",
    "         n_hidden_2=0,\n",
    "         n_z=2)  \n",
    "\n",
    "learning_rate = 0.01\n",
    "optimizer =  tf.train.AdamOptimizer(learning_rate)\n",
    "#optimizer = tf.train.RMSPropOptimizer(learning_rate)\n",
    "transfer_fct = tf.nn.tanh\n",
    "num_epochs = 20\n",
    "batch_size = 5\n",
    "epoch_debug_step = 1\n",
    "    \n",
    "with tf.Session() as sess:\n",
    "    train_data, test_data = get_weapon_data()\n",
    "    network_architecture['n_input'] = train_data.num_features\n",
    "  \n",
    "    network = vae.get_new_trained(sess, train_data, network_architecture, optimizer, \n",
    "                              transfer_fct, batch_size, num_epochs, epoch_debug_step)\n"
   ]
  },
  {
   "cell_type": "code",
   "execution_count": 5,
   "metadata": {},
   "outputs": [
    {
     "name": "stdout",
     "output_type": "stream",
     "text": [
      "INFO:tensorflow:Restoring parameters from trained_vae/model.ckpt\n",
      "[[ 0.82948142  0.60118691  2.88712045  0.99569425 -0.26352316 -1.04880885\n",
      "   1.58113883 -0.48507125 -1.32959555  0.82220467 -0.26424317  0.4513875\n",
      "  -0.57240795 -0.48010721 -0.97777561 -0.32444284 -0.32444284 -0.48507125\n",
      "   1.78885438 -0.32444284 -0.40824829 -0.55901699]]\n",
      "[[ 1.3103484   1.1248044   0.5370164   1.161376   -1.2543132  -0.8978627\n",
      "   0.17748505  0.6844152  -0.983576   -0.03582516 -0.0412423   0.9024854\n",
      "  -0.5030068  -0.17119285 -0.8800178  -1.3182905  -1.1575441  -0.08208972\n",
      "   0.8524382  -0.75909793  0.86116445 -0.38823378]\n",
      " [ 0.6373316   0.4655701   0.6930705   0.54039186 -0.6866295  -0.7908762\n",
      "   0.49174854  0.15161589 -0.8568039  -0.19013828 -0.1134437   0.4284894\n",
      "  -0.518021   -0.24547091 -0.6452528  -0.74886227 -0.67170805  0.11513501\n",
      "   0.8937334  -0.6744374   0.24408884 -0.43873364]\n",
      " [ 1.3676699   1.2308179   0.27113014  1.2179496  -0.9917566  -0.83611435\n",
      "  -0.02556276  0.927778   -0.90460116  0.25000164  0.2950328   0.81552255\n",
      "  -0.47358984 -0.1184217  -0.9798173  -1.0263373  -0.8887245  -0.15076222\n",
      "   0.5454721  -0.7240803   1.0521374  -0.3559952 ]\n",
      " [ 0.6550407   0.4678104   0.8955824   0.5717061  -0.94042593 -0.80802685\n",
      "   0.5862831   0.02102286 -0.92548007 -0.39941636 -0.36007294  0.584706\n",
      "  -0.5141903  -0.25758865 -0.60073143 -1.0226054  -0.9240635   0.1172311\n",
      "   1.145459   -0.72033083  0.16828671 -0.426382  ]\n",
      " [ 1.039356    0.80839217  0.9601117   0.91663134 -1.4472127  -0.914997\n",
      "   0.5171902   0.20202856 -1.0514736  -0.47426406 -0.5163363   0.9290552\n",
      "  -0.52482694 -0.24498063 -0.68823916 -1.5482891  -1.3796664   0.03802498\n",
      "   1.3039786  -0.8000721   0.43270934 -0.41769087]]\n",
      "damages_first = ['53.0', '62.45495718535244', '49.22189007205785', '63.582031447042624', '49.57009148582739', '57.12661966848026']\n",
      "damages_last = ['38.0', '48.17171829798335', '35.36552691030677', '50.23112216647968', '35.409046662676204', '42.025139737637026']\n",
      "dmg_distances_first = ['66.0', '25.674645704371393', '28.35237226324176', '21.112312776031356', '31.827267072004325', '32.934523096620666']\n",
      "dmg_distances_last = ['89.0', '94.90967255206237', '72.759901498609', '96.92758712287572', '73.87684396322982', '86.17991952270123']\n",
      "drag = ['0.0024999999441206455', '0.0011572198917759596', '0.0019265800693037925', '0.0015130528705032647', '0.0015826193940402643', '0.0008957905917325684']\n",
      "firemode_Automatic = ['0.0', '0.07538746872361435', '0.12882001591511755', '0.10622660704965153', '0.12025442377452017', '0.0668300331557789']\n",
      "firemode_Semi-Automatic = ['1.0', '0.3658938578203038', '0.5078636325002385', '0.2741662064222631', '0.5505699872663438', '0.5193570103356919']\n",
      "hiprecoildec = ['3.0', '3.6847396984169105', '3.9356096111401335', '3.8410233845530026', '3.7997060099123585', '3.5503767850407906']\n",
      "hiprecoilright = ['0.8999999761581421', '0.572318372256934', '0.513386190571706', '0.6814756321152837', '0.43346289002291477', '0.4048785530080883']\n",
      "hiprecoilup = ['1.5', '2.1590636159583974', '1.9456773801634129', '3.1529013662311014', '1.216781762684757', '0.7549561712647368']\n",
      "initialspeed = ['720.0', '819.1744215536211', '714.9658225941852', '800.0555390030257', '749.3102386090586', '825.0158342234564']\n",
      "magsize = ['6.0', '10.7227495512957', '9.70103464919793', '12.724575956664665', '9.961711965741337', '9.237889080804493']\n",
      "reloadempty = ['3.299999952316284', '3.888452461251739', '3.746959815604116', '3.988976507948595', '3.7238766647522294', '3.747893748656089']\n",
      "rof = ['179.0', '198.2151619726298', '244.36030549031054', '178.59869328615272', '253.11138020318276', '235.91096005891862']\n",
      "shotspershell = ['1.0', '-2.209112890639469', '-0.37044130779679296', '-1.2664021883402037', '-1.2543521342442068', '-2.9517734487319656']\n",
      "type_Shotgun = ['0.0', '-0.24455148958595202', '-0.10193745205894131', '-0.1656412280457088', '-0.17601476200481447', '-0.3097540556788183']\n",
      "type_Pistol = ['0.0', '0.15824146712105164', '0.23568703087282308', '0.13127537734710062', '0.23651011535201474', '0.20540771390117957']\n",
      "type_Rifle = ['1.0', '0.6011637690286675', '0.6187521136030445', '0.470421459610045', '0.7259665360831266', '0.7934828012625372']\n",
      "type_Submachine Gun = ['0.0', '-0.12759018726437302', '-0.10273863692210544', '-0.1173109947431521', '-0.11621035629886817', '-0.13961788075992185']\n",
      "type_Sniper Rifle = ['0.0', '0.44420192695793304', '0.22827044548499456', '0.5110285296803296', '0.20174522462660519', '0.2942738686894846']\n"
     ]
    }
   ],
   "source": [
    "with tf.Session(graph=tf.Graph()) as sess:\n",
    "    network = vae.get_untrained(sess, network_architecture, optimizer, transfer_fct, batch_size)\n",
    "    network = vae.restore(network, \"trained_vae/model.ckpt\")\n",
    "        \n",
    "    train_data, test_data = get_weapon_data()\n",
    "    samples = test_data.next_batch(1)\n",
    "    x_reconstructed = network.encode_and_decode(samples)\n",
    "    \n",
    "    print(samples)\n",
    "    print(x_reconstructed)\n",
    "    \n",
    "    print_decoded_tensors_as_dict(test_data, np.concatenate((samples,x_reconstructed), axis=0))"
   ]
  },
  {
   "cell_type": "code",
   "execution_count": 6,
   "metadata": {},
   "outputs": [
    {
     "name": "stdout",
     "output_type": "stream",
     "text": [
      "INFO:tensorflow:Restoring parameters from trained_vae/model.ckpt\n",
      "Average cost = 12.472173623\n",
      "Average unnormalized distance = 577.405178023\n",
      "Average normalized distance = 21.409152753\n"
     ]
    }
   ],
   "source": [
    "with tf.Session(graph=tf.Graph()) as sess:\n",
    "    network = vae.get_untrained(sess, network_architecture, optimizer, transfer_fct, batch_size)\n",
    "    network = vae.restore(network, \"trained_vae/model.ckpt\")\n",
    "    \n",
    "    _, test_data = get_weapon_data()\n",
    "    num_samples = test_data.num_examples\n",
    "    \n",
    "    batch_size = 1\n",
    "    avg_cost = 0.\n",
    "    avg_distance_norm = 0\n",
    "    avg_distance_unnorm = 0\n",
    "    for i in range(num_samples):\n",
    "        batch = test_data.next_batch(1)\n",
    "\n",
    "        x_reconstructed = network.encode_and_decode(samples)\n",
    "        cost = network.calculate_loss(batch)\n",
    "        \n",
    "        #print(batch[0])\n",
    "        _, unstandardized_batch = test_data.decode_processed_tensor(batch[0])\n",
    "        _, unstandardized_x = test_data.decode_processed_tensor(x_reconstructed[0])\n",
    "        distance_unnorm = (sess.run(tf.reduce_sum(tf.abs(unstandardized_batch - unstandardized_x))))\n",
    "        \n",
    "        distance_norm = (sess.run(tf.reduce_sum(tf.abs(batch[0] - x_reconstructed[0]))))\n",
    "        #print(cost)\n",
    "\n",
    "        #compute average loss/cost\n",
    "        avg_cost += cost / num_samples\n",
    "        avg_distance_unnorm += distance_unnorm / num_samples\n",
    "        avg_distance_norm += distance_norm / num_samples\n",
    "    \n",
    "    print(\"Average cost = \" + \"{:.9f}\".format(avg_cost))\n",
    "    print(\"Average unnormalized distance = \" + \"{:.9f}\".format(avg_distance_unnorm))\n",
    "    print(\"Average normalized distance = \" + \"{:.9f}\".format(avg_distance_norm))\n"
   ]
  },
  {
   "cell_type": "code",
   "execution_count": 23,
   "metadata": {},
   "outputs": [
    {
     "name": "stdout",
     "output_type": "stream",
     "text": [
      "INFO:tensorflow:Restoring parameters from trained_vae/model.ckpt\n",
      "max = 3.126407, min = -1.686422\n",
      "Average cost = 44.167407899\n"
     ]
    }
   ],
   "source": [
    "tf.reset_default_graph()\n",
    "\n",
    "with tf.Session(graph=tf.Graph()) as sess:\n",
    "    network = vae.get_untrained(sess, network_architecture, optimizer, transfer_fct, batch_size)\n",
    "    network = vae.restore(network, \"trained_vae/model.ckpt\")\n",
    "    \n",
    "    _, test_data = get_weapon_data()\n",
    "    num_samples = test_data.num_examples\n",
    "    max_value = np.amax(test_data.standardized_max_values) *1.\n",
    "    min_value = np.amin(test_data.standardized_min_values) *1.\n",
    "    print(\"max = %f, min = %f\" %(max_value, min_value))\n",
    "    \n",
    "    \n",
    "    max_value_arr = test_data.standardized_max_values\n",
    "    min_value_arr = test_data.standardized_min_values\n",
    "\n",
    "    avg_cost = 0.\n",
    "    for i in range(num_samples):\n",
    "        sample = np.random.uniform(low=min_value, high=max_value, size=(1,network_architecture[\"n_input\"]))\n",
    "        sample = np.random.uniform(low=min_value_arr, high=max_value_arr, size=(1,network_architecture[\"n_input\"]))\n",
    "        cost = network.calculate_loss(sample)\n",
    "        avg_cost += cost / num_samples\n",
    "    print(\"Average cost = \" + \"{:.9f}\".format(avg_cost))\n",
    "    \n"
   ]
  },
  {
   "cell_type": "code",
   "execution_count": 7,
   "metadata": {},
   "outputs": [
    {
     "name": "stdout",
     "output_type": "stream",
     "text": [
      "INFO:tensorflow:Restoring parameters from trained_vae/model.ckpt\n"
     ]
    },
    {
     "data": {
      "image/png": "[encoded data removed]",
      "text/plain": [
       "<matplotlib.figure.Figure at 0x16ec4026240>"
      ]
     },
     "metadata": {},
     "output_type": "display_data"
    },
    {
     "data": {
      "image/png": "[encoded data removed]",
      "text/plain": [
       "<matplotlib.figure.Figure at 0x16ec6435f98>"
      ]
     },
     "metadata": {},
     "output_type": "display_data"
    }
   ],
   "source": [
    "import matplotlib.pyplot as plt\n",
    "%matplotlib inline\n",
    "\n",
    "def show_z_distribution(vae_model, title, z_mean=True):\n",
    "    all_z = np.zeros((1,network_architecture['n_z']))\n",
    "        \n",
    "    train_data, test_data = get_weapon_data()\n",
    "    total_batch = int(train_data.num_examples / batch_size) \n",
    "\n",
    "    # Loop over all batches\n",
    "    for i in range(total_batch):\n",
    "        batch = train_data.next_batch(batch_size)\n",
    "        z_dist = vae_model.calculate_z(batch)\n",
    "        if z_mean:\n",
    "            z_dist = vae_model.calculate_z_mean(batch)\n",
    "        all_z = np.vstack((all_z, z_dist))\n",
    "\n",
    "    plt.figure(figsize=(15,5))\n",
    "    plt.subplot(1,2,1)\n",
    "    plt.scatter(all_z[:,0], all_z[:,1])\n",
    "    plt.xlim(-3,3)\n",
    "    plt.ylim(-3,3)\n",
    "    plt.title(title)\n",
    "    plt.subplot(1,2,2)\n",
    "    plt.hist2d(all_z[:,0], all_z[:,1], (50, 50), cmap=plt.cm.jet)\n",
    "    plt.colorbar()\n",
    "    plt.title(title)\n",
    "    \n",
    "with tf.Session(graph=tf.Graph()) as sess:\n",
    "    network = vae.get_untrained(sess, network_architecture, optimizer, transfer_fct, batch_size)\n",
    "    show_z_distribution(network, \"Untrained Latent Space\", z_mean=True)\n",
    "    network = vae.restore(network, \"trained_vae/model.ckpt\")\n",
    "    show_z_distribution(network, \"Trained Latent Space\", z_mean=True)"
   ]
  },
  {
   "cell_type": "code",
   "execution_count": 10,
   "metadata": {},
   "outputs": [
    {
     "name": "stdout",
     "output_type": "stream",
     "text": [
      "INFO:tensorflow:Restoring parameters from trained_vae/model.ckpt\n",
      "[[-3.94385834 -2.68272743]]\n",
      "[[-3.62828752  4.63353835]]\n",
      "[[ 0.63139205 -2.83601936]]\n",
      "[[-4.08392756 -4.68194777]]\n",
      "damages_first = ['24.28943129817027', '58.03770272047838', '44.644032777783', '74.14417050370577']\n",
      "damages_last = ['13.542529026371149', '40.91274700077175', '27.127461841197167', '58.87449142991042']\n",
      "dmg_distances_first = ['13.373698665818909', '24.717370109871766', '24.224551587511108', '14.171939307271867']\n",
      "dmg_distances_last = ['32.613580660959016', '81.56594631047273', '59.34976554607947', '106.41245123397785']\n",
      "drag = ['0.002711917409874637', '0.00213975850017422', '0.0026486406004540414', '0.002399351436648058']\n",
      "firemode_Automatic = ['0.7878075627723977', '-0.0161353300012414', '0.04493297303473626', '-0.005229904138681241']\n",
      "firemode_Semi-Automatic = ['0.28589175717759496', '0.6291486735874994', '0.7224447065941089', '0.30055662417174017']\n",
      "hiprecoildec = ['7.785047306791787', '3.1712474637300354', '3.7774374469981096', '3.370376881753715']\n",
      "hiprecoilright = ['0.3512806310801865', '0.5283004607419314', '0.49494442819899687', '0.8432442390002899']\n",
      "hiprecoilup = ['0.6142272676111857', '2.5119365313100954', '2.298568861276802', '4.9150109910372475']\n",
      "initialspeed = ['528.9527373061868', '639.9574908684771', '548.752042710095', '663.2221852073566']\n",
      "magsize = ['42.29557158278011', '5.161197170123263', '6.777671044847118', '6.6552638126740895']\n",
      "reloadempty = ['4.110950743371739', '3.5022120721118517', '3.454277933348877', '3.6942395811193984']\n",
      "rof = ['559.9666094902411', '182.4890514141095', '241.82285060321044', '89.56733997270837']\n",
      "shotspershell = ['1.73099114480974', '0.15714784705845353', '1.3734533432928089', '0.96146406335488']\n",
      "type_Shotgun = ['0.07351295018016968', '-0.05710596925624764', '0.054815697650204186', '0.029275938931347653']\n",
      "type_Pistol = ['0.20567931570953094', '0.2664791209276158', '0.33846354764100783', '0.15075418890294356']\n",
      "type_Rifle = ['0.1343917120535078', '0.5704079642975364', '0.5075735758434087', '0.25750397633089395']\n",
      "type_Submachine Gun = ['0.38085259117472653', '-0.08733570206664594', '-0.03184858548204163', '-0.08312655383388164']\n",
      "type_Sniper Rifle = ['-0.08274233812533441', '0.2922975156327924', '0.09089342970231737', '0.6704441858240529']\n"
     ]
    }
   ],
   "source": [
    "# Testing\n",
    "with tf.Session(graph=tf.Graph()) as sess:\n",
    "    network = vae.get_untrained(sess, network_architecture, optimizer, transfer_fct, batch_size)\n",
    "    network = vae.restore(network, \"trained_vae/model.ckpt\")\n",
    "    \n",
    "    generated = []\n",
    "    for i in range(4):\n",
    "        random_val = np.random.normal(size=(1,network_architecture[\"n_z\"]))\n",
    "        \n",
    "        \n",
    "        \n",
    "        cost = network.calculate_loss(batch)\n",
    "        \n",
    "        x_test = network.decode_from_latent_space(random_val)\n",
    "        generated.append(x_test[0])\n",
    "        \n",
    "    train_data, test_data = get_weapon_data()\n",
    "    print_decoded_tensors_as_dict(train_data, generated)"
   ]
  },
  {
   "cell_type": "code",
   "execution_count": null,
   "metadata": {},
   "outputs": [],
   "source": []
  },
  {
   "cell_type": "code",
   "execution_count": null,
   "metadata": {},
   "outputs": [],
   "source": []
  }
 ],
 "metadata": {
  "kernelspec": {
   "display_name": "Python 3",
   "language": "python",
   "name": "python3"
  },
  "language_info": {
   "codemirror_mode": {
    "name": "ipython",
    "version": 3
   },
   "file_extension": ".py",
   "mimetype": "text/x-python",
   "name": "python",
   "nbconvert_exporter": "python",
   "pygments_lexer": "ipython3",
   "version": "3.6.4"
  }
 },
 "nbformat": 4,
 "nbformat_minor": 2
}
