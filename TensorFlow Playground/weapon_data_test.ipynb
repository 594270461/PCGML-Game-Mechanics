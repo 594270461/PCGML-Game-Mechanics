{
 "cells": [
  {
   "cell_type": "code",
   "execution_count": 1,
   "metadata": {},
   "outputs": [
    {
     "name": "stderr",
     "output_type": "stream",
     "text": [
      "D:\\z_outsourced_programs\\Anaconda3\\lib\\site-packages\\h5py\\__init__.py:36: FutureWarning: Conversion of the second argument of issubdtype from `float` to `np.floating` is deprecated. In future, it will be treated as `np.float64 == np.dtype(float).type`.\n",
      "  from ._conv import register_converters as _register_converters\n"
     ]
    }
   ],
   "source": [
    "import weapon_data as weapons"
   ]
  },
  {
   "cell_type": "code",
   "execution_count": 15,
   "metadata": {},
   "outputs": [
    {
     "name": "stdout",
     "output_type": "stream",
     "text": [
      "Feature columns to tensor variables dictionary:\n",
      "_NumericColumn(key='damages_first', shape=(1,), default_value=None, dtype=tf.float32, normalizer_fn=None) = []\n",
      "_NumericColumn(key='damages_last', shape=(1,), default_value=None, dtype=tf.float32, normalizer_fn=None) = []\n",
      "_NumericColumn(key='dmg_distances_first', shape=(1,), default_value=None, dtype=tf.float32, normalizer_fn=None) = []\n",
      "_NumericColumn(key='dmg_distances_last', shape=(1,), default_value=None, dtype=tf.float32, normalizer_fn=None) = []\n",
      "_IndicatorColumn(categorical_column=_VocabularyListCategoricalColumn(key='firemode', vocabulary_list=('Automatic', 'Semi-Automatic', 'Single-Action'), dtype=tf.string, default_value=-1, num_oov_buckets=0)) = []\n",
      "_NumericColumn(key='hiprecoildec', shape=(1,), default_value=None, dtype=tf.float32, normalizer_fn=None) = []\n",
      "_NumericColumn(key='hiprecoilright', shape=(1,), default_value=None, dtype=tf.float32, normalizer_fn=None) = []\n",
      "_NumericColumn(key='hiprecoilup', shape=(1,), default_value=None, dtype=tf.float32, normalizer_fn=None) = []\n",
      "_NumericColumn(key='hipstandbasespreaddec', shape=(1,), default_value=None, dtype=tf.float32, normalizer_fn=None) = []\n",
      "_NumericColumn(key='hipstandbasespreadinc', shape=(1,), default_value=None, dtype=tf.float32, normalizer_fn=None) = []\n",
      "_NumericColumn(key='hordispersion', shape=(1,), default_value=None, dtype=tf.float32, normalizer_fn=None) = []\n",
      "_NumericColumn(key='initialspeed', shape=(1,), default_value=None, dtype=tf.float32, normalizer_fn=None) = []\n",
      "_NumericColumn(key='magsize', shape=(1,), default_value=None, dtype=tf.float32, normalizer_fn=None) = []\n",
      "_NumericColumn(key='reloadempty', shape=(1,), default_value=None, dtype=tf.float32, normalizer_fn=None) = []\n",
      "_NumericColumn(key='rof', shape=(1,), default_value=None, dtype=tf.float32, normalizer_fn=None) = []\n",
      "_NumericColumn(key='shotspershell', shape=(1,), default_value=None, dtype=tf.float32, normalizer_fn=None) = []\n",
      "_IndicatorColumn(categorical_column=_VocabularyListCategoricalColumn(key='type', vocabulary_list=('Shotgun', 'Pistol', 'Rifle', 'Submachine Gun', 'Sniper Rifle', 'Light Machine Gun'), dtype=tf.string, default_value=-1, num_oov_buckets=0)) = []\n",
      "\n",
      "Generated input with feature columns:\n",
      "Tensor(\"input_layer_3/concat:0\", shape=(127, 24), dtype=float32)\n",
      "\n",
      "Found 24 features with 127 values in data source ./training_data.csv! \n",
      "\n",
      "Feature columns to tensor variables dictionary:\n",
      "_NumericColumn(key='damages_first', shape=(1,), default_value=None, dtype=tf.float32, normalizer_fn=None) = []\n",
      "_NumericColumn(key='damages_last', shape=(1,), default_value=None, dtype=tf.float32, normalizer_fn=None) = []\n",
      "_NumericColumn(key='dmg_distances_first', shape=(1,), default_value=None, dtype=tf.float32, normalizer_fn=None) = []\n",
      "_NumericColumn(key='dmg_distances_last', shape=(1,), default_value=None, dtype=tf.float32, normalizer_fn=None) = []\n",
      "_IndicatorColumn(categorical_column=_VocabularyListCategoricalColumn(key='firemode', vocabulary_list=('Automatic', 'Semi-Automatic', 'Single-Action'), dtype=tf.string, default_value=-1, num_oov_buckets=0)) = []\n",
      "_NumericColumn(key='hiprecoildec', shape=(1,), default_value=None, dtype=tf.float32, normalizer_fn=None) = []\n",
      "_NumericColumn(key='hiprecoilright', shape=(1,), default_value=None, dtype=tf.float32, normalizer_fn=None) = []\n",
      "_NumericColumn(key='hiprecoilup', shape=(1,), default_value=None, dtype=tf.float32, normalizer_fn=None) = []\n",
      "_NumericColumn(key='hipstandbasespreaddec', shape=(1,), default_value=None, dtype=tf.float32, normalizer_fn=None) = []\n",
      "_NumericColumn(key='hipstandbasespreadinc', shape=(1,), default_value=None, dtype=tf.float32, normalizer_fn=None) = []\n",
      "_NumericColumn(key='hordispersion', shape=(1,), default_value=None, dtype=tf.float32, normalizer_fn=None) = []\n",
      "_NumericColumn(key='initialspeed', shape=(1,), default_value=None, dtype=tf.float32, normalizer_fn=None) = []\n",
      "_NumericColumn(key='magsize', shape=(1,), default_value=None, dtype=tf.float32, normalizer_fn=None) = []\n",
      "_NumericColumn(key='reloadempty', shape=(1,), default_value=None, dtype=tf.float32, normalizer_fn=None) = []\n",
      "_NumericColumn(key='rof', shape=(1,), default_value=None, dtype=tf.float32, normalizer_fn=None) = []\n",
      "_NumericColumn(key='shotspershell', shape=(1,), default_value=None, dtype=tf.float32, normalizer_fn=None) = []\n",
      "_IndicatorColumn(categorical_column=_VocabularyListCategoricalColumn(key='type', vocabulary_list=('Shotgun', 'Pistol', 'Rifle', 'Submachine Gun', 'Sniper Rifle', 'Light Machine Gun'), dtype=tf.string, default_value=-1, num_oov_buckets=0)) = []\n",
      "\n",
      "Generated input with feature columns:\n",
      "Tensor(\"input_layer_4/concat:0\", shape=(21, 24), dtype=float32)\n",
      "\n",
      "Found 24 features with 21 values in data source ./test_data.csv! \n",
      "\n",
      "Using 2 categorical data:\n",
      "\ttype\n",
      "\tfiremode\n",
      "Using 15 numerical data:\n",
      "\tdamages_first\n",
      "\tdamages_last\n",
      "\tdmg_distances_last\n",
      "\trof\n",
      "\tmagsize\n",
      "\treloadempty\n",
      "\tshotspershell\n",
      "\thiprecoilright\n",
      "\thiprecoilup\n",
      "\tdmg_distances_first\n",
      "\tinitialspeed\n",
      "\thiprecoildec\n",
      "\thipstandbasespreaddec\n",
      "\thipstandbasespreadinc\n",
      "\thordispersion\n",
      "That will sum up to 24 parameters!\n",
      "[2.64425664 1.93281154 3.50921294 2.97122485 1.37344954 1.28290036\n",
      " 1.62128697 3.72741991 3.56002054 2.98518034 4.97400214 3.16036664\n",
      " 5.2328533  1.45441226 6.33094414 3.97758705 2.58739452 3.61915126\n",
      " 3.09569594 1.97094277 1.83829006 2.7325202  1.83829006 2.63391344]\n",
      "[-1.47834628 -1.16967347 -1.06092383 -1.12923278 -0.72809373 -0.77948376\n",
      " -0.61679395 -0.86343017 -1.24202406 -0.89611114 -0.95550762 -0.80200475\n",
      " -0.27465272 -1.78036058 -0.63071684 -1.70352729 -1.30764756 -0.27904019\n",
      " -0.32302914 -0.5073714  -0.54398379 -0.36596253 -0.54398379 -0.3796632 ]\n",
      "[2.20266672 2.76325362 2.88712045 3.12640676 0.95346259 1.58113883\n",
      " 2.06155281 2.20872539 2.39329658 2.95017835 2.89288215 2.33321135\n",
      " 3.68300374 1.17915237 3.01318903 2.38607239 2.33420912 3.082207\n",
      " 3.082207   2.06155281 1.78885438 3.082207   2.44948974 1.78885438]\n",
      "[-1.35744332 -1.09757978 -0.95926529 -0.91073274 -1.04880885 -0.63245553\n",
      " -0.48507125 -1.32959555 -1.28305835 -0.70411138 -0.92760898 -0.80638565\n",
      " -0.31750032 -1.68642181 -0.63118823 -1.47753223 -1.63406751 -0.32444284\n",
      " -0.32444284 -0.48507125 -0.55901699 -0.32444284 -0.40824829 -0.55901699]\n"
     ]
    }
   ],
   "source": [
    "train_data, test_data = weapons.get_data(2, #num_of_categorical_param\n",
    "                                         15, #num_of_numerical_param\n",
    "                                         1, #ammo_feature_column_dimension\n",
    "                                         debug=True) \n",
    "print(train_data.standardized_max_values)\n",
    "print(train_data.standardized_min_values)\n",
    "print(test_data.standardized_max_values)\n",
    "print(test_data.standardized_min_values)"
   ]
  },
  {
   "cell_type": "code",
   "execution_count": 16,
   "metadata": {},
   "outputs": [
    {
     "name": "stdout",
     "output_type": "stream",
     "text": [
      "Training data size 127 \n",
      "Test data size 21 \n",
      "Sum of data 148\n"
     ]
    }
   ],
   "source": [
    "print(\"Training data size %i \"%train_data.num_examples)\n",
    "print(\"Test data size %i \"%test_data.num_examples)\n",
    "print(\"Sum of data %i\"%(train_data.num_examples+test_data.num_examples))"
   ]
  },
  {
   "cell_type": "code",
   "execution_count": 17,
   "metadata": {},
   "outputs": [],
   "source": [
    "import tensorflow as tf\n",
    "\n",
    "def addGeneratedWeapon(generatedWeaponTensorDict, dictToAdd):\n",
    "    for key, value in generatedWeaponTensorDict.items():\n",
    "        if key not in dictToAdd:\n",
    "            dictToAdd[key] = []\n",
    "        dictToAdd[key].append(value)\n",
    "\n",
    "def check_data(data):\n",
    "    genDict = {}\n",
    "\n",
    "    #print to see if normalized\n",
    "    print(data.data[0])\n",
    "    \n",
    "    #check if unnormalizing and adding works\n",
    "    var_init = tf.global_variables_initializer()\n",
    "\n",
    "    batch_size = 1\n",
    "    with tf.Session() as sess:\n",
    "        sess.run(var_init)\n",
    "\n",
    "        for i in range(1):\n",
    "            batch = data.next_batch(batch_size, shuffle=True)\n",
    "            #print(\"Batch size %i\" %len(batch))\n",
    "            data.add_new_weapons_and_restandardize_data(batch)\n",
    "\n",
    "            \n",
    "        tensorDict = [data.decode_processed_tensor(b)[0] for b in batch]\n",
    "        [addGeneratedWeapon(t, genDict) for t in tensorDict]\n",
    "        #debug_printDict(tensorDict[0])\n",
    "\n",
    "\n",
    "    #weapons.debug_printDict(genDict)\n",
    "    print(genDict)\n"
   ]
  },
  {
   "cell_type": "code",
   "execution_count": 18,
   "metadata": {},
   "outputs": [
    {
     "name": "stdout",
     "output_type": "stream",
     "text": [
      "[-0.51827452 -0.3254131  -0.318201   -0.0976977   0.95346259 -0.63245553\n",
      " -0.48507125  2.20872539 -1.14166007 -0.70411138  2.89288215 -0.24421696\n",
      " -0.31750032  0.36041689  1.10282999  2.38607239  0.40094614 -0.32444284\n",
      " -0.32444284 -0.48507125 -0.55901699 -0.32444284 -0.40824829  1.78885438]\n",
      "Current position in dataset after next_batch = 1\n",
      "Added new weapon/s! New number of examples in dataset = 22\n",
      "{'damages_first': ['53.613614551401426'], 'damages_last': ['38.3556783206882'], 'dmg_distances_first': ['75.54713605599119'], 'dmg_distances_last': ['90.57099260679331'], 'firemode_Automatic': ['-0.024404424085075926'], 'firemode_Semi-Automatic': ['1.054629624819075'], 'hiprecoildec': ['2.839609098089769'], 'hiprecoilright': ['0.9117310930938824'], 'hiprecoilup': ['1.48124763734925'], 'hipstandbasespreaddec': ['2.859636856282561'], 'hipstandbasespreadinc': ['0.09407940430640921'], 'hordispersion': ['-0.005292597602774535'], 'initialspeed': ['722.677123218633'], 'magsize': ['4.842667158201834'], 'reloadempty': ['3.2747875034295815'], 'rof': ['170.6462594825978'], 'shotspershell': ['0.9740216479148462'], 'type_Shotgun': ['-0.0023616683713776065'], 'type_Pistol': ['-0.005271183791827755'], 'type_Rifle': ['1.0694146290984234'], 'type_Submachine Gun': ['-0.0023616683713776204'], 'type_Sniper Rifle': ['-0.0037366818856585937']}\n"
     ]
    }
   ],
   "source": [
    "check_data(train_data)\n",
    "#check_data(test_data)"
   ]
  },
  {
   "cell_type": "code",
   "execution_count": 19,
   "metadata": {},
   "outputs": [
    {
     "name": "stdout",
     "output_type": "stream",
     "text": [
      "Current position in dataset after next_batch = 2\n"
     ]
    }
   ],
   "source": [
    "batch = test_data.next_batch(1)\n",
    "weapon_dict, _ = test_data.decode_processed_tensor(batch[0])\n"
   ]
  },
  {
   "cell_type": "code",
   "execution_count": 20,
   "metadata": {},
   "outputs": [
    {
     "data": {
      "text/plain": [
       "array([-0.56036671, -0.69781175, -0.64573493, -0.66719701, -1.        ,\n",
       "        1.46385011, -0.47140452, -0.25455267, -0.52869078, -0.43064628,\n",
       "       -0.46735032, -0.43905548, -0.30949223, -1.41468248, -0.52526861,\n",
       "       -1.16150834,  0.44118029, -0.31622777, -0.31622777,  2.12132034,\n",
       "       -0.61237244, -0.31622777, -0.39735971, -0.54232614])"
      ]
     },
     "execution_count": 20,
     "metadata": {},
     "output_type": "execute_result"
    }
   ],
   "source": [
    "batch[0]"
   ]
  },
  {
   "cell_type": "code",
   "execution_count": 21,
   "metadata": {},
   "outputs": [
    {
     "data": {
      "text/plain": [
       "{'damages_first': '26.5',\n",
       " 'damages_last': '13.5',\n",
       " 'dmg_distances_first': '6.0',\n",
       " 'dmg_distances_last': '31.329999923706055',\n",
       " 'firemode_Automatic': '0.0',\n",
       " 'firemode_Semi-Automatic': '1.0',\n",
       " 'hiprecoildec': '5.0',\n",
       " 'hiprecoilright': '0.4000000059604645',\n",
       " 'hiprecoilup': '1.0',\n",
       " 'hipstandbasespreaddec': '4.5',\n",
       " 'hipstandbasespreadinc': '0.15000000596046448',\n",
       " 'hordispersion': '0.0',\n",
       " 'initialspeed': '320.0',\n",
       " 'magsize': '8.0',\n",
       " 'reloadempty': '2.0',\n",
       " 'rof': '449.0',\n",
       " 'shotspershell': '1.0',\n",
       " 'type_Pistol': '1.0',\n",
       " 'type_Rifle': '0.0',\n",
       " 'type_Shotgun': '0.0',\n",
       " 'type_Sniper Rifle': '0.0',\n",
       " 'type_Submachine Gun': '0.0'}"
      ]
     },
     "execution_count": 21,
     "metadata": {},
     "output_type": "execute_result"
    }
   ],
   "source": [
    "weapon_dict"
   ]
  },
  {
   "cell_type": "code",
   "execution_count": 22,
   "metadata": {},
   "outputs": [
    {
     "name": "stdout",
     "output_type": "stream",
     "text": [
      "Feature columns to tensor variables dictionary:\n",
      "_NumericColumn(key='damages_first', shape=(1,), default_value=None, dtype=tf.float32, normalizer_fn=None) = []\n",
      "_NumericColumn(key='damages_last', shape=(1,), default_value=None, dtype=tf.float32, normalizer_fn=None) = []\n",
      "_NumericColumn(key='dmg_distances_first', shape=(1,), default_value=None, dtype=tf.float32, normalizer_fn=None) = []\n",
      "_NumericColumn(key='dmg_distances_last', shape=(1,), default_value=None, dtype=tf.float32, normalizer_fn=None) = []\n",
      "_IndicatorColumn(categorical_column=_VocabularyListCategoricalColumn(key='firemode', vocabulary_list=('Automatic', 'Semi-Automatic', 'Single-Action'), dtype=tf.string, default_value=-1, num_oov_buckets=0)) = []\n",
      "_NumericColumn(key='hiprecoildec', shape=(1,), default_value=None, dtype=tf.float32, normalizer_fn=None) = []\n",
      "_NumericColumn(key='hiprecoilright', shape=(1,), default_value=None, dtype=tf.float32, normalizer_fn=None) = []\n",
      "_NumericColumn(key='hiprecoilup', shape=(1,), default_value=None, dtype=tf.float32, normalizer_fn=None) = []\n",
      "_NumericColumn(key='hipstandbasespreaddec', shape=(1,), default_value=None, dtype=tf.float32, normalizer_fn=None) = []\n",
      "_NumericColumn(key='hipstandbasespreadinc', shape=(1,), default_value=None, dtype=tf.float32, normalizer_fn=None) = []\n",
      "_NumericColumn(key='hordispersion', shape=(1,), default_value=None, dtype=tf.float32, normalizer_fn=None) = []\n",
      "_NumericColumn(key='initialspeed', shape=(1,), default_value=None, dtype=tf.float32, normalizer_fn=None) = []\n",
      "_NumericColumn(key='magsize', shape=(1,), default_value=None, dtype=tf.float32, normalizer_fn=None) = []\n",
      "_NumericColumn(key='reloadempty', shape=(1,), default_value=None, dtype=tf.float32, normalizer_fn=None) = []\n",
      "_NumericColumn(key='rof', shape=(1,), default_value=None, dtype=tf.float32, normalizer_fn=None) = []\n",
      "_NumericColumn(key='shotspershell', shape=(1,), default_value=None, dtype=tf.float32, normalizer_fn=None) = []\n",
      "_IndicatorColumn(categorical_column=_VocabularyListCategoricalColumn(key='type', vocabulary_list=('Shotgun', 'Pistol', 'Rifle', 'Submachine Gun', 'Sniper Rifle', 'Light Machine Gun'), dtype=tf.string, default_value=-1, num_oov_buckets=0)) = []\n",
      "\n",
      "Generated input with feature columns:\n",
      "Tensor(\"input_layer_5/concat:0\", shape=(1, 24), dtype=float32)\n",
      "\n"
     ]
    }
   ],
   "source": [
    "prepared_for_encoding = test_data.prepare_decoded_tensor_dict_for_encoding(weapon_dict)\n",
    "original, _ = test_data.encode_features_dict(prepared_for_encoding)\n",
    "test = test_data.standardize_encoded_data(original[0])"
   ]
  },
  {
   "cell_type": "code",
   "execution_count": 23,
   "metadata": {},
   "outputs": [
    {
     "data": {
      "text/plain": [
       "array([-0.56036671, -0.69781175, -0.64573493, -0.66719701, -1.        ,\n",
       "        1.46385011, -0.47140452, -0.25455267, -0.52869078, -0.43064628,\n",
       "       -0.46735032, -0.43905548, -0.30949223, -1.41468248, -0.52526861,\n",
       "       -1.16150834,  0.44118029, -0.31622777, -0.31622777,  2.12132034,\n",
       "       -0.61237244, -0.31622777, -0.39735971, -0.54232614])"
      ]
     },
     "execution_count": 23,
     "metadata": {},
     "output_type": "execute_result"
    }
   ],
   "source": [
    "test"
   ]
  },
  {
   "cell_type": "code",
   "execution_count": 11,
   "metadata": {
    "scrolled": true
   },
   "outputs": [
    {
     "data": {
      "text/plain": [
       "({'damages_first': '26.5',\n",
       "  'damages_last': '13.5',\n",
       "  'dmg_distances_first': '6.0',\n",
       "  'dmg_distances_last': '31.329999923706055',\n",
       "  'firemode_Automatic': '0.0',\n",
       "  'firemode_Semi-Automatic': '1.0',\n",
       "  'hiprecoildec': '5.0',\n",
       "  'hiprecoilright': '0.4000000059604645',\n",
       "  'hiprecoilup': '1.0',\n",
       "  'hipstandbasespreaddec': '4.5',\n",
       "  'hipstandbasespreadinc': '0.15000000596046448',\n",
       "  'hordispersion': '0.0',\n",
       "  'initialspeed': '320.0',\n",
       "  'magsize': '8.0',\n",
       "  'reloadempty': '2.0',\n",
       "  'rof': '449.0',\n",
       "  'shotspershell': '1.0',\n",
       "  'type_Pistol': '1.0',\n",
       "  'type_Rifle': '0.0',\n",
       "  'type_Shotgun': '0.0',\n",
       "  'type_Sniper Rifle': '0.0',\n",
       "  'type_Submachine Gun': '0.0'},\n",
       " array([2.65000000e+01, 1.35000000e+01, 6.00000000e+00, 3.13299999e+01,\n",
       "        0.00000000e+00, 1.00000000e+00, 0.00000000e+00, 5.00000000e+00,\n",
       "        4.00000006e-01, 1.00000000e+00, 4.50000000e+00, 1.50000006e-01,\n",
       "        0.00000000e+00, 3.20000000e+02, 8.00000000e+00, 2.00000000e+00,\n",
       "        4.49000000e+02, 1.00000000e+00, 0.00000000e+00, 1.00000000e+00,\n",
       "        0.00000000e+00, 0.00000000e+00, 0.00000000e+00, 2.77555756e-17]))"
      ]
     },
     "execution_count": 11,
     "metadata": {},
     "output_type": "execute_result"
    }
   ],
   "source": [
    "test_data.decode_processed_tensor(test)"
   ]
  }
 ],
 "metadata": {
  "kernelspec": {
   "display_name": "Python 3",
   "language": "python",
   "name": "python3"
  },
  "language_info": {
   "codemirror_mode": {
    "name": "ipython",
    "version": 3
   },
   "file_extension": ".py",
   "mimetype": "text/x-python",
   "name": "python",
   "nbconvert_exporter": "python",
   "pygments_lexer": "ipython3",
   "version": "3.6.4"
  }
 },
 "nbformat": 4,
 "nbformat_minor": 2
}
