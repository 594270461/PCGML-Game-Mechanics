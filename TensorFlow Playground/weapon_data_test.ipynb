{
 "cells": [
  {
   "cell_type": "code",
   "execution_count": 3,
   "metadata": {},
   "outputs": [
    {
     "name": "stderr",
     "output_type": "stream",
     "text": [
      "D:\\z_outsourced_programs\\Anaconda3\\lib\\site-packages\\h5py\\__init__.py:36: FutureWarning: Conversion of the second argument of issubdtype from `float` to `np.floating` is deprecated. In future, it will be treated as `np.float64 == np.dtype(float).type`.\n",
      "  from ._conv import register_converters as _register_converters\n"
     ]
    }
   ],
   "source": [
    "import weapon_data as weapons"
   ]
  },
  {
   "cell_type": "code",
   "execution_count": 4,
   "metadata": {},
   "outputs": [
    {
     "name": "stdout",
     "output_type": "stream",
     "text": [
      "Feature columns to tensor variables dictionary:\n",
      "_NumericColumn(key='damages_first', shape=(1,), default_value=None, dtype=tf.float32, normalizer_fn=None) = []\n",
      "_NumericColumn(key='damages_last', shape=(1,), default_value=None, dtype=tf.float32, normalizer_fn=None) = []\n",
      "_NumericColumn(key='dmg_distances_first', shape=(1,), default_value=None, dtype=tf.float32, normalizer_fn=None) = []\n",
      "_NumericColumn(key='dmg_distances_last', shape=(1,), default_value=None, dtype=tf.float32, normalizer_fn=None) = []\n",
      "_NumericColumn(key='drag', shape=(1,), default_value=None, dtype=tf.float32, normalizer_fn=None) = []\n",
      "_IndicatorColumn(categorical_column=_VocabularyListCategoricalColumn(key='firemode', vocabulary_list=('Automatic', 'Semi-Automatic', 'Single-Action'), dtype=tf.string, default_value=-1, num_oov_buckets=0)) = []\n",
      "_NumericColumn(key='hiprecoildec', shape=(1,), default_value=None, dtype=tf.float32, normalizer_fn=None) = []\n",
      "_NumericColumn(key='hiprecoilright', shape=(1,), default_value=None, dtype=tf.float32, normalizer_fn=None) = []\n",
      "_NumericColumn(key='hiprecoilup', shape=(1,), default_value=None, dtype=tf.float32, normalizer_fn=None) = []\n",
      "_NumericColumn(key='hordispersion', shape=(1,), default_value=None, dtype=tf.float32, normalizer_fn=None) = []\n",
      "_NumericColumn(key='initialspeed', shape=(1,), default_value=None, dtype=tf.float32, normalizer_fn=None) = []\n",
      "_NumericColumn(key='magsize', shape=(1,), default_value=None, dtype=tf.float32, normalizer_fn=None) = []\n",
      "_NumericColumn(key='reloadempty', shape=(1,), default_value=None, dtype=tf.float32, normalizer_fn=None) = []\n",
      "_NumericColumn(key='rof', shape=(1,), default_value=None, dtype=tf.float32, normalizer_fn=None) = []\n",
      "_NumericColumn(key='shotspershell', shape=(1,), default_value=None, dtype=tf.float32, normalizer_fn=None) = []\n",
      "_IndicatorColumn(categorical_column=_VocabularyListCategoricalColumn(key='type', vocabulary_list=('Shotgun', 'Pistol', 'Rifle', 'Submachine Gun', 'Sniper Rifle', 'Light Machine Gun'), dtype=tf.string, default_value=-1, num_oov_buckets=0)) = []\n",
      "_NumericColumn(key='verdispersion', shape=(1,), default_value=None, dtype=tf.float32, normalizer_fn=None) = []\n",
      "\n",
      "Generated input with feature columns:\n",
      "Tensor(\"input_layer/concat:0\", shape=(127, 24), dtype=float32)\n",
      "\n",
      "Found 24 features with 127 values in data source ./training_data.csv! \n",
      "\n",
      "Feature columns to tensor variables dictionary:\n",
      "_NumericColumn(key='damages_first', shape=(1,), default_value=None, dtype=tf.float32, normalizer_fn=None) = []\n",
      "_NumericColumn(key='damages_last', shape=(1,), default_value=None, dtype=tf.float32, normalizer_fn=None) = []\n",
      "_NumericColumn(key='dmg_distances_first', shape=(1,), default_value=None, dtype=tf.float32, normalizer_fn=None) = []\n",
      "_NumericColumn(key='dmg_distances_last', shape=(1,), default_value=None, dtype=tf.float32, normalizer_fn=None) = []\n",
      "_NumericColumn(key='drag', shape=(1,), default_value=None, dtype=tf.float32, normalizer_fn=None) = []\n",
      "_IndicatorColumn(categorical_column=_VocabularyListCategoricalColumn(key='firemode', vocabulary_list=('Automatic', 'Semi-Automatic', 'Single-Action'), dtype=tf.string, default_value=-1, num_oov_buckets=0)) = []\n",
      "_NumericColumn(key='hiprecoildec', shape=(1,), default_value=None, dtype=tf.float32, normalizer_fn=None) = []\n",
      "_NumericColumn(key='hiprecoilright', shape=(1,), default_value=None, dtype=tf.float32, normalizer_fn=None) = []\n",
      "_NumericColumn(key='hiprecoilup', shape=(1,), default_value=None, dtype=tf.float32, normalizer_fn=None) = []\n",
      "_NumericColumn(key='hordispersion', shape=(1,), default_value=None, dtype=tf.float32, normalizer_fn=None) = []\n",
      "_NumericColumn(key='initialspeed', shape=(1,), default_value=None, dtype=tf.float32, normalizer_fn=None) = []\n",
      "_NumericColumn(key='magsize', shape=(1,), default_value=None, dtype=tf.float32, normalizer_fn=None) = []\n",
      "_NumericColumn(key='reloadempty', shape=(1,), default_value=None, dtype=tf.float32, normalizer_fn=None) = []\n",
      "_NumericColumn(key='rof', shape=(1,), default_value=None, dtype=tf.float32, normalizer_fn=None) = []\n",
      "_NumericColumn(key='shotspershell', shape=(1,), default_value=None, dtype=tf.float32, normalizer_fn=None) = []\n",
      "_IndicatorColumn(categorical_column=_VocabularyListCategoricalColumn(key='type', vocabulary_list=('Shotgun', 'Pistol', 'Rifle', 'Submachine Gun', 'Sniper Rifle', 'Light Machine Gun'), dtype=tf.string, default_value=-1, num_oov_buckets=0)) = []\n",
      "_NumericColumn(key='verdispersion', shape=(1,), default_value=None, dtype=tf.float32, normalizer_fn=None) = []\n",
      "\n",
      "Generated input with feature columns:\n",
      "Tensor(\"input_layer_1/concat:0\", shape=(21, 24), dtype=float32)\n",
      "\n",
      "Found 24 features with 21 values in data source ./test_data.csv! \n",
      "\n",
      "Using 2 categorical data:\n",
      "\ttype\n",
      "\tfiremode\n",
      "Using 15 numerical data:\n",
      "\tdamages_first\n",
      "\tdamages_last\n",
      "\tdmg_distances_last\n",
      "\trof\n",
      "\tmagsize\n",
      "\treloadempty\n",
      "\tshotspershell\n",
      "\thiprecoilright\n",
      "\thiprecoilup\n",
      "\tdmg_distances_first\n",
      "\tinitialspeed\n",
      "\thiprecoildec\n",
      "\tdrag\n",
      "\thordispersion\n",
      "\tverdispersion\n",
      "That will sum up to 24 parameters!\n",
      "[2.64425664 1.93281154 3.50921294 2.97122485 3.58557301 1.37344954\n",
      " 1.28290036 1.62128697 3.72741991 3.56002054 2.98518034 5.2328533\n",
      " 1.45441226 6.33094414 3.97758705 2.58739452 3.61915126 3.09569594\n",
      " 1.97094277 1.83829006 2.7325202  1.83829006 2.63391344 4.92966422]\n",
      "[-1.47834628 -1.16967347 -1.06092383 -1.12923278 -0.6386177  -0.72809373\n",
      " -0.77948376 -0.61679395 -0.86343017 -1.24202406 -0.89611114 -0.27465272\n",
      " -1.78036058 -0.63071684 -1.70352729 -1.30764756 -0.27904019 -0.32302914\n",
      " -0.5073714  -0.54398379 -0.36596253 -0.54398379 -0.3796632  -0.26065123]\n",
      "[2.20266672 2.76325362 2.88712045 3.12640676 3.05686842 0.95346259\n",
      " 1.58113883 2.06155281 2.20872539 2.39329658 2.95017835 3.68300374\n",
      " 1.17915237 3.01318903 2.38607239 2.33420912 3.082207   3.082207\n",
      " 2.06155281 1.78885438 3.082207   2.44948974 1.78885438 3.68300374]\n",
      "[-1.35744332 -1.09757978 -0.95926529 -0.91073274 -0.63245543 -1.04880885\n",
      " -0.63245553 -0.48507125 -1.32959555 -1.28305835 -0.70411138 -0.31750032\n",
      " -1.68642181 -0.63118823 -1.47753223 -1.63406751 -0.32444284 -0.32444284\n",
      " -0.48507125 -0.55901699 -0.32444284 -0.40824829 -0.55901699 -0.31750032]\n"
     ]
    }
   ],
   "source": [
    "train_data, test_data = weapons.get_data(2, #num_of_categorical_param\n",
    "                                         15, #num_of_numerical_param\n",
    "                                         1, #ammo_feature_column_dimension\n",
    "                                         debug=True) \n",
    "print(train_data.standardized_max_values)\n",
    "print(train_data.standardized_min_values)\n",
    "print(test_data.standardized_max_values)\n",
    "print(test_data.standardized_min_values)"
   ]
  },
  {
   "cell_type": "code",
   "execution_count": 16,
   "metadata": {},
   "outputs": [
    {
     "name": "stdout",
     "output_type": "stream",
     "text": [
      "Training data size 127 \n",
      "Test data size 21 \n",
      "Sum of data 148\n"
     ]
    }
   ],
   "source": [
    "print(\"Training data size %i \"%train_data.num_examples)\n",
    "print(\"Test data size %i \"%test_data.num_examples)\n",
    "print(\"Sum of data %i\"%(train_data.num_examples+test_data.num_examples))"
   ]
  },
  {
   "cell_type": "code",
   "execution_count": 21,
   "metadata": {},
   "outputs": [],
   "source": [
    "import tensorflow as tf\n",
    "\n",
    "def addGeneratedWeapon(generatedWeaponTensorDict, dictToAdd):\n",
    "    for key, value in generatedWeaponTensorDict.items():\n",
    "        if key not in dictToAdd:\n",
    "            dictToAdd[key] = []\n",
    "        dictToAdd[key].append(value)\n",
    "\n",
    "def check_data(data):\n",
    "    genDict = {}\n",
    "\n",
    "    #print to see if normalized\n",
    "    print(data.data[0])\n",
    "    \n",
    "    #check if unnormalizing and adding works\n",
    "    var_init = tf.global_variables_initializer()\n",
    "\n",
    "    batch_size = 2\n",
    "    with tf.Session() as sess:\n",
    "        sess.run(var_init)\n",
    "\n",
    "        for i in range(0,1):\n",
    "            batch = data.next_batch(batch_size, shuffle=True)\n",
    "            #print(\"Batch size %i\" %len(batch))\n",
    "            data.add_new_weapon(batch[0])\n",
    "\n",
    "            \n",
    "        tensorDict = [data.decode_processed_tensor(b) for b in batch]\n",
    "        [addGeneratedWeapon(t, genDict) for t in tensorDict]\n",
    "        #debug_printDict(tensorDict[0])\n",
    "\n",
    "\n",
    "    weapons.debug_printDict(genDict)\n"
   ]
  },
  {
   "cell_type": "code",
   "execution_count": 22,
   "metadata": {},
   "outputs": [
    {
     "name": "stdout",
     "output_type": "stream",
     "text": [
      "[-1.28861958 -1.07189324 -0.09150088 -1.01140354  3.58557301 -0.72809373\n",
      " -0.77948376  1.62128697 -0.86343017  1.03262864  2.98518034  3.3970178\n",
      " -1.18651422 -0.49092445  0.04270027 -1.0717193   3.61915126  3.09569594\n",
      " -0.5073714  -0.54398379 -0.36596253 -0.54398379 -0.3796632   3.89160102]\n",
      "damages_first = ['90.0', '26.5']\n",
      "damages_last = ['79.0', '20.0']\n",
      "dmg_distances_first = ['20.0', '11.0']\n",
      "dmg_distances_last = ['125.0', '50.0']\n",
      "drag = ['0.0024999999441206455', '0.0024999999441206455']\n",
      "firemode_Automatic = ['0.0', '1.0']\n",
      "firemode_Semi-Automatic = ['0.0', '0.0']\n",
      "hiprecoildec = ['3.0', '10.001999855041504']\n",
      "hiprecoilright = ['1.0', '0.14000000059604645']\n",
      "hiprecoilup = ['5.0', '0.2800000011920929']\n",
      "hordispersion = ['0.0', '0.0']\n",
      "initialspeed = ['620.0', '740.0']\n",
      "magsize = ['5.0', '26.0']\n",
      "reloadempty = ['3.0', '4.25']\n",
      "rof = ['65.99999999999997', '475.0']\n",
      "shotspershell = ['1.0', '1.0']\n",
      "type_Shotgun = ['0.0', '0.0']\n",
      "type_Pistol = ['0.0', '0.0']\n",
      "type_Rifle = ['0.0', '0.0']\n",
      "type_Submachine Gun = ['0.0', '0.0']\n",
      "type_Sniper Rifle = ['1.0', '0.0']\n",
      "verdispersion = ['-1.3877787807814457e-17', '-1.3877787807814457e-17']\n",
      "[-0.51827452 -0.3254131  -0.318201   -0.0976977  -0.26352316  0.95346259\n",
      " -0.63245553 -0.48507125  2.20872539 -1.14166007 -0.70411138 -0.31750032\n",
      "  0.36041689  1.10282999  2.38607239  0.40094614 -0.32444284 -0.32444284\n",
      " -0.48507125 -0.55901699 -0.32444284 -0.40824829  1.78885438 -0.31750032]\n",
      "damages_first = ['12.5', '10.0']\n",
      "damages_last = ['6.25', '5.0']\n",
      "dmg_distances_first = ['14.0', '14.0']\n",
      "dmg_distances_last = ['21.0', '21.0']\n",
      "drag = ['0.007000000216066837', '0.007000000216066837']\n",
      "firemode_Automatic = ['0.0', '1.0']\n",
      "firemode_Semi-Automatic = ['0.0', '0.0']\n",
      "hiprecoildec = ['6.0', '3.0']\n",
      "hiprecoilright = ['1.2000000476837158', '1.5']\n",
      "hiprecoilup = ['11.0', '9.0']\n",
      "hordispersion = ['2.700000047683716', '1.7999999523162842']\n",
      "initialspeed = ['333.0', '333.0']\n",
      "magsize = ['2.0', '5.0']\n",
      "reloadempty = ['5.333333492279053', '3.369999885559082']\n",
      "rof = ['299.0', '138.0']\n",
      "shotspershell = ['12.0', '12.0']\n",
      "type_Shotgun = ['1.0', '1.0']\n",
      "type_Pistol = ['0.0', '0.0']\n",
      "type_Rifle = ['-2.7755575615628914e-17', '-2.7755575615628914e-17']\n",
      "type_Submachine Gun = ['0.0', '0.0']\n",
      "type_Sniper Rifle = ['0.0', '0.0']\n",
      "verdispersion = ['2.700000047683716', '1.7999999523162842']\n"
     ]
    }
   ],
   "source": [
    "check_data(train_data)\n",
    "check_data(test_data)"
   ]
  },
  {
   "cell_type": "code",
   "execution_count": null,
   "metadata": {},
   "outputs": [],
   "source": []
  }
 ],
 "metadata": {
  "kernelspec": {
   "display_name": "Python 3",
   "language": "python",
   "name": "python3"
  },
  "language_info": {
   "codemirror_mode": {
    "name": "ipython",
    "version": 3
   },
   "file_extension": ".py",
   "mimetype": "text/x-python",
   "name": "python",
   "nbconvert_exporter": "python",
   "pygments_lexer": "ipython3",
   "version": "3.6.4"
  }
 },
 "nbformat": 4,
 "nbformat_minor": 2
}
