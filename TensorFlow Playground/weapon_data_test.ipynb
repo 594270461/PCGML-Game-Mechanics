{
 "cells": [
  {
   "cell_type": "code",
   "execution_count": 1,
   "metadata": {},
   "outputs": [
    {
     "name": "stderr",
     "output_type": "stream",
     "text": [
      "D:\\z_outsourced_programs\\Anaconda3\\lib\\site-packages\\h5py\\__init__.py:36: FutureWarning: Conversion of the second argument of issubdtype from `float` to `np.floating` is deprecated. In future, it will be treated as `np.float64 == np.dtype(float).type`.\n",
      "  from ._conv import register_converters as _register_converters\n"
     ]
    }
   ],
   "source": [
    "import weapon_data as weapons"
   ]
  },
  {
   "cell_type": "code",
   "execution_count": 2,
   "metadata": {},
   "outputs": [
    {
     "name": "stdout",
     "output_type": "stream",
     "text": [
      "Feature columns to tensor variables dictionary:\n",
      "_NumericColumn(key='damages_first', shape=(1,), default_value=None, dtype=tf.float32, normalizer_fn=None) = []\n",
      "_NumericColumn(key='damages_last', shape=(1,), default_value=None, dtype=tf.float32, normalizer_fn=None) = []\n",
      "_NumericColumn(key='dmg_distances_first', shape=(1,), default_value=None, dtype=tf.float32, normalizer_fn=None) = []\n",
      "_NumericColumn(key='dmg_distances_last', shape=(1,), default_value=None, dtype=tf.float32, normalizer_fn=None) = []\n",
      "_IndicatorColumn(categorical_column=_VocabularyListCategoricalColumn(key='firemode', vocabulary_list=('Automatic', 'Semi-Automatic', 'Single-Action'), dtype=tf.string, default_value=-1, num_oov_buckets=0)) = []\n",
      "_NumericColumn(key='hiprecoildec', shape=(1,), default_value=None, dtype=tf.float32, normalizer_fn=None) = []\n",
      "_NumericColumn(key='hiprecoilright', shape=(1,), default_value=None, dtype=tf.float32, normalizer_fn=None) = []\n",
      "_NumericColumn(key='hiprecoilup', shape=(1,), default_value=None, dtype=tf.float32, normalizer_fn=None) = []\n",
      "_NumericColumn(key='hipstandbasespreaddec', shape=(1,), default_value=None, dtype=tf.float32, normalizer_fn=None) = []\n",
      "_NumericColumn(key='hipstandbasespreadinc', shape=(1,), default_value=None, dtype=tf.float32, normalizer_fn=None) = []\n",
      "_NumericColumn(key='hordispersion', shape=(1,), default_value=None, dtype=tf.float32, normalizer_fn=None) = []\n",
      "_NumericColumn(key='initialspeed', shape=(1,), default_value=None, dtype=tf.float32, normalizer_fn=None) = []\n",
      "_NumericColumn(key='magsize', shape=(1,), default_value=None, dtype=tf.float32, normalizer_fn=None) = []\n",
      "_NumericColumn(key='reloadempty', shape=(1,), default_value=None, dtype=tf.float32, normalizer_fn=None) = []\n",
      "_NumericColumn(key='rof', shape=(1,), default_value=None, dtype=tf.float32, normalizer_fn=None) = []\n",
      "_NumericColumn(key='shotspershell', shape=(1,), default_value=None, dtype=tf.float32, normalizer_fn=None) = []\n",
      "_IndicatorColumn(categorical_column=_VocabularyListCategoricalColumn(key='type', vocabulary_list=('Shotgun', 'Pistol', 'Rifle', 'Submachine Gun', 'Sniper Rifle', 'Light Machine Gun'), dtype=tf.string, default_value=-1, num_oov_buckets=0)) = []\n",
      "\n",
      "Generated input with feature columns:\n",
      "Tensor(\"input_layer/concat:0\", shape=(127, 24), dtype=float32)\n",
      "\n",
      "Found 24 features with 127 values in data source ./training_data.csv! \n",
      "\n",
      "Feature columns to tensor variables dictionary:\n",
      "_NumericColumn(key='damages_first', shape=(1,), default_value=None, dtype=tf.float32, normalizer_fn=None) = []\n",
      "_NumericColumn(key='damages_last', shape=(1,), default_value=None, dtype=tf.float32, normalizer_fn=None) = []\n",
      "_NumericColumn(key='dmg_distances_first', shape=(1,), default_value=None, dtype=tf.float32, normalizer_fn=None) = []\n",
      "_NumericColumn(key='dmg_distances_last', shape=(1,), default_value=None, dtype=tf.float32, normalizer_fn=None) = []\n",
      "_IndicatorColumn(categorical_column=_VocabularyListCategoricalColumn(key='firemode', vocabulary_list=('Automatic', 'Semi-Automatic', 'Single-Action'), dtype=tf.string, default_value=-1, num_oov_buckets=0)) = []\n",
      "_NumericColumn(key='hiprecoildec', shape=(1,), default_value=None, dtype=tf.float32, normalizer_fn=None) = []\n",
      "_NumericColumn(key='hiprecoilright', shape=(1,), default_value=None, dtype=tf.float32, normalizer_fn=None) = []\n",
      "_NumericColumn(key='hiprecoilup', shape=(1,), default_value=None, dtype=tf.float32, normalizer_fn=None) = []\n",
      "_NumericColumn(key='hipstandbasespreaddec', shape=(1,), default_value=None, dtype=tf.float32, normalizer_fn=None) = []\n",
      "_NumericColumn(key='hipstandbasespreadinc', shape=(1,), default_value=None, dtype=tf.float32, normalizer_fn=None) = []\n",
      "_NumericColumn(key='hordispersion', shape=(1,), default_value=None, dtype=tf.float32, normalizer_fn=None) = []\n",
      "_NumericColumn(key='initialspeed', shape=(1,), default_value=None, dtype=tf.float32, normalizer_fn=None) = []\n",
      "_NumericColumn(key='magsize', shape=(1,), default_value=None, dtype=tf.float32, normalizer_fn=None) = []\n",
      "_NumericColumn(key='reloadempty', shape=(1,), default_value=None, dtype=tf.float32, normalizer_fn=None) = []\n",
      "_NumericColumn(key='rof', shape=(1,), default_value=None, dtype=tf.float32, normalizer_fn=None) = []\n",
      "_NumericColumn(key='shotspershell', shape=(1,), default_value=None, dtype=tf.float32, normalizer_fn=None) = []\n",
      "_IndicatorColumn(categorical_column=_VocabularyListCategoricalColumn(key='type', vocabulary_list=('Shotgun', 'Pistol', 'Rifle', 'Submachine Gun', 'Sniper Rifle', 'Light Machine Gun'), dtype=tf.string, default_value=-1, num_oov_buckets=0)) = []\n",
      "\n",
      "Generated input with feature columns:\n",
      "Tensor(\"input_layer_1/concat:0\", shape=(21, 24), dtype=float32)\n",
      "\n",
      "Found 24 features with 21 values in data source ./test_data.csv! \n",
      "\n",
      "Using 2 categorical data:\n",
      "\ttype\n",
      "\tfiremode\n",
      "Using 15 numerical data:\n",
      "\tdamages_first\n",
      "\tdamages_last\n",
      "\tdmg_distances_last\n",
      "\trof\n",
      "\tmagsize\n",
      "\treloadempty\n",
      "\tshotspershell\n",
      "\thiprecoilright\n",
      "\thiprecoilup\n",
      "\tdmg_distances_first\n",
      "\tinitialspeed\n",
      "\thiprecoildec\n",
      "\thipstandbasespreaddec\n",
      "\thipstandbasespreadinc\n",
      "\thordispersion\n",
      "That will sum up to 24 parameters!\n",
      "[2.64425664 1.93281154 3.50921294 2.97122485 1.37344954 1.28290036\n",
      " 1.62128697 3.72741991 3.56002054 2.98518034 4.97400214 3.16036664\n",
      " 5.2328533  1.45441226 6.33094414 3.97758705 2.58739452 3.61915126\n",
      " 3.09569594 1.97094277 1.83829006 2.7325202  1.83829006 2.63391344]\n",
      "[-1.47834628 -1.16967347 -1.06092383 -1.12923278 -0.72809373 -0.77948376\n",
      " -0.61679395 -0.86343017 -1.24202406 -0.89611114 -0.95550762 -0.80200475\n",
      " -0.27465272 -1.78036058 -0.63071684 -1.70352729 -1.30764756 -0.27904019\n",
      " -0.32302914 -0.5073714  -0.54398379 -0.36596253 -0.54398379 -0.3796632 ]\n",
      "[2.20266672 2.76325362 2.88712045 3.12640676 0.95346259 1.58113883\n",
      " 2.06155281 2.20872539 2.39329658 2.95017835 2.89288215 2.33321135\n",
      " 3.68300374 1.17915237 3.01318903 2.38607239 2.33420912 3.082207\n",
      " 3.082207   2.06155281 1.78885438 3.082207   2.44948974 1.78885438]\n",
      "[-1.35744332 -1.09757978 -0.95926529 -0.91073274 -1.04880885 -0.63245553\n",
      " -0.48507125 -1.32959555 -1.28305835 -0.70411138 -0.92760898 -0.80638565\n",
      " -0.31750032 -1.68642181 -0.63118823 -1.47753223 -1.63406751 -0.32444284\n",
      " -0.32444284 -0.48507125 -0.55901699 -0.32444284 -0.40824829 -0.55901699]\n"
     ]
    }
   ],
   "source": [
    "train_data, test_data = weapons.get_data(2, #num_of_categorical_param\n",
    "                                         15, #num_of_numerical_param\n",
    "                                         1, #ammo_feature_column_dimension\n",
    "                                         debug=True) \n",
    "print(train_data.standardized_max_values)\n",
    "print(train_data.standardized_min_values)\n",
    "print(test_data.standardized_max_values)\n",
    "print(test_data.standardized_min_values)"
   ]
  },
  {
   "cell_type": "code",
   "execution_count": 3,
   "metadata": {},
   "outputs": [
    {
     "name": "stdout",
     "output_type": "stream",
     "text": [
      "Training data size 127 \n",
      "Test data size 21 \n",
      "Sum of data 148\n"
     ]
    }
   ],
   "source": [
    "print(\"Training data size %i \"%train_data.num_examples)\n",
    "print(\"Test data size %i \"%test_data.num_examples)\n",
    "print(\"Sum of data %i\"%(train_data.num_examples+test_data.num_examples))"
   ]
  },
  {
   "cell_type": "code",
   "execution_count": null,
   "metadata": {},
   "outputs": [],
   "source": [
    "import tensorflow as tf\n",
    "\n",
    "def addGeneratedWeapon(generatedWeaponTensorDict, dictToAdd):\n",
    "    for key, value in generatedWeaponTensorDict.items():\n",
    "        if key not in dictToAdd:\n",
    "            dictToAdd[key] = []\n",
    "        dictToAdd[key].append(value)\n",
    "\n",
    "def check_data(data):\n",
    "    genDict = {}\n",
    "\n",
    "    #print to see if normalized\n",
    "    print(data.data[0])\n",
    "    \n",
    "    #check if unnormalizing and adding works\n",
    "    var_init = tf.global_variables_initializer()\n",
    "\n",
    "    batch_size = 2\n",
    "    with tf.Session() as sess:\n",
    "        sess.run(var_init)\n",
    "\n",
    "        for i in range(0,1):\n",
    "            batch = data.next_batch(batch_size, shuffle=True)\n",
    "            #print(\"Batch size %i\" %len(batch))\n",
    "            data.add_new_weapon(batch[0])\n",
    "\n",
    "            \n",
    "        tensorDict = [data.decode_processed_tensor(b)[0] for b in batch]\n",
    "        [addGeneratedWeapon(t, genDict) for t in tensorDict]\n",
    "        #debug_printDict(tensorDict[0])\n",
    "\n",
    "\n",
    "    weapons.debug_printDict(genDict)\n"
   ]
  },
  {
   "cell_type": "code",
   "execution_count": null,
   "metadata": {},
   "outputs": [],
   "source": [
    "check_data(train_data)\n",
    "check_data(test_data)"
   ]
  },
  {
   "cell_type": "code",
   "execution_count": null,
   "metadata": {},
   "outputs": [],
   "source": []
  }
 ],
 "metadata": {
  "kernelspec": {
   "display_name": "Python 3",
   "language": "python",
   "name": "python3"
  },
  "language_info": {
   "codemirror_mode": {
    "name": "ipython",
    "version": 3
   },
   "file_extension": ".py",
   "mimetype": "text/x-python",
   "name": "python",
   "nbconvert_exporter": "python",
   "pygments_lexer": "ipython3",
   "version": "3.6.4"
  }
 },
 "nbformat": 4,
 "nbformat_minor": 2
}
